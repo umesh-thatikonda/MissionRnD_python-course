{
  "cells": [
    {
      "cell_type": "markdown",
      "metadata": {
        "id": "view-in-github",
        "colab_type": "text"
      },
      "source": [
        "<a href=\"https://colab.research.google.com/github/umesh-thatikonda/MissionRnD_python-course/blob/master/wk_2_problem1_solved.ipynb\" target=\"_parent\"><img src=\"https://colab.research.google.com/assets/colab-badge.svg\" alt=\"Open In Colab\"/></a>"
      ]
    },
    {
      "cell_type": "markdown",
      "metadata": {
        "id": "1_TaqV9UuSiT"
      },
      "source": [
        "Before you turn this problem in, make sure everything runs as expected. First, **restart the kernel** (in the menubar, select Kernel$\\rightarrow$Restart) and then **run all cells** (in the menubar, select Cell$\\rightarrow$Run All).\n",
        "\n",
        "Make sure you fill in any place that says `YOUR CODE HERE` or \"YOUR ANSWER HERE\", as well as your name and collaborators below:"
      ]
    },
    {
      "cell_type": "code",
      "execution_count": null,
      "metadata": {
        "id": "D-jm5rKOuSir"
      },
      "outputs": [],
      "source": [
        "NAME = \"\"\n",
        "COLLABORATORS = \"\""
      ]
    },
    {
      "cell_type": "markdown",
      "metadata": {
        "id": "-3FefA27uSi5"
      },
      "source": [
        "---"
      ]
    },
    {
      "cell_type": "markdown",
      "metadata": {
        "id": "FpC0gkBXuSi_"
      },
      "source": [
        "---\n",
        "# Welcome to CE880\n",
        "### This is your week-2 : Problem 1 notebook\n",
        "\n",
        "For this problem set, we'll be using the Jupyter notebook and please upload this notebook to [Google Colab](https://colab.research.google.com/). \n"
      ]
    },
    {
      "cell_type": "markdown",
      "metadata": {
        "id": "qrrNhKyMuSjG"
      },
      "source": [
        "---\n",
        "## Question 1:\n",
        "\n",
        "Write a function to pass a list of numbers and return log10 of the array. \n",
        "`Hint`: take input as list and inside the function covert it into numpy array then perform the function. `Example` : input `[1, 100, 1000]` and and output should be:  `[0, 2, 3]` "
      ]
    },
    {
      "cell_type": "code",
      "execution_count": 1,
      "metadata": {
        "deletable": false,
        "nbgrader": {
          "cell_type": "code",
          "checksum": "4fbf6a7d60a8c727af5becd4ed0629a9",
          "grade": false,
          "grade_id": "myLog_ans",
          "locked": false,
          "schema_version": 3,
          "solution": true
        },
        "id": "4gTI5UmNuSjL"
      },
      "outputs": [],
      "source": [
        "import numpy as np\n",
        "import math\n",
        "def myLog(mylist):\n",
        "    \"\"\"Write a function to pass a list of numbers and return log10 of the array. \"\"\"\n",
        "    # YOUR CODE HERE\n",
        "    return [math.log(i,10) for i in mylist]"
      ]
    },
    {
      "cell_type": "code",
      "execution_count": 2,
      "metadata": {
        "colab": {
          "base_uri": "https://localhost:8080/"
        },
        "id": "lPAvkCAMuSjP",
        "outputId": "863ef0cc-ca86-4b5a-87f0-7d827e8699ba"
      },
      "outputs": [
        {
          "output_type": "execute_result",
          "data": {
            "text/plain": [
              "[0.0, 2.0, 2.9999999999999996]"
            ]
          },
          "metadata": {},
          "execution_count": 2
        }
      ],
      "source": [
        "in_array = [1, 100, 1000]\n",
        "myLog(in_array)"
      ]
    },
    {
      "cell_type": "code",
      "execution_count": 3,
      "metadata": {
        "deletable": false,
        "editable": false,
        "nbgrader": {
          "cell_type": "code",
          "checksum": "c48207e0a46c481cc0a416fb21859720",
          "grade": true,
          "grade_id": "myLog_test",
          "locked": false,
          "points": 1,
          "schema_version": 3,
          "solution": false
        },
        "colab": {
          "base_uri": "https://localhost:8080/"
        },
        "id": "T0EXi4amuSjT",
        "outputId": "4a67cdd8-22ab-41b5-d308-046136e88dd6"
      },
      "outputs": [
        {
          "output_type": "execute_result",
          "data": {
            "text/plain": [
              "True"
            ]
          },
          "metadata": {},
          "execution_count": 3
        }
      ],
      "source": [
        "\"\"\"Check your output\"\"\"\n",
        "# Test case 1\n",
        "in_array = [1, 3, 5, 10**8]\n",
        "mynplist = np.array([0, 0.47712125, 0.69897 , 8.])\n",
        "np.allclose(myLog(in_array), mynplist)\n",
        "\n",
        "# Test case 2\n",
        "in_array = in_array = [1, 100, 1000]\n",
        "mynplist = np.array([0., 2., 3.])\n",
        "np.allclose(myLog(in_array), mynplist)"
      ]
    },
    {
      "cell_type": "markdown",
      "metadata": {
        "id": "N6BvRqWfuSjb"
      },
      "source": [
        "---\n",
        "\n",
        "## Question 2:\n",
        "\n",
        "The Fibonacci numbers are the numbers in the following integer sequence.\n",
        "`[0, 1, 1, 2, 3, 5, 8, 13, 21, 34, 55, 89, 144, ...]`\n",
        "In mathematical terms, the sequence $F_n$ of Fibonacci numbers is defined by the recurrence relation \n",
        "$$\n",
        "F_n = F_n-1 + F_n-2\n",
        "$$\n",
        "with seed values  \n",
        "$$\n",
        " F_0 = 0 \\& F_1 = 1.\n",
        "$$\n",
        "Your task here is to write a code for printing $n^{th}$ Fibonacci number\n",
        "`Example`: Input: `myfibonacci(9)` and Output should be `34`"
      ]
    },
    {
      "cell_type": "code",
      "execution_count": 4,
      "metadata": {
        "deletable": false,
        "nbgrader": {
          "cell_type": "code",
          "checksum": "f133cbe1fe662f2a7a1a9e535f2e6f98",
          "grade": false,
          "grade_id": "myfibonacci_ans",
          "locked": false,
          "schema_version": 3,
          "solution": true
        },
        "id": "178PnRhIuSjk"
      },
      "outputs": [],
      "source": [
        "def myfibonacci(n):\n",
        "    \"\"\"Function for nth Fibonacci number\"\"\"\n",
        "    # YOUR CODE HERE\n",
        "    if n ==0:\n",
        "        return 0\n",
        "    if n==1:\n",
        "        return 1\n",
        "    if n==2 :\n",
        "        return 1\n",
        "    return myfibonacci(n-1) + myfibonacci(n-2)"
      ]
    },
    {
      "cell_type": "code",
      "execution_count": 5,
      "metadata": {
        "colab": {
          "base_uri": "https://localhost:8080/"
        },
        "id": "i2quvED9uSjq",
        "outputId": "4d6f3f62-b1d8-40e3-8bd7-0e3e13f17ede"
      },
      "outputs": [
        {
          "output_type": "execute_result",
          "data": {
            "text/plain": [
              "0"
            ]
          },
          "metadata": {},
          "execution_count": 5
        }
      ],
      "source": [
        "myfibonacci(0)"
      ]
    },
    {
      "cell_type": "code",
      "execution_count": 6,
      "metadata": {
        "deletable": false,
        "editable": false,
        "nbgrader": {
          "cell_type": "code",
          "checksum": "f0bc0bbe751480b5be043942d1cf6541",
          "grade": true,
          "grade_id": "myfibonacci_test",
          "locked": false,
          "points": 1,
          "schema_version": 3,
          "solution": false
        },
        "id": "3nOAoQVKuSjx"
      },
      "outputs": [],
      "source": [
        "\"\"\"Check that correct fibonacci number\"\"\"\n",
        "assert myfibonacci(9) == 34\n",
        "assert myfibonacci(7) == 13\n",
        "assert myfibonacci(1) == 1\n",
        "assert myfibonacci(0) == 0"
      ]
    },
    {
      "cell_type": "markdown",
      "metadata": {
        "id": "yO1fUk8SuSj1"
      },
      "source": [
        "---\n",
        "## Question 3: \n",
        "\n",
        " Write a program, which accept 2D array with `nan` and replace all `nan` with `-10`.  "
      ]
    },
    {
      "cell_type": "code",
      "execution_count": 16,
      "metadata": {
        "deletable": false,
        "nbgrader": {
          "cell_type": "code",
          "checksum": "ff801e0967df688b2d8d7a4d4d0c72e3",
          "grade": false,
          "grade_id": "rem_Nan_ans",
          "locked": false,
          "schema_version": 3,
          "solution": true,
          "task": false
        },
        "id": "Dq3QtPx4uSj5"
      },
      "outputs": [],
      "source": [
        "from typing_extensions import runtime\n",
        "import numpy as np\n",
        "def rem_Nan(A):\n",
        "    \"\"\"Write a program, which accept 2D array with nan and replace all nan with -10\"\"\"\n",
        "    z = np.nan_to_num(A, nan=-10)\n",
        "    # YOUR CODE HERE\n",
        "    return z"
      ]
    },
    {
      "cell_type": "code",
      "execution_count": 18,
      "metadata": {
        "id": "y-aUzM9-uSj8"
      },
      "outputs": [],
      "source": [
        "arr1 = np.array([[1,2,3],[3,np.nan,3]])\n",
        "arr2 = np.array([[1,2,3],[3,-10,3]])\n",
        "rem_Nan(arr1)\n",
        "assert np.allclose(rem_Nan(arr1), arr2)"
      ]
    },
    {
      "cell_type": "code",
      "execution_count": 19,
      "metadata": {
        "deletable": false,
        "editable": false,
        "nbgrader": {
          "cell_type": "code",
          "checksum": "c6b0a62a1f134f5f77eece0bed7d4599",
          "grade": true,
          "grade_id": "rem_Nan_test",
          "locked": true,
          "points": 1,
          "schema_version": 3,
          "solution": false,
          "task": false
        },
        "id": "wcS3micHuSkB"
      },
      "outputs": [],
      "source": [
        "\"\"\"Write a program, which accept 2D array with nan and replace all nan with -10\"\"\"\n",
        "# Test Case 1\n",
        "arr1 = np.array([[1,2,3],[3,np.nan,3]])\n",
        "arr2 = np.array([[1,2,3],[3,-10,3]])\n",
        "assert np.allclose(rem_Nan(arr1), arr2)\n",
        "\n",
        "# Test Case 2\n",
        "arr3 = np.array([[np.nan,2,np.nan],[3,np.nan,3]])\n",
        "arr4 = np.array([[-10,2,-10],[3,-10,3]])\n",
        "assert np.allclose(rem_Nan(arr3), arr4)"
      ]
    },
    {
      "cell_type": "code",
      "execution_count": null,
      "metadata": {
        "id": "eLZmt16KuSkE"
      },
      "outputs": [],
      "source": [
        ""
      ]
    }
  ],
  "metadata": {
    "kernelspec": {
      "display_name": "Python 3",
      "language": "python",
      "name": "python3"
    },
    "language_info": {
      "codemirror_mode": {
        "name": "ipython",
        "version": 3
      },
      "file_extension": ".py",
      "mimetype": "text/x-python",
      "name": "python",
      "nbconvert_exporter": "python",
      "pygments_lexer": "ipython3",
      "version": "3.7.3"
    },
    "colab": {
      "name": "wk-2_problem1_solved.ipynb",
      "provenance": [],
      "include_colab_link": true
    }
  },
  "nbformat": 4,
  "nbformat_minor": 0
}