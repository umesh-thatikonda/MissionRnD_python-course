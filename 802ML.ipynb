{
  "nbformat": 4,
  "nbformat_minor": 0,
  "metadata": {
    "colab": {
      "name": "802ML.ipynb",
      "provenance": [],
      "authorship_tag": "ABX9TyPsqtGX4oXCBLzyEkJW59Br",
      "include_colab_link": true
    },
    "kernelspec": {
      "name": "python3",
      "display_name": "Python 3"
    },
    "language_info": {
      "name": "python"
    }
  },
  "cells": [
    {
      "cell_type": "markdown",
      "metadata": {
        "id": "view-in-github",
        "colab_type": "text"
      },
      "source": [
        "<a href=\"https://colab.research.google.com/github/umesh-thatikonda/MissionRnD_python-course/blob/master/802ML.ipynb\" target=\"_parent\"><img src=\"https://colab.research.google.com/assets/colab-badge.svg\" alt=\"Open In Colab\"/></a>"
      ]
    },
    {
      "cell_type": "code",
      "execution_count": 1,
      "metadata": {
        "id": "n2LGqgm8lu87"
      },
      "outputs": [],
      "source": [
        "import numpy as np\n",
        "import pandas as pd\n",
        "import random as rnd\n",
        "import plotly.express as px\n",
        "import seaborn as sns\n",
        "sns.set_palette('Set2')\n",
        "import matplotlib.pyplot as plt\n",
        "%matplotlib inline\n",
        "from plotly.subplots import make_subplots\n",
        "import plotly.graph_objects as go\n"
      ]
    },
    {
      "cell_type": "code",
      "source": [
        "df = pd.read_csv(r'/content/abalone.csv')"
      ],
      "metadata": {
        "id": "0VvILooVl2lu"
      },
      "execution_count": 2,
      "outputs": []
    },
    {
      "cell_type": "code",
      "source": [
        "# Changing the column names for better readability\n",
        "newCols = list(map(lambda x : x.lower().replace(' ', '_'), df.columns))\n",
        "\n",
        "df.columns = newCols"
      ],
      "metadata": {
        "id": "0--xt2-DmTT8"
      },
      "execution_count": 3,
      "outputs": []
    },
    {
      "cell_type": "code",
      "source": [
        "df.info() # Checking the columns meta deta"
      ],
      "metadata": {
        "colab": {
          "base_uri": "https://localhost:8080/"
        },
        "id": "OGA-m84hmZjt",
        "outputId": "66b76fca-fbe0-4541-95f5-908459fff743"
      },
      "execution_count": 4,
      "outputs": [
        {
          "output_type": "stream",
          "name": "stdout",
          "text": [
            "<class 'pandas.core.frame.DataFrame'>\n",
            "RangeIndex: 4177 entries, 0 to 4176\n",
            "Data columns (total 9 columns):\n",
            " #   Column          Non-Null Count  Dtype  \n",
            "---  ------          --------------  -----  \n",
            " 0   sex             4177 non-null   object \n",
            " 1   length          4177 non-null   float64\n",
            " 2   diameter        4177 non-null   float64\n",
            " 3   height          4177 non-null   float64\n",
            " 4   whole_weight    4177 non-null   float64\n",
            " 5   shucked_weight  4177 non-null   float64\n",
            " 6   viscera_weight  4177 non-null   float64\n",
            " 7   shell_weight    4177 non-null   float64\n",
            " 8   rings           4177 non-null   int64  \n",
            "dtypes: float64(7), int64(1), object(1)\n",
            "memory usage: 293.8+ KB\n"
          ]
        }
      ]
    },
    {
      "cell_type": "code",
      "source": [
        "# CHecking for null values\n",
        "df.isnull().sum()"
      ],
      "metadata": {
        "colab": {
          "base_uri": "https://localhost:8080/"
        },
        "id": "0V6dbasImehF",
        "outputId": "652d1cd2-62e6-4716-8883-703698a431e1"
      },
      "execution_count": 5,
      "outputs": [
        {
          "output_type": "execute_result",
          "data": {
            "text/plain": [
              "sex               0\n",
              "length            0\n",
              "diameter          0\n",
              "height            0\n",
              "whole_weight      0\n",
              "shucked_weight    0\n",
              "viscera_weight    0\n",
              "shell_weight      0\n",
              "rings             0\n",
              "dtype: int64"
            ]
          },
          "metadata": {},
          "execution_count": 5
        }
      ]
    },
    {
      "cell_type": "code",
      "source": [
        "# Creation of age feature as directed in the assignment questions.\n",
        "# add 1.5 to the rings count to get the age\n",
        "\n",
        "df['Age'] = df['rings'] + 1.5\n",
        " \n",
        "df.drop('rings', inplace=True, axis=1) # Dropping rings feature as we have extracted age out from rings columns"
      ],
      "metadata": {
        "id": "boIZmy-htJl4"
      },
      "execution_count": 6,
      "outputs": []
    },
    {
      "cell_type": "code",
      "source": [
        "df.describe()"
      ],
      "metadata": {
        "id": "K2JlYVGmmllv",
        "colab": {
          "base_uri": "https://localhost:8080/",
          "height": 300
        },
        "outputId": "6c02e9bf-78d9-442e-9ef6-96811a7ef53d"
      },
      "execution_count": 7,
      "outputs": [
        {
          "output_type": "execute_result",
          "data": {
            "text/html": [
              "\n",
              "  <div id=\"df-304c69fb-efca-4f14-add2-3ecd644c51b3\">\n",
              "    <div class=\"colab-df-container\">\n",
              "      <div>\n",
              "<style scoped>\n",
              "    .dataframe tbody tr th:only-of-type {\n",
              "        vertical-align: middle;\n",
              "    }\n",
              "\n",
              "    .dataframe tbody tr th {\n",
              "        vertical-align: top;\n",
              "    }\n",
              "\n",
              "    .dataframe thead th {\n",
              "        text-align: right;\n",
              "    }\n",
              "</style>\n",
              "<table border=\"1\" class=\"dataframe\">\n",
              "  <thead>\n",
              "    <tr style=\"text-align: right;\">\n",
              "      <th></th>\n",
              "      <th>length</th>\n",
              "      <th>diameter</th>\n",
              "      <th>height</th>\n",
              "      <th>whole_weight</th>\n",
              "      <th>shucked_weight</th>\n",
              "      <th>viscera_weight</th>\n",
              "      <th>shell_weight</th>\n",
              "      <th>Age</th>\n",
              "    </tr>\n",
              "  </thead>\n",
              "  <tbody>\n",
              "    <tr>\n",
              "      <th>count</th>\n",
              "      <td>4177.000000</td>\n",
              "      <td>4177.000000</td>\n",
              "      <td>4177.000000</td>\n",
              "      <td>4177.000000</td>\n",
              "      <td>4177.000000</td>\n",
              "      <td>4177.000000</td>\n",
              "      <td>4177.000000</td>\n",
              "      <td>4177.000000</td>\n",
              "    </tr>\n",
              "    <tr>\n",
              "      <th>mean</th>\n",
              "      <td>0.523992</td>\n",
              "      <td>0.407881</td>\n",
              "      <td>0.139516</td>\n",
              "      <td>0.828742</td>\n",
              "      <td>0.359367</td>\n",
              "      <td>0.180594</td>\n",
              "      <td>0.238831</td>\n",
              "      <td>11.433684</td>\n",
              "    </tr>\n",
              "    <tr>\n",
              "      <th>std</th>\n",
              "      <td>0.120093</td>\n",
              "      <td>0.099240</td>\n",
              "      <td>0.041827</td>\n",
              "      <td>0.490389</td>\n",
              "      <td>0.221963</td>\n",
              "      <td>0.109614</td>\n",
              "      <td>0.139203</td>\n",
              "      <td>3.224169</td>\n",
              "    </tr>\n",
              "    <tr>\n",
              "      <th>min</th>\n",
              "      <td>0.075000</td>\n",
              "      <td>0.055000</td>\n",
              "      <td>0.000000</td>\n",
              "      <td>0.002000</td>\n",
              "      <td>0.001000</td>\n",
              "      <td>0.000500</td>\n",
              "      <td>0.001500</td>\n",
              "      <td>2.500000</td>\n",
              "    </tr>\n",
              "    <tr>\n",
              "      <th>25%</th>\n",
              "      <td>0.450000</td>\n",
              "      <td>0.350000</td>\n",
              "      <td>0.115000</td>\n",
              "      <td>0.441500</td>\n",
              "      <td>0.186000</td>\n",
              "      <td>0.093500</td>\n",
              "      <td>0.130000</td>\n",
              "      <td>9.500000</td>\n",
              "    </tr>\n",
              "    <tr>\n",
              "      <th>50%</th>\n",
              "      <td>0.545000</td>\n",
              "      <td>0.425000</td>\n",
              "      <td>0.140000</td>\n",
              "      <td>0.799500</td>\n",
              "      <td>0.336000</td>\n",
              "      <td>0.171000</td>\n",
              "      <td>0.234000</td>\n",
              "      <td>10.500000</td>\n",
              "    </tr>\n",
              "    <tr>\n",
              "      <th>75%</th>\n",
              "      <td>0.615000</td>\n",
              "      <td>0.480000</td>\n",
              "      <td>0.165000</td>\n",
              "      <td>1.153000</td>\n",
              "      <td>0.502000</td>\n",
              "      <td>0.253000</td>\n",
              "      <td>0.329000</td>\n",
              "      <td>12.500000</td>\n",
              "    </tr>\n",
              "    <tr>\n",
              "      <th>max</th>\n",
              "      <td>0.815000</td>\n",
              "      <td>0.650000</td>\n",
              "      <td>1.130000</td>\n",
              "      <td>2.825500</td>\n",
              "      <td>1.488000</td>\n",
              "      <td>0.760000</td>\n",
              "      <td>1.005000</td>\n",
              "      <td>30.500000</td>\n",
              "    </tr>\n",
              "  </tbody>\n",
              "</table>\n",
              "</div>\n",
              "      <button class=\"colab-df-convert\" onclick=\"convertToInteractive('df-304c69fb-efca-4f14-add2-3ecd644c51b3')\"\n",
              "              title=\"Convert this dataframe to an interactive table.\"\n",
              "              style=\"display:none;\">\n",
              "        \n",
              "  <svg xmlns=\"http://www.w3.org/2000/svg\" height=\"24px\"viewBox=\"0 0 24 24\"\n",
              "       width=\"24px\">\n",
              "    <path d=\"M0 0h24v24H0V0z\" fill=\"none\"/>\n",
              "    <path d=\"M18.56 5.44l.94 2.06.94-2.06 2.06-.94-2.06-.94-.94-2.06-.94 2.06-2.06.94zm-11 1L8.5 8.5l.94-2.06 2.06-.94-2.06-.94L8.5 2.5l-.94 2.06-2.06.94zm10 10l.94 2.06.94-2.06 2.06-.94-2.06-.94-.94-2.06-.94 2.06-2.06.94z\"/><path d=\"M17.41 7.96l-1.37-1.37c-.4-.4-.92-.59-1.43-.59-.52 0-1.04.2-1.43.59L10.3 9.45l-7.72 7.72c-.78.78-.78 2.05 0 2.83L4 21.41c.39.39.9.59 1.41.59.51 0 1.02-.2 1.41-.59l7.78-7.78 2.81-2.81c.8-.78.8-2.07 0-2.86zM5.41 20L4 18.59l7.72-7.72 1.47 1.35L5.41 20z\"/>\n",
              "  </svg>\n",
              "      </button>\n",
              "      \n",
              "  <style>\n",
              "    .colab-df-container {\n",
              "      display:flex;\n",
              "      flex-wrap:wrap;\n",
              "      gap: 12px;\n",
              "    }\n",
              "\n",
              "    .colab-df-convert {\n",
              "      background-color: #E8F0FE;\n",
              "      border: none;\n",
              "      border-radius: 50%;\n",
              "      cursor: pointer;\n",
              "      display: none;\n",
              "      fill: #1967D2;\n",
              "      height: 32px;\n",
              "      padding: 0 0 0 0;\n",
              "      width: 32px;\n",
              "    }\n",
              "\n",
              "    .colab-df-convert:hover {\n",
              "      background-color: #E2EBFA;\n",
              "      box-shadow: 0px 1px 2px rgba(60, 64, 67, 0.3), 0px 1px 3px 1px rgba(60, 64, 67, 0.15);\n",
              "      fill: #174EA6;\n",
              "    }\n",
              "\n",
              "    [theme=dark] .colab-df-convert {\n",
              "      background-color: #3B4455;\n",
              "      fill: #D2E3FC;\n",
              "    }\n",
              "\n",
              "    [theme=dark] .colab-df-convert:hover {\n",
              "      background-color: #434B5C;\n",
              "      box-shadow: 0px 1px 3px 1px rgba(0, 0, 0, 0.15);\n",
              "      filter: drop-shadow(0px 1px 2px rgba(0, 0, 0, 0.3));\n",
              "      fill: #FFFFFF;\n",
              "    }\n",
              "  </style>\n",
              "\n",
              "      <script>\n",
              "        const buttonEl =\n",
              "          document.querySelector('#df-304c69fb-efca-4f14-add2-3ecd644c51b3 button.colab-df-convert');\n",
              "        buttonEl.style.display =\n",
              "          google.colab.kernel.accessAllowed ? 'block' : 'none';\n",
              "\n",
              "        async function convertToInteractive(key) {\n",
              "          const element = document.querySelector('#df-304c69fb-efca-4f14-add2-3ecd644c51b3');\n",
              "          const dataTable =\n",
              "            await google.colab.kernel.invokeFunction('convertToInteractive',\n",
              "                                                     [key], {});\n",
              "          if (!dataTable) return;\n",
              "\n",
              "          const docLinkHtml = 'Like what you see? Visit the ' +\n",
              "            '<a target=\"_blank\" href=https://colab.research.google.com/notebooks/data_table.ipynb>data table notebook</a>'\n",
              "            + ' to learn more about interactive tables.';\n",
              "          element.innerHTML = '';\n",
              "          dataTable['output_type'] = 'display_data';\n",
              "          await google.colab.output.renderOutput(dataTable, element);\n",
              "          const docLink = document.createElement('div');\n",
              "          docLink.innerHTML = docLinkHtml;\n",
              "          element.appendChild(docLink);\n",
              "        }\n",
              "      </script>\n",
              "    </div>\n",
              "  </div>\n",
              "  "
            ],
            "text/plain": [
              "            length     diameter  ...  shell_weight          Age\n",
              "count  4177.000000  4177.000000  ...   4177.000000  4177.000000\n",
              "mean      0.523992     0.407881  ...      0.238831    11.433684\n",
              "std       0.120093     0.099240  ...      0.139203     3.224169\n",
              "min       0.075000     0.055000  ...      0.001500     2.500000\n",
              "25%       0.450000     0.350000  ...      0.130000     9.500000\n",
              "50%       0.545000     0.425000  ...      0.234000    10.500000\n",
              "75%       0.615000     0.480000  ...      0.329000    12.500000\n",
              "max       0.815000     0.650000  ...      1.005000    30.500000\n",
              "\n",
              "[8 rows x 8 columns]"
            ]
          },
          "metadata": {},
          "execution_count": 7
        }
      ]
    },
    {
      "cell_type": "markdown",
      "source": [
        "It is observed that the minimum value for height is zero, which is most probably due to an error while data collection activity. We will investigate this in the next steps and take appropriate measures"
      ],
      "metadata": {
        "id": "VPEuxQ-J4Gn9"
      }
    },
    {
      "cell_type": "code",
      "source": [
        "df[df['height']==0]"
      ],
      "metadata": {
        "colab": {
          "base_uri": "https://localhost:8080/",
          "height": 112
        },
        "id": "U1eU5-QQGQkc",
        "outputId": "ee705940-93ad-401e-80ca-013d6c661071"
      },
      "execution_count": 8,
      "outputs": [
        {
          "output_type": "execute_result",
          "data": {
            "text/html": [
              "\n",
              "  <div id=\"df-e83502ca-2bbc-42cd-823d-86c9a36c3973\">\n",
              "    <div class=\"colab-df-container\">\n",
              "      <div>\n",
              "<style scoped>\n",
              "    .dataframe tbody tr th:only-of-type {\n",
              "        vertical-align: middle;\n",
              "    }\n",
              "\n",
              "    .dataframe tbody tr th {\n",
              "        vertical-align: top;\n",
              "    }\n",
              "\n",
              "    .dataframe thead th {\n",
              "        text-align: right;\n",
              "    }\n",
              "</style>\n",
              "<table border=\"1\" class=\"dataframe\">\n",
              "  <thead>\n",
              "    <tr style=\"text-align: right;\">\n",
              "      <th></th>\n",
              "      <th>sex</th>\n",
              "      <th>length</th>\n",
              "      <th>diameter</th>\n",
              "      <th>height</th>\n",
              "      <th>whole_weight</th>\n",
              "      <th>shucked_weight</th>\n",
              "      <th>viscera_weight</th>\n",
              "      <th>shell_weight</th>\n",
              "      <th>Age</th>\n",
              "    </tr>\n",
              "  </thead>\n",
              "  <tbody>\n",
              "    <tr>\n",
              "      <th>1257</th>\n",
              "      <td>I</td>\n",
              "      <td>0.430</td>\n",
              "      <td>0.34</td>\n",
              "      <td>0.0</td>\n",
              "      <td>0.428</td>\n",
              "      <td>0.2065</td>\n",
              "      <td>0.0860</td>\n",
              "      <td>0.1150</td>\n",
              "      <td>9.5</td>\n",
              "    </tr>\n",
              "    <tr>\n",
              "      <th>3996</th>\n",
              "      <td>I</td>\n",
              "      <td>0.315</td>\n",
              "      <td>0.23</td>\n",
              "      <td>0.0</td>\n",
              "      <td>0.134</td>\n",
              "      <td>0.0575</td>\n",
              "      <td>0.0285</td>\n",
              "      <td>0.3505</td>\n",
              "      <td>7.5</td>\n",
              "    </tr>\n",
              "  </tbody>\n",
              "</table>\n",
              "</div>\n",
              "      <button class=\"colab-df-convert\" onclick=\"convertToInteractive('df-e83502ca-2bbc-42cd-823d-86c9a36c3973')\"\n",
              "              title=\"Convert this dataframe to an interactive table.\"\n",
              "              style=\"display:none;\">\n",
              "        \n",
              "  <svg xmlns=\"http://www.w3.org/2000/svg\" height=\"24px\"viewBox=\"0 0 24 24\"\n",
              "       width=\"24px\">\n",
              "    <path d=\"M0 0h24v24H0V0z\" fill=\"none\"/>\n",
              "    <path d=\"M18.56 5.44l.94 2.06.94-2.06 2.06-.94-2.06-.94-.94-2.06-.94 2.06-2.06.94zm-11 1L8.5 8.5l.94-2.06 2.06-.94-2.06-.94L8.5 2.5l-.94 2.06-2.06.94zm10 10l.94 2.06.94-2.06 2.06-.94-2.06-.94-.94-2.06-.94 2.06-2.06.94z\"/><path d=\"M17.41 7.96l-1.37-1.37c-.4-.4-.92-.59-1.43-.59-.52 0-1.04.2-1.43.59L10.3 9.45l-7.72 7.72c-.78.78-.78 2.05 0 2.83L4 21.41c.39.39.9.59 1.41.59.51 0 1.02-.2 1.41-.59l7.78-7.78 2.81-2.81c.8-.78.8-2.07 0-2.86zM5.41 20L4 18.59l7.72-7.72 1.47 1.35L5.41 20z\"/>\n",
              "  </svg>\n",
              "      </button>\n",
              "      \n",
              "  <style>\n",
              "    .colab-df-container {\n",
              "      display:flex;\n",
              "      flex-wrap:wrap;\n",
              "      gap: 12px;\n",
              "    }\n",
              "\n",
              "    .colab-df-convert {\n",
              "      background-color: #E8F0FE;\n",
              "      border: none;\n",
              "      border-radius: 50%;\n",
              "      cursor: pointer;\n",
              "      display: none;\n",
              "      fill: #1967D2;\n",
              "      height: 32px;\n",
              "      padding: 0 0 0 0;\n",
              "      width: 32px;\n",
              "    }\n",
              "\n",
              "    .colab-df-convert:hover {\n",
              "      background-color: #E2EBFA;\n",
              "      box-shadow: 0px 1px 2px rgba(60, 64, 67, 0.3), 0px 1px 3px 1px rgba(60, 64, 67, 0.15);\n",
              "      fill: #174EA6;\n",
              "    }\n",
              "\n",
              "    [theme=dark] .colab-df-convert {\n",
              "      background-color: #3B4455;\n",
              "      fill: #D2E3FC;\n",
              "    }\n",
              "\n",
              "    [theme=dark] .colab-df-convert:hover {\n",
              "      background-color: #434B5C;\n",
              "      box-shadow: 0px 1px 3px 1px rgba(0, 0, 0, 0.15);\n",
              "      filter: drop-shadow(0px 1px 2px rgba(0, 0, 0, 0.3));\n",
              "      fill: #FFFFFF;\n",
              "    }\n",
              "  </style>\n",
              "\n",
              "      <script>\n",
              "        const buttonEl =\n",
              "          document.querySelector('#df-e83502ca-2bbc-42cd-823d-86c9a36c3973 button.colab-df-convert');\n",
              "        buttonEl.style.display =\n",
              "          google.colab.kernel.accessAllowed ? 'block' : 'none';\n",
              "\n",
              "        async function convertToInteractive(key) {\n",
              "          const element = document.querySelector('#df-e83502ca-2bbc-42cd-823d-86c9a36c3973');\n",
              "          const dataTable =\n",
              "            await google.colab.kernel.invokeFunction('convertToInteractive',\n",
              "                                                     [key], {});\n",
              "          if (!dataTable) return;\n",
              "\n",
              "          const docLinkHtml = 'Like what you see? Visit the ' +\n",
              "            '<a target=\"_blank\" href=https://colab.research.google.com/notebooks/data_table.ipynb>data table notebook</a>'\n",
              "            + ' to learn more about interactive tables.';\n",
              "          element.innerHTML = '';\n",
              "          dataTable['output_type'] = 'display_data';\n",
              "          await google.colab.output.renderOutput(dataTable, element);\n",
              "          const docLink = document.createElement('div');\n",
              "          docLink.innerHTML = docLinkHtml;\n",
              "          element.appendChild(docLink);\n",
              "        }\n",
              "      </script>\n",
              "    </div>\n",
              "  </div>\n",
              "  "
            ],
            "text/plain": [
              "     sex  length  diameter  ...  viscera_weight  shell_weight  Age\n",
              "1257   I   0.430      0.34  ...          0.0860        0.1150  9.5\n",
              "3996   I   0.315      0.23  ...          0.0285        0.3505  7.5\n",
              "\n",
              "[2 rows x 9 columns]"
            ]
          },
          "metadata": {},
          "execution_count": 8
        }
      ]
    },
    {
      "cell_type": "markdown",
      "source": [
        "There are only two records with height as zero this is definitely a error as diameter, wieghts are non zero. They can be dropped or the height can be replaced with median or median after checking the distribution of the height column"
      ],
      "metadata": {
        "id": "PfLR0-VP433C"
      }
    },
    {
      "cell_type": "code",
      "source": [
        "df"
      ],
      "metadata": {
        "colab": {
          "base_uri": "https://localhost:8080/",
          "height": 424
        },
        "id": "9sMAq6EB9-F3",
        "outputId": "1908fabb-6335-455d-b66f-cc1d2f571342"
      },
      "execution_count": 9,
      "outputs": [
        {
          "output_type": "execute_result",
          "data": {
            "text/html": [
              "\n",
              "  <div id=\"df-ccd937a9-1862-409e-9d92-22f4de9a0e08\">\n",
              "    <div class=\"colab-df-container\">\n",
              "      <div>\n",
              "<style scoped>\n",
              "    .dataframe tbody tr th:only-of-type {\n",
              "        vertical-align: middle;\n",
              "    }\n",
              "\n",
              "    .dataframe tbody tr th {\n",
              "        vertical-align: top;\n",
              "    }\n",
              "\n",
              "    .dataframe thead th {\n",
              "        text-align: right;\n",
              "    }\n",
              "</style>\n",
              "<table border=\"1\" class=\"dataframe\">\n",
              "  <thead>\n",
              "    <tr style=\"text-align: right;\">\n",
              "      <th></th>\n",
              "      <th>sex</th>\n",
              "      <th>length</th>\n",
              "      <th>diameter</th>\n",
              "      <th>height</th>\n",
              "      <th>whole_weight</th>\n",
              "      <th>shucked_weight</th>\n",
              "      <th>viscera_weight</th>\n",
              "      <th>shell_weight</th>\n",
              "      <th>Age</th>\n",
              "    </tr>\n",
              "  </thead>\n",
              "  <tbody>\n",
              "    <tr>\n",
              "      <th>0</th>\n",
              "      <td>M</td>\n",
              "      <td>0.455</td>\n",
              "      <td>0.365</td>\n",
              "      <td>0.095</td>\n",
              "      <td>0.5140</td>\n",
              "      <td>0.2245</td>\n",
              "      <td>0.1010</td>\n",
              "      <td>0.1500</td>\n",
              "      <td>16.5</td>\n",
              "    </tr>\n",
              "    <tr>\n",
              "      <th>1</th>\n",
              "      <td>M</td>\n",
              "      <td>0.350</td>\n",
              "      <td>0.265</td>\n",
              "      <td>0.090</td>\n",
              "      <td>0.2255</td>\n",
              "      <td>0.0995</td>\n",
              "      <td>0.0485</td>\n",
              "      <td>0.0700</td>\n",
              "      <td>8.5</td>\n",
              "    </tr>\n",
              "    <tr>\n",
              "      <th>2</th>\n",
              "      <td>F</td>\n",
              "      <td>0.530</td>\n",
              "      <td>0.420</td>\n",
              "      <td>0.135</td>\n",
              "      <td>0.6770</td>\n",
              "      <td>0.2565</td>\n",
              "      <td>0.1415</td>\n",
              "      <td>0.2100</td>\n",
              "      <td>10.5</td>\n",
              "    </tr>\n",
              "    <tr>\n",
              "      <th>3</th>\n",
              "      <td>M</td>\n",
              "      <td>0.440</td>\n",
              "      <td>0.365</td>\n",
              "      <td>0.125</td>\n",
              "      <td>0.5160</td>\n",
              "      <td>0.2155</td>\n",
              "      <td>0.1140</td>\n",
              "      <td>0.1550</td>\n",
              "      <td>11.5</td>\n",
              "    </tr>\n",
              "    <tr>\n",
              "      <th>4</th>\n",
              "      <td>I</td>\n",
              "      <td>0.330</td>\n",
              "      <td>0.255</td>\n",
              "      <td>0.080</td>\n",
              "      <td>0.2050</td>\n",
              "      <td>0.0895</td>\n",
              "      <td>0.0395</td>\n",
              "      <td>0.0550</td>\n",
              "      <td>8.5</td>\n",
              "    </tr>\n",
              "    <tr>\n",
              "      <th>...</th>\n",
              "      <td>...</td>\n",
              "      <td>...</td>\n",
              "      <td>...</td>\n",
              "      <td>...</td>\n",
              "      <td>...</td>\n",
              "      <td>...</td>\n",
              "      <td>...</td>\n",
              "      <td>...</td>\n",
              "      <td>...</td>\n",
              "    </tr>\n",
              "    <tr>\n",
              "      <th>4172</th>\n",
              "      <td>F</td>\n",
              "      <td>0.565</td>\n",
              "      <td>0.450</td>\n",
              "      <td>0.165</td>\n",
              "      <td>0.8870</td>\n",
              "      <td>0.3700</td>\n",
              "      <td>0.2390</td>\n",
              "      <td>0.2490</td>\n",
              "      <td>12.5</td>\n",
              "    </tr>\n",
              "    <tr>\n",
              "      <th>4173</th>\n",
              "      <td>M</td>\n",
              "      <td>0.590</td>\n",
              "      <td>0.440</td>\n",
              "      <td>0.135</td>\n",
              "      <td>0.9660</td>\n",
              "      <td>0.4390</td>\n",
              "      <td>0.2145</td>\n",
              "      <td>0.2605</td>\n",
              "      <td>11.5</td>\n",
              "    </tr>\n",
              "    <tr>\n",
              "      <th>4174</th>\n",
              "      <td>M</td>\n",
              "      <td>0.600</td>\n",
              "      <td>0.475</td>\n",
              "      <td>0.205</td>\n",
              "      <td>1.1760</td>\n",
              "      <td>0.5255</td>\n",
              "      <td>0.2875</td>\n",
              "      <td>0.3080</td>\n",
              "      <td>10.5</td>\n",
              "    </tr>\n",
              "    <tr>\n",
              "      <th>4175</th>\n",
              "      <td>F</td>\n",
              "      <td>0.625</td>\n",
              "      <td>0.485</td>\n",
              "      <td>0.150</td>\n",
              "      <td>1.0945</td>\n",
              "      <td>0.5310</td>\n",
              "      <td>0.2610</td>\n",
              "      <td>0.2960</td>\n",
              "      <td>11.5</td>\n",
              "    </tr>\n",
              "    <tr>\n",
              "      <th>4176</th>\n",
              "      <td>M</td>\n",
              "      <td>0.710</td>\n",
              "      <td>0.555</td>\n",
              "      <td>0.195</td>\n",
              "      <td>1.9485</td>\n",
              "      <td>0.9455</td>\n",
              "      <td>0.3765</td>\n",
              "      <td>0.4950</td>\n",
              "      <td>13.5</td>\n",
              "    </tr>\n",
              "  </tbody>\n",
              "</table>\n",
              "<p>4177 rows × 9 columns</p>\n",
              "</div>\n",
              "      <button class=\"colab-df-convert\" onclick=\"convertToInteractive('df-ccd937a9-1862-409e-9d92-22f4de9a0e08')\"\n",
              "              title=\"Convert this dataframe to an interactive table.\"\n",
              "              style=\"display:none;\">\n",
              "        \n",
              "  <svg xmlns=\"http://www.w3.org/2000/svg\" height=\"24px\"viewBox=\"0 0 24 24\"\n",
              "       width=\"24px\">\n",
              "    <path d=\"M0 0h24v24H0V0z\" fill=\"none\"/>\n",
              "    <path d=\"M18.56 5.44l.94 2.06.94-2.06 2.06-.94-2.06-.94-.94-2.06-.94 2.06-2.06.94zm-11 1L8.5 8.5l.94-2.06 2.06-.94-2.06-.94L8.5 2.5l-.94 2.06-2.06.94zm10 10l.94 2.06.94-2.06 2.06-.94-2.06-.94-.94-2.06-.94 2.06-2.06.94z\"/><path d=\"M17.41 7.96l-1.37-1.37c-.4-.4-.92-.59-1.43-.59-.52 0-1.04.2-1.43.59L10.3 9.45l-7.72 7.72c-.78.78-.78 2.05 0 2.83L4 21.41c.39.39.9.59 1.41.59.51 0 1.02-.2 1.41-.59l7.78-7.78 2.81-2.81c.8-.78.8-2.07 0-2.86zM5.41 20L4 18.59l7.72-7.72 1.47 1.35L5.41 20z\"/>\n",
              "  </svg>\n",
              "      </button>\n",
              "      \n",
              "  <style>\n",
              "    .colab-df-container {\n",
              "      display:flex;\n",
              "      flex-wrap:wrap;\n",
              "      gap: 12px;\n",
              "    }\n",
              "\n",
              "    .colab-df-convert {\n",
              "      background-color: #E8F0FE;\n",
              "      border: none;\n",
              "      border-radius: 50%;\n",
              "      cursor: pointer;\n",
              "      display: none;\n",
              "      fill: #1967D2;\n",
              "      height: 32px;\n",
              "      padding: 0 0 0 0;\n",
              "      width: 32px;\n",
              "    }\n",
              "\n",
              "    .colab-df-convert:hover {\n",
              "      background-color: #E2EBFA;\n",
              "      box-shadow: 0px 1px 2px rgba(60, 64, 67, 0.3), 0px 1px 3px 1px rgba(60, 64, 67, 0.15);\n",
              "      fill: #174EA6;\n",
              "    }\n",
              "\n",
              "    [theme=dark] .colab-df-convert {\n",
              "      background-color: #3B4455;\n",
              "      fill: #D2E3FC;\n",
              "    }\n",
              "\n",
              "    [theme=dark] .colab-df-convert:hover {\n",
              "      background-color: #434B5C;\n",
              "      box-shadow: 0px 1px 3px 1px rgba(0, 0, 0, 0.15);\n",
              "      filter: drop-shadow(0px 1px 2px rgba(0, 0, 0, 0.3));\n",
              "      fill: #FFFFFF;\n",
              "    }\n",
              "  </style>\n",
              "\n",
              "      <script>\n",
              "        const buttonEl =\n",
              "          document.querySelector('#df-ccd937a9-1862-409e-9d92-22f4de9a0e08 button.colab-df-convert');\n",
              "        buttonEl.style.display =\n",
              "          google.colab.kernel.accessAllowed ? 'block' : 'none';\n",
              "\n",
              "        async function convertToInteractive(key) {\n",
              "          const element = document.querySelector('#df-ccd937a9-1862-409e-9d92-22f4de9a0e08');\n",
              "          const dataTable =\n",
              "            await google.colab.kernel.invokeFunction('convertToInteractive',\n",
              "                                                     [key], {});\n",
              "          if (!dataTable) return;\n",
              "\n",
              "          const docLinkHtml = 'Like what you see? Visit the ' +\n",
              "            '<a target=\"_blank\" href=https://colab.research.google.com/notebooks/data_table.ipynb>data table notebook</a>'\n",
              "            + ' to learn more about interactive tables.';\n",
              "          element.innerHTML = '';\n",
              "          dataTable['output_type'] = 'display_data';\n",
              "          await google.colab.output.renderOutput(dataTable, element);\n",
              "          const docLink = document.createElement('div');\n",
              "          docLink.innerHTML = docLinkHtml;\n",
              "          element.appendChild(docLink);\n",
              "        }\n",
              "      </script>\n",
              "    </div>\n",
              "  </div>\n",
              "  "
            ],
            "text/plain": [
              "     sex  length  diameter  ...  viscera_weight  shell_weight   Age\n",
              "0      M   0.455     0.365  ...          0.1010        0.1500  16.5\n",
              "1      M   0.350     0.265  ...          0.0485        0.0700   8.5\n",
              "2      F   0.530     0.420  ...          0.1415        0.2100  10.5\n",
              "3      M   0.440     0.365  ...          0.1140        0.1550  11.5\n",
              "4      I   0.330     0.255  ...          0.0395        0.0550   8.5\n",
              "...   ..     ...       ...  ...             ...           ...   ...\n",
              "4172   F   0.565     0.450  ...          0.2390        0.2490  12.5\n",
              "4173   M   0.590     0.440  ...          0.2145        0.2605  11.5\n",
              "4174   M   0.600     0.475  ...          0.2875        0.3080  10.5\n",
              "4175   F   0.625     0.485  ...          0.2610        0.2960  11.5\n",
              "4176   M   0.710     0.555  ...          0.3765        0.4950  13.5\n",
              "\n",
              "[4177 rows x 9 columns]"
            ]
          },
          "metadata": {},
          "execution_count": 9
        }
      ]
    },
    {
      "cell_type": "code",
      "source": [
        "# see the distibution of hieghts information\n",
        "fig = px.histogram(df, x=\"height\", title=\"Distribution of height\" )\n",
        "fig.show()"
      ],
      "metadata": {
        "colab": {
          "base_uri": "https://localhost:8080/",
          "height": 542
        },
        "id": "FYEMiOYP79n5",
        "outputId": "f220b5da-d87d-4a26-b10c-9927aa1da4d3"
      },
      "execution_count": 10,
      "outputs": [
        {
          "output_type": "display_data",
          "data": {
            "text/html": [
              "<html>\n",
              "<head><meta charset=\"utf-8\" /></head>\n",
              "<body>\n",
              "    <div>\n",
              "            <script src=\"https://cdnjs.cloudflare.com/ajax/libs/mathjax/2.7.5/MathJax.js?config=TeX-AMS-MML_SVG\"></script><script type=\"text/javascript\">if (window.MathJax) {MathJax.Hub.Config({SVG: {font: \"STIX-Web\"}});}</script>\n",
              "                <script type=\"text/javascript\">window.PlotlyConfig = {MathJaxConfig: 'local'};</script>\n",
              "        <script src=\"https://cdn.plot.ly/plotly-latest.min.js\"></script>    \n",
              "            <div id=\"26c9474a-2b22-4620-b52b-dc8c80a43adf\" class=\"plotly-graph-div\" style=\"height:525px; width:100%;\"></div>\n",
              "            <script type=\"text/javascript\">\n",
              "                \n",
              "                    window.PLOTLYENV=window.PLOTLYENV || {};\n",
              "                    \n",
              "                if (document.getElementById(\"26c9474a-2b22-4620-b52b-dc8c80a43adf\")) {\n",
              "                    Plotly.newPlot(\n",
              "                        '26c9474a-2b22-4620-b52b-dc8c80a43adf',\n",
              "                        [{\"alignmentgroup\": \"True\", \"bingroup\": \"x\", \"hoverlabel\": {\"namelength\": 0}, \"hovertemplate\": \"height=%{x}<br>count=%{y}\", \"legendgroup\": \"\", \"marker\": {\"color\": \"#636efa\"}, \"name\": \"\", \"offsetgroup\": \"\", \"orientation\": \"v\", \"showlegend\": false, \"type\": \"histogram\", \"x\": [0.095, 0.09, 0.135, 0.125, 0.08, 0.095, 0.15, 0.125, 0.125, 0.15, 0.14, 0.11, 0.135, 0.145, 0.1, 0.13, 0.085, 0.1, 0.08, 0.1, 0.095, 0.1, 0.155, 0.135, 0.165, 0.14, 0.185, 0.14, 0.18, 0.14, 0.165, 0.165, 0.165, 0.175, 0.2, 0.105, 0.155, 0.105, 0.135, 0.09, 0.105, 0.135, 0.045, 0.055, 0.05, 0.095, 0.12, 0.12, 0.07, 0.16, 0.12, 0.095, 0.13, 0.12, 0.1, 0.14, 0.12, 0.135, 0.06, 0.125, 0.105, 0.11, 0.13, 0.095, 0.12, 0.12, 0.16, 0.185, 0.12, 0.07, 0.13, 0.11, 0.17, 0.175, 0.195, 0.15, 0.14, 0.15, 0.14, 0.17, 0.14, 0.175, 0.165, 0.16, 0.14, 0.18, 0.14, 0.16, 0.13, 0.16, 0.135, 0.15, 0.175, 0.165, 0.19, 0.195, 0.15, 0.13, 0.13, 0.125, 0.095, 0.145, 0.16, 0.14, 0.16, 0.155, 0.165, 0.125, 0.135, 0.105, 0.125, 0.105, 0.08, 0.105, 0.125, 0.115, 0.135, 0.105, 0.15, 0.085, 0.105, 0.085, 0.14, 0.075, 0.08, 0.06, 0.09, 0.085, 0.16, 0.165, 0.165, 0.125, 0.09, 0.095, 0.065, 0.115, 0.08, 0.09, 0.11, 0.095, 0.155, 0.145, 0.19, 0.155, 0.13, 0.125, 0.12, 0.08, 0.055, 0.095, 0.145, 0.185, 0.19, 0.16, 0.135, 0.13, 0.19, 0.215, 0.17, 0.165, 0.165, 0.16, 0.175, 0.21, 0.23, 0.19, 0.175, 0.205, 0.22, 0.175, 0.215, 0.145, 0.155, 0.115, 0.04, 0.09, 0.06, 0.085, 0.045, 0.15, 0.18, 0.175, 0.16, 0.175, 0.2, 0.19, 0.15, 0.185, 0.16, 0.17, 0.18, 0.17, 0.15, 0.085, 0.14, 0.155, 0.15, 0.185, 0.16, 0.185, 0.12, 0.165, 0.145, 0.17, 0.115, 0.14, 0.11, 0.11, 0.17, 0.095, 0.145, 0.09, 0.105, 0.14, 0.16, 0.14, 0.13, 0.12, 0.135, 0.13, 0.125, 0.145, 0.15, 0.15, 0.105, 0.135, 0.125, 0.085, 0.165, 0.16, 0.135, 0.175, 0.215, 0.075, 0.135, 0.08, 0.01, 0.03, 0.03, 0.035, 0.16, 0.07, 0.065, 0.08, 0.085, 0.085, 0.08, 0.085, 0.075, 0.11, 0.105, 0.18, 0.155, 0.185, 0.165, 0.175, 0.185, 0.16, 0.17, 0.16, 0.155, 0.125, 0.165, 0.06, 0.08, 0.13, 0.15, 0.11, 0.15, 0.125, 0.215, 0.2, 0.205, 0.225, 0.155, 0.215, 0.185, 0.24, 0.205, 0.135, 0.185, 0.105, 0.12, 0.14, 0.175, 0.17, 0.155, 0.155, 0.125, 0.16, 0.18, 0.21, 0.165, 0.175, 0.195, 0.085, 0.075, 0.085, 0.14, 0.105, 0.095, 0.175, 0.1, 0.1, 0.13, 0.06, 0.03, 0.24, 0.125, 0.145, 0.19, 0.14, 0.195, 0.2, 0.175, 0.11, 0.19, 0.1, 0.155, 0.095, 0.06, 0.04, 0.1, 0.07, 0.105, 0.09, 0.1, 0.13, 0.105, 0.09, 0.155, 0.12, 0.08, 0.04, 0.195, 0.19, 0.19, 0.185, 0.185, 0.195, 0.145, 0.205, 0.185, 0.18, 0.155, 0.14, 0.16, 0.08, 0.115, 0.15, 0.185, 0.17, 0.14, 0.17, 0.17, 0.205, 0.185, 0.19, 0.215, 0.18, 0.18, 0.15, 0.175, 0.15, 0.175, 0.16, 0.145, 0.12, 0.18, 0.215, 0.165, 0.195, 0.2, 0.17, 0.15, 0.195, 0.19, 0.16, 0.175, 0.185, 0.18, 0.145, 0.135, 0.12, 0.135, 0.105, 0.155, 0.135, 0.125, 0.12, 0.1, 0.125, 0.125, 0.095, 0.095, 0.1, 0.14, 0.145, 0.15, 0.15, 0.12, 0.135, 0.11, 0.14, 0.12, 0.15, 0.115, 0.12, 0.145, 0.095, 0.165, 0.12, 0.12, 0.12, 0.17, 0.14, 0.17, 0.165, 0.155, 0.14, 0.165, 0.12, 0.135, 0.07, 0.07, 0.175, 0.165, 0.16, 0.125, 0.17, 0.175, 0.155, 0.17, 0.14, 0.1, 0.15, 0.095, 0.095, 0.09, 0.165, 0.11, 0.1, 0.14, 0.1, 0.105, 0.19, 0.185, 0.185, 0.175, 0.15, 0.215, 0.16, 0.195, 0.155, 0.175, 0.14, 0.175, 0.105, 0.11, 0.135, 0.1, 0.17, 0.07, 0.055, 0.07, 0.05, 0.19, 0.195, 0.21, 0.2, 0.135, 0.12, 0.12, 0.12, 0.16, 0.175, 0.115, 0.175, 0.225, 0.185, 0.185, 0.155, 0.125, 0.15, 0.145, 0.14, 0.13, 0.15, 0.135, 0.165, 0.145, 0.13, 0.155, 0.175, 0.195, 0.15, 0.175, 0.165, 0.155, 0.175, 0.18, 0.225, 0.225, 0.19, 0.19, 0.175, 0.235, 0.225, 0.18, 0.155, 0.185, 0.14, 0.145, 0.085, 0.07, 0.08, 0.115, 0.08, 0.09, 0.09, 0.05, 0.09, 0.115, 0.055, 0.06, 0.04, 0.04, 0.155, 0.16, 0.095, 0.185, 0.13, 0.12, 0.11, 0.14, 0.13, 0.14, 0.075, 0.07, 0.115, 0.14, 0.115, 0.115, 0.115, 0.105, 0.075, 0.065, 0.045, 0.16, 0.18, 0.16, 0.155, 0.165, 0.12, 0.125, 0.15, 0.15, 0.165, 0.17, 0.145, 0.105, 0.12, 0.115, 0.15, 0.13, 0.065, 0.13, 0.125, 0.08, 0.115, 0.14, 0.135, 0.155, 0.14, 0.15, 0.14, 0.14, 0.175, 0.15, 0.175, 0.175, 0.15, 0.19, 0.14, 0.1, 0.125, 0.17, 0.145, 0.14, 0.12, 0.15, 0.115, 0.175, 0.18, 0.15, 0.18, 0.14, 0.14, 0.145, 0.195, 0.145, 0.11, 0.1, 0.115, 0.14, 0.125, 0.09, 0.13, 0.1, 0.09, 0.17, 0.05, 0.075, 0.125, 0.145, 0.135, 0.14, 0.085, 0.075, 0.055, 0.08, 0.14, 0.115, 0.105, 0.105, 0.16, 0.095, 0.095, 0.145, 0.085, 0.115, 0.12, 0.125, 0.13, 0.1, 0.09, 0.1, 0.085, 0.12, 0.13, 0.085, 0.18, 0.16, 0.095, 0.13, 0.12, 0.075, 0.145, 0.12, 0.125, 0.065, 0.09, 0.13, 0.08, 0.11, 0.075, 0.165, 0.17, 0.195, 0.185, 0.18, 0.17, 0.13, 0.105, 0.12, 0.095, 0.12, 0.15, 0.155, 0.145, 0.145, 0.155, 0.165, 0.15, 0.15, 0.18, 0.145, 0.115, 0.165, 0.1, 0.1, 0.14, 0.115, 0.185, 0.14, 0.185, 0.15, 0.125, 0.17, 0.15, 0.15, 0.075, 0.115, 0.12, 0.02, 0.09, 0.05, 0.1, 0.12, 0.105, 0.105, 0.135, 0.105, 0.115, 0.125, 0.14, 0.09, 0.09, 0.13, 0.09, 0.08, 0.1, 0.055, 0.085, 0.08, 0.065, 0.07, 0.06, 0.035, 0.025, 0.025, 0.16, 0.15, 0.13, 0.08, 0.11, 0.085, 0.105, 0.125, 0.12, 0.13, 0.13, 0.12, 0.13, 0.12, 0.125, 0.115, 0.125, 0.135, 0.09, 0.205, 0.09, 0.15, 0.14, 0.13, 0.13, 0.2, 0.14, 0.13, 0.175, 0.105, 0.12, 0.17, 0.165, 0.175, 0.185, 0.155, 0.19, 0.155, 0.12, 0.15, 0.155, 0.135, 0.19, 0.145, 0.15, 0.13, 0.095, 0.155, 0.17, 0.165, 0.14, 0.115, 0.135, 0.14, 0.165, 0.145, 0.14, 0.14, 0.145, 0.165, 0.15, 0.145, 0.125, 0.06, 0.175, 0.13, 0.135, 0.16, 0.165, 0.16, 0.135, 0.18, 0.165, 0.16, 0.145, 0.155, 0.11, 0.16, 0.11, 0.135, 0.125, 0.13, 0.1, 0.135, 0.12, 0.07, 0.125, 0.13, 0.115, 0.14, 0.13, 0.055, 0.06, 0.085, 0.08, 0.08, 0.09, 0.07, 0.085, 0.135, 0.14, 0.095, 0.095, 0.1, 0.095, 0.095, 0.1, 0.1, 0.11, 0.1, 0.1, 0.115, 0.1, 0.1, 0.13, 0.12, 0.125, 0.135, 0.105, 0.125, 0.125, 0.125, 0.14, 0.13, 0.125, 0.14, 0.135, 0.125, 0.15, 0.15, 0.145, 0.155, 0.15, 0.13, 0.14, 0.165, 0.13, 0.15, 0.16, 0.16, 0.14, 0.175, 0.155, 0.175, 0.175, 0.16, 0.175, 0.15, 0.15, 0.165, 0.16, 0.165, 0.155, 0.2, 0.165, 0.17, 0.15, 0.165, 0.165, 0.175, 0.165, 0.205, 0.17, 0.19, 0.16, 0.17, 0.155, 0.195, 0.16, 0.22, 0.23, 0.05, 0.055, 0.065, 0.05, 0.055, 0.06, 0.075, 0.08, 0.08, 0.095, 0.07, 0.075, 0.07, 0.09, 0.075, 0.085, 0.075, 0.075, 0.075, 0.07, 0.1, 0.095, 0.095, 0.09, 0.08, 0.09, 0.09, 0.09, 0.09, 0.115, 0.1, 0.1, 0.1, 0.1, 0.09, 0.12, 0.115, 0.13, 0.09, 0.11, 0.13, 0.13, 0.105, 0.11, 0.105, 0.125, 0.12, 0.1, 0.105, 0.115, 0.115, 0.11, 0.125, 0.12, 0.12, 0.125, 0.12, 0.115, 0.145, 0.1, 0.12, 0.115, 0.125, 0.135, 0.135, 0.135, 0.12, 0.135, 0.125, 0.13, 0.15, 0.125, 0.125, 0.135, 0.1, 0.135, 0.15, 0.145, 0.14, 0.155, 0.14, 0.14, 0.13, 0.15, 0.125, 0.135, 0.14, 0.14, 0.155, 0.14, 0.16, 0.13, 0.155, 0.155, 0.15, 0.14, 0.17, 0.16, 0.16, 0.15, 0.18, 0.15, 0.145, 0.13, 0.155, 0.16, 0.145, 0.155, 0.15, 0.165, 0.14, 0.15, 0.15, 0.155, 0.165, 0.15, 0.155, 0.16, 0.18, 0.17, 0.175, 0.175, 0.165, 0.2, 0.155, 0.165, 0.15, 0.175, 0.185, 0.155, 0.17, 0.175, 0.155, 0.175, 0.175, 0.165, 0.175, 0.16, 0.15, 0.16, 0.21, 0.185, 0.16, 0.175, 0.185, 0.19, 0.195, 0.18, 0.165, 0.225, 0.195, 0.185, 0.175, 0.2, 0.175, 0.18, 0.205, 0.175, 0.185, 0.22, 0.22, 0.045, 0.045, 0.04, 0.04, 0.055, 0.065, 0.065, 0.055, 0.065, 0.085, 0.065, 0.08, 0.055, 0.085, 0.08, 0.1, 0.08, 0.1, 0.08, 0.095, 0.11, 0.1, 0.1, 0.105, 0.11, 0.095, 0.115, 0.12, 0.11, 0.115, 0.11, 0.105, 0.145, 0.11, 0.125, 0.12, 0.105, 0.1, 0.11, 0.115, 0.105, 0.125, 0.11, 0.1, 0.125, 0.125, 0.14, 0.12, 0.125, 0.125, 0.125, 0.125, 0.125, 0.125, 0.115, 0.125, 0.145, 0.135, 0.125, 0.15, 0.13, 0.14, 0.12, 0.12, 0.125, 0.125, 0.14, 0.135, 0.12, 0.14, 0.135, 0.15, 0.15, 0.145, 0.16, 0.155, 0.145, 0.15, 0.15, 0.175, 0.15, 0.145, 0.15, 0.145, 0.16, 0.14, 0.165, 0.135, 0.13, 0.17, 0.145, 0.15, 0.195, 0.135, 0.14, 0.145, 0.155, 0.145, 0.16, 0.15, 0.16, 0.17, 0.15, 0.155, 0.165, 0.14, 0.17, 0.165, 0.16, 0.145, 0.165, 0.17, 0.15, 0.155, 0.135, 0.2, 0.16, 0.175, 0.185, 0.155, 0.175, 0.015, 0.165, 0.195, 0.17, 0.19, 0.155, 0.16, 0.175, 0.185, 0.16, 0.17, 0.205, 0.215, 0.165, 0.155, 0.21, 0.17, 0.185, 0.18, 0.19, 0.19, 0.17, 0.18, 0.19, 0.19, 0.195, 0.2, 0.145, 0.185, 0.185, 0.185, 0.215, 0.21, 0.21, 0.205, 0.215, 0.12, 0.06, 0.065, 0.065, 0.09, 0.065, 0.07, 0.08, 0.07, 0.075, 0.095, 0.095, 0.09, 0.09, 0.095, 0.085, 0.075, 0.09, 0.085, 0.085, 0.085, 0.085, 0.09, 0.085, 0.095, 0.085, 0.09, 0.095, 0.08, 0.085, 0.11, 0.08, 0.09, 0.085, 0.095, 0.09, 0.095, 0.105, 0.095, 0.1, 0.1, 0.09, 0.11, 0.09, 0.11, 0.1, 0.09, 0.0, 0.095, 0.11, 0.12, 0.105, 0.105, 0.115, 0.1, 0.105, 0.105, 0.125, 0.11, 0.1, 0.18, 0.12, 0.1, 0.12, 0.11, 0.125, 0.115, 0.1, 0.12, 0.13, 0.12, 0.135, 0.135, 0.145, 0.14, 0.125, 0.14, 0.13, 0.12, 0.105, 0.12, 0.135, 0.135, 0.13, 0.125, 0.125, 0.155, 0.13, 0.155, 0.11, 0.13, 0.135, 0.15, 0.13, 0.15, 0.145, 0.14, 0.135, 0.15, 0.15, 0.135, 0.145, 0.125, 0.15, 0.14, 0.135, 0.14, 0.155, 0.14, 0.145, 0.135, 0.145, 0.155, 0.145, 0.175, 0.145, 0.15, 0.125, 0.145, 0.135, 0.135, 0.17, 0.13, 0.125, 0.135, 0.165, 0.155, 0.155, 0.135, 0.15, 0.155, 0.185, 0.16, 0.165, 0.165, 0.15, 0.18, 0.135, 0.18, 0.155, 0.15, 0.155, 0.17, 0.155, 0.15, 0.155, 0.145, 0.155, 0.15, 0.14, 0.13, 0.175, 0.16, 0.15, 0.165, 0.17, 0.15, 0.17, 0.16, 0.155, 0.165, 0.17, 0.165, 0.17, 0.175, 0.155, 0.175, 0.18, 0.15, 0.16, 0.17, 0.175, 0.16, 0.155, 0.17, 0.18, 0.145, 0.145, 0.16, 0.16, 0.165, 0.175, 0.17, 0.155, 0.23, 0.18, 0.16, 0.195, 0.16, 0.165, 0.22, 0.175, 0.19, 0.17, 0.19, 0.205, 0.19, 0.175, 0.21, 0.17, 0.18, 0.225, 0.175, 0.185, 0.205, 0.19, 0.13, 0.515, 0.215, 0.18, 0.17, 0.17, 0.215, 0.2, 0.19, 0.205, 0.215, 0.235, 0.25, 0.035, 0.06, 0.135, 0.08, 0.095, 0.085, 0.09, 0.09, 0.11, 0.09, 0.095, 0.09, 0.105, 0.095, 0.115, 0.105, 0.105, 0.105, 0.12, 0.11, 0.125, 0.135, 0.11, 0.14, 0.125, 0.12, 0.125, 0.115, 0.115, 0.125, 0.12, 0.085, 0.13, 0.12, 0.105, 0.135, 0.125, 0.145, 0.125, 0.125, 0.14, 0.13, 0.125, 0.14, 0.14, 0.16, 0.15, 0.15, 0.15, 0.15, 0.165, 0.175, 0.14, 0.15, 0.15, 0.15, 0.145, 0.16, 0.155, 0.2, 0.165, 0.16, 0.17, 0.17, 0.13, 0.155, 0.155, 0.165, 0.175, 0.18, 0.145, 0.175, 0.15, 0.15, 0.225, 0.145, 0.185, 0.205, 0.175, 0.155, 0.165, 0.175, 0.175, 0.16, 0.14, 0.215, 0.215, 0.165, 0.18, 0.2, 0.175, 0.19, 0.185, 0.17, 0.2, 0.17, 0.2, 0.165, 0.2, 0.24, 0.18, 0.18, 0.045, 0.055, 0.07, 0.085, 0.09, 0.08, 0.075, 0.075, 0.09, 0.095, 0.075, 0.075, 0.085, 0.095, 0.08, 0.095, 0.1, 0.09, 0.095, 0.09, 0.09, 0.1, 0.1, 0.09, 0.09, 0.1, 0.11, 0.08, 0.1, 0.11, 0.095, 0.11, 0.115, 0.11, 0.11, 0.12, 0.11, 0.125, 0.145, 0.1, 0.125, 0.125, 0.12, 0.16, 0.13, 0.115, 0.135, 0.125, 0.105, 0.12, 0.12, 0.14, 0.13, 0.11, 0.125, 0.105, 0.125, 0.125, 0.145, 0.13, 0.145, 0.12, 0.135, 0.14, 0.155, 0.12, 0.135, 0.145, 0.13, 0.13, 0.17, 0.14, 0.14, 0.14, 0.14, 0.13, 0.135, 0.13, 0.12, 0.125, 0.14, 0.15, 0.135, 0.145, 0.15, 0.13, 0.14, 0.145, 0.15, 0.13, 0.135, 0.155, 0.15, 0.125, 0.15, 0.135, 0.14, 0.17, 0.145, 0.155, 0.145, 0.165, 0.135, 0.155, 0.125, 0.185, 0.195, 0.17, 0.135, 0.15, 0.16, 0.16, 0.15, 0.155, 0.13, 0.125, 0.14, 0.165, 0.145, 0.145, 0.15, 0.14, 0.145, 0.15, 0.155, 0.15, 0.165, 0.17, 0.18, 0.165, 0.16, 0.145, 0.145, 0.145, 0.14, 0.155, 0.18, 0.155, 0.16, 0.15, 0.16, 0.16, 0.125, 0.17, 0.18, 0.16, 0.175, 0.18, 0.155, 0.175, 0.165, 0.16, 0.18, 0.14, 0.135, 0.15, 0.175, 0.165, 0.16, 0.17, 0.155, 0.175, 0.15, 0.17, 0.18, 0.17, 0.165, 0.175, 0.165, 0.17, 0.175, 0.17, 0.165, 0.18, 0.185, 0.15, 0.175, 0.19, 0.19, 0.195, 0.16, 0.16, 0.175, 0.19, 0.15, 0.19, 0.155, 0.19, 0.185, 0.16, 0.18, 0.15, 0.19, 0.195, 0.165, 0.175, 0.195, 0.165, 0.175, 0.16, 0.16, 0.175, 0.175, 0.16, 0.165, 0.19, 0.155, 0.195, 0.16, 0.195, 0.195, 0.2, 0.15, 0.175, 0.2, 0.175, 0.175, 0.17, 0.215, 0.195, 0.205, 0.22, 0.2, 0.205, 0.18, 0.21, 0.19, 0.215, 0.205, 0.215, 0.205, 0.195, 0.25, 0.09, 0.1, 0.135, 0.125, 0.12, 0.12, 0.105, 0.135, 0.11, 0.14, 0.115, 0.105, 0.155, 0.16, 0.16, 0.15, 0.155, 0.135, 0.17, 0.125, 0.14, 0.135, 0.18, 0.165, 0.2, 0.15, 0.165, 0.16, 0.175, 0.185, 0.13, 0.17, 0.145, 0.15, 0.175, 0.165, 0.175, 0.15, 0.15, 0.145, 0.145, 0.175, 0.185, 0.195, 0.15, 0.14, 0.16, 0.19, 0.16, 0.2, 0.19, 0.185, 0.175, 0.175, 0.185, 0.19, 0.18, 0.195, 0.18, 0.21, 0.04, 0.055, 0.075, 0.085, 0.08, 0.085, 0.085, 0.075, 0.105, 0.09, 0.095, 0.105, 0.09, 0.1, 0.095, 0.1, 0.1, 0.1, 0.11, 0.105, 0.12, 0.11, 0.11, 0.12, 0.105, 0.13, 0.12, 0.115, 0.135, 0.145, 0.14, 0.11, 0.13, 0.145, 0.12, 0.135, 0.15, 0.11, 0.11, 0.14, 0.125, 0.115, 0.115, 0.12, 0.145, 0.145, 0.14, 0.16, 0.13, 0.12, 0.14, 0.16, 0.135, 0.125, 0.14, 0.14, 0.14, 0.13, 0.14, 0.125, 0.13, 0.175, 0.135, 0.165, 0.125, 0.125, 0.155, 0.145, 0.16, 0.155, 0.155, 0.155, 0.175, 0.13, 0.12, 0.13, 0.155, 0.135, 0.155, 0.145, 0.175, 0.135, 0.135, 0.155, 0.145, 0.195, 0.165, 0.15, 0.145, 0.16, 0.15, 0.135, 0.17, 0.15, 0.16, 0.165, 0.145, 0.18, 0.14, 0.145, 0.155, 0.165, 0.145, 0.15, 0.16, 0.2, 0.16, 0.15, 0.17, 0.195, 0.15, 0.155, 0.155, 0.17, 0.185, 0.16, 0.18, 0.145, 0.155, 0.165, 0.165, 0.155, 0.16, 0.165, 0.165, 0.165, 0.145, 0.165, 0.135, 0.155, 0.185, 0.18, 0.175, 0.21, 0.15, 0.155, 0.185, 0.18, 0.175, 0.17, 0.205, 0.175, 0.15, 0.2, 0.18, 0.205, 0.15, 0.185, 0.19, 0.155, 0.155, 0.18, 0.185, 0.205, 0.175, 0.195, 0.22, 0.18, 0.19, 0.205, 0.195, 0.215, 0.04, 0.025, 0.055, 0.075, 0.065, 0.06, 0.07, 0.06, 0.065, 0.07, 0.07, 0.08, 0.08, 0.07, 0.105, 0.085, 0.085, 0.08, 0.085, 0.095, 0.09, 0.11, 0.095, 0.11, 0.12, 0.105, 0.11, 0.135, 0.105, 0.12, 0.12, 0.135, 0.115, 0.135, 0.14, 0.13, 0.15, 0.13, 0.14, 0.15, 0.16, 0.145, 0.15, 0.16, 0.165, 0.14, 0.14, 0.16, 0.18, 0.195, 0.06, 0.065, 0.08, 0.07, 0.085, 0.07, 0.1, 0.1, 0.16, 0.09, 0.12, 0.115, 0.115, 0.12, 0.13, 1.13, 0.12, 0.11, 0.11, 0.09, 0.14, 0.135, 0.135, 0.11, 0.135, 0.14, 0.13, 0.1, 0.125, 0.13, 0.14, 0.13, 0.16, 0.13, 0.115, 0.135, 0.12, 0.15, 0.15, 0.15, 0.19, 0.14, 0.165, 0.16, 0.15, 0.14, 0.21, 0.2, 0.195, 0.185, 0.15, 0.22, 0.215, 0.18, 0.22, 0.115, 0.13, 0.115, 0.09, 0.1, 0.145, 0.08, 0.1, 0.115, 0.1, 0.155, 0.11, 0.1, 0.125, 0.185, 0.155, 0.18, 0.225, 0.17, 0.055, 0.08, 0.13, 0.09, 0.035, 0.045, 0.05, 0.08, 0.12, 0.125, 0.1, 0.11, 0.12, 0.075, 0.095, 0.115, 0.125, 0.1, 0.175, 0.15, 0.14, 0.08, 0.125, 0.11, 0.115, 0.1, 0.125, 0.175, 0.18, 0.205, 0.125, 0.075, 0.11, 0.105, 0.105, 0.115, 0.12, 0.135, 0.09, 0.07, 0.11, 0.19, 0.115, 0.075, 0.135, 0.165, 0.165, 0.175, 0.195, 0.2, 0.2, 0.24, 0.195, 0.15, 0.09, 0.16, 0.085, 0.085, 0.085, 0.015, 0.075, 0.03, 0.03, 0.125, 0.17, 0.185, 0.17, 0.235, 0.2, 0.25, 0.165, 0.165, 0.16, 0.155, 0.08, 0.12, 0.125, 0.135, 0.135, 0.14, 0.165, 0.185, 0.165, 0.055, 0.11, 0.08, 0.09, 0.105, 0.08, 0.2, 0.195, 0.215, 0.16, 0.19, 0.105, 0.08, 0.075, 0.115, 0.215, 0.18, 0.2, 0.195, 0.235, 0.23, 0.12, 0.14, 0.08, 0.13, 0.15, 0.145, 0.145, 0.175, 0.195, 0.18, 0.145, 0.155, 0.11, 0.075, 0.175, 0.095, 0.165, 0.165, 0.18, 0.17, 0.165, 0.175, 0.185, 0.19, 0.11, 0.115, 0.125, 0.12, 0.135, 0.13, 0.1, 0.14, 0.11, 0.12, 0.09, 0.165, 0.2, 0.175, 0.17, 0.2, 0.18, 0.145, 0.135, 0.165, 0.115, 0.16, 0.175, 0.16, 0.16, 0.15, 0.16, 0.215, 0.175, 0.175, 0.175, 0.16, 0.18, 0.17, 0.21, 0.15, 0.2, 0.185, 0.23, 0.18, 0.13, 0.135, 0.13, 0.14, 0.13, 0.12, 0.105, 0.1, 0.15, 0.105, 0.09, 0.155, 0.1, 0.12, 0.09, 0.09, 0.12, 0.145, 0.135, 0.12, 0.1, 0.125, 0.13, 0.15, 0.13, 0.12, 0.135, 0.135, 0.165, 0.135, 0.13, 0.13, 0.11, 0.11, 0.07, 0.145, 0.135, 0.15, 0.155, 0.14, 0.135, 0.145, 0.1, 0.135, 0.135, 0.105, 0.19, 0.105, 0.115, 0.135, 0.145, 0.145, 0.115, 0.155, 0.135, 0.22, 0.195, 0.15, 0.175, 0.165, 0.195, 0.2, 0.17, 0.09, 0.07, 0.055, 0.17, 0.195, 0.125, 0.13, 0.165, 0.105, 0.17, 0.16, 0.19, 0.175, 0.15, 0.135, 0.15, 0.125, 0.21, 0.2, 0.175, 0.155, 0.205, 0.195, 0.2, 0.165, 0.23, 0.16, 0.225, 0.17, 0.115, 0.05, 0.11, 0.15, 0.11, 0.09, 0.11, 0.155, 0.115, 0.09, 0.04, 0.025, 0.15, 0.135, 0.105, 0.115, 0.14, 0.135, 0.14, 0.125, 0.125, 0.09, 0.09, 0.09, 0.16, 0.17, 0.155, 0.19, 0.155, 0.17, 0.1, 0.155, 0.165, 0.08, 0.17, 0.145, 0.185, 0.175, 0.17, 0.15, 0.115, 0.12, 0.095, 0.145, 0.11, 0.105, 0.125, 0.06, 0.13, 0.12, 0.085, 0.16, 0.13, 0.11, 0.065, 0.17, 0.155, 0.075, 0.125, 0.095, 0.14, 0.18, 0.165, 0.18, 0.18, 0.135, 0.16, 0.095, 0.17, 0.1, 0.125, 0.17, 0.125, 0.14, 0.14, 0.135, 0.17, 0.08, 0.09, 0.105, 0.125, 0.09, 0.105, 0.08, 0.065, 0.065, 0.06, 0.065, 0.05, 0.17, 0.14, 0.13, 0.08, 0.14, 0.14, 0.13, 0.12, 0.14, 0.08, 0.13, 0.17, 0.175, 0.175, 0.175, 0.145, 0.165, 0.155, 0.155, 0.18, 0.155, 0.145, 0.095, 0.165, 0.175, 0.135, 0.09, 0.145, 0.185, 0.145, 0.135, 0.115, 0.165, 0.145, 0.1, 0.13, 0.16, 0.13, 0.155, 0.14, 0.145, 0.125, 0.08, 0.07, 0.075, 0.105, 0.075, 0.075, 0.1, 0.105, 0.09, 0.1, 0.105, 0.11, 0.135, 0.11, 0.12, 0.12, 0.135, 0.13, 0.185, 0.19, 0.12, 0.15, 0.15, 0.18, 0.16, 0.16, 0.185, 0.135, 0.155, 0.165, 0.175, 0.155, 0.185, 0.195, 0.18, 0.165, 0.215, 0.2, 0.205, 0.175, 0.18, 0.2, 0.19, 0.165, 0.065, 0.07, 0.05, 0.07, 0.055, 0.08, 0.07, 0.075, 0.07, 0.07, 0.08, 0.085, 0.1, 0.065, 0.1, 0.11, 0.115, 0.1, 0.12, 0.125, 0.12, 0.12, 0.115, 0.12, 0.115, 0.11, 0.105, 0.11, 0.105, 0.1, 0.145, 0.11, 0.12, 0.12, 0.135, 0.125, 0.17, 0.14, 0.15, 0.14, 0.125, 0.14, 0.15, 0.14, 0.155, 0.145, 0.16, 0.14, 0.155, 0.15, 0.15, 0.145, 0.15, 0.15, 0.15, 0.16, 0.165, 0.155, 0.175, 0.175, 0.16, 0.17, 0.165, 0.175, 0.2, 0.145, 0.165, 0.18, 0.195, 0.16, 0.175, 0.185, 0.19, 0.205, 0.185, 0.155, 0.175, 0.205, 0.205, 0.18, 0.215, 0.05, 0.07, 0.06, 0.075, 0.095, 0.1, 0.1, 0.115, 0.1, 0.1, 0.1, 0.115, 0.11, 0.12, 0.105, 0.1, 0.115, 0.13, 0.125, 0.11, 0.12, 0.125, 0.12, 0.135, 0.155, 0.15, 0.125, 0.135, 0.14, 0.145, 0.12, 0.14, 0.13, 0.135, 0.13, 0.13, 0.18, 0.135, 0.16, 0.15, 0.13, 0.15, 0.14, 0.15, 0.14, 0.16, 0.15, 0.165, 0.14, 0.21, 0.15, 0.17, 0.15, 0.155, 0.175, 0.155, 0.15, 0.185, 0.155, 0.145, 0.15, 0.175, 0.15, 0.16, 0.15, 0.18, 0.125, 0.175, 0.175, 0.155, 0.155, 0.165, 0.165, 0.2, 0.18, 0.19, 0.165, 0.18, 0.175, 0.2, 0.19, 0.2, 0.175, 0.22, 0.215, 0.03, 0.045, 0.06, 0.065, 0.08, 0.085, 0.095, 0.08, 0.08, 0.09, 0.14, 0.095, 0.125, 0.085, 0.1, 0.1, 0.1, 0.11, 0.1, 0.09, 0.1, 0.11, 0.1, 0.115, 0.11, 0.11, 0.11, 0.115, 0.095, 0.115, 0.1, 0.105, 0.115, 0.12, 0.125, 0.14, 0.125, 0.125, 0.135, 0.145, 0.135, 0.14, 0.11, 0.13, 0.15, 0.13, 0.12, 0.155, 0.15, 0.145, 0.145, 0.155, 0.135, 0.15, 0.145, 0.175, 0.14, 0.135, 0.15, 0.155, 0.155, 0.175, 0.145, 0.15, 0.145, 0.165, 0.145, 0.13, 0.145, 0.14, 0.14, 0.09, 0.185, 0.145, 0.185, 0.185, 0.13, 0.15, 0.14, 0.165, 0.14, 0.165, 0.175, 0.155, 0.15, 0.195, 0.155, 0.15, 0.17, 0.17, 0.08, 0.155, 0.175, 0.19, 0.2, 0.17, 0.205, 0.205, 0.2, 0.205, 0.19, 0.05, 0.055, 0.055, 0.09, 0.075, 0.075, 0.09, 0.095, 0.09, 0.09, 0.105, 0.105, 0.115, 0.12, 0.13, 0.12, 0.105, 0.145, 0.135, 0.14, 0.14, 0.15, 0.13, 0.14, 0.16, 0.135, 0.155, 0.15, 0.155, 0.16, 0.175, 0.16, 0.19, 0.17, 0.175, 0.13, 0.16, 0.165, 0.16, 0.185, 0.16, 0.16, 0.19, 0.155, 0.17, 0.19, 0.195, 0.18, 0.18, 0.17, 0.21, 0.19, 0.07, 0.075, 0.08, 0.075, 0.09, 0.085, 0.09, 0.085, 0.09, 0.095, 0.1, 0.095, 0.09, 0.14, 0.11, 0.13, 0.11, 0.12, 0.13, 0.12, 0.125, 0.125, 0.115, 0.145, 0.125, 0.11, 0.15, 0.125, 0.15, 0.125, 0.13, 0.11, 0.13, 0.15, 0.165, 0.13, 0.14, 0.13, 0.13, 0.15, 0.16, 0.165, 0.15, 0.15, 0.17, 0.15, 0.15, 0.125, 0.135, 0.15, 0.125, 0.145, 0.155, 0.17, 0.135, 0.17, 0.195, 0.15, 0.165, 0.17, 0.18, 0.155, 0.155, 0.195, 0.14, 0.16, 0.175, 0.135, 0.15, 0.165, 0.15, 0.195, 0.175, 0.165, 0.16, 0.145, 0.12, 0.165, 0.18, 0.185, 0.17, 0.19, 0.175, 0.18, 0.19, 0.16, 0.18, 0.175, 0.15, 0.17, 0.19, 0.195, 0.2, 0.205, 0.2, 0.16, 0.18, 0.175, 0.175, 0.19, 0.17, 0.195, 0.175, 0.16, 0.17, 0.19, 0.18, 0.175, 0.19, 0.205, 0.2, 0.095, 0.115, 0.1, 0.155, 0.155, 0.115, 0.13, 0.21, 0.135, 0.15, 0.135, 0.175, 0.19, 0.15, 0.135, 0.14, 0.15, 0.165, 0.21, 0.175, 0.17, 0.17, 0.11, 0.17, 0.18, 0.16, 0.165, 0.185, 0.175, 0.17, 0.21, 0.185, 0.225, 0.205, 0.065, 0.08, 0.09, 0.1, 0.09, 0.09, 0.11, 0.105, 0.105, 0.105, 0.115, 0.125, 0.105, 0.11, 0.125, 0.11, 0.1, 0.115, 0.135, 0.125, 0.14, 0.115, 0.11, 0.145, 0.12, 0.19, 0.15, 0.145, 0.145, 0.135, 0.145, 0.14, 0.15, 0.13, 0.14, 0.16, 0.155, 0.175, 0.165, 0.145, 0.15, 0.175, 0.14, 0.16, 0.14, 0.15, 0.16, 0.215, 0.17, 0.16, 0.155, 0.175, 0.18, 0.165, 0.155, 0.18, 0.145, 0.15, 0.17, 0.175, 0.165, 0.16, 0.17, 0.18, 0.155, 0.145, 0.185, 0.195, 0.165, 0.2, 0.22, 0.175, 0.205, 0.2, 0.05, 0.05, 0.06, 0.075, 0.095, 0.085, 0.11, 0.14, 0.12, 0.125, 0.15, 0.13, 0.12, 0.115, 0.145, 0.15, 0.15, 0.125, 0.145, 0.18, 0.18, 0.2, 0.06, 0.065, 0.1, 0.08, 0.085, 0.12, 0.105, 0.115, 0.105, 0.1, 0.12, 0.135, 0.1, 0.145, 0.135, 0.13, 0.14, 0.15, 0.135, 0.135, 0.15, 0.155, 0.155, 0.19, 0.17, 0.165, 0.16, 0.17, 0.1, 0.125, 0.125, 0.125, 0.105, 0.14, 0.09, 0.16, 0.08, 0.055, 0.04, 0.2, 0.17, 0.15, 0.18, 0.195, 0.215, 0.165, 0.175, 0.105, 0.1, 0.13, 0.125, 0.165, 0.09, 0.11, 0.085, 0.065, 0.07, 0.14, 0.125, 0.19, 0.115, 0.175, 0.155, 0.115, 0.155, 0.155, 0.16, 0.18, 0.09, 0.12, 0.12, 0.13, 0.135, 0.1, 0.07, 0.1, 0.135, 0.165, 0.115, 0.175, 0.15, 0.11, 0.135, 0.23, 0.15, 0.025, 0.18, 0.115, 0.185, 0.16, 0.175, 0.075, 0.075, 0.14, 0.155, 0.16, 0.1, 0.22, 0.185, 0.185, 0.095, 0.075, 0.125, 0.08, 0.125, 0.14, 0.165, 0.17, 0.14, 0.16, 0.175, 0.19, 0.12, 0.19, 0.175, 0.145, 0.09, 0.195, 0.175, 0.2, 0.12, 0.13, 0.135, 0.125, 0.19, 0.15, 0.12, 0.15, 0.19, 0.205, 0.155, 0.1, 0.155, 0.15, 0.185, 0.135, 0.19, 0.19, 0.16, 0.205, 0.16, 0.16, 0.19, 0.165, 0.09, 0.125, 0.125, 0.13, 0.105, 0.105, 0.075, 0.15, 0.11, 0.125, 0.165, 0.125, 0.19, 0.145, 0.115, 0.14, 0.135, 0.135, 0.115, 0.125, 0.145, 0.13, 0.155, 0.125, 0.14, 0.14, 0.11, 0.125, 0.14, 0.16, 0.19, 0.185, 0.17, 0.165, 0.155, 0.155, 0.185, 0.175, 0.13, 0.145, 0.16, 0.12, 0.13, 0.15, 0.185, 0.16, 0.12, 0.165, 0.19, 0.175, 0.175, 0.205, 0.19, 0.175, 0.185, 0.14, 0.175, 0.115, 0.135, 0.08, 0.12, 0.165, 0.135, 0.15, 0.11, 0.115, 0.09, 0.14, 0.065, 0.04, 0.2, 0.155, 0.14, 0.13, 0.105, 0.1, 0.09, 0.135, 0.2, 0.17, 0.15, 0.125, 0.18, 0.125, 0.125, 0.105, 0.135, 0.125, 0.18, 0.175, 0.185, 0.145, 0.135, 0.095, 0.11, 0.145, 0.145, 0.16, 0.1, 0.115, 0.105, 0.13, 0.13, 0.145, 0.14, 0.11, 0.11, 0.1, 0.1, 0.075, 0.17, 0.175, 0.095, 0.1, 0.15, 0.085, 0.115, 0.065, 0.195, 0.165, 0.17, 0.125, 0.09, 0.135, 0.155, 0.125, 0.15, 0.09, 0.07, 0.075, 0.08, 0.045, 0.165, 0.12, 0.13, 0.07, 0.115, 0.125, 0.145, 0.185, 0.15, 0.16, 0.125, 0.185, 0.13, 0.16, 0.165, 0.16, 0.15, 0.085, 0.115, 0.135, 0.15, 0.15, 0.11, 0.105, 0.075, 0.075, 0.08, 0.09, 0.095, 0.105, 0.1, 0.115, 0.12, 0.105, 0.16, 0.14, 0.15, 0.18, 0.135, 0.165, 0.15, 0.155, 0.15, 0.17, 0.185, 0.2, 0.2, 0.065, 0.065, 0.075, 0.095, 0.09, 0.105, 0.09, 0.09, 0.095, 0.09, 0.105, 0.125, 0.1, 0.115, 0.13, 0.1, 0.115, 0.145, 0.11, 0.12, 0.12, 0.125, 0.125, 0.155, 0.145, 0.11, 0.165, 0.155, 0.16, 0.175, 0.16, 0.19, 0.165, 0.16, 0.17, 0.17, 0.155, 0.195, 0.17, 0.18, 0.165, 0.23, 0.2, 0.185, 0.05, 0.055, 0.085, 0.085, 0.1, 0.11, 0.11, 0.11, 0.105, 0.105, 0.145, 0.115, 0.16, 0.115, 0.16, 0.13, 0.13, 0.14, 0.16, 0.16, 0.145, 0.15, 0.135, 0.13, 0.145, 0.145, 0.145, 0.165, 0.145, 0.16, 0.175, 0.19, 0.18, 0.18, 0.175, 0.165, 0.175, 0.175, 0.18, 0.18, 0.175, 0.175, 0.18, 0.19, 0.2, 0.175, 0.195, 0.18, 0.185, 0.055, 0.06, 0.07, 0.085, 0.085, 0.085, 0.09, 0.085, 0.075, 0.09, 0.09, 0.09, 0.115, 0.09, 0.1, 0.11, 0.105, 0.11, 0.12, 0.095, 0.11, 0.11, 0.09, 0.125, 0.135, 0.115, 0.125, 0.12, 0.125, 0.115, 0.135, 0.105, 0.13, 0.13, 0.135, 0.13, 0.135, 0.155, 0.175, 0.155, 0.13, 0.16, 0.155, 0.125, 0.16, 0.155, 0.14, 0.14, 0.15, 0.165, 0.165, 0.165, 0.145, 0.17, 0.15, 0.155, 0.23, 0.17, 0.145, 0.165, 0.16, 0.16, 0.175, 0.165, 0.16, 0.15, 0.17, 0.185, 0.18, 0.195, 0.165, 0.16, 0.165, 0.155, 0.2, 0.145, 0.17, 0.18, 0.22, 0.04, 0.095, 0.09, 0.11, 0.11, 0.115, 0.11, 0.14, 0.155, 0.12, 0.16, 0.17, 0.18, 0.17, 0.155, 0.19, 0.2, 0.16, 0.17, 0.17, 0.17, 0.17, 0.165, 0.175, 0.175, 0.195, 0.19, 0.2, 0.225, 0.05, 0.07, 0.085, 0.075, 0.065, 0.085, 0.095, 0.09, 0.1, 0.105, 0.095, 0.12, 0.115, 0.12, 0.12, 0.105, 0.1, 0.125, 0.125, 0.12, 0.13, 0.14, 0.125, 0.14, 0.13, 0.14, 0.125, 0.125, 0.14, 0.155, 0.14, 0.125, 0.15, 0.14, 0.135, 0.15, 0.145, 0.15, 0.155, 0.145, 0.14, 0.135, 0.135, 0.135, 0.155, 0.165, 0.16, 0.16, 0.165, 0.15, 0.19, 0.165, 0.175, 0.18, 0.155, 0.155, 0.165, 0.135, 0.16, 0.17, 0.195, 0.175, 0.19, 0.17, 0.17, 0.16, 0.195, 0.205, 0.175, 0.175, 0.19, 0.17, 0.18, 0.195, 0.155, 0.195, 0.2, 0.185, 0.17, 0.195, 0.19, 0.175, 0.21, 0.17, 0.175, 0.185, 0.21, 0.075, 0.1, 0.115, 0.095, 0.115, 0.13, 0.105, 0.12, 0.15, 0.155, 0.145, 0.15, 0.15, 0.135, 0.115, 0.18, 0.19, 0.16, 0.165, 0.15, 0.18, 0.15, 0.17, 0.165, 0.17, 0.195, 0.205, 0.195, 0.065, 0.07, 0.085, 0.1, 0.1, 0.095, 0.11, 0.115, 0.135, 0.11, 0.14, 0.105, 0.12, 0.14, 0.14, 0.155, 0.13, 0.135, 0.115, 0.15, 0.145, 0.135, 0.14, 0.16, 0.145, 0.145, 0.125, 0.145, 0.12, 0.15, 0.14, 0.155, 0.155, 0.145, 0.125, 0.185, 0.185, 0.13, 0.175, 0.18, 0.155, 0.155, 0.185, 0.16, 0.15, 0.155, 0.175, 0.175, 0.175, 0.18, 0.175, 0.175, 0.21, 0.2, 0.175, 0.17, 0.205, 0.045, 0.075, 0.06, 0.1, 0.11, 0.095, 0.115, 0.13, 0.135, 0.125, 0.13, 0.17, 0.095, 0.095, 0.1, 0.12, 0.12, 0.14, 0.14, 0.145, 0.155, 0.175, 0.135, 0.17, 0.17, 0.185, 0.195, 0.175, 0.17, 0.12, 0.175, 0.115, 0.15, 0.075, 0.1, 0.1, 0.035, 0.095, 0.125, 0.145, 0.125, 0.145, 0.16, 0.155, 0.105, 0.085, 0.125, 0.22, 0.115, 0.11, 0.13, 0.15, 0.155, 0.155, 0.115, 0.085, 0.2, 0.165, 0.19, 0.15, 0.175, 0.125, 0.18, 0.065, 0.165, 0.165, 0.13, 0.135, 0.16, 0.165, 0.11, 0.115, 0.075, 0.15, 0.09, 0.16, 0.225, 0.115, 0.17, 0.1, 0.13, 0.16, 0.12, 0.075, 0.105, 0.12, 0.155, 0.1, 0.2, 0.14, 0.18, 0.15, 0.125, 0.135, 0.18, 0.19, 0.165, 0.15, 0.035, 0.14, 0.125, 0.02, 0.235, 0.165, 0.095, 0.065, 0.15, 0.135, 0.125, 0.135, 0.1, 0.14, 0.145, 0.14, 0.165, 0.16, 0.19, 0.19, 0.135, 0.085, 0.095, 0.14, 0.08, 0.165, 0.115, 0.16, 0.155, 0.22, 0.215, 0.185, 0.165, 0.115, 0.06, 0.08, 0.115, 0.115, 0.11, 0.065, 0.145, 0.105, 0.16, 0.115, 0.175, 0.16, 0.065, 0.165, 0.14, 0.165, 0.15, 0.13, 0.11, 0.08, 0.12, 0.105, 0.12, 0.14, 0.155, 0.18, 0.19, 0.195, 0.205, 0.195, 0.075, 0.06, 0.07, 0.065, 0.07, 0.095, 0.09, 0.09, 0.095, 0.12, 0.1, 0.115, 0.135, 0.135, 0.12, 0.12, 0.115, 0.115, 0.15, 0.15, 0.125, 0.155, 0.185, 0.17, 0.185, 0.165, 0.195, 0.2, 0.18, 0.23, 0.235, 0.045, 0.055, 0.0, 0.09, 0.08, 0.095, 0.135, 0.105, 0.125, 0.125, 0.125, 0.14, 0.15, 0.15, 0.155, 0.16, 0.15, 0.17, 0.14, 0.175, 0.175, 0.145, 0.175, 0.19, 0.155, 0.155, 0.175, 0.195, 0.195, 0.07, 0.065, 0.085, 0.09, 0.09, 0.1, 0.11, 0.1, 0.11, 0.09, 0.125, 0.125, 0.14, 0.14, 0.155, 0.125, 0.155, 0.12, 0.15, 0.165, 0.135, 0.155, 0.16, 0.155, 0.145, 0.16, 0.155, 0.175, 0.175, 0.145, 0.165, 0.18, 0.15, 0.165, 0.185, 0.185, 0.12, 0.13, 0.145, 0.15, 0.16, 0.18, 0.08, 0.085, 0.115, 0.1, 0.105, 0.125, 0.11, 0.12, 0.125, 0.14, 0.15, 0.14, 0.125, 0.18, 0.13, 0.125, 0.145, 0.15, 0.16, 0.17, 0.16, 0.155, 0.155, 0.13, 0.155, 0.205, 0.18, 0.19, 0.18, 0.175, 0.155, 0.175, 0.18, 0.16, 0.18, 0.175, 0.15, 0.185, 0.215, 0.175, 0.18, 0.205, 0.1, 0.1, 0.13, 0.155, 0.14, 0.18, 0.14, 0.15, 0.155, 0.16, 0.175, 0.185, 0.05, 0.09, 0.13, 0.11, 0.115, 0.12, 0.135, 0.145, 0.11, 0.145, 0.14, 0.14, 0.145, 0.17, 0.15, 0.14, 0.17, 0.155, 0.155, 0.155, 0.175, 0.19, 0.165, 0.18, 0.22, 0.19, 0.2, 0.21, 0.195, 0.175, 0.07, 0.08, 0.075, 0.09, 0.115, 0.095, 0.11, 0.11, 0.14, 0.11, 0.135, 0.165, 0.17, 0.1, 0.085, 0.1, 0.085, 0.115, 0.125, 0.125, 0.165, 0.13, 0.155, 0.165, 0.135, 0.205, 0.15, 0.195], \"xaxis\": \"x\", \"yaxis\": \"y\"}],\n",
              "                        {\"barmode\": \"relative\", \"legend\": {\"tracegroupgap\": 0}, \"template\": {\"data\": {\"bar\": [{\"error_x\": {\"color\": \"#2a3f5f\"}, \"error_y\": {\"color\": \"#2a3f5f\"}, \"marker\": {\"line\": {\"color\": \"#E5ECF6\", \"width\": 0.5}}, \"type\": \"bar\"}], \"barpolar\": [{\"marker\": {\"line\": {\"color\": \"#E5ECF6\", \"width\": 0.5}}, \"type\": \"barpolar\"}], \"carpet\": [{\"aaxis\": {\"endlinecolor\": \"#2a3f5f\", \"gridcolor\": \"white\", \"linecolor\": \"white\", \"minorgridcolor\": \"white\", \"startlinecolor\": \"#2a3f5f\"}, \"baxis\": {\"endlinecolor\": \"#2a3f5f\", \"gridcolor\": \"white\", \"linecolor\": \"white\", \"minorgridcolor\": \"white\", \"startlinecolor\": \"#2a3f5f\"}, \"type\": \"carpet\"}], \"choropleth\": [{\"colorbar\": {\"outlinewidth\": 0, \"ticks\": \"\"}, \"type\": \"choropleth\"}], \"contour\": [{\"colorbar\": {\"outlinewidth\": 0, \"ticks\": \"\"}, \"colorscale\": [[0.0, \"#0d0887\"], [0.1111111111111111, \"#46039f\"], [0.2222222222222222, \"#7201a8\"], [0.3333333333333333, \"#9c179e\"], [0.4444444444444444, \"#bd3786\"], [0.5555555555555556, \"#d8576b\"], [0.6666666666666666, \"#ed7953\"], [0.7777777777777778, \"#fb9f3a\"], [0.8888888888888888, \"#fdca26\"], [1.0, \"#f0f921\"]], \"type\": \"contour\"}], \"contourcarpet\": [{\"colorbar\": {\"outlinewidth\": 0, \"ticks\": \"\"}, \"type\": \"contourcarpet\"}], \"heatmap\": [{\"colorbar\": {\"outlinewidth\": 0, \"ticks\": \"\"}, \"colorscale\": [[0.0, \"#0d0887\"], [0.1111111111111111, \"#46039f\"], [0.2222222222222222, \"#7201a8\"], [0.3333333333333333, \"#9c179e\"], [0.4444444444444444, \"#bd3786\"], [0.5555555555555556, \"#d8576b\"], [0.6666666666666666, \"#ed7953\"], [0.7777777777777778, \"#fb9f3a\"], [0.8888888888888888, \"#fdca26\"], [1.0, \"#f0f921\"]], \"type\": \"heatmap\"}], \"heatmapgl\": [{\"colorbar\": {\"outlinewidth\": 0, \"ticks\": \"\"}, \"colorscale\": [[0.0, \"#0d0887\"], [0.1111111111111111, \"#46039f\"], [0.2222222222222222, \"#7201a8\"], [0.3333333333333333, \"#9c179e\"], [0.4444444444444444, \"#bd3786\"], [0.5555555555555556, \"#d8576b\"], [0.6666666666666666, \"#ed7953\"], [0.7777777777777778, \"#fb9f3a\"], [0.8888888888888888, \"#fdca26\"], [1.0, \"#f0f921\"]], \"type\": \"heatmapgl\"}], \"histogram\": [{\"marker\": {\"colorbar\": {\"outlinewidth\": 0, \"ticks\": \"\"}}, \"type\": \"histogram\"}], \"histogram2d\": [{\"colorbar\": {\"outlinewidth\": 0, \"ticks\": \"\"}, \"colorscale\": [[0.0, \"#0d0887\"], [0.1111111111111111, \"#46039f\"], [0.2222222222222222, \"#7201a8\"], [0.3333333333333333, \"#9c179e\"], [0.4444444444444444, \"#bd3786\"], [0.5555555555555556, \"#d8576b\"], [0.6666666666666666, \"#ed7953\"], [0.7777777777777778, \"#fb9f3a\"], [0.8888888888888888, \"#fdca26\"], [1.0, \"#f0f921\"]], \"type\": \"histogram2d\"}], \"histogram2dcontour\": [{\"colorbar\": {\"outlinewidth\": 0, \"ticks\": \"\"}, \"colorscale\": [[0.0, \"#0d0887\"], [0.1111111111111111, \"#46039f\"], [0.2222222222222222, \"#7201a8\"], [0.3333333333333333, \"#9c179e\"], [0.4444444444444444, \"#bd3786\"], [0.5555555555555556, \"#d8576b\"], [0.6666666666666666, \"#ed7953\"], [0.7777777777777778, \"#fb9f3a\"], [0.8888888888888888, \"#fdca26\"], [1.0, \"#f0f921\"]], \"type\": \"histogram2dcontour\"}], \"mesh3d\": [{\"colorbar\": {\"outlinewidth\": 0, \"ticks\": \"\"}, \"type\": \"mesh3d\"}], \"parcoords\": [{\"line\": {\"colorbar\": {\"outlinewidth\": 0, \"ticks\": \"\"}}, \"type\": \"parcoords\"}], \"pie\": [{\"automargin\": true, \"type\": \"pie\"}], \"scatter\": [{\"marker\": {\"colorbar\": {\"outlinewidth\": 0, \"ticks\": \"\"}}, \"type\": \"scatter\"}], \"scatter3d\": [{\"line\": {\"colorbar\": {\"outlinewidth\": 0, \"ticks\": \"\"}}, \"marker\": {\"colorbar\": {\"outlinewidth\": 0, \"ticks\": \"\"}}, \"type\": \"scatter3d\"}], \"scattercarpet\": [{\"marker\": {\"colorbar\": {\"outlinewidth\": 0, \"ticks\": \"\"}}, \"type\": \"scattercarpet\"}], \"scattergeo\": [{\"marker\": {\"colorbar\": {\"outlinewidth\": 0, \"ticks\": \"\"}}, \"type\": \"scattergeo\"}], \"scattergl\": [{\"marker\": {\"colorbar\": {\"outlinewidth\": 0, \"ticks\": \"\"}}, \"type\": \"scattergl\"}], \"scattermapbox\": [{\"marker\": {\"colorbar\": {\"outlinewidth\": 0, \"ticks\": \"\"}}, \"type\": \"scattermapbox\"}], \"scatterpolar\": [{\"marker\": {\"colorbar\": {\"outlinewidth\": 0, \"ticks\": \"\"}}, \"type\": \"scatterpolar\"}], \"scatterpolargl\": [{\"marker\": {\"colorbar\": {\"outlinewidth\": 0, \"ticks\": \"\"}}, \"type\": \"scatterpolargl\"}], \"scatterternary\": [{\"marker\": {\"colorbar\": {\"outlinewidth\": 0, \"ticks\": \"\"}}, \"type\": \"scatterternary\"}], \"surface\": [{\"colorbar\": {\"outlinewidth\": 0, \"ticks\": \"\"}, \"colorscale\": [[0.0, \"#0d0887\"], [0.1111111111111111, \"#46039f\"], [0.2222222222222222, \"#7201a8\"], [0.3333333333333333, \"#9c179e\"], [0.4444444444444444, \"#bd3786\"], [0.5555555555555556, \"#d8576b\"], [0.6666666666666666, \"#ed7953\"], [0.7777777777777778, \"#fb9f3a\"], [0.8888888888888888, \"#fdca26\"], [1.0, \"#f0f921\"]], \"type\": \"surface\"}], \"table\": [{\"cells\": {\"fill\": {\"color\": \"#EBF0F8\"}, \"line\": {\"color\": \"white\"}}, \"header\": {\"fill\": {\"color\": \"#C8D4E3\"}, \"line\": {\"color\": \"white\"}}, \"type\": \"table\"}]}, \"layout\": {\"annotationdefaults\": {\"arrowcolor\": \"#2a3f5f\", \"arrowhead\": 0, \"arrowwidth\": 1}, \"coloraxis\": {\"colorbar\": {\"outlinewidth\": 0, \"ticks\": \"\"}}, \"colorscale\": {\"diverging\": [[0, \"#8e0152\"], [0.1, \"#c51b7d\"], [0.2, \"#de77ae\"], [0.3, \"#f1b6da\"], [0.4, \"#fde0ef\"], [0.5, \"#f7f7f7\"], [0.6, \"#e6f5d0\"], [0.7, \"#b8e186\"], [0.8, \"#7fbc41\"], [0.9, \"#4d9221\"], [1, \"#276419\"]], \"sequential\": [[0.0, \"#0d0887\"], [0.1111111111111111, \"#46039f\"], [0.2222222222222222, \"#7201a8\"], [0.3333333333333333, \"#9c179e\"], [0.4444444444444444, \"#bd3786\"], [0.5555555555555556, \"#d8576b\"], [0.6666666666666666, \"#ed7953\"], [0.7777777777777778, \"#fb9f3a\"], [0.8888888888888888, \"#fdca26\"], [1.0, \"#f0f921\"]], \"sequentialminus\": [[0.0, \"#0d0887\"], [0.1111111111111111, \"#46039f\"], [0.2222222222222222, \"#7201a8\"], [0.3333333333333333, \"#9c179e\"], [0.4444444444444444, \"#bd3786\"], [0.5555555555555556, \"#d8576b\"], [0.6666666666666666, \"#ed7953\"], [0.7777777777777778, \"#fb9f3a\"], [0.8888888888888888, \"#fdca26\"], [1.0, \"#f0f921\"]]}, \"colorway\": [\"#636efa\", \"#EF553B\", \"#00cc96\", \"#ab63fa\", \"#FFA15A\", \"#19d3f3\", \"#FF6692\", \"#B6E880\", \"#FF97FF\", \"#FECB52\"], \"font\": {\"color\": \"#2a3f5f\"}, \"geo\": {\"bgcolor\": \"white\", \"lakecolor\": \"white\", \"landcolor\": \"#E5ECF6\", \"showlakes\": true, \"showland\": true, \"subunitcolor\": \"white\"}, \"hoverlabel\": {\"align\": \"left\"}, \"hovermode\": \"closest\", \"mapbox\": {\"style\": \"light\"}, \"paper_bgcolor\": \"white\", \"plot_bgcolor\": \"#E5ECF6\", \"polar\": {\"angularaxis\": {\"gridcolor\": \"white\", \"linecolor\": \"white\", \"ticks\": \"\"}, \"bgcolor\": \"#E5ECF6\", \"radialaxis\": {\"gridcolor\": \"white\", \"linecolor\": \"white\", \"ticks\": \"\"}}, \"scene\": {\"xaxis\": {\"backgroundcolor\": \"#E5ECF6\", \"gridcolor\": \"white\", \"gridwidth\": 2, \"linecolor\": \"white\", \"showbackground\": true, \"ticks\": \"\", \"zerolinecolor\": \"white\"}, \"yaxis\": {\"backgroundcolor\": \"#E5ECF6\", \"gridcolor\": \"white\", \"gridwidth\": 2, \"linecolor\": \"white\", \"showbackground\": true, \"ticks\": \"\", \"zerolinecolor\": \"white\"}, \"zaxis\": {\"backgroundcolor\": \"#E5ECF6\", \"gridcolor\": \"white\", \"gridwidth\": 2, \"linecolor\": \"white\", \"showbackground\": true, \"ticks\": \"\", \"zerolinecolor\": \"white\"}}, \"shapedefaults\": {\"line\": {\"color\": \"#2a3f5f\"}}, \"ternary\": {\"aaxis\": {\"gridcolor\": \"white\", \"linecolor\": \"white\", \"ticks\": \"\"}, \"baxis\": {\"gridcolor\": \"white\", \"linecolor\": \"white\", \"ticks\": \"\"}, \"bgcolor\": \"#E5ECF6\", \"caxis\": {\"gridcolor\": \"white\", \"linecolor\": \"white\", \"ticks\": \"\"}}, \"title\": {\"x\": 0.05}, \"xaxis\": {\"automargin\": true, \"gridcolor\": \"white\", \"linecolor\": \"white\", \"ticks\": \"\", \"title\": {\"standoff\": 15}, \"zerolinecolor\": \"white\", \"zerolinewidth\": 2}, \"yaxis\": {\"automargin\": true, \"gridcolor\": \"white\", \"linecolor\": \"white\", \"ticks\": \"\", \"title\": {\"standoff\": 15}, \"zerolinecolor\": \"white\", \"zerolinewidth\": 2}}}, \"title\": {\"text\": \"Distribution of height\"}, \"xaxis\": {\"anchor\": \"y\", \"domain\": [0.0, 1.0], \"title\": {\"text\": \"height\"}}, \"yaxis\": {\"anchor\": \"x\", \"domain\": [0.0, 1.0], \"title\": {\"text\": \"count\"}}},\n",
              "                        {\"responsive\": true}\n",
              "                    ).then(function(){\n",
              "                            \n",
              "var gd = document.getElementById('26c9474a-2b22-4620-b52b-dc8c80a43adf');\n",
              "var x = new MutationObserver(function (mutations, observer) {{\n",
              "        var display = window.getComputedStyle(gd).display;\n",
              "        if (!display || display === 'none') {{\n",
              "            console.log([gd, 'removed!']);\n",
              "            Plotly.purge(gd);\n",
              "            observer.disconnect();\n",
              "        }}\n",
              "}});\n",
              "\n",
              "// Listen for the removal of the full notebook cells\n",
              "var notebookContainer = gd.closest('#notebook-container');\n",
              "if (notebookContainer) {{\n",
              "    x.observe(notebookContainer, {childList: true});\n",
              "}}\n",
              "\n",
              "// Listen for the clearing of the current output cell\n",
              "var outputEl = gd.closest('.output');\n",
              "if (outputEl) {{\n",
              "    x.observe(outputEl, {childList: true});\n",
              "}}\n",
              "\n",
              "                        })\n",
              "                };\n",
              "                \n",
              "            </script>\n",
              "        </div>\n",
              "</body>\n",
              "</html>"
            ]
          },
          "metadata": {}
        }
      ]
    },
    {
      "cell_type": "markdown",
      "source": [
        "##### After closly observing the distribution of the height data, which is nearly normal distributed. The zero height records can be replaced with mean of the height columns"
      ],
      "metadata": {
        "id": "jlfaKCNt-OMH"
      }
    },
    {
      "cell_type": "code",
      "source": [
        "df['height'][df['height'] == 0]=df.height.mean() # Replacing zero height with mean of height"
      ],
      "metadata": {
        "colab": {
          "base_uri": "https://localhost:8080/"
        },
        "id": "O64WQE75-nmE",
        "outputId": "f82e414e-c80e-4d4b-a34e-fc775140cc5a"
      },
      "execution_count": 11,
      "outputs": [
        {
          "output_type": "stream",
          "name": "stderr",
          "text": [
            "/usr/local/lib/python3.7/dist-packages/ipykernel_launcher.py:1: SettingWithCopyWarning:\n",
            "\n",
            "\n",
            "A value is trying to be set on a copy of a slice from a DataFrame\n",
            "\n",
            "See the caveats in the documentation: https://pandas.pydata.org/pandas-docs/stable/user_guide/indexing.html#returning-a-view-versus-a-copy\n",
            "\n"
          ]
        }
      ]
    },
    {
      "cell_type": "markdown",
      "source": [
        "# Univaraite Analysis"
      ],
      "metadata": {
        "id": "Ziv9K8MkEw73"
      }
    },
    {
      "cell_type": "code",
      "source": [
        "# pie chart of workers\n",
        "labels = ['Male', 'Female', 'Infant']\n",
        "sizes = df.sex.value_counts().tolist()\n",
        "fig1, ax1 = plt.subplots()\n",
        "ax1.pie(sizes, labels=labels, autopct='%1.1f%%', shadow=True)\n",
        "ax1.axis('equal')\n",
        "plt.title(\"Distribution of males, females and infants\")\n",
        "plt.show()"
      ],
      "metadata": {
        "colab": {
          "base_uri": "https://localhost:8080/",
          "height": 264
        },
        "id": "pdItEjJTBoV-",
        "outputId": "5e038bbb-0909-4db8-f2cf-69f89c823548"
      },
      "execution_count": 12,
      "outputs": [
        {
          "output_type": "display_data",
          "data": {
            "image/png": "[encoded data removed]",
            "text/plain": [
              "<Figure size 432x288 with 1 Axes>"
            ]
          },
          "metadata": {}
        }
      ]
    },
    {
      "cell_type": "markdown",
      "source": [
        "It is observed that the count of males, females and infants are almost equal, there is no clear domination of a specific gender types in the data"
      ],
      "metadata": {
        "id": "kLmz2gsvHZ2N"
      }
    },
    {
      "cell_type": "code",
      "source": [
        "\n",
        "fig = make_subplots(rows=1, cols=2, subplot_titles=('Distribution for Height', \"Whiscker plot for  height\"))\n",
        "fig.add_trace(go.Histogram(x=df['height']), row=1, col=1)\n",
        "fig.add_trace(\n",
        "    go.Violin(y=df['height'], box_visible=True, line_color='black',\n",
        "                               meanline_visible=True, fillcolor='lightseagreen', opacity=0.6,\n",
        "                               x0='Height')\n",
        "    \n",
        "    , row=1, col=2)\n",
        "\n",
        "fig.show()\n"
      ],
      "metadata": {
        "id": "tFkeYLwoG3Wf",
        "colab": {
          "base_uri": "https://localhost:8080/",
          "height": 542
        },
        "outputId": "f0256e4b-93d1-47c4-854b-f95f160a0534"
      },
      "execution_count": 13,
      "outputs": [
        {
          "output_type": "display_data",
          "data": {
            "text/html": [
              "<html>\n",
              "<head><meta charset=\"utf-8\" /></head>\n",
              "<body>\n",
              "    <div>\n",
              "            <script src=\"https://cdnjs.cloudflare.com/ajax/libs/mathjax/2.7.5/MathJax.js?config=TeX-AMS-MML_SVG\"></script><script type=\"text/javascript\">if (window.MathJax) {MathJax.Hub.Config({SVG: {font: \"STIX-Web\"}});}</script>\n",
              "                <script type=\"text/javascript\">window.PlotlyConfig = {MathJaxConfig: 'local'};</script>\n",
              "        <script src=\"https://cdn.plot.ly/plotly-latest.min.js\"></script>    \n",
              "            <div id=\"437b741f-4207-4022-a0f4-95d3045daa5c\" class=\"plotly-graph-div\" style=\"height:525px; width:100%;\"></div>\n",
              "            <script type=\"text/javascript\">\n",
              "                \n",
              "                    window.PLOTLYENV=window.PLOTLYENV || {};\n",
              "                    \n",
              "                if (document.getElementById(\"437b741f-4207-4022-a0f4-95d3045daa5c\")) {\n",
              "                    Plotly.newPlot(\n",
              "                        '437b741f-4207-4022-a0f4-95d3045daa5c',\n",
              "                        [{\"type\": \"histogram\", \"x\": [0.095, 0.09, 0.135, 0.125, 0.08, 0.095, 0.15, 0.125, 0.125, 0.15, 0.14, 0.11, 0.135, 0.145, 0.1, 0.13, 0.085, 0.1, 0.08, 0.1, 0.095, 0.1, 0.155, 0.135, 0.165, 0.14, 0.185, 0.14, 0.18, 0.14, 0.165, 0.165, 0.165, 0.175, 0.2, 0.105, 0.155, 0.105, 0.135, 0.09, 0.105, 0.135, 0.045, 0.055, 0.05, 0.095, 0.12, 0.12, 0.07, 0.16, 0.12, 0.095, 0.13, 0.12, 0.1, 0.14, 0.12, 0.135, 0.06, 0.125, 0.105, 0.11, 0.13, 0.095, 0.12, 0.12, 0.16, 0.185, 0.12, 0.07, 0.13, 0.11, 0.17, 0.175, 0.195, 0.15, 0.14, 0.15, 0.14, 0.17, 0.14, 0.175, 0.165, 0.16, 0.14, 0.18, 0.14, 0.16, 0.13, 0.16, 0.135, 0.15, 0.175, 0.165, 0.19, 0.195, 0.15, 0.13, 0.13, 0.125, 0.095, 0.145, 0.16, 0.14, 0.16, 0.155, 0.165, 0.125, 0.135, 0.105, 0.125, 0.105, 0.08, 0.105, 0.125, 0.115, 0.135, 0.105, 0.15, 0.085, 0.105, 0.085, 0.14, 0.075, 0.08, 0.06, 0.09, 0.085, 0.16, 0.165, 0.165, 0.125, 0.09, 0.095, 0.065, 0.115, 0.08, 0.09, 0.11, 0.095, 0.155, 0.145, 0.19, 0.155, 0.13, 0.125, 0.12, 0.08, 0.055, 0.095, 0.145, 0.185, 0.19, 0.16, 0.135, 0.13, 0.19, 0.215, 0.17, 0.165, 0.165, 0.16, 0.175, 0.21, 0.23, 0.19, 0.175, 0.205, 0.22, 0.175, 0.215, 0.145, 0.155, 0.115, 0.04, 0.09, 0.06, 0.085, 0.045, 0.15, 0.18, 0.175, 0.16, 0.175, 0.2, 0.19, 0.15, 0.185, 0.16, 0.17, 0.18, 0.17, 0.15, 0.085, 0.14, 0.155, 0.15, 0.185, 0.16, 0.185, 0.12, 0.165, 0.145, 0.17, 0.115, 0.14, 0.11, 0.11, 0.17, 0.095, 0.145, 0.09, 0.105, 0.14, 0.16, 0.14, 0.13, 0.12, 0.135, 0.13, 0.125, 0.145, 0.15, 0.15, 0.105, 0.135, 0.125, 0.085, 0.165, 0.16, 0.135, 0.175, 0.215, 0.075, 0.135, 0.08, 0.01, 0.03, 0.03, 0.035, 0.16, 0.07, 0.065, 0.08, 0.085, 0.085, 0.08, 0.085, 0.075, 0.11, 0.105, 0.18, 0.155, 0.185, 0.165, 0.175, 0.185, 0.16, 0.17, 0.16, 0.155, 0.125, 0.165, 0.06, 0.08, 0.13, 0.15, 0.11, 0.15, 0.125, 0.215, 0.2, 0.205, 0.225, 0.155, 0.215, 0.185, 0.24, 0.205, 0.135, 0.185, 0.105, 0.12, 0.14, 0.175, 0.17, 0.155, 0.155, 0.125, 0.16, 0.18, 0.21, 0.165, 0.175, 0.195, 0.085, 0.075, 0.085, 0.14, 0.105, 0.095, 0.175, 0.1, 0.1, 0.13, 0.06, 0.03, 0.24, 0.125, 0.145, 0.19, 0.14, 0.195, 0.2, 0.175, 0.11, 0.19, 0.1, 0.155, 0.095, 0.06, 0.04, 0.1, 0.07, 0.105, 0.09, 0.1, 0.13, 0.105, 0.09, 0.155, 0.12, 0.08, 0.04, 0.195, 0.19, 0.19, 0.185, 0.185, 0.195, 0.145, 0.205, 0.185, 0.18, 0.155, 0.14, 0.16, 0.08, 0.115, 0.15, 0.185, 0.17, 0.14, 0.17, 0.17, 0.205, 0.185, 0.19, 0.215, 0.18, 0.18, 0.15, 0.175, 0.15, 0.175, 0.16, 0.145, 0.12, 0.18, 0.215, 0.165, 0.195, 0.2, 0.17, 0.15, 0.195, 0.19, 0.16, 0.175, 0.185, 0.18, 0.145, 0.135, 0.12, 0.135, 0.105, 0.155, 0.135, 0.125, 0.12, 0.1, 0.125, 0.125, 0.095, 0.095, 0.1, 0.14, 0.145, 0.15, 0.15, 0.12, 0.135, 0.11, 0.14, 0.12, 0.15, 0.115, 0.12, 0.145, 0.095, 0.165, 0.12, 0.12, 0.12, 0.17, 0.14, 0.17, 0.165, 0.155, 0.14, 0.165, 0.12, 0.135, 0.07, 0.07, 0.175, 0.165, 0.16, 0.125, 0.17, 0.175, 0.155, 0.17, 0.14, 0.1, 0.15, 0.095, 0.095, 0.09, 0.165, 0.11, 0.1, 0.14, 0.1, 0.105, 0.19, 0.185, 0.185, 0.175, 0.15, 0.215, 0.16, 0.195, 0.155, 0.175, 0.14, 0.175, 0.105, 0.11, 0.135, 0.1, 0.17, 0.07, 0.055, 0.07, 0.05, 0.19, 0.195, 0.21, 0.2, 0.135, 0.12, 0.12, 0.12, 0.16, 0.175, 0.115, 0.175, 0.225, 0.185, 0.185, 0.155, 0.125, 0.15, 0.145, 0.14, 0.13, 0.15, 0.135, 0.165, 0.145, 0.13, 0.155, 0.175, 0.195, 0.15, 0.175, 0.165, 0.155, 0.175, 0.18, 0.225, 0.225, 0.19, 0.19, 0.175, 0.235, 0.225, 0.18, 0.155, 0.185, 0.14, 0.145, 0.085, 0.07, 0.08, 0.115, 0.08, 0.09, 0.09, 0.05, 0.09, 0.115, 0.055, 0.06, 0.04, 0.04, 0.155, 0.16, 0.095, 0.185, 0.13, 0.12, 0.11, 0.14, 0.13, 0.14, 0.075, 0.07, 0.115, 0.14, 0.115, 0.115, 0.115, 0.105, 0.075, 0.065, 0.045, 0.16, 0.18, 0.16, 0.155, 0.165, 0.12, 0.125, 0.15, 0.15, 0.165, 0.17, 0.145, 0.105, 0.12, 0.115, 0.15, 0.13, 0.065, 0.13, 0.125, 0.08, 0.115, 0.14, 0.135, 0.155, 0.14, 0.15, 0.14, 0.14, 0.175, 0.15, 0.175, 0.175, 0.15, 0.19, 0.14, 0.1, 0.125, 0.17, 0.145, 0.14, 0.12, 0.15, 0.115, 0.175, 0.18, 0.15, 0.18, 0.14, 0.14, 0.145, 0.195, 0.145, 0.11, 0.1, 0.115, 0.14, 0.125, 0.09, 0.13, 0.1, 0.09, 0.17, 0.05, 0.075, 0.125, 0.145, 0.135, 0.14, 0.085, 0.075, 0.055, 0.08, 0.14, 0.115, 0.105, 0.105, 0.16, 0.095, 0.095, 0.145, 0.085, 0.115, 0.12, 0.125, 0.13, 0.1, 0.09, 0.1, 0.085, 0.12, 0.13, 0.085, 0.18, 0.16, 0.095, 0.13, 0.12, 0.075, 0.145, 0.12, 0.125, 0.065, 0.09, 0.13, 0.08, 0.11, 0.075, 0.165, 0.17, 0.195, 0.185, 0.18, 0.17, 0.13, 0.105, 0.12, 0.095, 0.12, 0.15, 0.155, 0.145, 0.145, 0.155, 0.165, 0.15, 0.15, 0.18, 0.145, 0.115, 0.165, 0.1, 0.1, 0.14, 0.115, 0.185, 0.14, 0.185, 0.15, 0.125, 0.17, 0.15, 0.15, 0.075, 0.115, 0.12, 0.02, 0.09, 0.05, 0.1, 0.12, 0.105, 0.105, 0.135, 0.105, 0.115, 0.125, 0.14, 0.09, 0.09, 0.13, 0.09, 0.08, 0.1, 0.055, 0.085, 0.08, 0.065, 0.07, 0.06, 0.035, 0.025, 0.025, 0.16, 0.15, 0.13, 0.08, 0.11, 0.085, 0.105, 0.125, 0.12, 0.13, 0.13, 0.12, 0.13, 0.12, 0.125, 0.115, 0.125, 0.135, 0.09, 0.205, 0.09, 0.15, 0.14, 0.13, 0.13, 0.2, 0.14, 0.13, 0.175, 0.105, 0.12, 0.17, 0.165, 0.175, 0.185, 0.155, 0.19, 0.155, 0.12, 0.15, 0.155, 0.135, 0.19, 0.145, 0.15, 0.13, 0.095, 0.155, 0.17, 0.165, 0.14, 0.115, 0.135, 0.14, 0.165, 0.145, 0.14, 0.14, 0.145, 0.165, 0.15, 0.145, 0.125, 0.06, 0.175, 0.13, 0.135, 0.16, 0.165, 0.16, 0.135, 0.18, 0.165, 0.16, 0.145, 0.155, 0.11, 0.16, 0.11, 0.135, 0.125, 0.13, 0.1, 0.135, 0.12, 0.07, 0.125, 0.13, 0.115, 0.14, 0.13, 0.055, 0.06, 0.085, 0.08, 0.08, 0.09, 0.07, 0.085, 0.135, 0.14, 0.095, 0.095, 0.1, 0.095, 0.095, 0.1, 0.1, 0.11, 0.1, 0.1, 0.115, 0.1, 0.1, 0.13, 0.12, 0.125, 0.135, 0.105, 0.125, 0.125, 0.125, 0.14, 0.13, 0.125, 0.14, 0.135, 0.125, 0.15, 0.15, 0.145, 0.155, 0.15, 0.13, 0.14, 0.165, 0.13, 0.15, 0.16, 0.16, 0.14, 0.175, 0.155, 0.175, 0.175, 0.16, 0.175, 0.15, 0.15, 0.165, 0.16, 0.165, 0.155, 0.2, 0.165, 0.17, 0.15, 0.165, 0.165, 0.175, 0.165, 0.205, 0.17, 0.19, 0.16, 0.17, 0.155, 0.195, 0.16, 0.22, 0.23, 0.05, 0.055, 0.065, 0.05, 0.055, 0.06, 0.075, 0.08, 0.08, 0.095, 0.07, 0.075, 0.07, 0.09, 0.075, 0.085, 0.075, 0.075, 0.075, 0.07, 0.1, 0.095, 0.095, 0.09, 0.08, 0.09, 0.09, 0.09, 0.09, 0.115, 0.1, 0.1, 0.1, 0.1, 0.09, 0.12, 0.115, 0.13, 0.09, 0.11, 0.13, 0.13, 0.105, 0.11, 0.105, 0.125, 0.12, 0.1, 0.105, 0.115, 0.115, 0.11, 0.125, 0.12, 0.12, 0.125, 0.12, 0.115, 0.145, 0.1, 0.12, 0.115, 0.125, 0.135, 0.135, 0.135, 0.12, 0.135, 0.125, 0.13, 0.15, 0.125, 0.125, 0.135, 0.1, 0.135, 0.15, 0.145, 0.14, 0.155, 0.14, 0.14, 0.13, 0.15, 0.125, 0.135, 0.14, 0.14, 0.155, 0.14, 0.16, 0.13, 0.155, 0.155, 0.15, 0.14, 0.17, 0.16, 0.16, 0.15, 0.18, 0.15, 0.145, 0.13, 0.155, 0.16, 0.145, 0.155, 0.15, 0.165, 0.14, 0.15, 0.15, 0.155, 0.165, 0.15, 0.155, 0.16, 0.18, 0.17, 0.175, 0.175, 0.165, 0.2, 0.155, 0.165, 0.15, 0.175, 0.185, 0.155, 0.17, 0.175, 0.155, 0.175, 0.175, 0.165, 0.175, 0.16, 0.15, 0.16, 0.21, 0.185, 0.16, 0.175, 0.185, 0.19, 0.195, 0.18, 0.165, 0.225, 0.195, 0.185, 0.175, 0.2, 0.175, 0.18, 0.205, 0.175, 0.185, 0.22, 0.22, 0.045, 0.045, 0.04, 0.04, 0.055, 0.065, 0.065, 0.055, 0.065, 0.085, 0.065, 0.08, 0.055, 0.085, 0.08, 0.1, 0.08, 0.1, 0.08, 0.095, 0.11, 0.1, 0.1, 0.105, 0.11, 0.095, 0.115, 0.12, 0.11, 0.115, 0.11, 0.105, 0.145, 0.11, 0.125, 0.12, 0.105, 0.1, 0.11, 0.115, 0.105, 0.125, 0.11, 0.1, 0.125, 0.125, 0.14, 0.12, 0.125, 0.125, 0.125, 0.125, 0.125, 0.125, 0.115, 0.125, 0.145, 0.135, 0.125, 0.15, 0.13, 0.14, 0.12, 0.12, 0.125, 0.125, 0.14, 0.135, 0.12, 0.14, 0.135, 0.15, 0.15, 0.145, 0.16, 0.155, 0.145, 0.15, 0.15, 0.175, 0.15, 0.145, 0.15, 0.145, 0.16, 0.14, 0.165, 0.135, 0.13, 0.17, 0.145, 0.15, 0.195, 0.135, 0.14, 0.145, 0.155, 0.145, 0.16, 0.15, 0.16, 0.17, 0.15, 0.155, 0.165, 0.14, 0.17, 0.165, 0.16, 0.145, 0.165, 0.17, 0.15, 0.155, 0.135, 0.2, 0.16, 0.175, 0.185, 0.155, 0.175, 0.015, 0.165, 0.195, 0.17, 0.19, 0.155, 0.16, 0.175, 0.185, 0.16, 0.17, 0.205, 0.215, 0.165, 0.155, 0.21, 0.17, 0.185, 0.18, 0.19, 0.19, 0.17, 0.18, 0.19, 0.19, 0.195, 0.2, 0.145, 0.185, 0.185, 0.185, 0.215, 0.21, 0.21, 0.205, 0.215, 0.12, 0.06, 0.065, 0.065, 0.09, 0.065, 0.07, 0.08, 0.07, 0.075, 0.095, 0.095, 0.09, 0.09, 0.095, 0.085, 0.075, 0.09, 0.085, 0.085, 0.085, 0.085, 0.09, 0.085, 0.095, 0.085, 0.09, 0.095, 0.08, 0.085, 0.11, 0.08, 0.09, 0.085, 0.095, 0.09, 0.095, 0.105, 0.095, 0.1, 0.1, 0.09, 0.11, 0.09, 0.11, 0.1, 0.09, 0.1395163993296614, 0.095, 0.11, 0.12, 0.105, 0.105, 0.115, 0.1, 0.105, 0.105, 0.125, 0.11, 0.1, 0.18, 0.12, 0.1, 0.12, 0.11, 0.125, 0.115, 0.1, 0.12, 0.13, 0.12, 0.135, 0.135, 0.145, 0.14, 0.125, 0.14, 0.13, 0.12, 0.105, 0.12, 0.135, 0.135, 0.13, 0.125, 0.125, 0.155, 0.13, 0.155, 0.11, 0.13, 0.135, 0.15, 0.13, 0.15, 0.145, 0.14, 0.135, 0.15, 0.15, 0.135, 0.145, 0.125, 0.15, 0.14, 0.135, 0.14, 0.155, 0.14, 0.145, 0.135, 0.145, 0.155, 0.145, 0.175, 0.145, 0.15, 0.125, 0.145, 0.135, 0.135, 0.17, 0.13, 0.125, 0.135, 0.165, 0.155, 0.155, 0.135, 0.15, 0.155, 0.185, 0.16, 0.165, 0.165, 0.15, 0.18, 0.135, 0.18, 0.155, 0.15, 0.155, 0.17, 0.155, 0.15, 0.155, 0.145, 0.155, 0.15, 0.14, 0.13, 0.175, 0.16, 0.15, 0.165, 0.17, 0.15, 0.17, 0.16, 0.155, 0.165, 0.17, 0.165, 0.17, 0.175, 0.155, 0.175, 0.18, 0.15, 0.16, 0.17, 0.175, 0.16, 0.155, 0.17, 0.18, 0.145, 0.145, 0.16, 0.16, 0.165, 0.175, 0.17, 0.155, 0.23, 0.18, 0.16, 0.195, 0.16, 0.165, 0.22, 0.175, 0.19, 0.17, 0.19, 0.205, 0.19, 0.175, 0.21, 0.17, 0.18, 0.225, 0.175, 0.185, 0.205, 0.19, 0.13, 0.515, 0.215, 0.18, 0.17, 0.17, 0.215, 0.2, 0.19, 0.205, 0.215, 0.235, 0.25, 0.035, 0.06, 0.135, 0.08, 0.095, 0.085, 0.09, 0.09, 0.11, 0.09, 0.095, 0.09, 0.105, 0.095, 0.115, 0.105, 0.105, 0.105, 0.12, 0.11, 0.125, 0.135, 0.11, 0.14, 0.125, 0.12, 0.125, 0.115, 0.115, 0.125, 0.12, 0.085, 0.13, 0.12, 0.105, 0.135, 0.125, 0.145, 0.125, 0.125, 0.14, 0.13, 0.125, 0.14, 0.14, 0.16, 0.15, 0.15, 0.15, 0.15, 0.165, 0.175, 0.14, 0.15, 0.15, 0.15, 0.145, 0.16, 0.155, 0.2, 0.165, 0.16, 0.17, 0.17, 0.13, 0.155, 0.155, 0.165, 0.175, 0.18, 0.145, 0.175, 0.15, 0.15, 0.225, 0.145, 0.185, 0.205, 0.175, 0.155, 0.165, 0.175, 0.175, 0.16, 0.14, 0.215, 0.215, 0.165, 0.18, 0.2, 0.175, 0.19, 0.185, 0.17, 0.2, 0.17, 0.2, 0.165, 0.2, 0.24, 0.18, 0.18, 0.045, 0.055, 0.07, 0.085, 0.09, 0.08, 0.075, 0.075, 0.09, 0.095, 0.075, 0.075, 0.085, 0.095, 0.08, 0.095, 0.1, 0.09, 0.095, 0.09, 0.09, 0.1, 0.1, 0.09, 0.09, 0.1, 0.11, 0.08, 0.1, 0.11, 0.095, 0.11, 0.115, 0.11, 0.11, 0.12, 0.11, 0.125, 0.145, 0.1, 0.125, 0.125, 0.12, 0.16, 0.13, 0.115, 0.135, 0.125, 0.105, 0.12, 0.12, 0.14, 0.13, 0.11, 0.125, 0.105, 0.125, 0.125, 0.145, 0.13, 0.145, 0.12, 0.135, 0.14, 0.155, 0.12, 0.135, 0.145, 0.13, 0.13, 0.17, 0.14, 0.14, 0.14, 0.14, 0.13, 0.135, 0.13, 0.12, 0.125, 0.14, 0.15, 0.135, 0.145, 0.15, 0.13, 0.14, 0.145, 0.15, 0.13, 0.135, 0.155, 0.15, 0.125, 0.15, 0.135, 0.14, 0.17, 0.145, 0.155, 0.145, 0.165, 0.135, 0.155, 0.125, 0.185, 0.195, 0.17, 0.135, 0.15, 0.16, 0.16, 0.15, 0.155, 0.13, 0.125, 0.14, 0.165, 0.145, 0.145, 0.15, 0.14, 0.145, 0.15, 0.155, 0.15, 0.165, 0.17, 0.18, 0.165, 0.16, 0.145, 0.145, 0.145, 0.14, 0.155, 0.18, 0.155, 0.16, 0.15, 0.16, 0.16, 0.125, 0.17, 0.18, 0.16, 0.175, 0.18, 0.155, 0.175, 0.165, 0.16, 0.18, 0.14, 0.135, 0.15, 0.175, 0.165, 0.16, 0.17, 0.155, 0.175, 0.15, 0.17, 0.18, 0.17, 0.165, 0.175, 0.165, 0.17, 0.175, 0.17, 0.165, 0.18, 0.185, 0.15, 0.175, 0.19, 0.19, 0.195, 0.16, 0.16, 0.175, 0.19, 0.15, 0.19, 0.155, 0.19, 0.185, 0.16, 0.18, 0.15, 0.19, 0.195, 0.165, 0.175, 0.195, 0.165, 0.175, 0.16, 0.16, 0.175, 0.175, 0.16, 0.165, 0.19, 0.155, 0.195, 0.16, 0.195, 0.195, 0.2, 0.15, 0.175, 0.2, 0.175, 0.175, 0.17, 0.215, 0.195, 0.205, 0.22, 0.2, 0.205, 0.18, 0.21, 0.19, 0.215, 0.205, 0.215, 0.205, 0.195, 0.25, 0.09, 0.1, 0.135, 0.125, 0.12, 0.12, 0.105, 0.135, 0.11, 0.14, 0.115, 0.105, 0.155, 0.16, 0.16, 0.15, 0.155, 0.135, 0.17, 0.125, 0.14, 0.135, 0.18, 0.165, 0.2, 0.15, 0.165, 0.16, 0.175, 0.185, 0.13, 0.17, 0.145, 0.15, 0.175, 0.165, 0.175, 0.15, 0.15, 0.145, 0.145, 0.175, 0.185, 0.195, 0.15, 0.14, 0.16, 0.19, 0.16, 0.2, 0.19, 0.185, 0.175, 0.175, 0.185, 0.19, 0.18, 0.195, 0.18, 0.21, 0.04, 0.055, 0.075, 0.085, 0.08, 0.085, 0.085, 0.075, 0.105, 0.09, 0.095, 0.105, 0.09, 0.1, 0.095, 0.1, 0.1, 0.1, 0.11, 0.105, 0.12, 0.11, 0.11, 0.12, 0.105, 0.13, 0.12, 0.115, 0.135, 0.145, 0.14, 0.11, 0.13, 0.145, 0.12, 0.135, 0.15, 0.11, 0.11, 0.14, 0.125, 0.115, 0.115, 0.12, 0.145, 0.145, 0.14, 0.16, 0.13, 0.12, 0.14, 0.16, 0.135, 0.125, 0.14, 0.14, 0.14, 0.13, 0.14, 0.125, 0.13, 0.175, 0.135, 0.165, 0.125, 0.125, 0.155, 0.145, 0.16, 0.155, 0.155, 0.155, 0.175, 0.13, 0.12, 0.13, 0.155, 0.135, 0.155, 0.145, 0.175, 0.135, 0.135, 0.155, 0.145, 0.195, 0.165, 0.15, 0.145, 0.16, 0.15, 0.135, 0.17, 0.15, 0.16, 0.165, 0.145, 0.18, 0.14, 0.145, 0.155, 0.165, 0.145, 0.15, 0.16, 0.2, 0.16, 0.15, 0.17, 0.195, 0.15, 0.155, 0.155, 0.17, 0.185, 0.16, 0.18, 0.145, 0.155, 0.165, 0.165, 0.155, 0.16, 0.165, 0.165, 0.165, 0.145, 0.165, 0.135, 0.155, 0.185, 0.18, 0.175, 0.21, 0.15, 0.155, 0.185, 0.18, 0.175, 0.17, 0.205, 0.175, 0.15, 0.2, 0.18, 0.205, 0.15, 0.185, 0.19, 0.155, 0.155, 0.18, 0.185, 0.205, 0.175, 0.195, 0.22, 0.18, 0.19, 0.205, 0.195, 0.215, 0.04, 0.025, 0.055, 0.075, 0.065, 0.06, 0.07, 0.06, 0.065, 0.07, 0.07, 0.08, 0.08, 0.07, 0.105, 0.085, 0.085, 0.08, 0.085, 0.095, 0.09, 0.11, 0.095, 0.11, 0.12, 0.105, 0.11, 0.135, 0.105, 0.12, 0.12, 0.135, 0.115, 0.135, 0.14, 0.13, 0.15, 0.13, 0.14, 0.15, 0.16, 0.145, 0.15, 0.16, 0.165, 0.14, 0.14, 0.16, 0.18, 0.195, 0.06, 0.065, 0.08, 0.07, 0.085, 0.07, 0.1, 0.1, 0.16, 0.09, 0.12, 0.115, 0.115, 0.12, 0.13, 1.13, 0.12, 0.11, 0.11, 0.09, 0.14, 0.135, 0.135, 0.11, 0.135, 0.14, 0.13, 0.1, 0.125, 0.13, 0.14, 0.13, 0.16, 0.13, 0.115, 0.135, 0.12, 0.15, 0.15, 0.15, 0.19, 0.14, 0.165, 0.16, 0.15, 0.14, 0.21, 0.2, 0.195, 0.185, 0.15, 0.22, 0.215, 0.18, 0.22, 0.115, 0.13, 0.115, 0.09, 0.1, 0.145, 0.08, 0.1, 0.115, 0.1, 0.155, 0.11, 0.1, 0.125, 0.185, 0.155, 0.18, 0.225, 0.17, 0.055, 0.08, 0.13, 0.09, 0.035, 0.045, 0.05, 0.08, 0.12, 0.125, 0.1, 0.11, 0.12, 0.075, 0.095, 0.115, 0.125, 0.1, 0.175, 0.15, 0.14, 0.08, 0.125, 0.11, 0.115, 0.1, 0.125, 0.175, 0.18, 0.205, 0.125, 0.075, 0.11, 0.105, 0.105, 0.115, 0.12, 0.135, 0.09, 0.07, 0.11, 0.19, 0.115, 0.075, 0.135, 0.165, 0.165, 0.175, 0.195, 0.2, 0.2, 0.24, 0.195, 0.15, 0.09, 0.16, 0.085, 0.085, 0.085, 0.015, 0.075, 0.03, 0.03, 0.125, 0.17, 0.185, 0.17, 0.235, 0.2, 0.25, 0.165, 0.165, 0.16, 0.155, 0.08, 0.12, 0.125, 0.135, 0.135, 0.14, 0.165, 0.185, 0.165, 0.055, 0.11, 0.08, 0.09, 0.105, 0.08, 0.2, 0.195, 0.215, 0.16, 0.19, 0.105, 0.08, 0.075, 0.115, 0.215, 0.18, 0.2, 0.195, 0.235, 0.23, 0.12, 0.14, 0.08, 0.13, 0.15, 0.145, 0.145, 0.175, 0.195, 0.18, 0.145, 0.155, 0.11, 0.075, 0.175, 0.095, 0.165, 0.165, 0.18, 0.17, 0.165, 0.175, 0.185, 0.19, 0.11, 0.115, 0.125, 0.12, 0.135, 0.13, 0.1, 0.14, 0.11, 0.12, 0.09, 0.165, 0.2, 0.175, 0.17, 0.2, 0.18, 0.145, 0.135, 0.165, 0.115, 0.16, 0.175, 0.16, 0.16, 0.15, 0.16, 0.215, 0.175, 0.175, 0.175, 0.16, 0.18, 0.17, 0.21, 0.15, 0.2, 0.185, 0.23, 0.18, 0.13, 0.135, 0.13, 0.14, 0.13, 0.12, 0.105, 0.1, 0.15, 0.105, 0.09, 0.155, 0.1, 0.12, 0.09, 0.09, 0.12, 0.145, 0.135, 0.12, 0.1, 0.125, 0.13, 0.15, 0.13, 0.12, 0.135, 0.135, 0.165, 0.135, 0.13, 0.13, 0.11, 0.11, 0.07, 0.145, 0.135, 0.15, 0.155, 0.14, 0.135, 0.145, 0.1, 0.135, 0.135, 0.105, 0.19, 0.105, 0.115, 0.135, 0.145, 0.145, 0.115, 0.155, 0.135, 0.22, 0.195, 0.15, 0.175, 0.165, 0.195, 0.2, 0.17, 0.09, 0.07, 0.055, 0.17, 0.195, 0.125, 0.13, 0.165, 0.105, 0.17, 0.16, 0.19, 0.175, 0.15, 0.135, 0.15, 0.125, 0.21, 0.2, 0.175, 0.155, 0.205, 0.195, 0.2, 0.165, 0.23, 0.16, 0.225, 0.17, 0.115, 0.05, 0.11, 0.15, 0.11, 0.09, 0.11, 0.155, 0.115, 0.09, 0.04, 0.025, 0.15, 0.135, 0.105, 0.115, 0.14, 0.135, 0.14, 0.125, 0.125, 0.09, 0.09, 0.09, 0.16, 0.17, 0.155, 0.19, 0.155, 0.17, 0.1, 0.155, 0.165, 0.08, 0.17, 0.145, 0.185, 0.175, 0.17, 0.15, 0.115, 0.12, 0.095, 0.145, 0.11, 0.105, 0.125, 0.06, 0.13, 0.12, 0.085, 0.16, 0.13, 0.11, 0.065, 0.17, 0.155, 0.075, 0.125, 0.095, 0.14, 0.18, 0.165, 0.18, 0.18, 0.135, 0.16, 0.095, 0.17, 0.1, 0.125, 0.17, 0.125, 0.14, 0.14, 0.135, 0.17, 0.08, 0.09, 0.105, 0.125, 0.09, 0.105, 0.08, 0.065, 0.065, 0.06, 0.065, 0.05, 0.17, 0.14, 0.13, 0.08, 0.14, 0.14, 0.13, 0.12, 0.14, 0.08, 0.13, 0.17, 0.175, 0.175, 0.175, 0.145, 0.165, 0.155, 0.155, 0.18, 0.155, 0.145, 0.095, 0.165, 0.175, 0.135, 0.09, 0.145, 0.185, 0.145, 0.135, 0.115, 0.165, 0.145, 0.1, 0.13, 0.16, 0.13, 0.155, 0.14, 0.145, 0.125, 0.08, 0.07, 0.075, 0.105, 0.075, 0.075, 0.1, 0.105, 0.09, 0.1, 0.105, 0.11, 0.135, 0.11, 0.12, 0.12, 0.135, 0.13, 0.185, 0.19, 0.12, 0.15, 0.15, 0.18, 0.16, 0.16, 0.185, 0.135, 0.155, 0.165, 0.175, 0.155, 0.185, 0.195, 0.18, 0.165, 0.215, 0.2, 0.205, 0.175, 0.18, 0.2, 0.19, 0.165, 0.065, 0.07, 0.05, 0.07, 0.055, 0.08, 0.07, 0.075, 0.07, 0.07, 0.08, 0.085, 0.1, 0.065, 0.1, 0.11, 0.115, 0.1, 0.12, 0.125, 0.12, 0.12, 0.115, 0.12, 0.115, 0.11, 0.105, 0.11, 0.105, 0.1, 0.145, 0.11, 0.12, 0.12, 0.135, 0.125, 0.17, 0.14, 0.15, 0.14, 0.125, 0.14, 0.15, 0.14, 0.155, 0.145, 0.16, 0.14, 0.155, 0.15, 0.15, 0.145, 0.15, 0.15, 0.15, 0.16, 0.165, 0.155, 0.175, 0.175, 0.16, 0.17, 0.165, 0.175, 0.2, 0.145, 0.165, 0.18, 0.195, 0.16, 0.175, 0.185, 0.19, 0.205, 0.185, 0.155, 0.175, 0.205, 0.205, 0.18, 0.215, 0.05, 0.07, 0.06, 0.075, 0.095, 0.1, 0.1, 0.115, 0.1, 0.1, 0.1, 0.115, 0.11, 0.12, 0.105, 0.1, 0.115, 0.13, 0.125, 0.11, 0.12, 0.125, 0.12, 0.135, 0.155, 0.15, 0.125, 0.135, 0.14, 0.145, 0.12, 0.14, 0.13, 0.135, 0.13, 0.13, 0.18, 0.135, 0.16, 0.15, 0.13, 0.15, 0.14, 0.15, 0.14, 0.16, 0.15, 0.165, 0.14, 0.21, 0.15, 0.17, 0.15, 0.155, 0.175, 0.155, 0.15, 0.185, 0.155, 0.145, 0.15, 0.175, 0.15, 0.16, 0.15, 0.18, 0.125, 0.175, 0.175, 0.155, 0.155, 0.165, 0.165, 0.2, 0.18, 0.19, 0.165, 0.18, 0.175, 0.2, 0.19, 0.2, 0.175, 0.22, 0.215, 0.03, 0.045, 0.06, 0.065, 0.08, 0.085, 0.095, 0.08, 0.08, 0.09, 0.14, 0.095, 0.125, 0.085, 0.1, 0.1, 0.1, 0.11, 0.1, 0.09, 0.1, 0.11, 0.1, 0.115, 0.11, 0.11, 0.11, 0.115, 0.095, 0.115, 0.1, 0.105, 0.115, 0.12, 0.125, 0.14, 0.125, 0.125, 0.135, 0.145, 0.135, 0.14, 0.11, 0.13, 0.15, 0.13, 0.12, 0.155, 0.15, 0.145, 0.145, 0.155, 0.135, 0.15, 0.145, 0.175, 0.14, 0.135, 0.15, 0.155, 0.155, 0.175, 0.145, 0.15, 0.145, 0.165, 0.145, 0.13, 0.145, 0.14, 0.14, 0.09, 0.185, 0.145, 0.185, 0.185, 0.13, 0.15, 0.14, 0.165, 0.14, 0.165, 0.175, 0.155, 0.15, 0.195, 0.155, 0.15, 0.17, 0.17, 0.08, 0.155, 0.175, 0.19, 0.2, 0.17, 0.205, 0.205, 0.2, 0.205, 0.19, 0.05, 0.055, 0.055, 0.09, 0.075, 0.075, 0.09, 0.095, 0.09, 0.09, 0.105, 0.105, 0.115, 0.12, 0.13, 0.12, 0.105, 0.145, 0.135, 0.14, 0.14, 0.15, 0.13, 0.14, 0.16, 0.135, 0.155, 0.15, 0.155, 0.16, 0.175, 0.16, 0.19, 0.17, 0.175, 0.13, 0.16, 0.165, 0.16, 0.185, 0.16, 0.16, 0.19, 0.155, 0.17, 0.19, 0.195, 0.18, 0.18, 0.17, 0.21, 0.19, 0.07, 0.075, 0.08, 0.075, 0.09, 0.085, 0.09, 0.085, 0.09, 0.095, 0.1, 0.095, 0.09, 0.14, 0.11, 0.13, 0.11, 0.12, 0.13, 0.12, 0.125, 0.125, 0.115, 0.145, 0.125, 0.11, 0.15, 0.125, 0.15, 0.125, 0.13, 0.11, 0.13, 0.15, 0.165, 0.13, 0.14, 0.13, 0.13, 0.15, 0.16, 0.165, 0.15, 0.15, 0.17, 0.15, 0.15, 0.125, 0.135, 0.15, 0.125, 0.145, 0.155, 0.17, 0.135, 0.17, 0.195, 0.15, 0.165, 0.17, 0.18, 0.155, 0.155, 0.195, 0.14, 0.16, 0.175, 0.135, 0.15, 0.165, 0.15, 0.195, 0.175, 0.165, 0.16, 0.145, 0.12, 0.165, 0.18, 0.185, 0.17, 0.19, 0.175, 0.18, 0.19, 0.16, 0.18, 0.175, 0.15, 0.17, 0.19, 0.195, 0.2, 0.205, 0.2, 0.16, 0.18, 0.175, 0.175, 0.19, 0.17, 0.195, 0.175, 0.16, 0.17, 0.19, 0.18, 0.175, 0.19, 0.205, 0.2, 0.095, 0.115, 0.1, 0.155, 0.155, 0.115, 0.13, 0.21, 0.135, 0.15, 0.135, 0.175, 0.19, 0.15, 0.135, 0.14, 0.15, 0.165, 0.21, 0.175, 0.17, 0.17, 0.11, 0.17, 0.18, 0.16, 0.165, 0.185, 0.175, 0.17, 0.21, 0.185, 0.225, 0.205, 0.065, 0.08, 0.09, 0.1, 0.09, 0.09, 0.11, 0.105, 0.105, 0.105, 0.115, 0.125, 0.105, 0.11, 0.125, 0.11, 0.1, 0.115, 0.135, 0.125, 0.14, 0.115, 0.11, 0.145, 0.12, 0.19, 0.15, 0.145, 0.145, 0.135, 0.145, 0.14, 0.15, 0.13, 0.14, 0.16, 0.155, 0.175, 0.165, 0.145, 0.15, 0.175, 0.14, 0.16, 0.14, 0.15, 0.16, 0.215, 0.17, 0.16, 0.155, 0.175, 0.18, 0.165, 0.155, 0.18, 0.145, 0.15, 0.17, 0.175, 0.165, 0.16, 0.17, 0.18, 0.155, 0.145, 0.185, 0.195, 0.165, 0.2, 0.22, 0.175, 0.205, 0.2, 0.05, 0.05, 0.06, 0.075, 0.095, 0.085, 0.11, 0.14, 0.12, 0.125, 0.15, 0.13, 0.12, 0.115, 0.145, 0.15, 0.15, 0.125, 0.145, 0.18, 0.18, 0.2, 0.06, 0.065, 0.1, 0.08, 0.085, 0.12, 0.105, 0.115, 0.105, 0.1, 0.12, 0.135, 0.1, 0.145, 0.135, 0.13, 0.14, 0.15, 0.135, 0.135, 0.15, 0.155, 0.155, 0.19, 0.17, 0.165, 0.16, 0.17, 0.1, 0.125, 0.125, 0.125, 0.105, 0.14, 0.09, 0.16, 0.08, 0.055, 0.04, 0.2, 0.17, 0.15, 0.18, 0.195, 0.215, 0.165, 0.175, 0.105, 0.1, 0.13, 0.125, 0.165, 0.09, 0.11, 0.085, 0.065, 0.07, 0.14, 0.125, 0.19, 0.115, 0.175, 0.155, 0.115, 0.155, 0.155, 0.16, 0.18, 0.09, 0.12, 0.12, 0.13, 0.135, 0.1, 0.07, 0.1, 0.135, 0.165, 0.115, 0.175, 0.15, 0.11, 0.135, 0.23, 0.15, 0.025, 0.18, 0.115, 0.185, 0.16, 0.175, 0.075, 0.075, 0.14, 0.155, 0.16, 0.1, 0.22, 0.185, 0.185, 0.095, 0.075, 0.125, 0.08, 0.125, 0.14, 0.165, 0.17, 0.14, 0.16, 0.175, 0.19, 0.12, 0.19, 0.175, 0.145, 0.09, 0.195, 0.175, 0.2, 0.12, 0.13, 0.135, 0.125, 0.19, 0.15, 0.12, 0.15, 0.19, 0.205, 0.155, 0.1, 0.155, 0.15, 0.185, 0.135, 0.19, 0.19, 0.16, 0.205, 0.16, 0.16, 0.19, 0.165, 0.09, 0.125, 0.125, 0.13, 0.105, 0.105, 0.075, 0.15, 0.11, 0.125, 0.165, 0.125, 0.19, 0.145, 0.115, 0.14, 0.135, 0.135, 0.115, 0.125, 0.145, 0.13, 0.155, 0.125, 0.14, 0.14, 0.11, 0.125, 0.14, 0.16, 0.19, 0.185, 0.17, 0.165, 0.155, 0.155, 0.185, 0.175, 0.13, 0.145, 0.16, 0.12, 0.13, 0.15, 0.185, 0.16, 0.12, 0.165, 0.19, 0.175, 0.175, 0.205, 0.19, 0.175, 0.185, 0.14, 0.175, 0.115, 0.135, 0.08, 0.12, 0.165, 0.135, 0.15, 0.11, 0.115, 0.09, 0.14, 0.065, 0.04, 0.2, 0.155, 0.14, 0.13, 0.105, 0.1, 0.09, 0.135, 0.2, 0.17, 0.15, 0.125, 0.18, 0.125, 0.125, 0.105, 0.135, 0.125, 0.18, 0.175, 0.185, 0.145, 0.135, 0.095, 0.11, 0.145, 0.145, 0.16, 0.1, 0.115, 0.105, 0.13, 0.13, 0.145, 0.14, 0.11, 0.11, 0.1, 0.1, 0.075, 0.17, 0.175, 0.095, 0.1, 0.15, 0.085, 0.115, 0.065, 0.195, 0.165, 0.17, 0.125, 0.09, 0.135, 0.155, 0.125, 0.15, 0.09, 0.07, 0.075, 0.08, 0.045, 0.165, 0.12, 0.13, 0.07, 0.115, 0.125, 0.145, 0.185, 0.15, 0.16, 0.125, 0.185, 0.13, 0.16, 0.165, 0.16, 0.15, 0.085, 0.115, 0.135, 0.15, 0.15, 0.11, 0.105, 0.075, 0.075, 0.08, 0.09, 0.095, 0.105, 0.1, 0.115, 0.12, 0.105, 0.16, 0.14, 0.15, 0.18, 0.135, 0.165, 0.15, 0.155, 0.15, 0.17, 0.185, 0.2, 0.2, 0.065, 0.065, 0.075, 0.095, 0.09, 0.105, 0.09, 0.09, 0.095, 0.09, 0.105, 0.125, 0.1, 0.115, 0.13, 0.1, 0.115, 0.145, 0.11, 0.12, 0.12, 0.125, 0.125, 0.155, 0.145, 0.11, 0.165, 0.155, 0.16, 0.175, 0.16, 0.19, 0.165, 0.16, 0.17, 0.17, 0.155, 0.195, 0.17, 0.18, 0.165, 0.23, 0.2, 0.185, 0.05, 0.055, 0.085, 0.085, 0.1, 0.11, 0.11, 0.11, 0.105, 0.105, 0.145, 0.115, 0.16, 0.115, 0.16, 0.13, 0.13, 0.14, 0.16, 0.16, 0.145, 0.15, 0.135, 0.13, 0.145, 0.145, 0.145, 0.165, 0.145, 0.16, 0.175, 0.19, 0.18, 0.18, 0.175, 0.165, 0.175, 0.175, 0.18, 0.18, 0.175, 0.175, 0.18, 0.19, 0.2, 0.175, 0.195, 0.18, 0.185, 0.055, 0.06, 0.07, 0.085, 0.085, 0.085, 0.09, 0.085, 0.075, 0.09, 0.09, 0.09, 0.115, 0.09, 0.1, 0.11, 0.105, 0.11, 0.12, 0.095, 0.11, 0.11, 0.09, 0.125, 0.135, 0.115, 0.125, 0.12, 0.125, 0.115, 0.135, 0.105, 0.13, 0.13, 0.135, 0.13, 0.135, 0.155, 0.175, 0.155, 0.13, 0.16, 0.155, 0.125, 0.16, 0.155, 0.14, 0.14, 0.15, 0.165, 0.165, 0.165, 0.145, 0.17, 0.15, 0.155, 0.23, 0.17, 0.145, 0.165, 0.16, 0.16, 0.175, 0.165, 0.16, 0.15, 0.17, 0.185, 0.18, 0.195, 0.165, 0.16, 0.165, 0.155, 0.2, 0.145, 0.17, 0.18, 0.22, 0.04, 0.095, 0.09, 0.11, 0.11, 0.115, 0.11, 0.14, 0.155, 0.12, 0.16, 0.17, 0.18, 0.17, 0.155, 0.19, 0.2, 0.16, 0.17, 0.17, 0.17, 0.17, 0.165, 0.175, 0.175, 0.195, 0.19, 0.2, 0.225, 0.05, 0.07, 0.085, 0.075, 0.065, 0.085, 0.095, 0.09, 0.1, 0.105, 0.095, 0.12, 0.115, 0.12, 0.12, 0.105, 0.1, 0.125, 0.125, 0.12, 0.13, 0.14, 0.125, 0.14, 0.13, 0.14, 0.125, 0.125, 0.14, 0.155, 0.14, 0.125, 0.15, 0.14, 0.135, 0.15, 0.145, 0.15, 0.155, 0.145, 0.14, 0.135, 0.135, 0.135, 0.155, 0.165, 0.16, 0.16, 0.165, 0.15, 0.19, 0.165, 0.175, 0.18, 0.155, 0.155, 0.165, 0.135, 0.16, 0.17, 0.195, 0.175, 0.19, 0.17, 0.17, 0.16, 0.195, 0.205, 0.175, 0.175, 0.19, 0.17, 0.18, 0.195, 0.155, 0.195, 0.2, 0.185, 0.17, 0.195, 0.19, 0.175, 0.21, 0.17, 0.175, 0.185, 0.21, 0.075, 0.1, 0.115, 0.095, 0.115, 0.13, 0.105, 0.12, 0.15, 0.155, 0.145, 0.15, 0.15, 0.135, 0.115, 0.18, 0.19, 0.16, 0.165, 0.15, 0.18, 0.15, 0.17, 0.165, 0.17, 0.195, 0.205, 0.195, 0.065, 0.07, 0.085, 0.1, 0.1, 0.095, 0.11, 0.115, 0.135, 0.11, 0.14, 0.105, 0.12, 0.14, 0.14, 0.155, 0.13, 0.135, 0.115, 0.15, 0.145, 0.135, 0.14, 0.16, 0.145, 0.145, 0.125, 0.145, 0.12, 0.15, 0.14, 0.155, 0.155, 0.145, 0.125, 0.185, 0.185, 0.13, 0.175, 0.18, 0.155, 0.155, 0.185, 0.16, 0.15, 0.155, 0.175, 0.175, 0.175, 0.18, 0.175, 0.175, 0.21, 0.2, 0.175, 0.17, 0.205, 0.045, 0.075, 0.06, 0.1, 0.11, 0.095, 0.115, 0.13, 0.135, 0.125, 0.13, 0.17, 0.095, 0.095, 0.1, 0.12, 0.12, 0.14, 0.14, 0.145, 0.155, 0.175, 0.135, 0.17, 0.17, 0.185, 0.195, 0.175, 0.17, 0.12, 0.175, 0.115, 0.15, 0.075, 0.1, 0.1, 0.035, 0.095, 0.125, 0.145, 0.125, 0.145, 0.16, 0.155, 0.105, 0.085, 0.125, 0.22, 0.115, 0.11, 0.13, 0.15, 0.155, 0.155, 0.115, 0.085, 0.2, 0.165, 0.19, 0.15, 0.175, 0.125, 0.18, 0.065, 0.165, 0.165, 0.13, 0.135, 0.16, 0.165, 0.11, 0.115, 0.075, 0.15, 0.09, 0.16, 0.225, 0.115, 0.17, 0.1, 0.13, 0.16, 0.12, 0.075, 0.105, 0.12, 0.155, 0.1, 0.2, 0.14, 0.18, 0.15, 0.125, 0.135, 0.18, 0.19, 0.165, 0.15, 0.035, 0.14, 0.125, 0.02, 0.235, 0.165, 0.095, 0.065, 0.15, 0.135, 0.125, 0.135, 0.1, 0.14, 0.145, 0.14, 0.165, 0.16, 0.19, 0.19, 0.135, 0.085, 0.095, 0.14, 0.08, 0.165, 0.115, 0.16, 0.155, 0.22, 0.215, 0.185, 0.165, 0.115, 0.06, 0.08, 0.115, 0.115, 0.11, 0.065, 0.145, 0.105, 0.16, 0.115, 0.175, 0.16, 0.065, 0.165, 0.14, 0.165, 0.15, 0.13, 0.11, 0.08, 0.12, 0.105, 0.12, 0.14, 0.155, 0.18, 0.19, 0.195, 0.205, 0.195, 0.075, 0.06, 0.07, 0.065, 0.07, 0.095, 0.09, 0.09, 0.095, 0.12, 0.1, 0.115, 0.135, 0.135, 0.12, 0.12, 0.115, 0.115, 0.15, 0.15, 0.125, 0.155, 0.185, 0.17, 0.185, 0.165, 0.195, 0.2, 0.18, 0.23, 0.235, 0.045, 0.055, 0.1395163993296614, 0.09, 0.08, 0.095, 0.135, 0.105, 0.125, 0.125, 0.125, 0.14, 0.15, 0.15, 0.155, 0.16, 0.15, 0.17, 0.14, 0.175, 0.175, 0.145, 0.175, 0.19, 0.155, 0.155, 0.175, 0.195, 0.195, 0.07, 0.065, 0.085, 0.09, 0.09, 0.1, 0.11, 0.1, 0.11, 0.09, 0.125, 0.125, 0.14, 0.14, 0.155, 0.125, 0.155, 0.12, 0.15, 0.165, 0.135, 0.155, 0.16, 0.155, 0.145, 0.16, 0.155, 0.175, 0.175, 0.145, 0.165, 0.18, 0.15, 0.165, 0.185, 0.185, 0.12, 0.13, 0.145, 0.15, 0.16, 0.18, 0.08, 0.085, 0.115, 0.1, 0.105, 0.125, 0.11, 0.12, 0.125, 0.14, 0.15, 0.14, 0.125, 0.18, 0.13, 0.125, 0.145, 0.15, 0.16, 0.17, 0.16, 0.155, 0.155, 0.13, 0.155, 0.205, 0.18, 0.19, 0.18, 0.175, 0.155, 0.175, 0.18, 0.16, 0.18, 0.175, 0.15, 0.185, 0.215, 0.175, 0.18, 0.205, 0.1, 0.1, 0.13, 0.155, 0.14, 0.18, 0.14, 0.15, 0.155, 0.16, 0.175, 0.185, 0.05, 0.09, 0.13, 0.11, 0.115, 0.12, 0.135, 0.145, 0.11, 0.145, 0.14, 0.14, 0.145, 0.17, 0.15, 0.14, 0.17, 0.155, 0.155, 0.155, 0.175, 0.19, 0.165, 0.18, 0.22, 0.19, 0.2, 0.21, 0.195, 0.175, 0.07, 0.08, 0.075, 0.09, 0.115, 0.095, 0.11, 0.11, 0.14, 0.11, 0.135, 0.165, 0.17, 0.1, 0.085, 0.1, 0.085, 0.115, 0.125, 0.125, 0.165, 0.13, 0.155, 0.165, 0.135, 0.205, 0.15, 0.195], \"xaxis\": \"x\", \"yaxis\": \"y\"}, {\"box\": {\"visible\": true}, \"fillcolor\": \"lightseagreen\", \"line\": {\"color\": \"black\"}, \"meanline\": {\"visible\": true}, \"opacity\": 0.6, \"type\": \"violin\", \"x0\": \"Height\", \"xaxis\": \"x2\", \"y\": [0.095, 0.09, 0.135, 0.125, 0.08, 0.095, 0.15, 0.125, 0.125, 0.15, 0.14, 0.11, 0.135, 0.145, 0.1, 0.13, 0.085, 0.1, 0.08, 0.1, 0.095, 0.1, 0.155, 0.135, 0.165, 0.14, 0.185, 0.14, 0.18, 0.14, 0.165, 0.165, 0.165, 0.175, 0.2, 0.105, 0.155, 0.105, 0.135, 0.09, 0.105, 0.135, 0.045, 0.055, 0.05, 0.095, 0.12, 0.12, 0.07, 0.16, 0.12, 0.095, 0.13, 0.12, 0.1, 0.14, 0.12, 0.135, 0.06, 0.125, 0.105, 0.11, 0.13, 0.095, 0.12, 0.12, 0.16, 0.185, 0.12, 0.07, 0.13, 0.11, 0.17, 0.175, 0.195, 0.15, 0.14, 0.15, 0.14, 0.17, 0.14, 0.175, 0.165, 0.16, 0.14, 0.18, 0.14, 0.16, 0.13, 0.16, 0.135, 0.15, 0.175, 0.165, 0.19, 0.195, 0.15, 0.13, 0.13, 0.125, 0.095, 0.145, 0.16, 0.14, 0.16, 0.155, 0.165, 0.125, 0.135, 0.105, 0.125, 0.105, 0.08, 0.105, 0.125, 0.115, 0.135, 0.105, 0.15, 0.085, 0.105, 0.085, 0.14, 0.075, 0.08, 0.06, 0.09, 0.085, 0.16, 0.165, 0.165, 0.125, 0.09, 0.095, 0.065, 0.115, 0.08, 0.09, 0.11, 0.095, 0.155, 0.145, 0.19, 0.155, 0.13, 0.125, 0.12, 0.08, 0.055, 0.095, 0.145, 0.185, 0.19, 0.16, 0.135, 0.13, 0.19, 0.215, 0.17, 0.165, 0.165, 0.16, 0.175, 0.21, 0.23, 0.19, 0.175, 0.205, 0.22, 0.175, 0.215, 0.145, 0.155, 0.115, 0.04, 0.09, 0.06, 0.085, 0.045, 0.15, 0.18, 0.175, 0.16, 0.175, 0.2, 0.19, 0.15, 0.185, 0.16, 0.17, 0.18, 0.17, 0.15, 0.085, 0.14, 0.155, 0.15, 0.185, 0.16, 0.185, 0.12, 0.165, 0.145, 0.17, 0.115, 0.14, 0.11, 0.11, 0.17, 0.095, 0.145, 0.09, 0.105, 0.14, 0.16, 0.14, 0.13, 0.12, 0.135, 0.13, 0.125, 0.145, 0.15, 0.15, 0.105, 0.135, 0.125, 0.085, 0.165, 0.16, 0.135, 0.175, 0.215, 0.075, 0.135, 0.08, 0.01, 0.03, 0.03, 0.035, 0.16, 0.07, 0.065, 0.08, 0.085, 0.085, 0.08, 0.085, 0.075, 0.11, 0.105, 0.18, 0.155, 0.185, 0.165, 0.175, 0.185, 0.16, 0.17, 0.16, 0.155, 0.125, 0.165, 0.06, 0.08, 0.13, 0.15, 0.11, 0.15, 0.125, 0.215, 0.2, 0.205, 0.225, 0.155, 0.215, 0.185, 0.24, 0.205, 0.135, 0.185, 0.105, 0.12, 0.14, 0.175, 0.17, 0.155, 0.155, 0.125, 0.16, 0.18, 0.21, 0.165, 0.175, 0.195, 0.085, 0.075, 0.085, 0.14, 0.105, 0.095, 0.175, 0.1, 0.1, 0.13, 0.06, 0.03, 0.24, 0.125, 0.145, 0.19, 0.14, 0.195, 0.2, 0.175, 0.11, 0.19, 0.1, 0.155, 0.095, 0.06, 0.04, 0.1, 0.07, 0.105, 0.09, 0.1, 0.13, 0.105, 0.09, 0.155, 0.12, 0.08, 0.04, 0.195, 0.19, 0.19, 0.185, 0.185, 0.195, 0.145, 0.205, 0.185, 0.18, 0.155, 0.14, 0.16, 0.08, 0.115, 0.15, 0.185, 0.17, 0.14, 0.17, 0.17, 0.205, 0.185, 0.19, 0.215, 0.18, 0.18, 0.15, 0.175, 0.15, 0.175, 0.16, 0.145, 0.12, 0.18, 0.215, 0.165, 0.195, 0.2, 0.17, 0.15, 0.195, 0.19, 0.16, 0.175, 0.185, 0.18, 0.145, 0.135, 0.12, 0.135, 0.105, 0.155, 0.135, 0.125, 0.12, 0.1, 0.125, 0.125, 0.095, 0.095, 0.1, 0.14, 0.145, 0.15, 0.15, 0.12, 0.135, 0.11, 0.14, 0.12, 0.15, 0.115, 0.12, 0.145, 0.095, 0.165, 0.12, 0.12, 0.12, 0.17, 0.14, 0.17, 0.165, 0.155, 0.14, 0.165, 0.12, 0.135, 0.07, 0.07, 0.175, 0.165, 0.16, 0.125, 0.17, 0.175, 0.155, 0.17, 0.14, 0.1, 0.15, 0.095, 0.095, 0.09, 0.165, 0.11, 0.1, 0.14, 0.1, 0.105, 0.19, 0.185, 0.185, 0.175, 0.15, 0.215, 0.16, 0.195, 0.155, 0.175, 0.14, 0.175, 0.105, 0.11, 0.135, 0.1, 0.17, 0.07, 0.055, 0.07, 0.05, 0.19, 0.195, 0.21, 0.2, 0.135, 0.12, 0.12, 0.12, 0.16, 0.175, 0.115, 0.175, 0.225, 0.185, 0.185, 0.155, 0.125, 0.15, 0.145, 0.14, 0.13, 0.15, 0.135, 0.165, 0.145, 0.13, 0.155, 0.175, 0.195, 0.15, 0.175, 0.165, 0.155, 0.175, 0.18, 0.225, 0.225, 0.19, 0.19, 0.175, 0.235, 0.225, 0.18, 0.155, 0.185, 0.14, 0.145, 0.085, 0.07, 0.08, 0.115, 0.08, 0.09, 0.09, 0.05, 0.09, 0.115, 0.055, 0.06, 0.04, 0.04, 0.155, 0.16, 0.095, 0.185, 0.13, 0.12, 0.11, 0.14, 0.13, 0.14, 0.075, 0.07, 0.115, 0.14, 0.115, 0.115, 0.115, 0.105, 0.075, 0.065, 0.045, 0.16, 0.18, 0.16, 0.155, 0.165, 0.12, 0.125, 0.15, 0.15, 0.165, 0.17, 0.145, 0.105, 0.12, 0.115, 0.15, 0.13, 0.065, 0.13, 0.125, 0.08, 0.115, 0.14, 0.135, 0.155, 0.14, 0.15, 0.14, 0.14, 0.175, 0.15, 0.175, 0.175, 0.15, 0.19, 0.14, 0.1, 0.125, 0.17, 0.145, 0.14, 0.12, 0.15, 0.115, 0.175, 0.18, 0.15, 0.18, 0.14, 0.14, 0.145, 0.195, 0.145, 0.11, 0.1, 0.115, 0.14, 0.125, 0.09, 0.13, 0.1, 0.09, 0.17, 0.05, 0.075, 0.125, 0.145, 0.135, 0.14, 0.085, 0.075, 0.055, 0.08, 0.14, 0.115, 0.105, 0.105, 0.16, 0.095, 0.095, 0.145, 0.085, 0.115, 0.12, 0.125, 0.13, 0.1, 0.09, 0.1, 0.085, 0.12, 0.13, 0.085, 0.18, 0.16, 0.095, 0.13, 0.12, 0.075, 0.145, 0.12, 0.125, 0.065, 0.09, 0.13, 0.08, 0.11, 0.075, 0.165, 0.17, 0.195, 0.185, 0.18, 0.17, 0.13, 0.105, 0.12, 0.095, 0.12, 0.15, 0.155, 0.145, 0.145, 0.155, 0.165, 0.15, 0.15, 0.18, 0.145, 0.115, 0.165, 0.1, 0.1, 0.14, 0.115, 0.185, 0.14, 0.185, 0.15, 0.125, 0.17, 0.15, 0.15, 0.075, 0.115, 0.12, 0.02, 0.09, 0.05, 0.1, 0.12, 0.105, 0.105, 0.135, 0.105, 0.115, 0.125, 0.14, 0.09, 0.09, 0.13, 0.09, 0.08, 0.1, 0.055, 0.085, 0.08, 0.065, 0.07, 0.06, 0.035, 0.025, 0.025, 0.16, 0.15, 0.13, 0.08, 0.11, 0.085, 0.105, 0.125, 0.12, 0.13, 0.13, 0.12, 0.13, 0.12, 0.125, 0.115, 0.125, 0.135, 0.09, 0.205, 0.09, 0.15, 0.14, 0.13, 0.13, 0.2, 0.14, 0.13, 0.175, 0.105, 0.12, 0.17, 0.165, 0.175, 0.185, 0.155, 0.19, 0.155, 0.12, 0.15, 0.155, 0.135, 0.19, 0.145, 0.15, 0.13, 0.095, 0.155, 0.17, 0.165, 0.14, 0.115, 0.135, 0.14, 0.165, 0.145, 0.14, 0.14, 0.145, 0.165, 0.15, 0.145, 0.125, 0.06, 0.175, 0.13, 0.135, 0.16, 0.165, 0.16, 0.135, 0.18, 0.165, 0.16, 0.145, 0.155, 0.11, 0.16, 0.11, 0.135, 0.125, 0.13, 0.1, 0.135, 0.12, 0.07, 0.125, 0.13, 0.115, 0.14, 0.13, 0.055, 0.06, 0.085, 0.08, 0.08, 0.09, 0.07, 0.085, 0.135, 0.14, 0.095, 0.095, 0.1, 0.095, 0.095, 0.1, 0.1, 0.11, 0.1, 0.1, 0.115, 0.1, 0.1, 0.13, 0.12, 0.125, 0.135, 0.105, 0.125, 0.125, 0.125, 0.14, 0.13, 0.125, 0.14, 0.135, 0.125, 0.15, 0.15, 0.145, 0.155, 0.15, 0.13, 0.14, 0.165, 0.13, 0.15, 0.16, 0.16, 0.14, 0.175, 0.155, 0.175, 0.175, 0.16, 0.175, 0.15, 0.15, 0.165, 0.16, 0.165, 0.155, 0.2, 0.165, 0.17, 0.15, 0.165, 0.165, 0.175, 0.165, 0.205, 0.17, 0.19, 0.16, 0.17, 0.155, 0.195, 0.16, 0.22, 0.23, 0.05, 0.055, 0.065, 0.05, 0.055, 0.06, 0.075, 0.08, 0.08, 0.095, 0.07, 0.075, 0.07, 0.09, 0.075, 0.085, 0.075, 0.075, 0.075, 0.07, 0.1, 0.095, 0.095, 0.09, 0.08, 0.09, 0.09, 0.09, 0.09, 0.115, 0.1, 0.1, 0.1, 0.1, 0.09, 0.12, 0.115, 0.13, 0.09, 0.11, 0.13, 0.13, 0.105, 0.11, 0.105, 0.125, 0.12, 0.1, 0.105, 0.115, 0.115, 0.11, 0.125, 0.12, 0.12, 0.125, 0.12, 0.115, 0.145, 0.1, 0.12, 0.115, 0.125, 0.135, 0.135, 0.135, 0.12, 0.135, 0.125, 0.13, 0.15, 0.125, 0.125, 0.135, 0.1, 0.135, 0.15, 0.145, 0.14, 0.155, 0.14, 0.14, 0.13, 0.15, 0.125, 0.135, 0.14, 0.14, 0.155, 0.14, 0.16, 0.13, 0.155, 0.155, 0.15, 0.14, 0.17, 0.16, 0.16, 0.15, 0.18, 0.15, 0.145, 0.13, 0.155, 0.16, 0.145, 0.155, 0.15, 0.165, 0.14, 0.15, 0.15, 0.155, 0.165, 0.15, 0.155, 0.16, 0.18, 0.17, 0.175, 0.175, 0.165, 0.2, 0.155, 0.165, 0.15, 0.175, 0.185, 0.155, 0.17, 0.175, 0.155, 0.175, 0.175, 0.165, 0.175, 0.16, 0.15, 0.16, 0.21, 0.185, 0.16, 0.175, 0.185, 0.19, 0.195, 0.18, 0.165, 0.225, 0.195, 0.185, 0.175, 0.2, 0.175, 0.18, 0.205, 0.175, 0.185, 0.22, 0.22, 0.045, 0.045, 0.04, 0.04, 0.055, 0.065, 0.065, 0.055, 0.065, 0.085, 0.065, 0.08, 0.055, 0.085, 0.08, 0.1, 0.08, 0.1, 0.08, 0.095, 0.11, 0.1, 0.1, 0.105, 0.11, 0.095, 0.115, 0.12, 0.11, 0.115, 0.11, 0.105, 0.145, 0.11, 0.125, 0.12, 0.105, 0.1, 0.11, 0.115, 0.105, 0.125, 0.11, 0.1, 0.125, 0.125, 0.14, 0.12, 0.125, 0.125, 0.125, 0.125, 0.125, 0.125, 0.115, 0.125, 0.145, 0.135, 0.125, 0.15, 0.13, 0.14, 0.12, 0.12, 0.125, 0.125, 0.14, 0.135, 0.12, 0.14, 0.135, 0.15, 0.15, 0.145, 0.16, 0.155, 0.145, 0.15, 0.15, 0.175, 0.15, 0.145, 0.15, 0.145, 0.16, 0.14, 0.165, 0.135, 0.13, 0.17, 0.145, 0.15, 0.195, 0.135, 0.14, 0.145, 0.155, 0.145, 0.16, 0.15, 0.16, 0.17, 0.15, 0.155, 0.165, 0.14, 0.17, 0.165, 0.16, 0.145, 0.165, 0.17, 0.15, 0.155, 0.135, 0.2, 0.16, 0.175, 0.185, 0.155, 0.175, 0.015, 0.165, 0.195, 0.17, 0.19, 0.155, 0.16, 0.175, 0.185, 0.16, 0.17, 0.205, 0.215, 0.165, 0.155, 0.21, 0.17, 0.185, 0.18, 0.19, 0.19, 0.17, 0.18, 0.19, 0.19, 0.195, 0.2, 0.145, 0.185, 0.185, 0.185, 0.215, 0.21, 0.21, 0.205, 0.215, 0.12, 0.06, 0.065, 0.065, 0.09, 0.065, 0.07, 0.08, 0.07, 0.075, 0.095, 0.095, 0.09, 0.09, 0.095, 0.085, 0.075, 0.09, 0.085, 0.085, 0.085, 0.085, 0.09, 0.085, 0.095, 0.085, 0.09, 0.095, 0.08, 0.085, 0.11, 0.08, 0.09, 0.085, 0.095, 0.09, 0.095, 0.105, 0.095, 0.1, 0.1, 0.09, 0.11, 0.09, 0.11, 0.1, 0.09, 0.1395163993296614, 0.095, 0.11, 0.12, 0.105, 0.105, 0.115, 0.1, 0.105, 0.105, 0.125, 0.11, 0.1, 0.18, 0.12, 0.1, 0.12, 0.11, 0.125, 0.115, 0.1, 0.12, 0.13, 0.12, 0.135, 0.135, 0.145, 0.14, 0.125, 0.14, 0.13, 0.12, 0.105, 0.12, 0.135, 0.135, 0.13, 0.125, 0.125, 0.155, 0.13, 0.155, 0.11, 0.13, 0.135, 0.15, 0.13, 0.15, 0.145, 0.14, 0.135, 0.15, 0.15, 0.135, 0.145, 0.125, 0.15, 0.14, 0.135, 0.14, 0.155, 0.14, 0.145, 0.135, 0.145, 0.155, 0.145, 0.175, 0.145, 0.15, 0.125, 0.145, 0.135, 0.135, 0.17, 0.13, 0.125, 0.135, 0.165, 0.155, 0.155, 0.135, 0.15, 0.155, 0.185, 0.16, 0.165, 0.165, 0.15, 0.18, 0.135, 0.18, 0.155, 0.15, 0.155, 0.17, 0.155, 0.15, 0.155, 0.145, 0.155, 0.15, 0.14, 0.13, 0.175, 0.16, 0.15, 0.165, 0.17, 0.15, 0.17, 0.16, 0.155, 0.165, 0.17, 0.165, 0.17, 0.175, 0.155, 0.175, 0.18, 0.15, 0.16, 0.17, 0.175, 0.16, 0.155, 0.17, 0.18, 0.145, 0.145, 0.16, 0.16, 0.165, 0.175, 0.17, 0.155, 0.23, 0.18, 0.16, 0.195, 0.16, 0.165, 0.22, 0.175, 0.19, 0.17, 0.19, 0.205, 0.19, 0.175, 0.21, 0.17, 0.18, 0.225, 0.175, 0.185, 0.205, 0.19, 0.13, 0.515, 0.215, 0.18, 0.17, 0.17, 0.215, 0.2, 0.19, 0.205, 0.215, 0.235, 0.25, 0.035, 0.06, 0.135, 0.08, 0.095, 0.085, 0.09, 0.09, 0.11, 0.09, 0.095, 0.09, 0.105, 0.095, 0.115, 0.105, 0.105, 0.105, 0.12, 0.11, 0.125, 0.135, 0.11, 0.14, 0.125, 0.12, 0.125, 0.115, 0.115, 0.125, 0.12, 0.085, 0.13, 0.12, 0.105, 0.135, 0.125, 0.145, 0.125, 0.125, 0.14, 0.13, 0.125, 0.14, 0.14, 0.16, 0.15, 0.15, 0.15, 0.15, 0.165, 0.175, 0.14, 0.15, 0.15, 0.15, 0.145, 0.16, 0.155, 0.2, 0.165, 0.16, 0.17, 0.17, 0.13, 0.155, 0.155, 0.165, 0.175, 0.18, 0.145, 0.175, 0.15, 0.15, 0.225, 0.145, 0.185, 0.205, 0.175, 0.155, 0.165, 0.175, 0.175, 0.16, 0.14, 0.215, 0.215, 0.165, 0.18, 0.2, 0.175, 0.19, 0.185, 0.17, 0.2, 0.17, 0.2, 0.165, 0.2, 0.24, 0.18, 0.18, 0.045, 0.055, 0.07, 0.085, 0.09, 0.08, 0.075, 0.075, 0.09, 0.095, 0.075, 0.075, 0.085, 0.095, 0.08, 0.095, 0.1, 0.09, 0.095, 0.09, 0.09, 0.1, 0.1, 0.09, 0.09, 0.1, 0.11, 0.08, 0.1, 0.11, 0.095, 0.11, 0.115, 0.11, 0.11, 0.12, 0.11, 0.125, 0.145, 0.1, 0.125, 0.125, 0.12, 0.16, 0.13, 0.115, 0.135, 0.125, 0.105, 0.12, 0.12, 0.14, 0.13, 0.11, 0.125, 0.105, 0.125, 0.125, 0.145, 0.13, 0.145, 0.12, 0.135, 0.14, 0.155, 0.12, 0.135, 0.145, 0.13, 0.13, 0.17, 0.14, 0.14, 0.14, 0.14, 0.13, 0.135, 0.13, 0.12, 0.125, 0.14, 0.15, 0.135, 0.145, 0.15, 0.13, 0.14, 0.145, 0.15, 0.13, 0.135, 0.155, 0.15, 0.125, 0.15, 0.135, 0.14, 0.17, 0.145, 0.155, 0.145, 0.165, 0.135, 0.155, 0.125, 0.185, 0.195, 0.17, 0.135, 0.15, 0.16, 0.16, 0.15, 0.155, 0.13, 0.125, 0.14, 0.165, 0.145, 0.145, 0.15, 0.14, 0.145, 0.15, 0.155, 0.15, 0.165, 0.17, 0.18, 0.165, 0.16, 0.145, 0.145, 0.145, 0.14, 0.155, 0.18, 0.155, 0.16, 0.15, 0.16, 0.16, 0.125, 0.17, 0.18, 0.16, 0.175, 0.18, 0.155, 0.175, 0.165, 0.16, 0.18, 0.14, 0.135, 0.15, 0.175, 0.165, 0.16, 0.17, 0.155, 0.175, 0.15, 0.17, 0.18, 0.17, 0.165, 0.175, 0.165, 0.17, 0.175, 0.17, 0.165, 0.18, 0.185, 0.15, 0.175, 0.19, 0.19, 0.195, 0.16, 0.16, 0.175, 0.19, 0.15, 0.19, 0.155, 0.19, 0.185, 0.16, 0.18, 0.15, 0.19, 0.195, 0.165, 0.175, 0.195, 0.165, 0.175, 0.16, 0.16, 0.175, 0.175, 0.16, 0.165, 0.19, 0.155, 0.195, 0.16, 0.195, 0.195, 0.2, 0.15, 0.175, 0.2, 0.175, 0.175, 0.17, 0.215, 0.195, 0.205, 0.22, 0.2, 0.205, 0.18, 0.21, 0.19, 0.215, 0.205, 0.215, 0.205, 0.195, 0.25, 0.09, 0.1, 0.135, 0.125, 0.12, 0.12, 0.105, 0.135, 0.11, 0.14, 0.115, 0.105, 0.155, 0.16, 0.16, 0.15, 0.155, 0.135, 0.17, 0.125, 0.14, 0.135, 0.18, 0.165, 0.2, 0.15, 0.165, 0.16, 0.175, 0.185, 0.13, 0.17, 0.145, 0.15, 0.175, 0.165, 0.175, 0.15, 0.15, 0.145, 0.145, 0.175, 0.185, 0.195, 0.15, 0.14, 0.16, 0.19, 0.16, 0.2, 0.19, 0.185, 0.175, 0.175, 0.185, 0.19, 0.18, 0.195, 0.18, 0.21, 0.04, 0.055, 0.075, 0.085, 0.08, 0.085, 0.085, 0.075, 0.105, 0.09, 0.095, 0.105, 0.09, 0.1, 0.095, 0.1, 0.1, 0.1, 0.11, 0.105, 0.12, 0.11, 0.11, 0.12, 0.105, 0.13, 0.12, 0.115, 0.135, 0.145, 0.14, 0.11, 0.13, 0.145, 0.12, 0.135, 0.15, 0.11, 0.11, 0.14, 0.125, 0.115, 0.115, 0.12, 0.145, 0.145, 0.14, 0.16, 0.13, 0.12, 0.14, 0.16, 0.135, 0.125, 0.14, 0.14, 0.14, 0.13, 0.14, 0.125, 0.13, 0.175, 0.135, 0.165, 0.125, 0.125, 0.155, 0.145, 0.16, 0.155, 0.155, 0.155, 0.175, 0.13, 0.12, 0.13, 0.155, 0.135, 0.155, 0.145, 0.175, 0.135, 0.135, 0.155, 0.145, 0.195, 0.165, 0.15, 0.145, 0.16, 0.15, 0.135, 0.17, 0.15, 0.16, 0.165, 0.145, 0.18, 0.14, 0.145, 0.155, 0.165, 0.145, 0.15, 0.16, 0.2, 0.16, 0.15, 0.17, 0.195, 0.15, 0.155, 0.155, 0.17, 0.185, 0.16, 0.18, 0.145, 0.155, 0.165, 0.165, 0.155, 0.16, 0.165, 0.165, 0.165, 0.145, 0.165, 0.135, 0.155, 0.185, 0.18, 0.175, 0.21, 0.15, 0.155, 0.185, 0.18, 0.175, 0.17, 0.205, 0.175, 0.15, 0.2, 0.18, 0.205, 0.15, 0.185, 0.19, 0.155, 0.155, 0.18, 0.185, 0.205, 0.175, 0.195, 0.22, 0.18, 0.19, 0.205, 0.195, 0.215, 0.04, 0.025, 0.055, 0.075, 0.065, 0.06, 0.07, 0.06, 0.065, 0.07, 0.07, 0.08, 0.08, 0.07, 0.105, 0.085, 0.085, 0.08, 0.085, 0.095, 0.09, 0.11, 0.095, 0.11, 0.12, 0.105, 0.11, 0.135, 0.105, 0.12, 0.12, 0.135, 0.115, 0.135, 0.14, 0.13, 0.15, 0.13, 0.14, 0.15, 0.16, 0.145, 0.15, 0.16, 0.165, 0.14, 0.14, 0.16, 0.18, 0.195, 0.06, 0.065, 0.08, 0.07, 0.085, 0.07, 0.1, 0.1, 0.16, 0.09, 0.12, 0.115, 0.115, 0.12, 0.13, 1.13, 0.12, 0.11, 0.11, 0.09, 0.14, 0.135, 0.135, 0.11, 0.135, 0.14, 0.13, 0.1, 0.125, 0.13, 0.14, 0.13, 0.16, 0.13, 0.115, 0.135, 0.12, 0.15, 0.15, 0.15, 0.19, 0.14, 0.165, 0.16, 0.15, 0.14, 0.21, 0.2, 0.195, 0.185, 0.15, 0.22, 0.215, 0.18, 0.22, 0.115, 0.13, 0.115, 0.09, 0.1, 0.145, 0.08, 0.1, 0.115, 0.1, 0.155, 0.11, 0.1, 0.125, 0.185, 0.155, 0.18, 0.225, 0.17, 0.055, 0.08, 0.13, 0.09, 0.035, 0.045, 0.05, 0.08, 0.12, 0.125, 0.1, 0.11, 0.12, 0.075, 0.095, 0.115, 0.125, 0.1, 0.175, 0.15, 0.14, 0.08, 0.125, 0.11, 0.115, 0.1, 0.125, 0.175, 0.18, 0.205, 0.125, 0.075, 0.11, 0.105, 0.105, 0.115, 0.12, 0.135, 0.09, 0.07, 0.11, 0.19, 0.115, 0.075, 0.135, 0.165, 0.165, 0.175, 0.195, 0.2, 0.2, 0.24, 0.195, 0.15, 0.09, 0.16, 0.085, 0.085, 0.085, 0.015, 0.075, 0.03, 0.03, 0.125, 0.17, 0.185, 0.17, 0.235, 0.2, 0.25, 0.165, 0.165, 0.16, 0.155, 0.08, 0.12, 0.125, 0.135, 0.135, 0.14, 0.165, 0.185, 0.165, 0.055, 0.11, 0.08, 0.09, 0.105, 0.08, 0.2, 0.195, 0.215, 0.16, 0.19, 0.105, 0.08, 0.075, 0.115, 0.215, 0.18, 0.2, 0.195, 0.235, 0.23, 0.12, 0.14, 0.08, 0.13, 0.15, 0.145, 0.145, 0.175, 0.195, 0.18, 0.145, 0.155, 0.11, 0.075, 0.175, 0.095, 0.165, 0.165, 0.18, 0.17, 0.165, 0.175, 0.185, 0.19, 0.11, 0.115, 0.125, 0.12, 0.135, 0.13, 0.1, 0.14, 0.11, 0.12, 0.09, 0.165, 0.2, 0.175, 0.17, 0.2, 0.18, 0.145, 0.135, 0.165, 0.115, 0.16, 0.175, 0.16, 0.16, 0.15, 0.16, 0.215, 0.175, 0.175, 0.175, 0.16, 0.18, 0.17, 0.21, 0.15, 0.2, 0.185, 0.23, 0.18, 0.13, 0.135, 0.13, 0.14, 0.13, 0.12, 0.105, 0.1, 0.15, 0.105, 0.09, 0.155, 0.1, 0.12, 0.09, 0.09, 0.12, 0.145, 0.135, 0.12, 0.1, 0.125, 0.13, 0.15, 0.13, 0.12, 0.135, 0.135, 0.165, 0.135, 0.13, 0.13, 0.11, 0.11, 0.07, 0.145, 0.135, 0.15, 0.155, 0.14, 0.135, 0.145, 0.1, 0.135, 0.135, 0.105, 0.19, 0.105, 0.115, 0.135, 0.145, 0.145, 0.115, 0.155, 0.135, 0.22, 0.195, 0.15, 0.175, 0.165, 0.195, 0.2, 0.17, 0.09, 0.07, 0.055, 0.17, 0.195, 0.125, 0.13, 0.165, 0.105, 0.17, 0.16, 0.19, 0.175, 0.15, 0.135, 0.15, 0.125, 0.21, 0.2, 0.175, 0.155, 0.205, 0.195, 0.2, 0.165, 0.23, 0.16, 0.225, 0.17, 0.115, 0.05, 0.11, 0.15, 0.11, 0.09, 0.11, 0.155, 0.115, 0.09, 0.04, 0.025, 0.15, 0.135, 0.105, 0.115, 0.14, 0.135, 0.14, 0.125, 0.125, 0.09, 0.09, 0.09, 0.16, 0.17, 0.155, 0.19, 0.155, 0.17, 0.1, 0.155, 0.165, 0.08, 0.17, 0.145, 0.185, 0.175, 0.17, 0.15, 0.115, 0.12, 0.095, 0.145, 0.11, 0.105, 0.125, 0.06, 0.13, 0.12, 0.085, 0.16, 0.13, 0.11, 0.065, 0.17, 0.155, 0.075, 0.125, 0.095, 0.14, 0.18, 0.165, 0.18, 0.18, 0.135, 0.16, 0.095, 0.17, 0.1, 0.125, 0.17, 0.125, 0.14, 0.14, 0.135, 0.17, 0.08, 0.09, 0.105, 0.125, 0.09, 0.105, 0.08, 0.065, 0.065, 0.06, 0.065, 0.05, 0.17, 0.14, 0.13, 0.08, 0.14, 0.14, 0.13, 0.12, 0.14, 0.08, 0.13, 0.17, 0.175, 0.175, 0.175, 0.145, 0.165, 0.155, 0.155, 0.18, 0.155, 0.145, 0.095, 0.165, 0.175, 0.135, 0.09, 0.145, 0.185, 0.145, 0.135, 0.115, 0.165, 0.145, 0.1, 0.13, 0.16, 0.13, 0.155, 0.14, 0.145, 0.125, 0.08, 0.07, 0.075, 0.105, 0.075, 0.075, 0.1, 0.105, 0.09, 0.1, 0.105, 0.11, 0.135, 0.11, 0.12, 0.12, 0.135, 0.13, 0.185, 0.19, 0.12, 0.15, 0.15, 0.18, 0.16, 0.16, 0.185, 0.135, 0.155, 0.165, 0.175, 0.155, 0.185, 0.195, 0.18, 0.165, 0.215, 0.2, 0.205, 0.175, 0.18, 0.2, 0.19, 0.165, 0.065, 0.07, 0.05, 0.07, 0.055, 0.08, 0.07, 0.075, 0.07, 0.07, 0.08, 0.085, 0.1, 0.065, 0.1, 0.11, 0.115, 0.1, 0.12, 0.125, 0.12, 0.12, 0.115, 0.12, 0.115, 0.11, 0.105, 0.11, 0.105, 0.1, 0.145, 0.11, 0.12, 0.12, 0.135, 0.125, 0.17, 0.14, 0.15, 0.14, 0.125, 0.14, 0.15, 0.14, 0.155, 0.145, 0.16, 0.14, 0.155, 0.15, 0.15, 0.145, 0.15, 0.15, 0.15, 0.16, 0.165, 0.155, 0.175, 0.175, 0.16, 0.17, 0.165, 0.175, 0.2, 0.145, 0.165, 0.18, 0.195, 0.16, 0.175, 0.185, 0.19, 0.205, 0.185, 0.155, 0.175, 0.205, 0.205, 0.18, 0.215, 0.05, 0.07, 0.06, 0.075, 0.095, 0.1, 0.1, 0.115, 0.1, 0.1, 0.1, 0.115, 0.11, 0.12, 0.105, 0.1, 0.115, 0.13, 0.125, 0.11, 0.12, 0.125, 0.12, 0.135, 0.155, 0.15, 0.125, 0.135, 0.14, 0.145, 0.12, 0.14, 0.13, 0.135, 0.13, 0.13, 0.18, 0.135, 0.16, 0.15, 0.13, 0.15, 0.14, 0.15, 0.14, 0.16, 0.15, 0.165, 0.14, 0.21, 0.15, 0.17, 0.15, 0.155, 0.175, 0.155, 0.15, 0.185, 0.155, 0.145, 0.15, 0.175, 0.15, 0.16, 0.15, 0.18, 0.125, 0.175, 0.175, 0.155, 0.155, 0.165, 0.165, 0.2, 0.18, 0.19, 0.165, 0.18, 0.175, 0.2, 0.19, 0.2, 0.175, 0.22, 0.215, 0.03, 0.045, 0.06, 0.065, 0.08, 0.085, 0.095, 0.08, 0.08, 0.09, 0.14, 0.095, 0.125, 0.085, 0.1, 0.1, 0.1, 0.11, 0.1, 0.09, 0.1, 0.11, 0.1, 0.115, 0.11, 0.11, 0.11, 0.115, 0.095, 0.115, 0.1, 0.105, 0.115, 0.12, 0.125, 0.14, 0.125, 0.125, 0.135, 0.145, 0.135, 0.14, 0.11, 0.13, 0.15, 0.13, 0.12, 0.155, 0.15, 0.145, 0.145, 0.155, 0.135, 0.15, 0.145, 0.175, 0.14, 0.135, 0.15, 0.155, 0.155, 0.175, 0.145, 0.15, 0.145, 0.165, 0.145, 0.13, 0.145, 0.14, 0.14, 0.09, 0.185, 0.145, 0.185, 0.185, 0.13, 0.15, 0.14, 0.165, 0.14, 0.165, 0.175, 0.155, 0.15, 0.195, 0.155, 0.15, 0.17, 0.17, 0.08, 0.155, 0.175, 0.19, 0.2, 0.17, 0.205, 0.205, 0.2, 0.205, 0.19, 0.05, 0.055, 0.055, 0.09, 0.075, 0.075, 0.09, 0.095, 0.09, 0.09, 0.105, 0.105, 0.115, 0.12, 0.13, 0.12, 0.105, 0.145, 0.135, 0.14, 0.14, 0.15, 0.13, 0.14, 0.16, 0.135, 0.155, 0.15, 0.155, 0.16, 0.175, 0.16, 0.19, 0.17, 0.175, 0.13, 0.16, 0.165, 0.16, 0.185, 0.16, 0.16, 0.19, 0.155, 0.17, 0.19, 0.195, 0.18, 0.18, 0.17, 0.21, 0.19, 0.07, 0.075, 0.08, 0.075, 0.09, 0.085, 0.09, 0.085, 0.09, 0.095, 0.1, 0.095, 0.09, 0.14, 0.11, 0.13, 0.11, 0.12, 0.13, 0.12, 0.125, 0.125, 0.115, 0.145, 0.125, 0.11, 0.15, 0.125, 0.15, 0.125, 0.13, 0.11, 0.13, 0.15, 0.165, 0.13, 0.14, 0.13, 0.13, 0.15, 0.16, 0.165, 0.15, 0.15, 0.17, 0.15, 0.15, 0.125, 0.135, 0.15, 0.125, 0.145, 0.155, 0.17, 0.135, 0.17, 0.195, 0.15, 0.165, 0.17, 0.18, 0.155, 0.155, 0.195, 0.14, 0.16, 0.175, 0.135, 0.15, 0.165, 0.15, 0.195, 0.175, 0.165, 0.16, 0.145, 0.12, 0.165, 0.18, 0.185, 0.17, 0.19, 0.175, 0.18, 0.19, 0.16, 0.18, 0.175, 0.15, 0.17, 0.19, 0.195, 0.2, 0.205, 0.2, 0.16, 0.18, 0.175, 0.175, 0.19, 0.17, 0.195, 0.175, 0.16, 0.17, 0.19, 0.18, 0.175, 0.19, 0.205, 0.2, 0.095, 0.115, 0.1, 0.155, 0.155, 0.115, 0.13, 0.21, 0.135, 0.15, 0.135, 0.175, 0.19, 0.15, 0.135, 0.14, 0.15, 0.165, 0.21, 0.175, 0.17, 0.17, 0.11, 0.17, 0.18, 0.16, 0.165, 0.185, 0.175, 0.17, 0.21, 0.185, 0.225, 0.205, 0.065, 0.08, 0.09, 0.1, 0.09, 0.09, 0.11, 0.105, 0.105, 0.105, 0.115, 0.125, 0.105, 0.11, 0.125, 0.11, 0.1, 0.115, 0.135, 0.125, 0.14, 0.115, 0.11, 0.145, 0.12, 0.19, 0.15, 0.145, 0.145, 0.135, 0.145, 0.14, 0.15, 0.13, 0.14, 0.16, 0.155, 0.175, 0.165, 0.145, 0.15, 0.175, 0.14, 0.16, 0.14, 0.15, 0.16, 0.215, 0.17, 0.16, 0.155, 0.175, 0.18, 0.165, 0.155, 0.18, 0.145, 0.15, 0.17, 0.175, 0.165, 0.16, 0.17, 0.18, 0.155, 0.145, 0.185, 0.195, 0.165, 0.2, 0.22, 0.175, 0.205, 0.2, 0.05, 0.05, 0.06, 0.075, 0.095, 0.085, 0.11, 0.14, 0.12, 0.125, 0.15, 0.13, 0.12, 0.115, 0.145, 0.15, 0.15, 0.125, 0.145, 0.18, 0.18, 0.2, 0.06, 0.065, 0.1, 0.08, 0.085, 0.12, 0.105, 0.115, 0.105, 0.1, 0.12, 0.135, 0.1, 0.145, 0.135, 0.13, 0.14, 0.15, 0.135, 0.135, 0.15, 0.155, 0.155, 0.19, 0.17, 0.165, 0.16, 0.17, 0.1, 0.125, 0.125, 0.125, 0.105, 0.14, 0.09, 0.16, 0.08, 0.055, 0.04, 0.2, 0.17, 0.15, 0.18, 0.195, 0.215, 0.165, 0.175, 0.105, 0.1, 0.13, 0.125, 0.165, 0.09, 0.11, 0.085, 0.065, 0.07, 0.14, 0.125, 0.19, 0.115, 0.175, 0.155, 0.115, 0.155, 0.155, 0.16, 0.18, 0.09, 0.12, 0.12, 0.13, 0.135, 0.1, 0.07, 0.1, 0.135, 0.165, 0.115, 0.175, 0.15, 0.11, 0.135, 0.23, 0.15, 0.025, 0.18, 0.115, 0.185, 0.16, 0.175, 0.075, 0.075, 0.14, 0.155, 0.16, 0.1, 0.22, 0.185, 0.185, 0.095, 0.075, 0.125, 0.08, 0.125, 0.14, 0.165, 0.17, 0.14, 0.16, 0.175, 0.19, 0.12, 0.19, 0.175, 0.145, 0.09, 0.195, 0.175, 0.2, 0.12, 0.13, 0.135, 0.125, 0.19, 0.15, 0.12, 0.15, 0.19, 0.205, 0.155, 0.1, 0.155, 0.15, 0.185, 0.135, 0.19, 0.19, 0.16, 0.205, 0.16, 0.16, 0.19, 0.165, 0.09, 0.125, 0.125, 0.13, 0.105, 0.105, 0.075, 0.15, 0.11, 0.125, 0.165, 0.125, 0.19, 0.145, 0.115, 0.14, 0.135, 0.135, 0.115, 0.125, 0.145, 0.13, 0.155, 0.125, 0.14, 0.14, 0.11, 0.125, 0.14, 0.16, 0.19, 0.185, 0.17, 0.165, 0.155, 0.155, 0.185, 0.175, 0.13, 0.145, 0.16, 0.12, 0.13, 0.15, 0.185, 0.16, 0.12, 0.165, 0.19, 0.175, 0.175, 0.205, 0.19, 0.175, 0.185, 0.14, 0.175, 0.115, 0.135, 0.08, 0.12, 0.165, 0.135, 0.15, 0.11, 0.115, 0.09, 0.14, 0.065, 0.04, 0.2, 0.155, 0.14, 0.13, 0.105, 0.1, 0.09, 0.135, 0.2, 0.17, 0.15, 0.125, 0.18, 0.125, 0.125, 0.105, 0.135, 0.125, 0.18, 0.175, 0.185, 0.145, 0.135, 0.095, 0.11, 0.145, 0.145, 0.16, 0.1, 0.115, 0.105, 0.13, 0.13, 0.145, 0.14, 0.11, 0.11, 0.1, 0.1, 0.075, 0.17, 0.175, 0.095, 0.1, 0.15, 0.085, 0.115, 0.065, 0.195, 0.165, 0.17, 0.125, 0.09, 0.135, 0.155, 0.125, 0.15, 0.09, 0.07, 0.075, 0.08, 0.045, 0.165, 0.12, 0.13, 0.07, 0.115, 0.125, 0.145, 0.185, 0.15, 0.16, 0.125, 0.185, 0.13, 0.16, 0.165, 0.16, 0.15, 0.085, 0.115, 0.135, 0.15, 0.15, 0.11, 0.105, 0.075, 0.075, 0.08, 0.09, 0.095, 0.105, 0.1, 0.115, 0.12, 0.105, 0.16, 0.14, 0.15, 0.18, 0.135, 0.165, 0.15, 0.155, 0.15, 0.17, 0.185, 0.2, 0.2, 0.065, 0.065, 0.075, 0.095, 0.09, 0.105, 0.09, 0.09, 0.095, 0.09, 0.105, 0.125, 0.1, 0.115, 0.13, 0.1, 0.115, 0.145, 0.11, 0.12, 0.12, 0.125, 0.125, 0.155, 0.145, 0.11, 0.165, 0.155, 0.16, 0.175, 0.16, 0.19, 0.165, 0.16, 0.17, 0.17, 0.155, 0.195, 0.17, 0.18, 0.165, 0.23, 0.2, 0.185, 0.05, 0.055, 0.085, 0.085, 0.1, 0.11, 0.11, 0.11, 0.105, 0.105, 0.145, 0.115, 0.16, 0.115, 0.16, 0.13, 0.13, 0.14, 0.16, 0.16, 0.145, 0.15, 0.135, 0.13, 0.145, 0.145, 0.145, 0.165, 0.145, 0.16, 0.175, 0.19, 0.18, 0.18, 0.175, 0.165, 0.175, 0.175, 0.18, 0.18, 0.175, 0.175, 0.18, 0.19, 0.2, 0.175, 0.195, 0.18, 0.185, 0.055, 0.06, 0.07, 0.085, 0.085, 0.085, 0.09, 0.085, 0.075, 0.09, 0.09, 0.09, 0.115, 0.09, 0.1, 0.11, 0.105, 0.11, 0.12, 0.095, 0.11, 0.11, 0.09, 0.125, 0.135, 0.115, 0.125, 0.12, 0.125, 0.115, 0.135, 0.105, 0.13, 0.13, 0.135, 0.13, 0.135, 0.155, 0.175, 0.155, 0.13, 0.16, 0.155, 0.125, 0.16, 0.155, 0.14, 0.14, 0.15, 0.165, 0.165, 0.165, 0.145, 0.17, 0.15, 0.155, 0.23, 0.17, 0.145, 0.165, 0.16, 0.16, 0.175, 0.165, 0.16, 0.15, 0.17, 0.185, 0.18, 0.195, 0.165, 0.16, 0.165, 0.155, 0.2, 0.145, 0.17, 0.18, 0.22, 0.04, 0.095, 0.09, 0.11, 0.11, 0.115, 0.11, 0.14, 0.155, 0.12, 0.16, 0.17, 0.18, 0.17, 0.155, 0.19, 0.2, 0.16, 0.17, 0.17, 0.17, 0.17, 0.165, 0.175, 0.175, 0.195, 0.19, 0.2, 0.225, 0.05, 0.07, 0.085, 0.075, 0.065, 0.085, 0.095, 0.09, 0.1, 0.105, 0.095, 0.12, 0.115, 0.12, 0.12, 0.105, 0.1, 0.125, 0.125, 0.12, 0.13, 0.14, 0.125, 0.14, 0.13, 0.14, 0.125, 0.125, 0.14, 0.155, 0.14, 0.125, 0.15, 0.14, 0.135, 0.15, 0.145, 0.15, 0.155, 0.145, 0.14, 0.135, 0.135, 0.135, 0.155, 0.165, 0.16, 0.16, 0.165, 0.15, 0.19, 0.165, 0.175, 0.18, 0.155, 0.155, 0.165, 0.135, 0.16, 0.17, 0.195, 0.175, 0.19, 0.17, 0.17, 0.16, 0.195, 0.205, 0.175, 0.175, 0.19, 0.17, 0.18, 0.195, 0.155, 0.195, 0.2, 0.185, 0.17, 0.195, 0.19, 0.175, 0.21, 0.17, 0.175, 0.185, 0.21, 0.075, 0.1, 0.115, 0.095, 0.115, 0.13, 0.105, 0.12, 0.15, 0.155, 0.145, 0.15, 0.15, 0.135, 0.115, 0.18, 0.19, 0.16, 0.165, 0.15, 0.18, 0.15, 0.17, 0.165, 0.17, 0.195, 0.205, 0.195, 0.065, 0.07, 0.085, 0.1, 0.1, 0.095, 0.11, 0.115, 0.135, 0.11, 0.14, 0.105, 0.12, 0.14, 0.14, 0.155, 0.13, 0.135, 0.115, 0.15, 0.145, 0.135, 0.14, 0.16, 0.145, 0.145, 0.125, 0.145, 0.12, 0.15, 0.14, 0.155, 0.155, 0.145, 0.125, 0.185, 0.185, 0.13, 0.175, 0.18, 0.155, 0.155, 0.185, 0.16, 0.15, 0.155, 0.175, 0.175, 0.175, 0.18, 0.175, 0.175, 0.21, 0.2, 0.175, 0.17, 0.205, 0.045, 0.075, 0.06, 0.1, 0.11, 0.095, 0.115, 0.13, 0.135, 0.125, 0.13, 0.17, 0.095, 0.095, 0.1, 0.12, 0.12, 0.14, 0.14, 0.145, 0.155, 0.175, 0.135, 0.17, 0.17, 0.185, 0.195, 0.175, 0.17, 0.12, 0.175, 0.115, 0.15, 0.075, 0.1, 0.1, 0.035, 0.095, 0.125, 0.145, 0.125, 0.145, 0.16, 0.155, 0.105, 0.085, 0.125, 0.22, 0.115, 0.11, 0.13, 0.15, 0.155, 0.155, 0.115, 0.085, 0.2, 0.165, 0.19, 0.15, 0.175, 0.125, 0.18, 0.065, 0.165, 0.165, 0.13, 0.135, 0.16, 0.165, 0.11, 0.115, 0.075, 0.15, 0.09, 0.16, 0.225, 0.115, 0.17, 0.1, 0.13, 0.16, 0.12, 0.075, 0.105, 0.12, 0.155, 0.1, 0.2, 0.14, 0.18, 0.15, 0.125, 0.135, 0.18, 0.19, 0.165, 0.15, 0.035, 0.14, 0.125, 0.02, 0.235, 0.165, 0.095, 0.065, 0.15, 0.135, 0.125, 0.135, 0.1, 0.14, 0.145, 0.14, 0.165, 0.16, 0.19, 0.19, 0.135, 0.085, 0.095, 0.14, 0.08, 0.165, 0.115, 0.16, 0.155, 0.22, 0.215, 0.185, 0.165, 0.115, 0.06, 0.08, 0.115, 0.115, 0.11, 0.065, 0.145, 0.105, 0.16, 0.115, 0.175, 0.16, 0.065, 0.165, 0.14, 0.165, 0.15, 0.13, 0.11, 0.08, 0.12, 0.105, 0.12, 0.14, 0.155, 0.18, 0.19, 0.195, 0.205, 0.195, 0.075, 0.06, 0.07, 0.065, 0.07, 0.095, 0.09, 0.09, 0.095, 0.12, 0.1, 0.115, 0.135, 0.135, 0.12, 0.12, 0.115, 0.115, 0.15, 0.15, 0.125, 0.155, 0.185, 0.17, 0.185, 0.165, 0.195, 0.2, 0.18, 0.23, 0.235, 0.045, 0.055, 0.1395163993296614, 0.09, 0.08, 0.095, 0.135, 0.105, 0.125, 0.125, 0.125, 0.14, 0.15, 0.15, 0.155, 0.16, 0.15, 0.17, 0.14, 0.175, 0.175, 0.145, 0.175, 0.19, 0.155, 0.155, 0.175, 0.195, 0.195, 0.07, 0.065, 0.085, 0.09, 0.09, 0.1, 0.11, 0.1, 0.11, 0.09, 0.125, 0.125, 0.14, 0.14, 0.155, 0.125, 0.155, 0.12, 0.15, 0.165, 0.135, 0.155, 0.16, 0.155, 0.145, 0.16, 0.155, 0.175, 0.175, 0.145, 0.165, 0.18, 0.15, 0.165, 0.185, 0.185, 0.12, 0.13, 0.145, 0.15, 0.16, 0.18, 0.08, 0.085, 0.115, 0.1, 0.105, 0.125, 0.11, 0.12, 0.125, 0.14, 0.15, 0.14, 0.125, 0.18, 0.13, 0.125, 0.145, 0.15, 0.16, 0.17, 0.16, 0.155, 0.155, 0.13, 0.155, 0.205, 0.18, 0.19, 0.18, 0.175, 0.155, 0.175, 0.18, 0.16, 0.18, 0.175, 0.15, 0.185, 0.215, 0.175, 0.18, 0.205, 0.1, 0.1, 0.13, 0.155, 0.14, 0.18, 0.14, 0.15, 0.155, 0.16, 0.175, 0.185, 0.05, 0.09, 0.13, 0.11, 0.115, 0.12, 0.135, 0.145, 0.11, 0.145, 0.14, 0.14, 0.145, 0.17, 0.15, 0.14, 0.17, 0.155, 0.155, 0.155, 0.175, 0.19, 0.165, 0.18, 0.22, 0.19, 0.2, 0.21, 0.195, 0.175, 0.07, 0.08, 0.075, 0.09, 0.115, 0.095, 0.11, 0.11, 0.14, 0.11, 0.135, 0.165, 0.17, 0.1, 0.085, 0.1, 0.085, 0.115, 0.125, 0.125, 0.165, 0.13, 0.155, 0.165, 0.135, 0.205, 0.15, 0.195], \"yaxis\": \"y2\"}],\n",
              "                        {\"annotations\": [{\"font\": {\"size\": 16}, \"showarrow\": false, \"text\": \"Distribution for Height\", \"x\": 0.225, \"xanchor\": \"center\", \"xref\": \"paper\", \"y\": 1.0, \"yanchor\": \"bottom\", \"yref\": \"paper\"}, {\"font\": {\"size\": 16}, \"showarrow\": false, \"text\": \"Whiscker plot for  height\", \"x\": 0.775, \"xanchor\": \"center\", \"xref\": \"paper\", \"y\": 1.0, \"yanchor\": \"bottom\", \"yref\": \"paper\"}], \"template\": {\"data\": {\"bar\": [{\"error_x\": {\"color\": \"#2a3f5f\"}, \"error_y\": {\"color\": \"#2a3f5f\"}, \"marker\": {\"line\": {\"color\": \"#E5ECF6\", \"width\": 0.5}}, \"type\": \"bar\"}], \"barpolar\": [{\"marker\": {\"line\": {\"color\": \"#E5ECF6\", \"width\": 0.5}}, \"type\": \"barpolar\"}], \"carpet\": [{\"aaxis\": {\"endlinecolor\": \"#2a3f5f\", \"gridcolor\": \"white\", \"linecolor\": \"white\", \"minorgridcolor\": \"white\", \"startlinecolor\": \"#2a3f5f\"}, \"baxis\": {\"endlinecolor\": \"#2a3f5f\", \"gridcolor\": \"white\", \"linecolor\": \"white\", \"minorgridcolor\": \"white\", \"startlinecolor\": \"#2a3f5f\"}, \"type\": \"carpet\"}], \"choropleth\": [{\"colorbar\": {\"outlinewidth\": 0, \"ticks\": \"\"}, \"type\": \"choropleth\"}], \"contour\": [{\"colorbar\": {\"outlinewidth\": 0, \"ticks\": \"\"}, \"colorscale\": [[0.0, \"#0d0887\"], [0.1111111111111111, \"#46039f\"], [0.2222222222222222, \"#7201a8\"], [0.3333333333333333, \"#9c179e\"], [0.4444444444444444, \"#bd3786\"], [0.5555555555555556, \"#d8576b\"], [0.6666666666666666, \"#ed7953\"], [0.7777777777777778, \"#fb9f3a\"], [0.8888888888888888, \"#fdca26\"], [1.0, \"#f0f921\"]], \"type\": \"contour\"}], \"contourcarpet\": [{\"colorbar\": {\"outlinewidth\": 0, \"ticks\": \"\"}, \"type\": \"contourcarpet\"}], \"heatmap\": [{\"colorbar\": {\"outlinewidth\": 0, \"ticks\": \"\"}, \"colorscale\": [[0.0, \"#0d0887\"], [0.1111111111111111, \"#46039f\"], [0.2222222222222222, \"#7201a8\"], [0.3333333333333333, \"#9c179e\"], [0.4444444444444444, \"#bd3786\"], [0.5555555555555556, \"#d8576b\"], [0.6666666666666666, \"#ed7953\"], [0.7777777777777778, \"#fb9f3a\"], [0.8888888888888888, \"#fdca26\"], [1.0, \"#f0f921\"]], \"type\": \"heatmap\"}], \"heatmapgl\": [{\"colorbar\": {\"outlinewidth\": 0, \"ticks\": \"\"}, \"colorscale\": [[0.0, \"#0d0887\"], [0.1111111111111111, \"#46039f\"], [0.2222222222222222, \"#7201a8\"], [0.3333333333333333, \"#9c179e\"], [0.4444444444444444, \"#bd3786\"], [0.5555555555555556, \"#d8576b\"], [0.6666666666666666, \"#ed7953\"], [0.7777777777777778, \"#fb9f3a\"], [0.8888888888888888, \"#fdca26\"], [1.0, \"#f0f921\"]], \"type\": \"heatmapgl\"}], \"histogram\": [{\"marker\": {\"colorbar\": {\"outlinewidth\": 0, \"ticks\": \"\"}}, \"type\": \"histogram\"}], \"histogram2d\": [{\"colorbar\": {\"outlinewidth\": 0, \"ticks\": \"\"}, \"colorscale\": [[0.0, \"#0d0887\"], [0.1111111111111111, \"#46039f\"], [0.2222222222222222, \"#7201a8\"], [0.3333333333333333, \"#9c179e\"], [0.4444444444444444, \"#bd3786\"], [0.5555555555555556, \"#d8576b\"], [0.6666666666666666, \"#ed7953\"], [0.7777777777777778, \"#fb9f3a\"], [0.8888888888888888, \"#fdca26\"], [1.0, \"#f0f921\"]], \"type\": \"histogram2d\"}], \"histogram2dcontour\": [{\"colorbar\": {\"outlinewidth\": 0, \"ticks\": \"\"}, \"colorscale\": [[0.0, \"#0d0887\"], [0.1111111111111111, \"#46039f\"], [0.2222222222222222, \"#7201a8\"], [0.3333333333333333, \"#9c179e\"], [0.4444444444444444, \"#bd3786\"], [0.5555555555555556, \"#d8576b\"], [0.6666666666666666, \"#ed7953\"], [0.7777777777777778, \"#fb9f3a\"], [0.8888888888888888, \"#fdca26\"], [1.0, \"#f0f921\"]], \"type\": \"histogram2dcontour\"}], \"mesh3d\": [{\"colorbar\": {\"outlinewidth\": 0, \"ticks\": \"\"}, \"type\": \"mesh3d\"}], \"parcoords\": [{\"line\": {\"colorbar\": {\"outlinewidth\": 0, \"ticks\": \"\"}}, \"type\": \"parcoords\"}], \"pie\": [{\"automargin\": true, \"type\": \"pie\"}], \"scatter\": [{\"marker\": {\"colorbar\": {\"outlinewidth\": 0, \"ticks\": \"\"}}, \"type\": \"scatter\"}], \"scatter3d\": [{\"line\": {\"colorbar\": {\"outlinewidth\": 0, \"ticks\": \"\"}}, \"marker\": {\"colorbar\": {\"outlinewidth\": 0, \"ticks\": \"\"}}, \"type\": \"scatter3d\"}], \"scattercarpet\": [{\"marker\": {\"colorbar\": {\"outlinewidth\": 0, \"ticks\": \"\"}}, \"type\": \"scattercarpet\"}], \"scattergeo\": [{\"marker\": {\"colorbar\": {\"outlinewidth\": 0, \"ticks\": \"\"}}, \"type\": \"scattergeo\"}], \"scattergl\": [{\"marker\": {\"colorbar\": {\"outlinewidth\": 0, \"ticks\": \"\"}}, \"type\": \"scattergl\"}], \"scattermapbox\": [{\"marker\": {\"colorbar\": {\"outlinewidth\": 0, \"ticks\": \"\"}}, \"type\": \"scattermapbox\"}], \"scatterpolar\": [{\"marker\": {\"colorbar\": {\"outlinewidth\": 0, \"ticks\": \"\"}}, \"type\": \"scatterpolar\"}], \"scatterpolargl\": [{\"marker\": {\"colorbar\": {\"outlinewidth\": 0, \"ticks\": \"\"}}, \"type\": \"scatterpolargl\"}], \"scatterternary\": [{\"marker\": {\"colorbar\": {\"outlinewidth\": 0, \"ticks\": \"\"}}, \"type\": \"scatterternary\"}], \"surface\": [{\"colorbar\": {\"outlinewidth\": 0, \"ticks\": \"\"}, \"colorscale\": [[0.0, \"#0d0887\"], [0.1111111111111111, \"#46039f\"], [0.2222222222222222, \"#7201a8\"], [0.3333333333333333, \"#9c179e\"], [0.4444444444444444, \"#bd3786\"], [0.5555555555555556, \"#d8576b\"], [0.6666666666666666, \"#ed7953\"], [0.7777777777777778, \"#fb9f3a\"], [0.8888888888888888, \"#fdca26\"], [1.0, \"#f0f921\"]], \"type\": \"surface\"}], \"table\": [{\"cells\": {\"fill\": {\"color\": \"#EBF0F8\"}, \"line\": {\"color\": \"white\"}}, \"header\": {\"fill\": {\"color\": \"#C8D4E3\"}, \"line\": {\"color\": \"white\"}}, \"type\": \"table\"}]}, \"layout\": {\"annotationdefaults\": {\"arrowcolor\": \"#2a3f5f\", \"arrowhead\": 0, \"arrowwidth\": 1}, \"coloraxis\": {\"colorbar\": {\"outlinewidth\": 0, \"ticks\": \"\"}}, \"colorscale\": {\"diverging\": [[0, \"#8e0152\"], [0.1, \"#c51b7d\"], [0.2, \"#de77ae\"], [0.3, \"#f1b6da\"], [0.4, \"#fde0ef\"], [0.5, \"#f7f7f7\"], [0.6, \"#e6f5d0\"], [0.7, \"#b8e186\"], [0.8, \"#7fbc41\"], [0.9, \"#4d9221\"], [1, \"#276419\"]], \"sequential\": [[0.0, \"#0d0887\"], [0.1111111111111111, \"#46039f\"], [0.2222222222222222, \"#7201a8\"], [0.3333333333333333, \"#9c179e\"], [0.4444444444444444, \"#bd3786\"], [0.5555555555555556, \"#d8576b\"], [0.6666666666666666, \"#ed7953\"], [0.7777777777777778, \"#fb9f3a\"], [0.8888888888888888, \"#fdca26\"], [1.0, \"#f0f921\"]], \"sequentialminus\": [[0.0, \"#0d0887\"], [0.1111111111111111, \"#46039f\"], [0.2222222222222222, \"#7201a8\"], [0.3333333333333333, \"#9c179e\"], [0.4444444444444444, \"#bd3786\"], [0.5555555555555556, \"#d8576b\"], [0.6666666666666666, \"#ed7953\"], [0.7777777777777778, \"#fb9f3a\"], [0.8888888888888888, \"#fdca26\"], [1.0, \"#f0f921\"]]}, \"colorway\": [\"#636efa\", \"#EF553B\", \"#00cc96\", \"#ab63fa\", \"#FFA15A\", \"#19d3f3\", \"#FF6692\", \"#B6E880\", \"#FF97FF\", \"#FECB52\"], \"font\": {\"color\": \"#2a3f5f\"}, \"geo\": {\"bgcolor\": \"white\", \"lakecolor\": \"white\", \"landcolor\": \"#E5ECF6\", \"showlakes\": true, \"showland\": true, \"subunitcolor\": \"white\"}, \"hoverlabel\": {\"align\": \"left\"}, \"hovermode\": \"closest\", \"mapbox\": {\"style\": \"light\"}, \"paper_bgcolor\": \"white\", \"plot_bgcolor\": \"#E5ECF6\", \"polar\": {\"angularaxis\": {\"gridcolor\": \"white\", \"linecolor\": \"white\", \"ticks\": \"\"}, \"bgcolor\": \"#E5ECF6\", \"radialaxis\": {\"gridcolor\": \"white\", \"linecolor\": \"white\", \"ticks\": \"\"}}, \"scene\": {\"xaxis\": {\"backgroundcolor\": \"#E5ECF6\", \"gridcolor\": \"white\", \"gridwidth\": 2, \"linecolor\": \"white\", \"showbackground\": true, \"ticks\": \"\", \"zerolinecolor\": \"white\"}, \"yaxis\": {\"backgroundcolor\": \"#E5ECF6\", \"gridcolor\": \"white\", \"gridwidth\": 2, \"linecolor\": \"white\", \"showbackground\": true, \"ticks\": \"\", \"zerolinecolor\": \"white\"}, \"zaxis\": {\"backgroundcolor\": \"#E5ECF6\", \"gridcolor\": \"white\", \"gridwidth\": 2, \"linecolor\": \"white\", \"showbackground\": true, \"ticks\": \"\", \"zerolinecolor\": \"white\"}}, \"shapedefaults\": {\"line\": {\"color\": \"#2a3f5f\"}}, \"ternary\": {\"aaxis\": {\"gridcolor\": \"white\", \"linecolor\": \"white\", \"ticks\": \"\"}, \"baxis\": {\"gridcolor\": \"white\", \"linecolor\": \"white\", \"ticks\": \"\"}, \"bgcolor\": \"#E5ECF6\", \"caxis\": {\"gridcolor\": \"white\", \"linecolor\": \"white\", \"ticks\": \"\"}}, \"title\": {\"x\": 0.05}, \"xaxis\": {\"automargin\": true, \"gridcolor\": \"white\", \"linecolor\": \"white\", \"ticks\": \"\", \"title\": {\"standoff\": 15}, \"zerolinecolor\": \"white\", \"zerolinewidth\": 2}, \"yaxis\": {\"automargin\": true, \"gridcolor\": \"white\", \"linecolor\": \"white\", \"ticks\": \"\", \"title\": {\"standoff\": 15}, \"zerolinecolor\": \"white\", \"zerolinewidth\": 2}}}, \"xaxis\": {\"anchor\": \"y\", \"domain\": [0.0, 0.45]}, \"xaxis2\": {\"anchor\": \"y2\", \"domain\": [0.55, 1.0]}, \"yaxis\": {\"anchor\": \"x\", \"domain\": [0.0, 1.0]}, \"yaxis2\": {\"anchor\": \"x2\", \"domain\": [0.0, 1.0]}},\n",
              "                        {\"responsive\": true}\n",
              "                    ).then(function(){\n",
              "                            \n",
              "var gd = document.getElementById('437b741f-4207-4022-a0f4-95d3045daa5c');\n",
              "var x = new MutationObserver(function (mutations, observer) {{\n",
              "        var display = window.getComputedStyle(gd).display;\n",
              "        if (!display || display === 'none') {{\n",
              "            console.log([gd, 'removed!']);\n",
              "            Plotly.purge(gd);\n",
              "            observer.disconnect();\n",
              "        }}\n",
              "}});\n",
              "\n",
              "// Listen for the removal of the full notebook cells\n",
              "var notebookContainer = gd.closest('#notebook-container');\n",
              "if (notebookContainer) {{\n",
              "    x.observe(notebookContainer, {childList: true});\n",
              "}}\n",
              "\n",
              "// Listen for the clearing of the current output cell\n",
              "var outputEl = gd.closest('.output');\n",
              "if (outputEl) {{\n",
              "    x.observe(outputEl, {childList: true});\n",
              "}}\n",
              "\n",
              "                        })\n",
              "                };\n",
              "                \n",
              "            </script>\n",
              "        </div>\n",
              "</body>\n",
              "</html>"
            ]
          },
          "metadata": {}
        }
      ]
    },
    {
      "cell_type": "markdown",
      "source": [
        "After looking at the distribution of the data and the box plot we can observe that the data is nearly normally distributed, has little outliers"
      ],
      "metadata": {
        "id": "INSXiwevEss2"
      }
    },
    {
      "cell_type": "code",
      "source": [
        "df.columns"
      ],
      "metadata": {
        "colab": {
          "base_uri": "https://localhost:8080/"
        },
        "id": "SlRV4WrWFAj7",
        "outputId": "0ce16b48-dc78-43fd-c85d-e89f9c486003"
      },
      "execution_count": 14,
      "outputs": [
        {
          "output_type": "execute_result",
          "data": {
            "text/plain": [
              "Index(['sex', 'length', 'diameter', 'height', 'whole_weight', 'shucked_weight',\n",
              "       'viscera_weight', 'shell_weight', 'Age'],\n",
              "      dtype='object')"
            ]
          },
          "metadata": {},
          "execution_count": 14
        }
      ]
    },
    {
      "cell_type": "code",
      "source": [
        "\n",
        "fig = make_subplots(rows=1, cols=2, subplot_titles=('Distribution for lenght', \"Whiscker plot for  length\"))\n",
        "fig.add_trace(go.Histogram(x=df['length']), row=1, col=1)\n",
        "fig.add_trace(\n",
        "    go.Violin(y=df['length'], box_visible=True, line_color='black',\n",
        "                               meanline_visible=True, fillcolor='lightseagreen', opacity=0.6,\n",
        "                               x0='length')\n",
        "    \n",
        "    , row=1, col=2)\n",
        "\n",
        "fig.show()\n"
      ],
      "metadata": {
        "colab": {
          "base_uri": "https://localhost:8080/",
          "height": 542
        },
        "id": "TVAwQ-kHsQoG",
        "outputId": "7d4a7d70-ef8d-4111-91d2-a816e9fb682a"
      },
      "execution_count": 15,
      "outputs": [
        {
          "output_type": "display_data",
          "data": {
            "text/html": [
              "<html>\n",
              "<head><meta charset=\"utf-8\" /></head>\n",
              "<body>\n",
              "    <div>\n",
              "            <script src=\"https://cdnjs.cloudflare.com/ajax/libs/mathjax/2.7.5/MathJax.js?config=TeX-AMS-MML_SVG\"></script><script type=\"text/javascript\">if (window.MathJax) {MathJax.Hub.Config({SVG: {font: \"STIX-Web\"}});}</script>\n",
              "                <script type=\"text/javascript\">window.PlotlyConfig = {MathJaxConfig: 'local'};</script>\n",
              "        <script src=\"https://cdn.plot.ly/plotly-latest.min.js\"></script>    \n",
              "            <div id=\"131097e8-8ce1-4d79-98fd-521735d034d3\" class=\"plotly-graph-div\" style=\"height:525px; width:100%;\"></div>\n",
              "            <script type=\"text/javascript\">\n",
              "                \n",
              "                    window.PLOTLYENV=window.PLOTLYENV || {};\n",
              "                    \n",
              "                if (document.getElementById(\"131097e8-8ce1-4d79-98fd-521735d034d3\")) {\n",
              "                    Plotly.newPlot(\n",
              "                        '131097e8-8ce1-4d79-98fd-521735d034d3',\n",
              "                        [{\"type\": \"histogram\", \"x\": [0.455, 0.35, 0.53, 0.44, 0.33, 0.425, 0.53, 0.545, 0.475, 0.55, 0.525, 0.43, 0.49, 0.535, 0.47, 0.5, 0.355, 0.44, 0.365, 0.45, 0.355, 0.38, 0.565, 0.55, 0.615, 0.56, 0.58, 0.59, 0.605, 0.575, 0.58, 0.68, 0.665, 0.68, 0.705, 0.465, 0.54, 0.45, 0.575, 0.355, 0.45, 0.55, 0.24, 0.205, 0.21, 0.39, 0.47, 0.46, 0.325, 0.525, 0.52, 0.4, 0.485, 0.47, 0.405, 0.5, 0.445, 0.47, 0.245, 0.505, 0.45, 0.505, 0.53, 0.425, 0.52, 0.475, 0.565, 0.595, 0.475, 0.31, 0.555, 0.4, 0.595, 0.57, 0.605, 0.6, 0.595, 0.6, 0.555, 0.615, 0.575, 0.62, 0.52, 0.595, 0.58, 0.57, 0.625, 0.56, 0.46, 0.575, 0.565, 0.555, 0.595, 0.625, 0.695, 0.665, 0.535, 0.47, 0.47, 0.475, 0.36, 0.55, 0.53, 0.53, 0.605, 0.52, 0.545, 0.5, 0.51, 0.435, 0.495, 0.465, 0.435, 0.425, 0.545, 0.53, 0.49, 0.44, 0.56, 0.405, 0.47, 0.385, 0.515, 0.37, 0.36, 0.27, 0.375, 0.385, 0.7, 0.71, 0.595, 0.44, 0.325, 0.35, 0.265, 0.425, 0.305, 0.345, 0.405, 0.375, 0.565, 0.55, 0.65, 0.56, 0.475, 0.49, 0.46, 0.28, 0.175, 0.17, 0.59, 0.605, 0.635, 0.605, 0.565, 0.515, 0.575, 0.645, 0.58, 0.575, 0.605, 0.605, 0.61, 0.725, 0.65, 0.725, 0.725, 0.68, 0.705, 0.68, 0.695, 0.53, 0.525, 0.52, 0.235, 0.36, 0.315, 0.315, 0.225, 0.58, 0.57, 0.64, 0.56, 0.62, 0.645, 0.62, 0.63, 0.63, 0.63, 0.585, 0.615, 0.61, 0.58, 0.355, 0.51, 0.5, 0.505, 0.64, 0.56, 0.585, 0.45, 0.5, 0.5, 0.53, 0.42, 0.44, 0.4, 0.435, 0.525, 0.37, 0.49, 0.335, 0.415, 0.5, 0.485, 0.55, 0.45, 0.405, 0.47, 0.415, 0.445, 0.47, 0.49, 0.445, 0.425, 0.5, 0.39, 0.365, 0.58, 0.53, 0.555, 0.565, 0.625, 0.275, 0.44, 0.295, 0.075, 0.13, 0.11, 0.16, 0.565, 0.27, 0.23, 0.3, 0.33, 0.35, 0.32, 0.36, 0.305, 0.345, 0.33, 0.59, 0.595, 0.575, 0.6, 0.56, 0.56, 0.545, 0.635, 0.59, 0.54, 0.57, 0.53, 0.245, 0.27, 0.46, 0.52, 0.35, 0.47, 0.45, 0.64, 0.59, 0.62, 0.63, 0.63, 0.655, 0.66, 0.61, 0.635, 0.515, 0.535, 0.36, 0.455, 0.485, 0.515, 0.535, 0.53, 0.495, 0.44, 0.535, 0.54, 0.565, 0.61, 0.565, 0.6, 0.295, 0.275, 0.28, 0.49, 0.37, 0.405, 0.54, 0.37, 0.36, 0.47, 0.2, 0.165, 0.645, 0.55, 0.57, 0.63, 0.56, 0.595, 0.62, 0.63, 0.45, 0.635, 0.45, 0.58, 0.33, 0.265, 0.19, 0.385, 0.265, 0.335, 0.355, 0.32, 0.51, 0.36, 0.36, 0.5, 0.4, 0.3, 0.235, 0.74, 0.62, 0.6, 0.59, 0.62, 0.565, 0.575, 0.62, 0.62, 0.505, 0.46, 0.49, 0.525, 0.34, 0.375, 0.61, 0.61, 0.585, 0.57, 0.58, 0.635, 0.7, 0.675, 0.645, 0.745, 0.685, 0.605, 0.59, 0.65, 0.6, 0.62, 0.63, 0.58, 0.58, 0.63, 0.69, 0.65, 0.66, 0.68, 0.7, 0.685, 0.675, 0.63, 0.585, 0.565, 0.61, 0.605, 0.535, 0.485, 0.47, 0.545, 0.455, 0.54, 0.46, 0.49, 0.465, 0.415, 0.475, 0.47, 0.365, 0.345, 0.39, 0.5, 0.47, 0.535, 0.585, 0.485, 0.515, 0.435, 0.515, 0.44, 0.525, 0.45, 0.59, 0.555, 0.57, 0.59, 0.585, 0.58, 0.545, 0.605, 0.62, 0.63, 0.63, 0.63, 0.545, 0.67, 0.49, 0.49, 0.29, 0.26, 0.58, 0.61, 0.6, 0.56, 0.575, 0.57, 0.6, 0.565, 0.545, 0.44, 0.5, 0.36, 0.385, 0.39, 0.5, 0.36, 0.335, 0.505, 0.395, 0.41, 0.56, 0.565, 0.565, 0.605, 0.565, 0.725, 0.675, 0.665, 0.565, 0.645, 0.575, 0.64, 0.36, 0.415, 0.525, 0.38, 0.585, 0.24, 0.22, 0.255, 0.175, 0.67, 0.655, 0.68, 0.675, 0.53, 0.515, 0.43, 0.52, 0.545, 0.53, 0.465, 0.665, 0.735, 0.66, 0.7, 0.575, 0.57, 0.58, 0.63, 0.585, 0.55, 0.625, 0.54, 0.57, 0.59, 0.58, 0.655, 0.655, 0.625, 0.625, 0.64, 0.605, 0.615, 0.555, 0.58, 0.62, 0.62, 0.6, 0.625, 0.6, 0.56, 0.585, 0.56, 0.56, 0.68, 0.455, 0.49, 0.31, 0.275, 0.27, 0.4, 0.28, 0.325, 0.345, 0.21, 0.36, 0.365, 0.2, 0.235, 0.175, 0.155, 0.57, 0.57, 0.385, 0.53, 0.46, 0.47, 0.435, 0.47, 0.465, 0.52, 0.29, 0.275, 0.375, 0.5, 0.44, 0.42, 0.445, 0.38, 0.32, 0.255, 0.205, 0.565, 0.555, 0.65, 0.615, 0.56, 0.48, 0.485, 0.5, 0.525, 0.66, 0.66, 0.52, 0.44, 0.515, 0.475, 0.545, 0.47, 0.35, 0.485, 0.435, 0.28, 0.41, 0.45, 0.45, 0.59, 0.57, 0.61, 0.61, 0.56, 0.585, 0.58, 0.63, 0.625, 0.55, 0.645, 0.46, 0.41, 0.495, 0.52, 0.55, 0.45, 0.405, 0.51, 0.37, 0.525, 0.66, 0.535, 0.575, 0.55, 0.605, 0.605, 0.56, 0.535, 0.385, 0.39, 0.47, 0.515, 0.425, 0.345, 0.485, 0.37, 0.35, 0.44, 0.195, 0.325, 0.495, 0.45, 0.415, 0.47, 0.32, 0.31, 0.235, 0.345, 0.485, 0.5, 0.5, 0.465, 0.525, 0.425, 0.38, 0.53, 0.34, 0.475, 0.43, 0.46, 0.47, 0.36, 0.355, 0.38, 0.355, 0.44, 0.51, 0.325, 0.62, 0.59, 0.33, 0.45, 0.445, 0.33, 0.48, 0.46, 0.475, 0.255, 0.335, 0.47, 0.31, 0.37, 0.295, 0.555, 0.615, 0.58, 0.585, 0.65, 0.535, 0.415, 0.38, 0.45, 0.395, 0.455, 0.485, 0.55, 0.45, 0.475, 0.5, 0.53, 0.49, 0.49, 0.52, 0.54, 0.5, 0.45, 0.37, 0.37, 0.485, 0.435, 0.535, 0.51, 0.565, 0.535, 0.535, 0.525, 0.59, 0.5, 0.255, 0.43, 0.38, 0.165, 0.315, 0.155, 0.28, 0.43, 0.395, 0.385, 0.48, 0.445, 0.395, 0.4, 0.415, 0.315, 0.345, 0.36, 0.295, 0.325, 0.375, 0.28, 0.355, 0.35, 0.275, 0.29, 0.25, 0.18, 0.15, 0.16, 0.555, 0.555, 0.525, 0.465, 0.49, 0.4, 0.48, 0.505, 0.52, 0.525, 0.545, 0.52, 0.505, 0.525, 0.51, 0.52, 0.52, 0.535, 0.445, 0.53, 0.36, 0.535, 0.52, 0.53, 0.53, 0.66, 0.52, 0.535, 0.695, 0.51, 0.485, 0.605, 0.58, 0.65, 0.62, 0.615, 0.605, 0.57, 0.57, 0.585, 0.55, 0.54, 0.64, 0.61, 0.545, 0.59, 0.345, 0.55, 0.53, 0.53, 0.485, 0.385, 0.455, 0.49, 0.53, 0.505, 0.49, 0.465, 0.47, 0.56, 0.505, 0.515, 0.385, 0.215, 0.55, 0.515, 0.495, 0.505, 0.6, 0.57, 0.485, 0.47, 0.575, 0.58, 0.515, 0.53, 0.44, 0.52, 0.425, 0.46, 0.45, 0.425, 0.37, 0.515, 0.405, 0.28, 0.48, 0.44, 0.52, 0.505, 0.49, 0.235, 0.255, 0.315, 0.325, 0.335, 0.35, 0.35, 0.36, 0.365, 0.37, 0.38, 0.385, 0.385, 0.395, 0.395, 0.4, 0.41, 0.415, 0.415, 0.425, 0.44, 0.445, 0.445, 0.45, 0.47, 0.475, 0.48, 0.485, 0.49, 0.495, 0.5, 0.505, 0.525, 0.54, 0.54, 0.545, 0.55, 0.55, 0.55, 0.555, 0.565, 0.57, 0.57, 0.575, 0.59, 0.59, 0.595, 0.595, 0.595, 0.595, 0.6, 0.6, 0.6, 0.605, 0.605, 0.615, 0.615, 0.615, 0.615, 0.62, 0.62, 0.625, 0.625, 0.63, 0.635, 0.635, 0.635, 0.64, 0.65, 0.655, 0.655, 0.66, 0.66, 0.67, 0.675, 0.675, 0.68, 0.685, 0.695, 0.73, 0.205, 0.24, 0.24, 0.255, 0.255, 0.265, 0.28, 0.295, 0.3, 0.3, 0.305, 0.315, 0.315, 0.32, 0.325, 0.33, 0.335, 0.335, 0.34, 0.34, 0.345, 0.37, 0.37, 0.375, 0.385, 0.41, 0.41, 0.41, 0.415, 0.42, 0.42, 0.425, 0.425, 0.43, 0.43, 0.435, 0.435, 0.44, 0.44, 0.445, 0.445, 0.45, 0.45, 0.45, 0.45, 0.455, 0.455, 0.46, 0.46, 0.465, 0.465, 0.465, 0.465, 0.47, 0.47, 0.475, 0.475, 0.48, 0.48, 0.48, 0.48, 0.485, 0.49, 0.495, 0.495, 0.5, 0.5, 0.5, 0.5, 0.505, 0.505, 0.505, 0.505, 0.51, 0.51, 0.51, 0.51, 0.51, 0.515, 0.515, 0.525, 0.525, 0.53, 0.53, 0.53, 0.535, 0.535, 0.535, 0.55, 0.55, 0.56, 0.565, 0.57, 0.57, 0.57, 0.57, 0.57, 0.575, 0.575, 0.58, 0.58, 0.58, 0.58, 0.58, 0.59, 0.59, 0.59, 0.595, 0.595, 0.595, 0.595, 0.595, 0.605, 0.605, 0.605, 0.61, 0.61, 0.615, 0.62, 0.625, 0.625, 0.625, 0.625, 0.625, 0.63, 0.63, 0.63, 0.635, 0.635, 0.64, 0.64, 0.64, 0.645, 0.645, 0.645, 0.645, 0.645, 0.645, 0.645, 0.65, 0.65, 0.65, 0.655, 0.655, 0.66, 0.66, 0.66, 0.66, 0.67, 0.675, 0.675, 0.68, 0.69, 0.69, 0.695, 0.705, 0.71, 0.715, 0.715, 0.735, 0.765, 0.185, 0.195, 0.195, 0.2, 0.225, 0.245, 0.25, 0.265, 0.275, 0.28, 0.285, 0.3, 0.315, 0.32, 0.34, 0.37, 0.375, 0.375, 0.385, 0.4, 0.405, 0.41, 0.41, 0.42, 0.42, 0.42, 0.425, 0.43, 0.435, 0.435, 0.44, 0.445, 0.445, 0.445, 0.45, 0.45, 0.45, 0.45, 0.45, 0.46, 0.47, 0.47, 0.475, 0.475, 0.48, 0.49, 0.5, 0.5, 0.5, 0.5, 0.505, 0.51, 0.51, 0.51, 0.51, 0.515, 0.52, 0.52, 0.52, 0.52, 0.525, 0.525, 0.525, 0.525, 0.53, 0.535, 0.54, 0.545, 0.545, 0.545, 0.55, 0.55, 0.55, 0.56, 0.56, 0.56, 0.56, 0.565, 0.565, 0.565, 0.57, 0.57, 0.57, 0.575, 0.575, 0.575, 0.575, 0.575, 0.575, 0.575, 0.575, 0.58, 0.58, 0.58, 0.58, 0.58, 0.58, 0.585, 0.585, 0.59, 0.6, 0.6, 0.6, 0.6, 0.605, 0.605, 0.605, 0.605, 0.61, 0.61, 0.61, 0.615, 0.615, 0.615, 0.62, 0.62, 0.62, 0.625, 0.625, 0.63, 0.63, 0.635, 0.64, 0.645, 0.645, 0.65, 0.65, 0.655, 0.655, 0.66, 0.665, 0.665, 0.67, 0.685, 0.685, 0.69, 0.69, 0.69, 0.695, 0.7, 0.7, 0.7, 0.705, 0.71, 0.715, 0.715, 0.72, 0.72, 0.72, 0.725, 0.73, 0.735, 0.745, 0.75, 0.755, 0.755, 0.78, 0.185, 0.245, 0.25, 0.25, 0.275, 0.305, 0.31, 0.315, 0.315, 0.325, 0.33, 0.33, 0.335, 0.34, 0.345, 0.345, 0.35, 0.35, 0.36, 0.365, 0.365, 0.365, 0.37, 0.37, 0.375, 0.375, 0.375, 0.375, 0.375, 0.375, 0.38, 0.38, 0.385, 0.385, 0.385, 0.385, 0.39, 0.395, 0.395, 0.395, 0.4, 0.405, 0.41, 0.42, 0.425, 0.425, 0.425, 0.43, 0.43, 0.435, 0.44, 0.45, 0.455, 0.455, 0.455, 0.46, 0.46, 0.46, 0.465, 0.47, 0.47, 0.47, 0.475, 0.475, 0.475, 0.48, 0.48, 0.48, 0.495, 0.495, 0.495, 0.5, 0.5, 0.5, 0.5, 0.5, 0.5, 0.505, 0.505, 0.505, 0.515, 0.515, 0.515, 0.52, 0.52, 0.525, 0.525, 0.53, 0.53, 0.53, 0.53, 0.535, 0.535, 0.535, 0.535, 0.54, 0.54, 0.545, 0.545, 0.545, 0.545, 0.55, 0.55, 0.55, 0.55, 0.55, 0.555, 0.555, 0.555, 0.555, 0.56, 0.56, 0.56, 0.56, 0.565, 0.565, 0.565, 0.565, 0.57, 0.57, 0.57, 0.57, 0.57, 0.57, 0.575, 0.575, 0.575, 0.58, 0.58, 0.58, 0.585, 0.585, 0.585, 0.585, 0.585, 0.585, 0.585, 0.59, 0.59, 0.59, 0.595, 0.595, 0.6, 0.6, 0.6, 0.6, 0.6, 0.6, 0.605, 0.605, 0.605, 0.605, 0.605, 0.61, 0.61, 0.61, 0.61, 0.61, 0.61, 0.615, 0.615, 0.615, 0.615, 0.615, 0.615, 0.615, 0.62, 0.62, 0.62, 0.62, 0.625, 0.625, 0.625, 0.625, 0.63, 0.63, 0.63, 0.63, 0.63, 0.635, 0.635, 0.635, 0.635, 0.635, 0.64, 0.64, 0.645, 0.645, 0.645, 0.65, 0.65, 0.65, 0.65, 0.65, 0.655, 0.655, 0.655, 0.655, 0.66, 0.66, 0.665, 0.67, 0.67, 0.675, 0.685, 0.695, 0.7, 0.705, 0.705, 0.705, 0.71, 0.72, 0.72, 0.725, 0.73, 0.735, 0.745, 0.75, 0.815, 0.14, 0.23, 0.365, 0.365, 0.37, 0.375, 0.385, 0.395, 0.4, 0.4, 0.405, 0.405, 0.405, 0.41, 0.415, 0.425, 0.43, 0.44, 0.44, 0.44, 0.45, 0.455, 0.46, 0.47, 0.47, 0.47, 0.475, 0.475, 0.475, 0.48, 0.485, 0.485, 0.485, 0.495, 0.505, 0.505, 0.515, 0.515, 0.515, 0.52, 0.525, 0.53, 0.53, 0.545, 0.55, 0.55, 0.56, 0.56, 0.57, 0.575, 0.575, 0.58, 0.58, 0.585, 0.59, 0.59, 0.59, 0.595, 0.6, 0.6, 0.605, 0.605, 0.605, 0.61, 0.615, 0.62, 0.62, 0.62, 0.625, 0.625, 0.63, 0.63, 0.63, 0.63, 0.63, 0.635, 0.635, 0.64, 0.645, 0.645, 0.645, 0.65, 0.65, 0.65, 0.65, 0.655, 0.655, 0.66, 0.665, 0.67, 0.67, 0.67, 0.68, 0.68, 0.69, 0.7, 0.7, 0.705, 0.72, 0.725, 0.74, 0.75, 0.21, 0.285, 0.295, 0.3, 0.305, 0.335, 0.35, 0.355, 0.355, 0.36, 0.36, 0.36, 0.365, 0.37, 0.375, 0.38, 0.38, 0.385, 0.385, 0.385, 0.39, 0.39, 0.39, 0.41, 0.41, 0.415, 0.425, 0.425, 0.435, 0.435, 0.45, 0.45, 0.455, 0.46, 0.46, 0.465, 0.465, 0.47, 0.475, 0.475, 0.475, 0.48, 0.48, 0.48, 0.485, 0.49, 0.49, 0.495, 0.495, 0.5, 0.5, 0.5, 0.51, 0.515, 0.515, 0.515, 0.515, 0.515, 0.52, 0.52, 0.525, 0.525, 0.525, 0.525, 0.525, 0.53, 0.53, 0.53, 0.53, 0.535, 0.54, 0.54, 0.54, 0.54, 0.54, 0.54, 0.54, 0.545, 0.545, 0.545, 0.55, 0.55, 0.55, 0.55, 0.55, 0.555, 0.555, 0.555, 0.56, 0.56, 0.56, 0.565, 0.565, 0.565, 0.565, 0.57, 0.57, 0.57, 0.57, 0.57, 0.57, 0.575, 0.575, 0.575, 0.575, 0.575, 0.575, 0.575, 0.575, 0.575, 0.575, 0.575, 0.58, 0.58, 0.58, 0.58, 0.585, 0.59, 0.59, 0.59, 0.595, 0.595, 0.595, 0.595, 0.6, 0.6, 0.6, 0.6, 0.6, 0.6, 0.6, 0.605, 0.605, 0.605, 0.605, 0.605, 0.605, 0.61, 0.61, 0.61, 0.61, 0.61, 0.61, 0.61, 0.61, 0.615, 0.615, 0.62, 0.62, 0.62, 0.62, 0.62, 0.62, 0.62, 0.62, 0.62, 0.62, 0.625, 0.625, 0.625, 0.625, 0.625, 0.625, 0.63, 0.63, 0.63, 0.63, 0.63, 0.635, 0.635, 0.635, 0.635, 0.64, 0.64, 0.64, 0.645, 0.645, 0.645, 0.645, 0.645, 0.645, 0.645, 0.645, 0.645, 0.645, 0.645, 0.65, 0.65, 0.65, 0.65, 0.655, 0.655, 0.655, 0.655, 0.66, 0.66, 0.66, 0.66, 0.665, 0.665, 0.665, 0.665, 0.665, 0.67, 0.67, 0.67, 0.67, 0.67, 0.675, 0.675, 0.68, 0.68, 0.685, 0.685, 0.69, 0.7, 0.7, 0.705, 0.71, 0.71, 0.71, 0.71, 0.72, 0.72, 0.72, 0.725, 0.73, 0.735, 0.74, 0.75, 0.75, 0.77, 0.775, 0.275, 0.375, 0.375, 0.39, 0.435, 0.445, 0.455, 0.455, 0.455, 0.465, 0.465, 0.485, 0.485, 0.485, 0.49, 0.5, 0.515, 0.515, 0.525, 0.525, 0.53, 0.535, 0.535, 0.545, 0.545, 0.545, 0.55, 0.55, 0.57, 0.575, 0.575, 0.58, 0.585, 0.585, 0.6, 0.6, 0.605, 0.605, 0.61, 0.615, 0.62, 0.625, 0.625, 0.635, 0.635, 0.64, 0.645, 0.65, 0.65, 0.655, 0.655, 0.665, 0.675, 0.685, 0.695, 0.695, 0.705, 0.72, 0.72, 0.73, 0.185, 0.24, 0.31, 0.34, 0.35, 0.365, 0.365, 0.365, 0.39, 0.405, 0.41, 0.41, 0.415, 0.415, 0.415, 0.42, 0.43, 0.435, 0.435, 0.435, 0.435, 0.445, 0.465, 0.47, 0.475, 0.485, 0.485, 0.485, 0.495, 0.495, 0.495, 0.5, 0.505, 0.505, 0.51, 0.515, 0.515, 0.515, 0.52, 0.52, 0.52, 0.52, 0.52, 0.525, 0.525, 0.525, 0.53, 0.53, 0.53, 0.53, 0.535, 0.54, 0.54, 0.54, 0.545, 0.545, 0.55, 0.55, 0.555, 0.555, 0.555, 0.555, 0.555, 0.56, 0.565, 0.565, 0.565, 0.565, 0.565, 0.565, 0.57, 0.57, 0.57, 0.57, 0.57, 0.575, 0.575, 0.575, 0.575, 0.575, 0.575, 0.575, 0.575, 0.575, 0.575, 0.58, 0.58, 0.58, 0.58, 0.58, 0.595, 0.6, 0.6, 0.6, 0.6, 0.605, 0.605, 0.605, 0.61, 0.61, 0.61, 0.61, 0.615, 0.615, 0.615, 0.615, 0.62, 0.62, 0.62, 0.62, 0.62, 0.62, 0.625, 0.625, 0.625, 0.625, 0.625, 0.625, 0.63, 0.635, 0.635, 0.635, 0.635, 0.635, 0.635, 0.64, 0.64, 0.64, 0.64, 0.64, 0.64, 0.645, 0.645, 0.645, 0.65, 0.65, 0.65, 0.655, 0.655, 0.655, 0.66, 0.66, 0.665, 0.665, 0.665, 0.67, 0.675, 0.675, 0.68, 0.68, 0.685, 0.69, 0.695, 0.7, 0.7, 0.7, 0.705, 0.72, 0.72, 0.725, 0.75, 0.76, 0.135, 0.16, 0.21, 0.28, 0.28, 0.285, 0.29, 0.29, 0.29, 0.32, 0.325, 0.335, 0.35, 0.35, 0.355, 0.36, 0.36, 0.375, 0.375, 0.395, 0.405, 0.415, 0.425, 0.43, 0.435, 0.45, 0.46, 0.47, 0.47, 0.475, 0.505, 0.505, 0.505, 0.51, 0.515, 0.525, 0.53, 0.53, 0.545, 0.55, 0.56, 0.565, 0.57, 0.58, 0.59, 0.6, 0.605, 0.61, 0.625, 0.66, 0.255, 0.27, 0.28, 0.285, 0.32, 0.325, 0.385, 0.395, 0.4, 0.405, 0.415, 0.42, 0.44, 0.445, 0.45, 0.455, 0.46, 0.46, 0.465, 0.465, 0.475, 0.48, 0.485, 0.49, 0.5, 0.5, 0.505, 0.525, 0.535, 0.535, 0.54, 0.54, 0.545, 0.55, 0.55, 0.565, 0.58, 0.58, 0.585, 0.595, 0.6, 0.61, 0.61, 0.62, 0.645, 0.65, 0.665, 0.685, 0.69, 0.705, 0.71, 0.72, 0.72, 0.73, 0.775, 0.505, 0.53, 0.505, 0.405, 0.415, 0.5, 0.425, 0.47, 0.4, 0.37, 0.5, 0.41, 0.375, 0.49, 0.585, 0.595, 0.675, 0.665, 0.62, 0.325, 0.455, 0.525, 0.385, 0.13, 0.18, 0.31, 0.375, 0.48, 0.455, 0.425, 0.475, 0.435, 0.29, 0.385, 0.47, 0.5, 0.4, 0.62, 0.595, 0.585, 0.32, 0.52, 0.44, 0.44, 0.565, 0.56, 0.59, 0.57, 0.68, 0.45, 0.32, 0.46, 0.47, 0.455, 0.415, 0.465, 0.46, 0.415, 0.27, 0.445, 0.745, 0.4, 0.28, 0.55, 0.58, 0.61, 0.62, 0.56, 0.64, 0.69, 0.715, 0.71, 0.55, 0.375, 0.61, 0.38, 0.37, 0.335, 0.165, 0.285, 0.19, 0.215, 0.595, 0.645, 0.575, 0.57, 0.58, 0.595, 0.595, 0.625, 0.535, 0.55, 0.495, 0.32, 0.445, 0.52, 0.495, 0.47, 0.49, 0.58, 0.645, 0.575, 0.215, 0.43, 0.26, 0.37, 0.405, 0.27, 0.68, 0.65, 0.645, 0.57, 0.615, 0.42, 0.275, 0.29, 0.42, 0.625, 0.55, 0.66, 0.565, 0.595, 0.63, 0.43, 0.455, 0.33, 0.515, 0.495, 0.485, 0.535, 0.58, 0.625, 0.555, 0.55, 0.59, 0.355, 0.275, 0.505, 0.37, 0.555, 0.505, 0.56, 0.595, 0.57, 0.6, 0.56, 0.585, 0.46, 0.46, 0.415, 0.435, 0.475, 0.465, 0.355, 0.46, 0.38, 0.47, 0.36, 0.585, 0.655, 0.6, 0.57, 0.645, 0.65, 0.51, 0.52, 0.495, 0.43, 0.59, 0.55, 0.585, 0.58, 0.62, 0.59, 0.72, 0.635, 0.61, 0.545, 0.57, 0.6, 0.52, 0.635, 0.67, 0.695, 0.655, 0.62, 0.6, 0.51, 0.525, 0.44, 0.485, 0.495, 0.435, 0.405, 0.42, 0.5, 0.385, 0.33, 0.58, 0.325, 0.475, 0.38, 0.34, 0.525, 0.52, 0.535, 0.475, 0.415, 0.495, 0.48, 0.52, 0.46, 0.58, 0.59, 0.55, 0.65, 0.465, 0.455, 0.47, 0.435, 0.35, 0.315, 0.595, 0.58, 0.575, 0.535, 0.515, 0.505, 0.505, 0.4, 0.49, 0.53, 0.395, 0.665, 0.415, 0.43, 0.475, 0.525, 0.48, 0.42, 0.59, 0.515, 0.695, 0.8, 0.61, 0.565, 0.56, 0.655, 0.64, 0.59, 0.31, 0.255, 0.17, 0.67, 0.71, 0.56, 0.505, 0.525, 0.45, 0.515, 0.59, 0.7, 0.72, 0.635, 0.555, 0.575, 0.585, 0.61, 0.645, 0.545, 0.55, 0.66, 0.57, 0.6, 0.63, 0.695, 0.65, 0.72, 0.56, 0.42, 0.18, 0.405, 0.5, 0.435, 0.34, 0.43, 0.535, 0.415, 0.36, 0.175, 0.155, 0.525, 0.525, 0.44, 0.45, 0.485, 0.47, 0.515, 0.42, 0.455, 0.37, 0.33, 0.3, 0.625, 0.61, 0.625, 0.635, 0.5, 0.53, 0.445, 0.585, 0.44, 0.29, 0.555, 0.655, 0.58, 0.625, 0.62, 0.64, 0.505, 0.5, 0.31, 0.505, 0.42, 0.4, 0.425, 0.31, 0.465, 0.465, 0.35, 0.52, 0.475, 0.41, 0.26, 0.575, 0.565, 0.26, 0.53, 0.34, 0.52, 0.635, 0.61, 0.66, 0.635, 0.465, 0.515, 0.335, 0.515, 0.345, 0.465, 0.54, 0.475, 0.445, 0.5, 0.5, 0.55, 0.275, 0.35, 0.37, 0.42, 0.35, 0.395, 0.325, 0.275, 0.235, 0.25, 0.25, 0.2, 0.585, 0.445, 0.5, 0.44, 0.515, 0.52, 0.5, 0.425, 0.51, 0.37, 0.54, 0.615, 0.565, 0.645, 0.615, 0.605, 0.59, 0.645, 0.57, 0.47, 0.5, 0.52, 0.39, 0.52, 0.54, 0.46, 0.355, 0.49, 0.63, 0.5, 0.49, 0.44, 0.515, 0.475, 0.42, 0.4, 0.45, 0.52, 0.505, 0.495, 0.54, 0.48, 0.33, 0.285, 0.3, 0.31, 0.34, 0.375, 0.415, 0.415, 0.415, 0.42, 0.425, 0.465, 0.465, 0.47, 0.47, 0.475, 0.48, 0.5, 0.505, 0.525, 0.54, 0.545, 0.565, 0.58, 0.59, 0.59, 0.595, 0.6, 0.6, 0.6, 0.605, 0.625, 0.63, 0.64, 0.64, 0.655, 0.66, 0.66, 0.675, 0.675, 0.69, 0.695, 0.7, 0.73, 0.205, 0.225, 0.23, 0.275, 0.28, 0.28, 0.295, 0.31, 0.315, 0.34, 0.37, 0.38, 0.39, 0.405, 0.415, 0.44, 0.44, 0.44, 0.44, 0.45, 0.45, 0.455, 0.46, 0.46, 0.46, 0.465, 0.465, 0.475, 0.475, 0.48, 0.5, 0.5, 0.505, 0.515, 0.525, 0.525, 0.53, 0.53, 0.53, 0.54, 0.55, 0.555, 0.57, 0.57, 0.575, 0.58, 0.585, 0.59, 0.595, 0.595, 0.595, 0.6, 0.6, 0.6, 0.61, 0.615, 0.615, 0.615, 0.62, 0.62, 0.62, 0.625, 0.625, 0.625, 0.63, 0.63, 0.63, 0.635, 0.635, 0.645, 0.645, 0.65, 0.67, 0.69, 0.69, 0.695, 0.695, 0.7, 0.705, 0.765, 0.77, 0.22, 0.275, 0.29, 0.33, 0.355, 0.375, 0.415, 0.425, 0.425, 0.43, 0.44, 0.44, 0.46, 0.46, 0.465, 0.475, 0.475, 0.485, 0.49, 0.49, 0.495, 0.5, 0.5, 0.505, 0.51, 0.51, 0.515, 0.52, 0.545, 0.545, 0.545, 0.545, 0.55, 0.55, 0.555, 0.565, 0.57, 0.57, 0.57, 0.575, 0.58, 0.585, 0.585, 0.59, 0.59, 0.59, 0.595, 0.595, 0.595, 0.6, 0.605, 0.615, 0.615, 0.615, 0.615, 0.62, 0.62, 0.625, 0.625, 0.625, 0.63, 0.63, 0.63, 0.645, 0.645, 0.645, 0.65, 0.65, 0.65, 0.65, 0.65, 0.66, 0.665, 0.67, 0.67, 0.675, 0.68, 0.68, 0.7, 0.7, 0.725, 0.725, 0.735, 0.74, 0.75, 0.19, 0.21, 0.25, 0.29, 0.335, 0.34, 0.345, 0.355, 0.36, 0.37, 0.375, 0.375, 0.385, 0.385, 0.395, 0.4, 0.405, 0.405, 0.405, 0.405, 0.41, 0.41, 0.415, 0.42, 0.42, 0.43, 0.445, 0.45, 0.45, 0.455, 0.46, 0.46, 0.475, 0.48, 0.485, 0.485, 0.49, 0.505, 0.505, 0.51, 0.515, 0.515, 0.515, 0.525, 0.525, 0.525, 0.525, 0.535, 0.545, 0.55, 0.55, 0.55, 0.55, 0.55, 0.555, 0.555, 0.56, 0.56, 0.565, 0.57, 0.575, 0.58, 0.58, 0.58, 0.585, 0.585, 0.585, 0.585, 0.59, 0.59, 0.595, 0.6, 0.6, 0.6, 0.6, 0.61, 0.61, 0.615, 0.62, 0.62, 0.625, 0.625, 0.63, 0.63, 0.63, 0.63, 0.64, 0.64, 0.64, 0.64, 0.64, 0.65, 0.65, 0.66, 0.66, 0.675, 0.7, 0.705, 0.71, 0.72, 0.725, 0.24, 0.255, 0.275, 0.32, 0.325, 0.33, 0.36, 0.375, 0.375, 0.39, 0.45, 0.455, 0.46, 0.495, 0.5, 0.5, 0.52, 0.52, 0.525, 0.535, 0.54, 0.54, 0.57, 0.57, 0.58, 0.58, 0.59, 0.59, 0.59, 0.595, 0.6, 0.6, 0.605, 0.62, 0.625, 0.625, 0.625, 0.63, 0.63, 0.635, 0.645, 0.645, 0.65, 0.655, 0.655, 0.665, 0.695, 0.72, 0.72, 0.72, 0.735, 0.74, 0.31, 0.315, 0.32, 0.325, 0.335, 0.37, 0.37, 0.375, 0.4, 0.41, 0.425, 0.435, 0.445, 0.46, 0.465, 0.47, 0.475, 0.495, 0.5, 0.5, 0.505, 0.505, 0.505, 0.51, 0.51, 0.52, 0.52, 0.53, 0.53, 0.535, 0.54, 0.54, 0.545, 0.545, 0.55, 0.55, 0.55, 0.56, 0.56, 0.575, 0.575, 0.575, 0.58, 0.58, 0.58, 0.58, 0.58, 0.58, 0.585, 0.59, 0.59, 0.59, 0.595, 0.595, 0.6, 0.6, 0.6, 0.6, 0.6, 0.605, 0.605, 0.605, 0.61, 0.61, 0.61, 0.61, 0.615, 0.615, 0.615, 0.615, 0.62, 0.62, 0.625, 0.625, 0.625, 0.625, 0.625, 0.63, 0.63, 0.63, 0.63, 0.635, 0.635, 0.635, 0.635, 0.635, 0.64, 0.64, 0.645, 0.645, 0.645, 0.65, 0.65, 0.655, 0.655, 0.66, 0.66, 0.665, 0.67, 0.67, 0.67, 0.67, 0.67, 0.68, 0.68, 0.685, 0.69, 0.715, 0.72, 0.735, 0.745, 0.32, 0.43, 0.43, 0.485, 0.49, 0.5, 0.505, 0.51, 0.525, 0.535, 0.535, 0.535, 0.555, 0.555, 0.56, 0.59, 0.595, 0.595, 0.595, 0.61, 0.61, 0.62, 0.625, 0.635, 0.635, 0.64, 0.64, 0.645, 0.655, 0.67, 0.68, 0.7, 0.73, 0.75, 0.255, 0.375, 0.375, 0.39, 0.39, 0.395, 0.42, 0.435, 0.435, 0.44, 0.45, 0.45, 0.455, 0.46, 0.47, 0.475, 0.495, 0.495, 0.5, 0.515, 0.52, 0.52, 0.525, 0.535, 0.535, 0.54, 0.55, 0.55, 0.56, 0.565, 0.57, 0.57, 0.575, 0.575, 0.575, 0.575, 0.58, 0.585, 0.59, 0.59, 0.59, 0.595, 0.595, 0.595, 0.6, 0.6, 0.61, 0.615, 0.615, 0.62, 0.625, 0.63, 0.63, 0.635, 0.635, 0.635, 0.64, 0.64, 0.65, 0.65, 0.655, 0.655, 0.655, 0.66, 0.665, 0.675, 0.68, 0.68, 0.685, 0.695, 0.7, 0.71, 0.73, 0.755, 0.225, 0.23, 0.255, 0.355, 0.425, 0.425, 0.455, 0.46, 0.495, 0.51, 0.52, 0.525, 0.53, 0.53, 0.545, 0.55, 0.575, 0.58, 0.595, 0.6, 0.645, 0.66, 0.29, 0.3, 0.37, 0.375, 0.38, 0.395, 0.41, 0.415, 0.425, 0.44, 0.44, 0.465, 0.47, 0.51, 0.525, 0.525, 0.55, 0.56, 0.575, 0.575, 0.585, 0.615, 0.62, 0.63, 0.63, 0.67, 0.675, 0.685, 0.485, 0.46, 0.46, 0.535, 0.465, 0.51, 0.335, 0.55, 0.18, 0.215, 0.2, 0.625, 0.55, 0.585, 0.645, 0.71, 0.7, 0.655, 0.665, 0.47, 0.425, 0.54, 0.505, 0.535, 0.43, 0.55, 0.34, 0.275, 0.335, 0.64, 0.55, 0.64, 0.545, 0.64, 0.605, 0.605, 0.56, 0.57, 0.525, 0.505, 0.35, 0.45, 0.51, 0.49, 0.505, 0.38, 0.27, 0.37, 0.5, 0.645, 0.565, 0.67, 0.59, 0.47, 0.51, 0.72, 0.55, 0.2, 0.65, 0.525, 0.565, 0.61, 0.545, 0.325, 0.31, 0.45, 0.49, 0.505, 0.385, 0.62, 0.635, 0.665, 0.335, 0.295, 0.48, 0.32, 0.43, 0.565, 0.6, 0.585, 0.555, 0.57, 0.62, 0.63, 0.425, 0.64, 0.675, 0.5, 0.385, 0.52, 0.52, 0.64, 0.44, 0.42, 0.45, 0.42, 0.64, 0.57, 0.41, 0.485, 0.61, 0.59, 0.665, 0.345, 0.635, 0.695, 0.69, 0.555, 0.65, 0.635, 0.655, 0.69, 0.695, 0.55, 0.61, 0.595, 0.3, 0.435, 0.455, 0.48, 0.43, 0.435, 0.3, 0.575, 0.505, 0.455, 0.64, 0.56, 0.645, 0.595, 0.565, 0.655, 0.48, 0.495, 0.4, 0.41, 0.595, 0.625, 0.52, 0.465, 0.475, 0.5, 0.46, 0.485, 0.465, 0.525, 0.655, 0.69, 0.55, 0.58, 0.59, 0.565, 0.665, 0.62, 0.55, 0.605, 0.535, 0.51, 0.53, 0.495, 0.575, 0.63, 0.59, 0.605, 0.645, 0.62, 0.605, 0.615, 0.66, 0.71, 0.565, 0.57, 0.6, 0.41, 0.45, 0.275, 0.485, 0.62, 0.48, 0.505, 0.4, 0.45, 0.35, 0.44, 0.265, 0.165, 0.705, 0.535, 0.49, 0.48, 0.395, 0.375, 0.345, 0.55, 0.635, 0.575, 0.545, 0.385, 0.51, 0.44, 0.45, 0.39, 0.425, 0.45, 0.66, 0.685, 0.585, 0.54, 0.49, 0.43, 0.455, 0.495, 0.48, 0.47, 0.415, 0.49, 0.47, 0.445, 0.51, 0.52, 0.475, 0.455, 0.435, 0.39, 0.375, 0.285, 0.58, 0.58, 0.41, 0.41, 0.54, 0.33, 0.44, 0.28, 0.59, 0.61, 0.61, 0.455, 0.33, 0.44, 0.54, 0.475, 0.46, 0.31, 0.255, 0.335, 0.295, 0.19, 0.545, 0.495, 0.5, 0.305, 0.475, 0.515, 0.545, 0.74, 0.565, 0.56, 0.545, 0.645, 0.575, 0.62, 0.605, 0.605, 0.475, 0.365, 0.46, 0.53, 0.48, 0.455, 0.35, 0.37, 0.34, 0.35, 0.35, 0.39, 0.395, 0.415, 0.43, 0.48, 0.49, 0.49, 0.56, 0.56, 0.58, 0.58, 0.59, 0.595, 0.6, 0.61, 0.63, 0.64, 0.65, 0.71, 0.74, 0.25, 0.28, 0.325, 0.35, 0.36, 0.365, 0.37, 0.375, 0.38, 0.395, 0.43, 0.44, 0.465, 0.465, 0.48, 0.485, 0.49, 0.495, 0.5, 0.505, 0.52, 0.52, 0.525, 0.55, 0.555, 0.555, 0.575, 0.6, 0.61, 0.61, 0.61, 0.615, 0.62, 0.625, 0.625, 0.625, 0.635, 0.64, 0.64, 0.66, 0.665, 0.715, 0.72, 0.725, 0.165, 0.21, 0.355, 0.4, 0.4, 0.4, 0.435, 0.44, 0.45, 0.465, 0.47, 0.47, 0.475, 0.485, 0.505, 0.51, 0.52, 0.53, 0.535, 0.55, 0.555, 0.555, 0.555, 0.56, 0.575, 0.585, 0.59, 0.595, 0.6, 0.6, 0.61, 0.615, 0.62, 0.625, 0.625, 0.64, 0.64, 0.645, 0.65, 0.655, 0.655, 0.66, 0.67, 0.69, 0.7, 0.7, 0.71, 0.715, 0.72, 0.215, 0.24, 0.26, 0.32, 0.33, 0.335, 0.35, 0.35, 0.36, 0.36, 0.365, 0.38, 0.4, 0.4, 0.4, 0.425, 0.43, 0.435, 0.435, 0.445, 0.45, 0.455, 0.46, 0.475, 0.475, 0.475, 0.48, 0.495, 0.5, 0.505, 0.515, 0.525, 0.53, 0.53, 0.535, 0.535, 0.54, 0.55, 0.565, 0.57, 0.57, 0.57, 0.575, 0.575, 0.575, 0.575, 0.58, 0.58, 0.58, 0.58, 0.585, 0.585, 0.595, 0.6, 0.6, 0.6, 0.6, 0.6, 0.6, 0.62, 0.625, 0.625, 0.625, 0.625, 0.625, 0.63, 0.635, 0.65, 0.65, 0.65, 0.65, 0.655, 0.655, 0.66, 0.66, 0.675, 0.685, 0.715, 0.735, 0.175, 0.37, 0.395, 0.42, 0.455, 0.495, 0.51, 0.515, 0.545, 0.555, 0.58, 0.59, 0.6, 0.61, 0.615, 0.615, 0.615, 0.62, 0.63, 0.64, 0.64, 0.655, 0.655, 0.66, 0.665, 0.67, 0.69, 0.715, 0.735, 0.27, 0.285, 0.295, 0.3, 0.3, 0.36, 0.37, 0.39, 0.435, 0.44, 0.44, 0.445, 0.465, 0.465, 0.47, 0.475, 0.475, 0.475, 0.485, 0.49, 0.515, 0.52, 0.525, 0.525, 0.53, 0.53, 0.53, 0.53, 0.535, 0.535, 0.545, 0.545, 0.55, 0.55, 0.55, 0.555, 0.575, 0.575, 0.585, 0.585, 0.585, 0.59, 0.595, 0.595, 0.595, 0.595, 0.6, 0.6, 0.605, 0.605, 0.61, 0.61, 0.615, 0.62, 0.62, 0.62, 0.62, 0.625, 0.625, 0.63, 0.63, 0.64, 0.645, 0.65, 0.65, 0.65, 0.65, 0.65, 0.65, 0.65, 0.65, 0.66, 0.66, 0.665, 0.67, 0.67, 0.67, 0.675, 0.675, 0.675, 0.685, 0.685, 0.705, 0.705, 0.71, 0.725, 0.78, 0.235, 0.35, 0.36, 0.38, 0.38, 0.43, 0.465, 0.47, 0.485, 0.495, 0.5, 0.505, 0.51, 0.51, 0.515, 0.55, 0.575, 0.605, 0.615, 0.615, 0.625, 0.625, 0.635, 0.65, 0.65, 0.67, 0.695, 0.705, 0.275, 0.285, 0.36, 0.385, 0.4, 0.43, 0.435, 0.45, 0.475, 0.475, 0.485, 0.51, 0.515, 0.52, 0.525, 0.53, 0.53, 0.53, 0.53, 0.53, 0.535, 0.535, 0.555, 0.555, 0.56, 0.56, 0.565, 0.575, 0.575, 0.575, 0.58, 0.58, 0.585, 0.585, 0.59, 0.595, 0.615, 0.615, 0.62, 0.62, 0.62, 0.625, 0.625, 0.63, 0.63, 0.645, 0.65, 0.65, 0.655, 0.665, 0.67, 0.675, 0.675, 0.695, 0.695, 0.705, 0.74, 0.205, 0.305, 0.32, 0.355, 0.425, 0.425, 0.45, 0.515, 0.52, 0.525, 0.555, 0.61, 0.35, 0.38, 0.46, 0.465, 0.475, 0.565, 0.57, 0.57, 0.595, 0.605, 0.615, 0.62, 0.625, 0.68, 0.68, 0.68, 0.71, 0.5, 0.545, 0.46, 0.535, 0.335, 0.425, 0.41, 0.17, 0.335, 0.52, 0.53, 0.5, 0.615, 0.575, 0.57, 0.455, 0.37, 0.445, 0.675, 0.385, 0.375, 0.56, 0.55, 0.57, 0.485, 0.41, 0.335, 0.655, 0.565, 0.57, 0.55, 0.63, 0.475, 0.655, 0.32, 0.525, 0.525, 0.5, 0.44, 0.49, 0.545, 0.45, 0.515, 0.33, 0.525, 0.295, 0.545, 0.645, 0.45, 0.61, 0.38, 0.565, 0.67, 0.54, 0.29, 0.41, 0.46, 0.56, 0.575, 0.62, 0.515, 0.56, 0.5, 0.435, 0.495, 0.595, 0.76, 0.615, 0.565, 0.14, 0.445, 0.525, 0.16, 0.635, 0.575, 0.38, 0.245, 0.48, 0.455, 0.455, 0.455, 0.355, 0.52, 0.54, 0.52, 0.56, 0.52, 0.615, 0.645, 0.565, 0.295, 0.375, 0.525, 0.395, 0.5, 0.47, 0.58, 0.5, 0.725, 0.65, 0.67, 0.55, 0.49, 0.235, 0.235, 0.52, 0.475, 0.53, 0.35, 0.555, 0.505, 0.54, 0.525, 0.55, 0.55, 0.235, 0.525, 0.475, 0.53, 0.525, 0.53, 0.465, 0.315, 0.465, 0.485, 0.49, 0.515, 0.555, 0.61, 0.68, 0.69, 0.695, 0.72, 0.27, 0.27, 0.295, 0.295, 0.315, 0.375, 0.38, 0.385, 0.4, 0.415, 0.415, 0.42, 0.44, 0.45, 0.475, 0.485, 0.495, 0.525, 0.565, 0.58, 0.585, 0.6, 0.63, 0.645, 0.655, 0.665, 0.67, 0.67, 0.685, 0.7, 0.72, 0.185, 0.245, 0.315, 0.36, 0.375, 0.415, 0.455, 0.48, 0.485, 0.51, 0.52, 0.555, 0.585, 0.585, 0.585, 0.61, 0.61, 0.615, 0.62, 0.625, 0.625, 0.635, 0.64, 0.66, 0.66, 0.66, 0.68, 0.69, 0.72, 0.275, 0.33, 0.33, 0.365, 0.365, 0.42, 0.435, 0.435, 0.44, 0.485, 0.495, 0.51, 0.52, 0.54, 0.54, 0.55, 0.56, 0.575, 0.575, 0.575, 0.58, 0.58, 0.59, 0.6, 0.62, 0.625, 0.625, 0.625, 0.625, 0.625, 0.625, 0.635, 0.645, 0.645, 0.69, 0.695, 0.515, 0.545, 0.62, 0.63, 0.63, 0.64, 0.37, 0.395, 0.4, 0.41, 0.455, 0.48, 0.485, 0.5, 0.515, 0.52, 0.545, 0.545, 0.55, 0.55, 0.55, 0.555, 0.56, 0.565, 0.57, 0.575, 0.585, 0.59, 0.595, 0.6, 0.61, 0.615, 0.625, 0.625, 0.63, 0.63, 0.635, 0.635, 0.635, 0.65, 0.67, 0.675, 0.675, 0.68, 0.7, 0.71, 0.715, 0.72, 0.42, 0.48, 0.48, 0.51, 0.515, 0.56, 0.56, 0.57, 0.605, 0.625, 0.64, 0.65, 0.3, 0.35, 0.455, 0.46, 0.49, 0.5, 0.54, 0.55, 0.55, 0.555, 0.57, 0.58, 0.58, 0.585, 0.585, 0.595, 0.6, 0.615, 0.63, 0.63, 0.635, 0.645, 0.65, 0.655, 0.655, 0.67, 0.67, 0.695, 0.695, 0.77, 0.28, 0.33, 0.35, 0.37, 0.43, 0.435, 0.44, 0.475, 0.475, 0.48, 0.56, 0.585, 0.585, 0.385, 0.39, 0.39, 0.405, 0.475, 0.5, 0.515, 0.52, 0.55, 0.56, 0.565, 0.59, 0.6, 0.625, 0.71], \"xaxis\": \"x\", \"yaxis\": \"y\"}, {\"box\": {\"visible\": true}, \"fillcolor\": \"lightseagreen\", \"line\": {\"color\": \"black\"}, \"meanline\": {\"visible\": true}, \"opacity\": 0.6, \"type\": \"violin\", \"x0\": \"length\", \"xaxis\": \"x2\", \"y\": [0.455, 0.35, 0.53, 0.44, 0.33, 0.425, 0.53, 0.545, 0.475, 0.55, 0.525, 0.43, 0.49, 0.535, 0.47, 0.5, 0.355, 0.44, 0.365, 0.45, 0.355, 0.38, 0.565, 0.55, 0.615, 0.56, 0.58, 0.59, 0.605, 0.575, 0.58, 0.68, 0.665, 0.68, 0.705, 0.465, 0.54, 0.45, 0.575, 0.355, 0.45, 0.55, 0.24, 0.205, 0.21, 0.39, 0.47, 0.46, 0.325, 0.525, 0.52, 0.4, 0.485, 0.47, 0.405, 0.5, 0.445, 0.47, 0.245, 0.505, 0.45, 0.505, 0.53, 0.425, 0.52, 0.475, 0.565, 0.595, 0.475, 0.31, 0.555, 0.4, 0.595, 0.57, 0.605, 0.6, 0.595, 0.6, 0.555, 0.615, 0.575, 0.62, 0.52, 0.595, 0.58, 0.57, 0.625, 0.56, 0.46, 0.575, 0.565, 0.555, 0.595, 0.625, 0.695, 0.665, 0.535, 0.47, 0.47, 0.475, 0.36, 0.55, 0.53, 0.53, 0.605, 0.52, 0.545, 0.5, 0.51, 0.435, 0.495, 0.465, 0.435, 0.425, 0.545, 0.53, 0.49, 0.44, 0.56, 0.405, 0.47, 0.385, 0.515, 0.37, 0.36, 0.27, 0.375, 0.385, 0.7, 0.71, 0.595, 0.44, 0.325, 0.35, 0.265, 0.425, 0.305, 0.345, 0.405, 0.375, 0.565, 0.55, 0.65, 0.56, 0.475, 0.49, 0.46, 0.28, 0.175, 0.17, 0.59, 0.605, 0.635, 0.605, 0.565, 0.515, 0.575, 0.645, 0.58, 0.575, 0.605, 0.605, 0.61, 0.725, 0.65, 0.725, 0.725, 0.68, 0.705, 0.68, 0.695, 0.53, 0.525, 0.52, 0.235, 0.36, 0.315, 0.315, 0.225, 0.58, 0.57, 0.64, 0.56, 0.62, 0.645, 0.62, 0.63, 0.63, 0.63, 0.585, 0.615, 0.61, 0.58, 0.355, 0.51, 0.5, 0.505, 0.64, 0.56, 0.585, 0.45, 0.5, 0.5, 0.53, 0.42, 0.44, 0.4, 0.435, 0.525, 0.37, 0.49, 0.335, 0.415, 0.5, 0.485, 0.55, 0.45, 0.405, 0.47, 0.415, 0.445, 0.47, 0.49, 0.445, 0.425, 0.5, 0.39, 0.365, 0.58, 0.53, 0.555, 0.565, 0.625, 0.275, 0.44, 0.295, 0.075, 0.13, 0.11, 0.16, 0.565, 0.27, 0.23, 0.3, 0.33, 0.35, 0.32, 0.36, 0.305, 0.345, 0.33, 0.59, 0.595, 0.575, 0.6, 0.56, 0.56, 0.545, 0.635, 0.59, 0.54, 0.57, 0.53, 0.245, 0.27, 0.46, 0.52, 0.35, 0.47, 0.45, 0.64, 0.59, 0.62, 0.63, 0.63, 0.655, 0.66, 0.61, 0.635, 0.515, 0.535, 0.36, 0.455, 0.485, 0.515, 0.535, 0.53, 0.495, 0.44, 0.535, 0.54, 0.565, 0.61, 0.565, 0.6, 0.295, 0.275, 0.28, 0.49, 0.37, 0.405, 0.54, 0.37, 0.36, 0.47, 0.2, 0.165, 0.645, 0.55, 0.57, 0.63, 0.56, 0.595, 0.62, 0.63, 0.45, 0.635, 0.45, 0.58, 0.33, 0.265, 0.19, 0.385, 0.265, 0.335, 0.355, 0.32, 0.51, 0.36, 0.36, 0.5, 0.4, 0.3, 0.235, 0.74, 0.62, 0.6, 0.59, 0.62, 0.565, 0.575, 0.62, 0.62, 0.505, 0.46, 0.49, 0.525, 0.34, 0.375, 0.61, 0.61, 0.585, 0.57, 0.58, 0.635, 0.7, 0.675, 0.645, 0.745, 0.685, 0.605, 0.59, 0.65, 0.6, 0.62, 0.63, 0.58, 0.58, 0.63, 0.69, 0.65, 0.66, 0.68, 0.7, 0.685, 0.675, 0.63, 0.585, 0.565, 0.61, 0.605, 0.535, 0.485, 0.47, 0.545, 0.455, 0.54, 0.46, 0.49, 0.465, 0.415, 0.475, 0.47, 0.365, 0.345, 0.39, 0.5, 0.47, 0.535, 0.585, 0.485, 0.515, 0.435, 0.515, 0.44, 0.525, 0.45, 0.59, 0.555, 0.57, 0.59, 0.585, 0.58, 0.545, 0.605, 0.62, 0.63, 0.63, 0.63, 0.545, 0.67, 0.49, 0.49, 0.29, 0.26, 0.58, 0.61, 0.6, 0.56, 0.575, 0.57, 0.6, 0.565, 0.545, 0.44, 0.5, 0.36, 0.385, 0.39, 0.5, 0.36, 0.335, 0.505, 0.395, 0.41, 0.56, 0.565, 0.565, 0.605, 0.565, 0.725, 0.675, 0.665, 0.565, 0.645, 0.575, 0.64, 0.36, 0.415, 0.525, 0.38, 0.585, 0.24, 0.22, 0.255, 0.175, 0.67, 0.655, 0.68, 0.675, 0.53, 0.515, 0.43, 0.52, 0.545, 0.53, 0.465, 0.665, 0.735, 0.66, 0.7, 0.575, 0.57, 0.58, 0.63, 0.585, 0.55, 0.625, 0.54, 0.57, 0.59, 0.58, 0.655, 0.655, 0.625, 0.625, 0.64, 0.605, 0.615, 0.555, 0.58, 0.62, 0.62, 0.6, 0.625, 0.6, 0.56, 0.585, 0.56, 0.56, 0.68, 0.455, 0.49, 0.31, 0.275, 0.27, 0.4, 0.28, 0.325, 0.345, 0.21, 0.36, 0.365, 0.2, 0.235, 0.175, 0.155, 0.57, 0.57, 0.385, 0.53, 0.46, 0.47, 0.435, 0.47, 0.465, 0.52, 0.29, 0.275, 0.375, 0.5, 0.44, 0.42, 0.445, 0.38, 0.32, 0.255, 0.205, 0.565, 0.555, 0.65, 0.615, 0.56, 0.48, 0.485, 0.5, 0.525, 0.66, 0.66, 0.52, 0.44, 0.515, 0.475, 0.545, 0.47, 0.35, 0.485, 0.435, 0.28, 0.41, 0.45, 0.45, 0.59, 0.57, 0.61, 0.61, 0.56, 0.585, 0.58, 0.63, 0.625, 0.55, 0.645, 0.46, 0.41, 0.495, 0.52, 0.55, 0.45, 0.405, 0.51, 0.37, 0.525, 0.66, 0.535, 0.575, 0.55, 0.605, 0.605, 0.56, 0.535, 0.385, 0.39, 0.47, 0.515, 0.425, 0.345, 0.485, 0.37, 0.35, 0.44, 0.195, 0.325, 0.495, 0.45, 0.415, 0.47, 0.32, 0.31, 0.235, 0.345, 0.485, 0.5, 0.5, 0.465, 0.525, 0.425, 0.38, 0.53, 0.34, 0.475, 0.43, 0.46, 0.47, 0.36, 0.355, 0.38, 0.355, 0.44, 0.51, 0.325, 0.62, 0.59, 0.33, 0.45, 0.445, 0.33, 0.48, 0.46, 0.475, 0.255, 0.335, 0.47, 0.31, 0.37, 0.295, 0.555, 0.615, 0.58, 0.585, 0.65, 0.535, 0.415, 0.38, 0.45, 0.395, 0.455, 0.485, 0.55, 0.45, 0.475, 0.5, 0.53, 0.49, 0.49, 0.52, 0.54, 0.5, 0.45, 0.37, 0.37, 0.485, 0.435, 0.535, 0.51, 0.565, 0.535, 0.535, 0.525, 0.59, 0.5, 0.255, 0.43, 0.38, 0.165, 0.315, 0.155, 0.28, 0.43, 0.395, 0.385, 0.48, 0.445, 0.395, 0.4, 0.415, 0.315, 0.345, 0.36, 0.295, 0.325, 0.375, 0.28, 0.355, 0.35, 0.275, 0.29, 0.25, 0.18, 0.15, 0.16, 0.555, 0.555, 0.525, 0.465, 0.49, 0.4, 0.48, 0.505, 0.52, 0.525, 0.545, 0.52, 0.505, 0.525, 0.51, 0.52, 0.52, 0.535, 0.445, 0.53, 0.36, 0.535, 0.52, 0.53, 0.53, 0.66, 0.52, 0.535, 0.695, 0.51, 0.485, 0.605, 0.58, 0.65, 0.62, 0.615, 0.605, 0.57, 0.57, 0.585, 0.55, 0.54, 0.64, 0.61, 0.545, 0.59, 0.345, 0.55, 0.53, 0.53, 0.485, 0.385, 0.455, 0.49, 0.53, 0.505, 0.49, 0.465, 0.47, 0.56, 0.505, 0.515, 0.385, 0.215, 0.55, 0.515, 0.495, 0.505, 0.6, 0.57, 0.485, 0.47, 0.575, 0.58, 0.515, 0.53, 0.44, 0.52, 0.425, 0.46, 0.45, 0.425, 0.37, 0.515, 0.405, 0.28, 0.48, 0.44, 0.52, 0.505, 0.49, 0.235, 0.255, 0.315, 0.325, 0.335, 0.35, 0.35, 0.36, 0.365, 0.37, 0.38, 0.385, 0.385, 0.395, 0.395, 0.4, 0.41, 0.415, 0.415, 0.425, 0.44, 0.445, 0.445, 0.45, 0.47, 0.475, 0.48, 0.485, 0.49, 0.495, 0.5, 0.505, 0.525, 0.54, 0.54, 0.545, 0.55, 0.55, 0.55, 0.555, 0.565, 0.57, 0.57, 0.575, 0.59, 0.59, 0.595, 0.595, 0.595, 0.595, 0.6, 0.6, 0.6, 0.605, 0.605, 0.615, 0.615, 0.615, 0.615, 0.62, 0.62, 0.625, 0.625, 0.63, 0.635, 0.635, 0.635, 0.64, 0.65, 0.655, 0.655, 0.66, 0.66, 0.67, 0.675, 0.675, 0.68, 0.685, 0.695, 0.73, 0.205, 0.24, 0.24, 0.255, 0.255, 0.265, 0.28, 0.295, 0.3, 0.3, 0.305, 0.315, 0.315, 0.32, 0.325, 0.33, 0.335, 0.335, 0.34, 0.34, 0.345, 0.37, 0.37, 0.375, 0.385, 0.41, 0.41, 0.41, 0.415, 0.42, 0.42, 0.425, 0.425, 0.43, 0.43, 0.435, 0.435, 0.44, 0.44, 0.445, 0.445, 0.45, 0.45, 0.45, 0.45, 0.455, 0.455, 0.46, 0.46, 0.465, 0.465, 0.465, 0.465, 0.47, 0.47, 0.475, 0.475, 0.48, 0.48, 0.48, 0.48, 0.485, 0.49, 0.495, 0.495, 0.5, 0.5, 0.5, 0.5, 0.505, 0.505, 0.505, 0.505, 0.51, 0.51, 0.51, 0.51, 0.51, 0.515, 0.515, 0.525, 0.525, 0.53, 0.53, 0.53, 0.535, 0.535, 0.535, 0.55, 0.55, 0.56, 0.565, 0.57, 0.57, 0.57, 0.57, 0.57, 0.575, 0.575, 0.58, 0.58, 0.58, 0.58, 0.58, 0.59, 0.59, 0.59, 0.595, 0.595, 0.595, 0.595, 0.595, 0.605, 0.605, 0.605, 0.61, 0.61, 0.615, 0.62, 0.625, 0.625, 0.625, 0.625, 0.625, 0.63, 0.63, 0.63, 0.635, 0.635, 0.64, 0.64, 0.64, 0.645, 0.645, 0.645, 0.645, 0.645, 0.645, 0.645, 0.65, 0.65, 0.65, 0.655, 0.655, 0.66, 0.66, 0.66, 0.66, 0.67, 0.675, 0.675, 0.68, 0.69, 0.69, 0.695, 0.705, 0.71, 0.715, 0.715, 0.735, 0.765, 0.185, 0.195, 0.195, 0.2, 0.225, 0.245, 0.25, 0.265, 0.275, 0.28, 0.285, 0.3, 0.315, 0.32, 0.34, 0.37, 0.375, 0.375, 0.385, 0.4, 0.405, 0.41, 0.41, 0.42, 0.42, 0.42, 0.425, 0.43, 0.435, 0.435, 0.44, 0.445, 0.445, 0.445, 0.45, 0.45, 0.45, 0.45, 0.45, 0.46, 0.47, 0.47, 0.475, 0.475, 0.48, 0.49, 0.5, 0.5, 0.5, 0.5, 0.505, 0.51, 0.51, 0.51, 0.51, 0.515, 0.52, 0.52, 0.52, 0.52, 0.525, 0.525, 0.525, 0.525, 0.53, 0.535, 0.54, 0.545, 0.545, 0.545, 0.55, 0.55, 0.55, 0.56, 0.56, 0.56, 0.56, 0.565, 0.565, 0.565, 0.57, 0.57, 0.57, 0.575, 0.575, 0.575, 0.575, 0.575, 0.575, 0.575, 0.575, 0.58, 0.58, 0.58, 0.58, 0.58, 0.58, 0.585, 0.585, 0.59, 0.6, 0.6, 0.6, 0.6, 0.605, 0.605, 0.605, 0.605, 0.61, 0.61, 0.61, 0.615, 0.615, 0.615, 0.62, 0.62, 0.62, 0.625, 0.625, 0.63, 0.63, 0.635, 0.64, 0.645, 0.645, 0.65, 0.65, 0.655, 0.655, 0.66, 0.665, 0.665, 0.67, 0.685, 0.685, 0.69, 0.69, 0.69, 0.695, 0.7, 0.7, 0.7, 0.705, 0.71, 0.715, 0.715, 0.72, 0.72, 0.72, 0.725, 0.73, 0.735, 0.745, 0.75, 0.755, 0.755, 0.78, 0.185, 0.245, 0.25, 0.25, 0.275, 0.305, 0.31, 0.315, 0.315, 0.325, 0.33, 0.33, 0.335, 0.34, 0.345, 0.345, 0.35, 0.35, 0.36, 0.365, 0.365, 0.365, 0.37, 0.37, 0.375, 0.375, 0.375, 0.375, 0.375, 0.375, 0.38, 0.38, 0.385, 0.385, 0.385, 0.385, 0.39, 0.395, 0.395, 0.395, 0.4, 0.405, 0.41, 0.42, 0.425, 0.425, 0.425, 0.43, 0.43, 0.435, 0.44, 0.45, 0.455, 0.455, 0.455, 0.46, 0.46, 0.46, 0.465, 0.47, 0.47, 0.47, 0.475, 0.475, 0.475, 0.48, 0.48, 0.48, 0.495, 0.495, 0.495, 0.5, 0.5, 0.5, 0.5, 0.5, 0.5, 0.505, 0.505, 0.505, 0.515, 0.515, 0.515, 0.52, 0.52, 0.525, 0.525, 0.53, 0.53, 0.53, 0.53, 0.535, 0.535, 0.535, 0.535, 0.54, 0.54, 0.545, 0.545, 0.545, 0.545, 0.55, 0.55, 0.55, 0.55, 0.55, 0.555, 0.555, 0.555, 0.555, 0.56, 0.56, 0.56, 0.56, 0.565, 0.565, 0.565, 0.565, 0.57, 0.57, 0.57, 0.57, 0.57, 0.57, 0.575, 0.575, 0.575, 0.58, 0.58, 0.58, 0.585, 0.585, 0.585, 0.585, 0.585, 0.585, 0.585, 0.59, 0.59, 0.59, 0.595, 0.595, 0.6, 0.6, 0.6, 0.6, 0.6, 0.6, 0.605, 0.605, 0.605, 0.605, 0.605, 0.61, 0.61, 0.61, 0.61, 0.61, 0.61, 0.615, 0.615, 0.615, 0.615, 0.615, 0.615, 0.615, 0.62, 0.62, 0.62, 0.62, 0.625, 0.625, 0.625, 0.625, 0.63, 0.63, 0.63, 0.63, 0.63, 0.635, 0.635, 0.635, 0.635, 0.635, 0.64, 0.64, 0.645, 0.645, 0.645, 0.65, 0.65, 0.65, 0.65, 0.65, 0.655, 0.655, 0.655, 0.655, 0.66, 0.66, 0.665, 0.67, 0.67, 0.675, 0.685, 0.695, 0.7, 0.705, 0.705, 0.705, 0.71, 0.72, 0.72, 0.725, 0.73, 0.735, 0.745, 0.75, 0.815, 0.14, 0.23, 0.365, 0.365, 0.37, 0.375, 0.385, 0.395, 0.4, 0.4, 0.405, 0.405, 0.405, 0.41, 0.415, 0.425, 0.43, 0.44, 0.44, 0.44, 0.45, 0.455, 0.46, 0.47, 0.47, 0.47, 0.475, 0.475, 0.475, 0.48, 0.485, 0.485, 0.485, 0.495, 0.505, 0.505, 0.515, 0.515, 0.515, 0.52, 0.525, 0.53, 0.53, 0.545, 0.55, 0.55, 0.56, 0.56, 0.57, 0.575, 0.575, 0.58, 0.58, 0.585, 0.59, 0.59, 0.59, 0.595, 0.6, 0.6, 0.605, 0.605, 0.605, 0.61, 0.615, 0.62, 0.62, 0.62, 0.625, 0.625, 0.63, 0.63, 0.63, 0.63, 0.63, 0.635, 0.635, 0.64, 0.645, 0.645, 0.645, 0.65, 0.65, 0.65, 0.65, 0.655, 0.655, 0.66, 0.665, 0.67, 0.67, 0.67, 0.68, 0.68, 0.69, 0.7, 0.7, 0.705, 0.72, 0.725, 0.74, 0.75, 0.21, 0.285, 0.295, 0.3, 0.305, 0.335, 0.35, 0.355, 0.355, 0.36, 0.36, 0.36, 0.365, 0.37, 0.375, 0.38, 0.38, 0.385, 0.385, 0.385, 0.39, 0.39, 0.39, 0.41, 0.41, 0.415, 0.425, 0.425, 0.435, 0.435, 0.45, 0.45, 0.455, 0.46, 0.46, 0.465, 0.465, 0.47, 0.475, 0.475, 0.475, 0.48, 0.48, 0.48, 0.485, 0.49, 0.49, 0.495, 0.495, 0.5, 0.5, 0.5, 0.51, 0.515, 0.515, 0.515, 0.515, 0.515, 0.52, 0.52, 0.525, 0.525, 0.525, 0.525, 0.525, 0.53, 0.53, 0.53, 0.53, 0.535, 0.54, 0.54, 0.54, 0.54, 0.54, 0.54, 0.54, 0.545, 0.545, 0.545, 0.55, 0.55, 0.55, 0.55, 0.55, 0.555, 0.555, 0.555, 0.56, 0.56, 0.56, 0.565, 0.565, 0.565, 0.565, 0.57, 0.57, 0.57, 0.57, 0.57, 0.57, 0.575, 0.575, 0.575, 0.575, 0.575, 0.575, 0.575, 0.575, 0.575, 0.575, 0.575, 0.58, 0.58, 0.58, 0.58, 0.585, 0.59, 0.59, 0.59, 0.595, 0.595, 0.595, 0.595, 0.6, 0.6, 0.6, 0.6, 0.6, 0.6, 0.6, 0.605, 0.605, 0.605, 0.605, 0.605, 0.605, 0.61, 0.61, 0.61, 0.61, 0.61, 0.61, 0.61, 0.61, 0.615, 0.615, 0.62, 0.62, 0.62, 0.62, 0.62, 0.62, 0.62, 0.62, 0.62, 0.62, 0.625, 0.625, 0.625, 0.625, 0.625, 0.625, 0.63, 0.63, 0.63, 0.63, 0.63, 0.635, 0.635, 0.635, 0.635, 0.64, 0.64, 0.64, 0.645, 0.645, 0.645, 0.645, 0.645, 0.645, 0.645, 0.645, 0.645, 0.645, 0.645, 0.65, 0.65, 0.65, 0.65, 0.655, 0.655, 0.655, 0.655, 0.66, 0.66, 0.66, 0.66, 0.665, 0.665, 0.665, 0.665, 0.665, 0.67, 0.67, 0.67, 0.67, 0.67, 0.675, 0.675, 0.68, 0.68, 0.685, 0.685, 0.69, 0.7, 0.7, 0.705, 0.71, 0.71, 0.71, 0.71, 0.72, 0.72, 0.72, 0.725, 0.73, 0.735, 0.74, 0.75, 0.75, 0.77, 0.775, 0.275, 0.375, 0.375, 0.39, 0.435, 0.445, 0.455, 0.455, 0.455, 0.465, 0.465, 0.485, 0.485, 0.485, 0.49, 0.5, 0.515, 0.515, 0.525, 0.525, 0.53, 0.535, 0.535, 0.545, 0.545, 0.545, 0.55, 0.55, 0.57, 0.575, 0.575, 0.58, 0.585, 0.585, 0.6, 0.6, 0.605, 0.605, 0.61, 0.615, 0.62, 0.625, 0.625, 0.635, 0.635, 0.64, 0.645, 0.65, 0.65, 0.655, 0.655, 0.665, 0.675, 0.685, 0.695, 0.695, 0.705, 0.72, 0.72, 0.73, 0.185, 0.24, 0.31, 0.34, 0.35, 0.365, 0.365, 0.365, 0.39, 0.405, 0.41, 0.41, 0.415, 0.415, 0.415, 0.42, 0.43, 0.435, 0.435, 0.435, 0.435, 0.445, 0.465, 0.47, 0.475, 0.485, 0.485, 0.485, 0.495, 0.495, 0.495, 0.5, 0.505, 0.505, 0.51, 0.515, 0.515, 0.515, 0.52, 0.52, 0.52, 0.52, 0.52, 0.525, 0.525, 0.525, 0.53, 0.53, 0.53, 0.53, 0.535, 0.54, 0.54, 0.54, 0.545, 0.545, 0.55, 0.55, 0.555, 0.555, 0.555, 0.555, 0.555, 0.56, 0.565, 0.565, 0.565, 0.565, 0.565, 0.565, 0.57, 0.57, 0.57, 0.57, 0.57, 0.575, 0.575, 0.575, 0.575, 0.575, 0.575, 0.575, 0.575, 0.575, 0.575, 0.58, 0.58, 0.58, 0.58, 0.58, 0.595, 0.6, 0.6, 0.6, 0.6, 0.605, 0.605, 0.605, 0.61, 0.61, 0.61, 0.61, 0.615, 0.615, 0.615, 0.615, 0.62, 0.62, 0.62, 0.62, 0.62, 0.62, 0.625, 0.625, 0.625, 0.625, 0.625, 0.625, 0.63, 0.635, 0.635, 0.635, 0.635, 0.635, 0.635, 0.64, 0.64, 0.64, 0.64, 0.64, 0.64, 0.645, 0.645, 0.645, 0.65, 0.65, 0.65, 0.655, 0.655, 0.655, 0.66, 0.66, 0.665, 0.665, 0.665, 0.67, 0.675, 0.675, 0.68, 0.68, 0.685, 0.69, 0.695, 0.7, 0.7, 0.7, 0.705, 0.72, 0.72, 0.725, 0.75, 0.76, 0.135, 0.16, 0.21, 0.28, 0.28, 0.285, 0.29, 0.29, 0.29, 0.32, 0.325, 0.335, 0.35, 0.35, 0.355, 0.36, 0.36, 0.375, 0.375, 0.395, 0.405, 0.415, 0.425, 0.43, 0.435, 0.45, 0.46, 0.47, 0.47, 0.475, 0.505, 0.505, 0.505, 0.51, 0.515, 0.525, 0.53, 0.53, 0.545, 0.55, 0.56, 0.565, 0.57, 0.58, 0.59, 0.6, 0.605, 0.61, 0.625, 0.66, 0.255, 0.27, 0.28, 0.285, 0.32, 0.325, 0.385, 0.395, 0.4, 0.405, 0.415, 0.42, 0.44, 0.445, 0.45, 0.455, 0.46, 0.46, 0.465, 0.465, 0.475, 0.48, 0.485, 0.49, 0.5, 0.5, 0.505, 0.525, 0.535, 0.535, 0.54, 0.54, 0.545, 0.55, 0.55, 0.565, 0.58, 0.58, 0.585, 0.595, 0.6, 0.61, 0.61, 0.62, 0.645, 0.65, 0.665, 0.685, 0.69, 0.705, 0.71, 0.72, 0.72, 0.73, 0.775, 0.505, 0.53, 0.505, 0.405, 0.415, 0.5, 0.425, 0.47, 0.4, 0.37, 0.5, 0.41, 0.375, 0.49, 0.585, 0.595, 0.675, 0.665, 0.62, 0.325, 0.455, 0.525, 0.385, 0.13, 0.18, 0.31, 0.375, 0.48, 0.455, 0.425, 0.475, 0.435, 0.29, 0.385, 0.47, 0.5, 0.4, 0.62, 0.595, 0.585, 0.32, 0.52, 0.44, 0.44, 0.565, 0.56, 0.59, 0.57, 0.68, 0.45, 0.32, 0.46, 0.47, 0.455, 0.415, 0.465, 0.46, 0.415, 0.27, 0.445, 0.745, 0.4, 0.28, 0.55, 0.58, 0.61, 0.62, 0.56, 0.64, 0.69, 0.715, 0.71, 0.55, 0.375, 0.61, 0.38, 0.37, 0.335, 0.165, 0.285, 0.19, 0.215, 0.595, 0.645, 0.575, 0.57, 0.58, 0.595, 0.595, 0.625, 0.535, 0.55, 0.495, 0.32, 0.445, 0.52, 0.495, 0.47, 0.49, 0.58, 0.645, 0.575, 0.215, 0.43, 0.26, 0.37, 0.405, 0.27, 0.68, 0.65, 0.645, 0.57, 0.615, 0.42, 0.275, 0.29, 0.42, 0.625, 0.55, 0.66, 0.565, 0.595, 0.63, 0.43, 0.455, 0.33, 0.515, 0.495, 0.485, 0.535, 0.58, 0.625, 0.555, 0.55, 0.59, 0.355, 0.275, 0.505, 0.37, 0.555, 0.505, 0.56, 0.595, 0.57, 0.6, 0.56, 0.585, 0.46, 0.46, 0.415, 0.435, 0.475, 0.465, 0.355, 0.46, 0.38, 0.47, 0.36, 0.585, 0.655, 0.6, 0.57, 0.645, 0.65, 0.51, 0.52, 0.495, 0.43, 0.59, 0.55, 0.585, 0.58, 0.62, 0.59, 0.72, 0.635, 0.61, 0.545, 0.57, 0.6, 0.52, 0.635, 0.67, 0.695, 0.655, 0.62, 0.6, 0.51, 0.525, 0.44, 0.485, 0.495, 0.435, 0.405, 0.42, 0.5, 0.385, 0.33, 0.58, 0.325, 0.475, 0.38, 0.34, 0.525, 0.52, 0.535, 0.475, 0.415, 0.495, 0.48, 0.52, 0.46, 0.58, 0.59, 0.55, 0.65, 0.465, 0.455, 0.47, 0.435, 0.35, 0.315, 0.595, 0.58, 0.575, 0.535, 0.515, 0.505, 0.505, 0.4, 0.49, 0.53, 0.395, 0.665, 0.415, 0.43, 0.475, 0.525, 0.48, 0.42, 0.59, 0.515, 0.695, 0.8, 0.61, 0.565, 0.56, 0.655, 0.64, 0.59, 0.31, 0.255, 0.17, 0.67, 0.71, 0.56, 0.505, 0.525, 0.45, 0.515, 0.59, 0.7, 0.72, 0.635, 0.555, 0.575, 0.585, 0.61, 0.645, 0.545, 0.55, 0.66, 0.57, 0.6, 0.63, 0.695, 0.65, 0.72, 0.56, 0.42, 0.18, 0.405, 0.5, 0.435, 0.34, 0.43, 0.535, 0.415, 0.36, 0.175, 0.155, 0.525, 0.525, 0.44, 0.45, 0.485, 0.47, 0.515, 0.42, 0.455, 0.37, 0.33, 0.3, 0.625, 0.61, 0.625, 0.635, 0.5, 0.53, 0.445, 0.585, 0.44, 0.29, 0.555, 0.655, 0.58, 0.625, 0.62, 0.64, 0.505, 0.5, 0.31, 0.505, 0.42, 0.4, 0.425, 0.31, 0.465, 0.465, 0.35, 0.52, 0.475, 0.41, 0.26, 0.575, 0.565, 0.26, 0.53, 0.34, 0.52, 0.635, 0.61, 0.66, 0.635, 0.465, 0.515, 0.335, 0.515, 0.345, 0.465, 0.54, 0.475, 0.445, 0.5, 0.5, 0.55, 0.275, 0.35, 0.37, 0.42, 0.35, 0.395, 0.325, 0.275, 0.235, 0.25, 0.25, 0.2, 0.585, 0.445, 0.5, 0.44, 0.515, 0.52, 0.5, 0.425, 0.51, 0.37, 0.54, 0.615, 0.565, 0.645, 0.615, 0.605, 0.59, 0.645, 0.57, 0.47, 0.5, 0.52, 0.39, 0.52, 0.54, 0.46, 0.355, 0.49, 0.63, 0.5, 0.49, 0.44, 0.515, 0.475, 0.42, 0.4, 0.45, 0.52, 0.505, 0.495, 0.54, 0.48, 0.33, 0.285, 0.3, 0.31, 0.34, 0.375, 0.415, 0.415, 0.415, 0.42, 0.425, 0.465, 0.465, 0.47, 0.47, 0.475, 0.48, 0.5, 0.505, 0.525, 0.54, 0.545, 0.565, 0.58, 0.59, 0.59, 0.595, 0.6, 0.6, 0.6, 0.605, 0.625, 0.63, 0.64, 0.64, 0.655, 0.66, 0.66, 0.675, 0.675, 0.69, 0.695, 0.7, 0.73, 0.205, 0.225, 0.23, 0.275, 0.28, 0.28, 0.295, 0.31, 0.315, 0.34, 0.37, 0.38, 0.39, 0.405, 0.415, 0.44, 0.44, 0.44, 0.44, 0.45, 0.45, 0.455, 0.46, 0.46, 0.46, 0.465, 0.465, 0.475, 0.475, 0.48, 0.5, 0.5, 0.505, 0.515, 0.525, 0.525, 0.53, 0.53, 0.53, 0.54, 0.55, 0.555, 0.57, 0.57, 0.575, 0.58, 0.585, 0.59, 0.595, 0.595, 0.595, 0.6, 0.6, 0.6, 0.61, 0.615, 0.615, 0.615, 0.62, 0.62, 0.62, 0.625, 0.625, 0.625, 0.63, 0.63, 0.63, 0.635, 0.635, 0.645, 0.645, 0.65, 0.67, 0.69, 0.69, 0.695, 0.695, 0.7, 0.705, 0.765, 0.77, 0.22, 0.275, 0.29, 0.33, 0.355, 0.375, 0.415, 0.425, 0.425, 0.43, 0.44, 0.44, 0.46, 0.46, 0.465, 0.475, 0.475, 0.485, 0.49, 0.49, 0.495, 0.5, 0.5, 0.505, 0.51, 0.51, 0.515, 0.52, 0.545, 0.545, 0.545, 0.545, 0.55, 0.55, 0.555, 0.565, 0.57, 0.57, 0.57, 0.575, 0.58, 0.585, 0.585, 0.59, 0.59, 0.59, 0.595, 0.595, 0.595, 0.6, 0.605, 0.615, 0.615, 0.615, 0.615, 0.62, 0.62, 0.625, 0.625, 0.625, 0.63, 0.63, 0.63, 0.645, 0.645, 0.645, 0.65, 0.65, 0.65, 0.65, 0.65, 0.66, 0.665, 0.67, 0.67, 0.675, 0.68, 0.68, 0.7, 0.7, 0.725, 0.725, 0.735, 0.74, 0.75, 0.19, 0.21, 0.25, 0.29, 0.335, 0.34, 0.345, 0.355, 0.36, 0.37, 0.375, 0.375, 0.385, 0.385, 0.395, 0.4, 0.405, 0.405, 0.405, 0.405, 0.41, 0.41, 0.415, 0.42, 0.42, 0.43, 0.445, 0.45, 0.45, 0.455, 0.46, 0.46, 0.475, 0.48, 0.485, 0.485, 0.49, 0.505, 0.505, 0.51, 0.515, 0.515, 0.515, 0.525, 0.525, 0.525, 0.525, 0.535, 0.545, 0.55, 0.55, 0.55, 0.55, 0.55, 0.555, 0.555, 0.56, 0.56, 0.565, 0.57, 0.575, 0.58, 0.58, 0.58, 0.585, 0.585, 0.585, 0.585, 0.59, 0.59, 0.595, 0.6, 0.6, 0.6, 0.6, 0.61, 0.61, 0.615, 0.62, 0.62, 0.625, 0.625, 0.63, 0.63, 0.63, 0.63, 0.64, 0.64, 0.64, 0.64, 0.64, 0.65, 0.65, 0.66, 0.66, 0.675, 0.7, 0.705, 0.71, 0.72, 0.725, 0.24, 0.255, 0.275, 0.32, 0.325, 0.33, 0.36, 0.375, 0.375, 0.39, 0.45, 0.455, 0.46, 0.495, 0.5, 0.5, 0.52, 0.52, 0.525, 0.535, 0.54, 0.54, 0.57, 0.57, 0.58, 0.58, 0.59, 0.59, 0.59, 0.595, 0.6, 0.6, 0.605, 0.62, 0.625, 0.625, 0.625, 0.63, 0.63, 0.635, 0.645, 0.645, 0.65, 0.655, 0.655, 0.665, 0.695, 0.72, 0.72, 0.72, 0.735, 0.74, 0.31, 0.315, 0.32, 0.325, 0.335, 0.37, 0.37, 0.375, 0.4, 0.41, 0.425, 0.435, 0.445, 0.46, 0.465, 0.47, 0.475, 0.495, 0.5, 0.5, 0.505, 0.505, 0.505, 0.51, 0.51, 0.52, 0.52, 0.53, 0.53, 0.535, 0.54, 0.54, 0.545, 0.545, 0.55, 0.55, 0.55, 0.56, 0.56, 0.575, 0.575, 0.575, 0.58, 0.58, 0.58, 0.58, 0.58, 0.58, 0.585, 0.59, 0.59, 0.59, 0.595, 0.595, 0.6, 0.6, 0.6, 0.6, 0.6, 0.605, 0.605, 0.605, 0.61, 0.61, 0.61, 0.61, 0.615, 0.615, 0.615, 0.615, 0.62, 0.62, 0.625, 0.625, 0.625, 0.625, 0.625, 0.63, 0.63, 0.63, 0.63, 0.635, 0.635, 0.635, 0.635, 0.635, 0.64, 0.64, 0.645, 0.645, 0.645, 0.65, 0.65, 0.655, 0.655, 0.66, 0.66, 0.665, 0.67, 0.67, 0.67, 0.67, 0.67, 0.68, 0.68, 0.685, 0.69, 0.715, 0.72, 0.735, 0.745, 0.32, 0.43, 0.43, 0.485, 0.49, 0.5, 0.505, 0.51, 0.525, 0.535, 0.535, 0.535, 0.555, 0.555, 0.56, 0.59, 0.595, 0.595, 0.595, 0.61, 0.61, 0.62, 0.625, 0.635, 0.635, 0.64, 0.64, 0.645, 0.655, 0.67, 0.68, 0.7, 0.73, 0.75, 0.255, 0.375, 0.375, 0.39, 0.39, 0.395, 0.42, 0.435, 0.435, 0.44, 0.45, 0.45, 0.455, 0.46, 0.47, 0.475, 0.495, 0.495, 0.5, 0.515, 0.52, 0.52, 0.525, 0.535, 0.535, 0.54, 0.55, 0.55, 0.56, 0.565, 0.57, 0.57, 0.575, 0.575, 0.575, 0.575, 0.58, 0.585, 0.59, 0.59, 0.59, 0.595, 0.595, 0.595, 0.6, 0.6, 0.61, 0.615, 0.615, 0.62, 0.625, 0.63, 0.63, 0.635, 0.635, 0.635, 0.64, 0.64, 0.65, 0.65, 0.655, 0.655, 0.655, 0.66, 0.665, 0.675, 0.68, 0.68, 0.685, 0.695, 0.7, 0.71, 0.73, 0.755, 0.225, 0.23, 0.255, 0.355, 0.425, 0.425, 0.455, 0.46, 0.495, 0.51, 0.52, 0.525, 0.53, 0.53, 0.545, 0.55, 0.575, 0.58, 0.595, 0.6, 0.645, 0.66, 0.29, 0.3, 0.37, 0.375, 0.38, 0.395, 0.41, 0.415, 0.425, 0.44, 0.44, 0.465, 0.47, 0.51, 0.525, 0.525, 0.55, 0.56, 0.575, 0.575, 0.585, 0.615, 0.62, 0.63, 0.63, 0.67, 0.675, 0.685, 0.485, 0.46, 0.46, 0.535, 0.465, 0.51, 0.335, 0.55, 0.18, 0.215, 0.2, 0.625, 0.55, 0.585, 0.645, 0.71, 0.7, 0.655, 0.665, 0.47, 0.425, 0.54, 0.505, 0.535, 0.43, 0.55, 0.34, 0.275, 0.335, 0.64, 0.55, 0.64, 0.545, 0.64, 0.605, 0.605, 0.56, 0.57, 0.525, 0.505, 0.35, 0.45, 0.51, 0.49, 0.505, 0.38, 0.27, 0.37, 0.5, 0.645, 0.565, 0.67, 0.59, 0.47, 0.51, 0.72, 0.55, 0.2, 0.65, 0.525, 0.565, 0.61, 0.545, 0.325, 0.31, 0.45, 0.49, 0.505, 0.385, 0.62, 0.635, 0.665, 0.335, 0.295, 0.48, 0.32, 0.43, 0.565, 0.6, 0.585, 0.555, 0.57, 0.62, 0.63, 0.425, 0.64, 0.675, 0.5, 0.385, 0.52, 0.52, 0.64, 0.44, 0.42, 0.45, 0.42, 0.64, 0.57, 0.41, 0.485, 0.61, 0.59, 0.665, 0.345, 0.635, 0.695, 0.69, 0.555, 0.65, 0.635, 0.655, 0.69, 0.695, 0.55, 0.61, 0.595, 0.3, 0.435, 0.455, 0.48, 0.43, 0.435, 0.3, 0.575, 0.505, 0.455, 0.64, 0.56, 0.645, 0.595, 0.565, 0.655, 0.48, 0.495, 0.4, 0.41, 0.595, 0.625, 0.52, 0.465, 0.475, 0.5, 0.46, 0.485, 0.465, 0.525, 0.655, 0.69, 0.55, 0.58, 0.59, 0.565, 0.665, 0.62, 0.55, 0.605, 0.535, 0.51, 0.53, 0.495, 0.575, 0.63, 0.59, 0.605, 0.645, 0.62, 0.605, 0.615, 0.66, 0.71, 0.565, 0.57, 0.6, 0.41, 0.45, 0.275, 0.485, 0.62, 0.48, 0.505, 0.4, 0.45, 0.35, 0.44, 0.265, 0.165, 0.705, 0.535, 0.49, 0.48, 0.395, 0.375, 0.345, 0.55, 0.635, 0.575, 0.545, 0.385, 0.51, 0.44, 0.45, 0.39, 0.425, 0.45, 0.66, 0.685, 0.585, 0.54, 0.49, 0.43, 0.455, 0.495, 0.48, 0.47, 0.415, 0.49, 0.47, 0.445, 0.51, 0.52, 0.475, 0.455, 0.435, 0.39, 0.375, 0.285, 0.58, 0.58, 0.41, 0.41, 0.54, 0.33, 0.44, 0.28, 0.59, 0.61, 0.61, 0.455, 0.33, 0.44, 0.54, 0.475, 0.46, 0.31, 0.255, 0.335, 0.295, 0.19, 0.545, 0.495, 0.5, 0.305, 0.475, 0.515, 0.545, 0.74, 0.565, 0.56, 0.545, 0.645, 0.575, 0.62, 0.605, 0.605, 0.475, 0.365, 0.46, 0.53, 0.48, 0.455, 0.35, 0.37, 0.34, 0.35, 0.35, 0.39, 0.395, 0.415, 0.43, 0.48, 0.49, 0.49, 0.56, 0.56, 0.58, 0.58, 0.59, 0.595, 0.6, 0.61, 0.63, 0.64, 0.65, 0.71, 0.74, 0.25, 0.28, 0.325, 0.35, 0.36, 0.365, 0.37, 0.375, 0.38, 0.395, 0.43, 0.44, 0.465, 0.465, 0.48, 0.485, 0.49, 0.495, 0.5, 0.505, 0.52, 0.52, 0.525, 0.55, 0.555, 0.555, 0.575, 0.6, 0.61, 0.61, 0.61, 0.615, 0.62, 0.625, 0.625, 0.625, 0.635, 0.64, 0.64, 0.66, 0.665, 0.715, 0.72, 0.725, 0.165, 0.21, 0.355, 0.4, 0.4, 0.4, 0.435, 0.44, 0.45, 0.465, 0.47, 0.47, 0.475, 0.485, 0.505, 0.51, 0.52, 0.53, 0.535, 0.55, 0.555, 0.555, 0.555, 0.56, 0.575, 0.585, 0.59, 0.595, 0.6, 0.6, 0.61, 0.615, 0.62, 0.625, 0.625, 0.64, 0.64, 0.645, 0.65, 0.655, 0.655, 0.66, 0.67, 0.69, 0.7, 0.7, 0.71, 0.715, 0.72, 0.215, 0.24, 0.26, 0.32, 0.33, 0.335, 0.35, 0.35, 0.36, 0.36, 0.365, 0.38, 0.4, 0.4, 0.4, 0.425, 0.43, 0.435, 0.435, 0.445, 0.45, 0.455, 0.46, 0.475, 0.475, 0.475, 0.48, 0.495, 0.5, 0.505, 0.515, 0.525, 0.53, 0.53, 0.535, 0.535, 0.54, 0.55, 0.565, 0.57, 0.57, 0.57, 0.575, 0.575, 0.575, 0.575, 0.58, 0.58, 0.58, 0.58, 0.585, 0.585, 0.595, 0.6, 0.6, 0.6, 0.6, 0.6, 0.6, 0.62, 0.625, 0.625, 0.625, 0.625, 0.625, 0.63, 0.635, 0.65, 0.65, 0.65, 0.65, 0.655, 0.655, 0.66, 0.66, 0.675, 0.685, 0.715, 0.735, 0.175, 0.37, 0.395, 0.42, 0.455, 0.495, 0.51, 0.515, 0.545, 0.555, 0.58, 0.59, 0.6, 0.61, 0.615, 0.615, 0.615, 0.62, 0.63, 0.64, 0.64, 0.655, 0.655, 0.66, 0.665, 0.67, 0.69, 0.715, 0.735, 0.27, 0.285, 0.295, 0.3, 0.3, 0.36, 0.37, 0.39, 0.435, 0.44, 0.44, 0.445, 0.465, 0.465, 0.47, 0.475, 0.475, 0.475, 0.485, 0.49, 0.515, 0.52, 0.525, 0.525, 0.53, 0.53, 0.53, 0.53, 0.535, 0.535, 0.545, 0.545, 0.55, 0.55, 0.55, 0.555, 0.575, 0.575, 0.585, 0.585, 0.585, 0.59, 0.595, 0.595, 0.595, 0.595, 0.6, 0.6, 0.605, 0.605, 0.61, 0.61, 0.615, 0.62, 0.62, 0.62, 0.62, 0.625, 0.625, 0.63, 0.63, 0.64, 0.645, 0.65, 0.65, 0.65, 0.65, 0.65, 0.65, 0.65, 0.65, 0.66, 0.66, 0.665, 0.67, 0.67, 0.67, 0.675, 0.675, 0.675, 0.685, 0.685, 0.705, 0.705, 0.71, 0.725, 0.78, 0.235, 0.35, 0.36, 0.38, 0.38, 0.43, 0.465, 0.47, 0.485, 0.495, 0.5, 0.505, 0.51, 0.51, 0.515, 0.55, 0.575, 0.605, 0.615, 0.615, 0.625, 0.625, 0.635, 0.65, 0.65, 0.67, 0.695, 0.705, 0.275, 0.285, 0.36, 0.385, 0.4, 0.43, 0.435, 0.45, 0.475, 0.475, 0.485, 0.51, 0.515, 0.52, 0.525, 0.53, 0.53, 0.53, 0.53, 0.53, 0.535, 0.535, 0.555, 0.555, 0.56, 0.56, 0.565, 0.575, 0.575, 0.575, 0.58, 0.58, 0.585, 0.585, 0.59, 0.595, 0.615, 0.615, 0.62, 0.62, 0.62, 0.625, 0.625, 0.63, 0.63, 0.645, 0.65, 0.65, 0.655, 0.665, 0.67, 0.675, 0.675, 0.695, 0.695, 0.705, 0.74, 0.205, 0.305, 0.32, 0.355, 0.425, 0.425, 0.45, 0.515, 0.52, 0.525, 0.555, 0.61, 0.35, 0.38, 0.46, 0.465, 0.475, 0.565, 0.57, 0.57, 0.595, 0.605, 0.615, 0.62, 0.625, 0.68, 0.68, 0.68, 0.71, 0.5, 0.545, 0.46, 0.535, 0.335, 0.425, 0.41, 0.17, 0.335, 0.52, 0.53, 0.5, 0.615, 0.575, 0.57, 0.455, 0.37, 0.445, 0.675, 0.385, 0.375, 0.56, 0.55, 0.57, 0.485, 0.41, 0.335, 0.655, 0.565, 0.57, 0.55, 0.63, 0.475, 0.655, 0.32, 0.525, 0.525, 0.5, 0.44, 0.49, 0.545, 0.45, 0.515, 0.33, 0.525, 0.295, 0.545, 0.645, 0.45, 0.61, 0.38, 0.565, 0.67, 0.54, 0.29, 0.41, 0.46, 0.56, 0.575, 0.62, 0.515, 0.56, 0.5, 0.435, 0.495, 0.595, 0.76, 0.615, 0.565, 0.14, 0.445, 0.525, 0.16, 0.635, 0.575, 0.38, 0.245, 0.48, 0.455, 0.455, 0.455, 0.355, 0.52, 0.54, 0.52, 0.56, 0.52, 0.615, 0.645, 0.565, 0.295, 0.375, 0.525, 0.395, 0.5, 0.47, 0.58, 0.5, 0.725, 0.65, 0.67, 0.55, 0.49, 0.235, 0.235, 0.52, 0.475, 0.53, 0.35, 0.555, 0.505, 0.54, 0.525, 0.55, 0.55, 0.235, 0.525, 0.475, 0.53, 0.525, 0.53, 0.465, 0.315, 0.465, 0.485, 0.49, 0.515, 0.555, 0.61, 0.68, 0.69, 0.695, 0.72, 0.27, 0.27, 0.295, 0.295, 0.315, 0.375, 0.38, 0.385, 0.4, 0.415, 0.415, 0.42, 0.44, 0.45, 0.475, 0.485, 0.495, 0.525, 0.565, 0.58, 0.585, 0.6, 0.63, 0.645, 0.655, 0.665, 0.67, 0.67, 0.685, 0.7, 0.72, 0.185, 0.245, 0.315, 0.36, 0.375, 0.415, 0.455, 0.48, 0.485, 0.51, 0.52, 0.555, 0.585, 0.585, 0.585, 0.61, 0.61, 0.615, 0.62, 0.625, 0.625, 0.635, 0.64, 0.66, 0.66, 0.66, 0.68, 0.69, 0.72, 0.275, 0.33, 0.33, 0.365, 0.365, 0.42, 0.435, 0.435, 0.44, 0.485, 0.495, 0.51, 0.52, 0.54, 0.54, 0.55, 0.56, 0.575, 0.575, 0.575, 0.58, 0.58, 0.59, 0.6, 0.62, 0.625, 0.625, 0.625, 0.625, 0.625, 0.625, 0.635, 0.645, 0.645, 0.69, 0.695, 0.515, 0.545, 0.62, 0.63, 0.63, 0.64, 0.37, 0.395, 0.4, 0.41, 0.455, 0.48, 0.485, 0.5, 0.515, 0.52, 0.545, 0.545, 0.55, 0.55, 0.55, 0.555, 0.56, 0.565, 0.57, 0.575, 0.585, 0.59, 0.595, 0.6, 0.61, 0.615, 0.625, 0.625, 0.63, 0.63, 0.635, 0.635, 0.635, 0.65, 0.67, 0.675, 0.675, 0.68, 0.7, 0.71, 0.715, 0.72, 0.42, 0.48, 0.48, 0.51, 0.515, 0.56, 0.56, 0.57, 0.605, 0.625, 0.64, 0.65, 0.3, 0.35, 0.455, 0.46, 0.49, 0.5, 0.54, 0.55, 0.55, 0.555, 0.57, 0.58, 0.58, 0.585, 0.585, 0.595, 0.6, 0.615, 0.63, 0.63, 0.635, 0.645, 0.65, 0.655, 0.655, 0.67, 0.67, 0.695, 0.695, 0.77, 0.28, 0.33, 0.35, 0.37, 0.43, 0.435, 0.44, 0.475, 0.475, 0.48, 0.56, 0.585, 0.585, 0.385, 0.39, 0.39, 0.405, 0.475, 0.5, 0.515, 0.52, 0.55, 0.56, 0.565, 0.59, 0.6, 0.625, 0.71], \"yaxis\": \"y2\"}],\n",
              "                        {\"annotations\": [{\"font\": {\"size\": 16}, \"showarrow\": false, \"text\": \"Distribution for lenght\", \"x\": 0.225, \"xanchor\": \"center\", \"xref\": \"paper\", \"y\": 1.0, \"yanchor\": \"bottom\", \"yref\": \"paper\"}, {\"font\": {\"size\": 16}, \"showarrow\": false, \"text\": \"Whiscker plot for  length\", \"x\": 0.775, \"xanchor\": \"center\", \"xref\": \"paper\", \"y\": 1.0, \"yanchor\": \"bottom\", \"yref\": \"paper\"}], \"template\": {\"data\": {\"bar\": [{\"error_x\": {\"color\": \"#2a3f5f\"}, \"error_y\": {\"color\": \"#2a3f5f\"}, \"marker\": {\"line\": {\"color\": \"#E5ECF6\", \"width\": 0.5}}, \"type\": \"bar\"}], \"barpolar\": [{\"marker\": {\"line\": {\"color\": \"#E5ECF6\", \"width\": 0.5}}, \"type\": \"barpolar\"}], \"carpet\": [{\"aaxis\": {\"endlinecolor\": \"#2a3f5f\", \"gridcolor\": \"white\", \"linecolor\": \"white\", \"minorgridcolor\": \"white\", \"startlinecolor\": \"#2a3f5f\"}, \"baxis\": {\"endlinecolor\": \"#2a3f5f\", \"gridcolor\": \"white\", \"linecolor\": \"white\", \"minorgridcolor\": \"white\", \"startlinecolor\": \"#2a3f5f\"}, \"type\": \"carpet\"}], \"choropleth\": [{\"colorbar\": {\"outlinewidth\": 0, \"ticks\": \"\"}, \"type\": \"choropleth\"}], \"contour\": [{\"colorbar\": {\"outlinewidth\": 0, \"ticks\": \"\"}, \"colorscale\": [[0.0, \"#0d0887\"], [0.1111111111111111, \"#46039f\"], [0.2222222222222222, \"#7201a8\"], [0.3333333333333333, \"#9c179e\"], [0.4444444444444444, \"#bd3786\"], [0.5555555555555556, \"#d8576b\"], [0.6666666666666666, \"#ed7953\"], [0.7777777777777778, \"#fb9f3a\"], [0.8888888888888888, \"#fdca26\"], [1.0, \"#f0f921\"]], \"type\": \"contour\"}], \"contourcarpet\": [{\"colorbar\": {\"outlinewidth\": 0, \"ticks\": \"\"}, \"type\": \"contourcarpet\"}], \"heatmap\": [{\"colorbar\": {\"outlinewidth\": 0, \"ticks\": \"\"}, \"colorscale\": [[0.0, \"#0d0887\"], [0.1111111111111111, \"#46039f\"], [0.2222222222222222, \"#7201a8\"], [0.3333333333333333, \"#9c179e\"], [0.4444444444444444, \"#bd3786\"], [0.5555555555555556, \"#d8576b\"], [0.6666666666666666, \"#ed7953\"], [0.7777777777777778, \"#fb9f3a\"], [0.8888888888888888, \"#fdca26\"], [1.0, \"#f0f921\"]], \"type\": \"heatmap\"}], \"heatmapgl\": [{\"colorbar\": {\"outlinewidth\": 0, \"ticks\": \"\"}, \"colorscale\": [[0.0, \"#0d0887\"], [0.1111111111111111, \"#46039f\"], [0.2222222222222222, \"#7201a8\"], [0.3333333333333333, \"#9c179e\"], [0.4444444444444444, \"#bd3786\"], [0.5555555555555556, \"#d8576b\"], [0.6666666666666666, \"#ed7953\"], [0.7777777777777778, \"#fb9f3a\"], [0.8888888888888888, \"#fdca26\"], [1.0, \"#f0f921\"]], \"type\": \"heatmapgl\"}], \"histogram\": [{\"marker\": {\"colorbar\": {\"outlinewidth\": 0, \"ticks\": \"\"}}, \"type\": \"histogram\"}], \"histogram2d\": [{\"colorbar\": {\"outlinewidth\": 0, \"ticks\": \"\"}, \"colorscale\": [[0.0, \"#0d0887\"], [0.1111111111111111, \"#46039f\"], [0.2222222222222222, \"#7201a8\"], [0.3333333333333333, \"#9c179e\"], [0.4444444444444444, \"#bd3786\"], [0.5555555555555556, \"#d8576b\"], [0.6666666666666666, \"#ed7953\"], [0.7777777777777778, \"#fb9f3a\"], [0.8888888888888888, \"#fdca26\"], [1.0, \"#f0f921\"]], \"type\": \"histogram2d\"}], \"histogram2dcontour\": [{\"colorbar\": {\"outlinewidth\": 0, \"ticks\": \"\"}, \"colorscale\": [[0.0, \"#0d0887\"], [0.1111111111111111, \"#46039f\"], [0.2222222222222222, \"#7201a8\"], [0.3333333333333333, \"#9c179e\"], [0.4444444444444444, \"#bd3786\"], [0.5555555555555556, \"#d8576b\"], [0.6666666666666666, \"#ed7953\"], [0.7777777777777778, \"#fb9f3a\"], [0.8888888888888888, \"#fdca26\"], [1.0, \"#f0f921\"]], \"type\": \"histogram2dcontour\"}], \"mesh3d\": [{\"colorbar\": {\"outlinewidth\": 0, \"ticks\": \"\"}, \"type\": \"mesh3d\"}], \"parcoords\": [{\"line\": {\"colorbar\": {\"outlinewidth\": 0, \"ticks\": \"\"}}, \"type\": \"parcoords\"}], \"pie\": [{\"automargin\": true, \"type\": \"pie\"}], \"scatter\": [{\"marker\": {\"colorbar\": {\"outlinewidth\": 0, \"ticks\": \"\"}}, \"type\": \"scatter\"}], \"scatter3d\": [{\"line\": {\"colorbar\": {\"outlinewidth\": 0, \"ticks\": \"\"}}, \"marker\": {\"colorbar\": {\"outlinewidth\": 0, \"ticks\": \"\"}}, \"type\": \"scatter3d\"}], \"scattercarpet\": [{\"marker\": {\"colorbar\": {\"outlinewidth\": 0, \"ticks\": \"\"}}, \"type\": \"scattercarpet\"}], \"scattergeo\": [{\"marker\": {\"colorbar\": {\"outlinewidth\": 0, \"ticks\": \"\"}}, \"type\": \"scattergeo\"}], \"scattergl\": [{\"marker\": {\"colorbar\": {\"outlinewidth\": 0, \"ticks\": \"\"}}, \"type\": \"scattergl\"}], \"scattermapbox\": [{\"marker\": {\"colorbar\": {\"outlinewidth\": 0, \"ticks\": \"\"}}, \"type\": \"scattermapbox\"}], \"scatterpolar\": [{\"marker\": {\"colorbar\": {\"outlinewidth\": 0, \"ticks\": \"\"}}, \"type\": \"scatterpolar\"}], \"scatterpolargl\": [{\"marker\": {\"colorbar\": {\"outlinewidth\": 0, \"ticks\": \"\"}}, \"type\": \"scatterpolargl\"}], \"scatterternary\": [{\"marker\": {\"colorbar\": {\"outlinewidth\": 0, \"ticks\": \"\"}}, \"type\": \"scatterternary\"}], \"surface\": [{\"colorbar\": {\"outlinewidth\": 0, \"ticks\": \"\"}, \"colorscale\": [[0.0, \"#0d0887\"], [0.1111111111111111, \"#46039f\"], [0.2222222222222222, \"#7201a8\"], [0.3333333333333333, \"#9c179e\"], [0.4444444444444444, \"#bd3786\"], [0.5555555555555556, \"#d8576b\"], [0.6666666666666666, \"#ed7953\"], [0.7777777777777778, \"#fb9f3a\"], [0.8888888888888888, \"#fdca26\"], [1.0, \"#f0f921\"]], \"type\": \"surface\"}], \"table\": [{\"cells\": {\"fill\": {\"color\": \"#EBF0F8\"}, \"line\": {\"color\": \"white\"}}, \"header\": {\"fill\": {\"color\": \"#C8D4E3\"}, \"line\": {\"color\": \"white\"}}, \"type\": \"table\"}]}, \"layout\": {\"annotationdefaults\": {\"arrowcolor\": \"#2a3f5f\", \"arrowhead\": 0, \"arrowwidth\": 1}, \"coloraxis\": {\"colorbar\": {\"outlinewidth\": 0, \"ticks\": \"\"}}, \"colorscale\": {\"diverging\": [[0, \"#8e0152\"], [0.1, \"#c51b7d\"], [0.2, \"#de77ae\"], [0.3, \"#f1b6da\"], [0.4, \"#fde0ef\"], [0.5, \"#f7f7f7\"], [0.6, \"#e6f5d0\"], [0.7, \"#b8e186\"], [0.8, \"#7fbc41\"], [0.9, \"#4d9221\"], [1, \"#276419\"]], \"sequential\": [[0.0, \"#0d0887\"], [0.1111111111111111, \"#46039f\"], [0.2222222222222222, \"#7201a8\"], [0.3333333333333333, \"#9c179e\"], [0.4444444444444444, \"#bd3786\"], [0.5555555555555556, \"#d8576b\"], [0.6666666666666666, \"#ed7953\"], [0.7777777777777778, \"#fb9f3a\"], [0.8888888888888888, \"#fdca26\"], [1.0, \"#f0f921\"]], \"sequentialminus\": [[0.0, \"#0d0887\"], [0.1111111111111111, \"#46039f\"], [0.2222222222222222, \"#7201a8\"], [0.3333333333333333, \"#9c179e\"], [0.4444444444444444, \"#bd3786\"], [0.5555555555555556, \"#d8576b\"], [0.6666666666666666, \"#ed7953\"], [0.7777777777777778, \"#fb9f3a\"], [0.8888888888888888, \"#fdca26\"], [1.0, \"#f0f921\"]]}, \"colorway\": [\"#636efa\", \"#EF553B\", \"#00cc96\", \"#ab63fa\", \"#FFA15A\", \"#19d3f3\", \"#FF6692\", \"#B6E880\", \"#FF97FF\", \"#FECB52\"], \"font\": {\"color\": \"#2a3f5f\"}, \"geo\": {\"bgcolor\": \"white\", \"lakecolor\": \"white\", \"landcolor\": \"#E5ECF6\", \"showlakes\": true, \"showland\": true, \"subunitcolor\": \"white\"}, \"hoverlabel\": {\"align\": \"left\"}, \"hovermode\": \"closest\", \"mapbox\": {\"style\": \"light\"}, \"paper_bgcolor\": \"white\", \"plot_bgcolor\": \"#E5ECF6\", \"polar\": {\"angularaxis\": {\"gridcolor\": \"white\", \"linecolor\": \"white\", \"ticks\": \"\"}, \"bgcolor\": \"#E5ECF6\", \"radialaxis\": {\"gridcolor\": \"white\", \"linecolor\": \"white\", \"ticks\": \"\"}}, \"scene\": {\"xaxis\": {\"backgroundcolor\": \"#E5ECF6\", \"gridcolor\": \"white\", \"gridwidth\": 2, \"linecolor\": \"white\", \"showbackground\": true, \"ticks\": \"\", \"zerolinecolor\": \"white\"}, \"yaxis\": {\"backgroundcolor\": \"#E5ECF6\", \"gridcolor\": \"white\", \"gridwidth\": 2, \"linecolor\": \"white\", \"showbackground\": true, \"ticks\": \"\", \"zerolinecolor\": \"white\"}, \"zaxis\": {\"backgroundcolor\": \"#E5ECF6\", \"gridcolor\": \"white\", \"gridwidth\": 2, \"linecolor\": \"white\", \"showbackground\": true, \"ticks\": \"\", \"zerolinecolor\": \"white\"}}, \"shapedefaults\": {\"line\": {\"color\": \"#2a3f5f\"}}, \"ternary\": {\"aaxis\": {\"gridcolor\": \"white\", \"linecolor\": \"white\", \"ticks\": \"\"}, \"baxis\": {\"gridcolor\": \"white\", \"linecolor\": \"white\", \"ticks\": \"\"}, \"bgcolor\": \"#E5ECF6\", \"caxis\": {\"gridcolor\": \"white\", \"linecolor\": \"white\", \"ticks\": \"\"}}, \"title\": {\"x\": 0.05}, \"xaxis\": {\"automargin\": true, \"gridcolor\": \"white\", \"linecolor\": \"white\", \"ticks\": \"\", \"title\": {\"standoff\": 15}, \"zerolinecolor\": \"white\", \"zerolinewidth\": 2}, \"yaxis\": {\"automargin\": true, \"gridcolor\": \"white\", \"linecolor\": \"white\", \"ticks\": \"\", \"title\": {\"standoff\": 15}, \"zerolinecolor\": \"white\", \"zerolinewidth\": 2}}}, \"xaxis\": {\"anchor\": \"y\", \"domain\": [0.0, 0.45]}, \"xaxis2\": {\"anchor\": \"y2\", \"domain\": [0.55, 1.0]}, \"yaxis\": {\"anchor\": \"x\", \"domain\": [0.0, 1.0]}, \"yaxis2\": {\"anchor\": \"x2\", \"domain\": [0.0, 1.0]}},\n",
              "                        {\"responsive\": true}\n",
              "                    ).then(function(){\n",
              "                            \n",
              "var gd = document.getElementById('131097e8-8ce1-4d79-98fd-521735d034d3');\n",
              "var x = new MutationObserver(function (mutations, observer) {{\n",
              "        var display = window.getComputedStyle(gd).display;\n",
              "        if (!display || display === 'none') {{\n",
              "            console.log([gd, 'removed!']);\n",
              "            Plotly.purge(gd);\n",
              "            observer.disconnect();\n",
              "        }}\n",
              "}});\n",
              "\n",
              "// Listen for the removal of the full notebook cells\n",
              "var notebookContainer = gd.closest('#notebook-container');\n",
              "if (notebookContainer) {{\n",
              "    x.observe(notebookContainer, {childList: true});\n",
              "}}\n",
              "\n",
              "// Listen for the clearing of the current output cell\n",
              "var outputEl = gd.closest('.output');\n",
              "if (outputEl) {{\n",
              "    x.observe(outputEl, {childList: true});\n",
              "}}\n",
              "\n",
              "                        })\n",
              "                };\n",
              "                \n",
              "            </script>\n",
              "        </div>\n",
              "</body>\n",
              "</html>"
            ]
          },
          "metadata": {}
        }
      ]
    },
    {
      "cell_type": "markdown",
      "source": [
        "The feature length, We observe that the data is left skewed and has few outliers"
      ],
      "metadata": {
        "id": "02l1HE-CFZcL"
      }
    },
    {
      "cell_type": "code",
      "source": [
        "df.columns"
      ],
      "metadata": {
        "colab": {
          "base_uri": "https://localhost:8080/"
        },
        "id": "O48xxYgrFpap",
        "outputId": "f2c1e332-e664-4a07-9823-00f4321b7b0b"
      },
      "execution_count": 16,
      "outputs": [
        {
          "output_type": "execute_result",
          "data": {
            "text/plain": [
              "Index(['sex', 'length', 'diameter', 'height', 'whole_weight', 'shucked_weight',\n",
              "       'viscera_weight', 'shell_weight', 'Age'],\n",
              "      dtype='object')"
            ]
          },
          "metadata": {},
          "execution_count": 16
        }
      ]
    },
    {
      "cell_type": "code",
      "source": [
        "\n",
        "fig = make_subplots(rows=1, cols=2, subplot_titles=('Distribution for diameter', \"Whiscker plot for  diameter\"))\n",
        "fig.add_trace(go.Histogram(x=df['diameter']), row=1, col=1)\n",
        "fig.add_trace(\n",
        "    go.Violin(y=df['diameter'], box_visible=True, line_color='black',\n",
        "                               meanline_visible=True, fillcolor='lightseagreen', opacity=0.6,\n",
        "                               x0='Diameter measuremnet')\n",
        "    \n",
        "    , row=1, col=2)\n",
        "\n",
        "fig.show()\n"
      ],
      "metadata": {
        "colab": {
          "base_uri": "https://localhost:8080/",
          "height": 542
        },
        "id": "UVyop2HCsgwG",
        "outputId": "99b87ab5-8cf2-4b83-e36c-c489896c2922"
      },
      "execution_count": 17,
      "outputs": [
        {
          "output_type": "display_data",
          "data": {
            "text/html": [
              "<html>\n",
              "<head><meta charset=\"utf-8\" /></head>\n",
              "<body>\n",
              "    <div>\n",
              "            <script src=\"https://cdnjs.cloudflare.com/ajax/libs/mathjax/2.7.5/MathJax.js?config=TeX-AMS-MML_SVG\"></script><script type=\"text/javascript\">if (window.MathJax) {MathJax.Hub.Config({SVG: {font: \"STIX-Web\"}});}</script>\n",
              "                <script type=\"text/javascript\">window.PlotlyConfig = {MathJaxConfig: 'local'};</script>\n",
              "        <script src=\"https://cdn.plot.ly/plotly-latest.min.js\"></script>    \n",
              "            <div id=\"0152ff51-7223-4a98-a511-e60252d5670c\" class=\"plotly-graph-div\" style=\"height:525px; width:100%;\"></div>\n",
              "            <script type=\"text/javascript\">\n",
              "                \n",
              "                    window.PLOTLYENV=window.PLOTLYENV || {};\n",
              "                    \n",
              "                if (document.getElementById(\"0152ff51-7223-4a98-a511-e60252d5670c\")) {\n",
              "                    Plotly.newPlot(\n",
              "                        '0152ff51-7223-4a98-a511-e60252d5670c',\n",
              "                        [{\"type\": \"histogram\", \"x\": [0.365, 0.265, 0.42, 0.365, 0.255, 0.3, 0.415, 0.425, 0.37, 0.44, 0.38, 0.35, 0.38, 0.405, 0.355, 0.4, 0.28, 0.34, 0.295, 0.32, 0.28, 0.275, 0.44, 0.415, 0.48, 0.44, 0.45, 0.445, 0.475, 0.425, 0.47, 0.56, 0.525, 0.55, 0.55, 0.355, 0.475, 0.355, 0.445, 0.29, 0.335, 0.425, 0.175, 0.15, 0.15, 0.295, 0.37, 0.375, 0.245, 0.425, 0.41, 0.32, 0.36, 0.36, 0.31, 0.4, 0.35, 0.385, 0.19, 0.4, 0.345, 0.405, 0.41, 0.325, 0.4, 0.355, 0.44, 0.495, 0.39, 0.235, 0.425, 0.32, 0.475, 0.48, 0.45, 0.475, 0.475, 0.47, 0.425, 0.475, 0.445, 0.51, 0.425, 0.475, 0.45, 0.465, 0.465, 0.44, 0.355, 0.45, 0.425, 0.44, 0.465, 0.495, 0.56, 0.535, 0.435, 0.375, 0.37, 0.375, 0.265, 0.435, 0.435, 0.415, 0.47, 0.41, 0.43, 0.4, 0.39, 0.395, 0.395, 0.36, 0.32, 0.35, 0.41, 0.415, 0.375, 0.34, 0.43, 0.305, 0.365, 0.295, 0.425, 0.265, 0.28, 0.195, 0.275, 0.29, 0.535, 0.54, 0.48, 0.35, 0.26, 0.26, 0.2, 0.33, 0.23, 0.255, 0.325, 0.285, 0.445, 0.45, 0.52, 0.455, 0.375, 0.38, 0.35, 0.205, 0.13, 0.13, 0.475, 0.5, 0.515, 0.485, 0.45, 0.405, 0.46, 0.485, 0.455, 0.46, 0.465, 0.485, 0.485, 0.56, 0.545, 0.57, 0.575, 0.57, 0.56, 0.515, 0.55, 0.395, 0.435, 0.405, 0.16, 0.26, 0.21, 0.245, 0.16, 0.475, 0.48, 0.51, 0.45, 0.475, 0.51, 0.49, 0.48, 0.5, 0.48, 0.46, 0.48, 0.485, 0.45, 0.275, 0.4, 0.405, 0.41, 0.5, 0.45, 0.46, 0.345, 0.4, 0.4, 0.435, 0.335, 0.34, 0.3, 0.34, 0.415, 0.28, 0.365, 0.25, 0.325, 0.405, 0.395, 0.405, 0.35, 0.3, 0.36, 0.305, 0.325, 0.35, 0.375, 0.355, 0.38, 0.37, 0.29, 0.27, 0.465, 0.415, 0.445, 0.44, 0.505, 0.215, 0.35, 0.225, 0.055, 0.1, 0.09, 0.12, 0.425, 0.2, 0.175, 0.23, 0.255, 0.26, 0.245, 0.275, 0.245, 0.27, 0.25, 0.47, 0.455, 0.46, 0.495, 0.45, 0.45, 0.46, 0.505, 0.475, 0.475, 0.44, 0.42, 0.195, 0.2, 0.38, 0.45, 0.275, 0.39, 0.36, 0.525, 0.5, 0.485, 0.505, 0.515, 0.54, 0.53, 0.5, 0.525, 0.425, 0.415, 0.285, 0.355, 0.395, 0.38, 0.415, 0.435, 0.4, 0.355, 0.435, 0.435, 0.505, 0.475, 0.455, 0.495, 0.215, 0.205, 0.21, 0.395, 0.28, 0.305, 0.435, 0.28, 0.27, 0.36, 0.145, 0.12, 0.515, 0.41, 0.435, 0.485, 0.44, 0.455, 0.47, 0.485, 0.355, 0.535, 0.35, 0.455, 0.255, 0.21, 0.145, 0.31, 0.205, 0.265, 0.275, 0.255, 0.4, 0.295, 0.28, 0.38, 0.325, 0.22, 0.175, 0.6, 0.465, 0.475, 0.45, 0.475, 0.45, 0.455, 0.51, 0.465, 0.375, 0.425, 0.39, 0.42, 0.26, 0.305, 0.48, 0.495, 0.45, 0.46, 0.455, 0.515, 0.58, 0.525, 0.525, 0.585, 0.545, 0.49, 0.465, 0.525, 0.48, 0.5, 0.515, 0.465, 0.455, 0.49, 0.56, 0.545, 0.565, 0.58, 0.575, 0.52, 0.545, 0.49, 0.45, 0.465, 0.495, 0.47, 0.42, 0.4, 0.375, 0.425, 0.37, 0.42, 0.38, 0.42, 0.375, 0.325, 0.375, 0.375, 0.295, 0.275, 0.31, 0.395, 0.38, 0.44, 0.455, 0.365, 0.455, 0.325, 0.415, 0.345, 0.44, 0.355, 0.485, 0.45, 0.44, 0.5, 0.475, 0.46, 0.44, 0.495, 0.47, 0.5, 0.515, 0.5, 0.41, 0.54, 0.38, 0.39, 0.225, 0.2, 0.45, 0.485, 0.5, 0.455, 0.45, 0.45, 0.47, 0.455, 0.42, 0.345, 0.41, 0.275, 0.305, 0.3, 0.415, 0.275, 0.26, 0.425, 0.295, 0.325, 0.455, 0.435, 0.455, 0.5, 0.455, 0.565, 0.535, 0.555, 0.49, 0.55, 0.47, 0.54, 0.28, 0.31, 0.41, 0.285, 0.465, 0.185, 0.165, 0.195, 0.125, 0.55, 0.53, 0.55, 0.555, 0.44, 0.405, 0.34, 0.405, 0.415, 0.415, 0.35, 0.54, 0.59, 0.545, 0.585, 0.4, 0.465, 0.46, 0.48, 0.465, 0.45, 0.515, 0.42, 0.455, 0.455, 0.46, 0.51, 0.53, 0.5, 0.5, 0.52, 0.485, 0.525, 0.45, 0.44, 0.52, 0.47, 0.505, 0.485, 0.47, 0.46, 0.455, 0.435, 0.445, 0.53, 0.35, 0.38, 0.22, 0.195, 0.195, 0.29, 0.2, 0.23, 0.25, 0.15, 0.27, 0.26, 0.14, 0.16, 0.125, 0.11, 0.445, 0.45, 0.3, 0.42, 0.355, 0.37, 0.335, 0.37, 0.38, 0.405, 0.23, 0.205, 0.29, 0.375, 0.355, 0.325, 0.35, 0.29, 0.245, 0.195, 0.155, 0.45, 0.425, 0.515, 0.49, 0.44, 0.37, 0.39, 0.385, 0.405, 0.5, 0.53, 0.4, 0.34, 0.4, 0.35, 0.415, 0.355, 0.255, 0.355, 0.33, 0.21, 0.32, 0.35, 0.345, 0.455, 0.44, 0.475, 0.475, 0.425, 0.435, 0.445, 0.48, 0.49, 0.425, 0.525, 0.355, 0.305, 0.39, 0.425, 0.41, 0.335, 0.31, 0.4, 0.29, 0.41, 0.52, 0.42, 0.455, 0.43, 0.47, 0.495, 0.445, 0.42, 0.315, 0.3, 0.345, 0.39, 0.345, 0.27, 0.37, 0.285, 0.265, 0.345, 0.145, 0.24, 0.37, 0.35, 0.345, 0.355, 0.24, 0.225, 0.17, 0.255, 0.38, 0.385, 0.385, 0.36, 0.405, 0.335, 0.305, 0.415, 0.265, 0.365, 0.34, 0.365, 0.36, 0.295, 0.265, 0.235, 0.26, 0.345, 0.4, 0.24, 0.485, 0.45, 0.255, 0.34, 0.33, 0.215, 0.375, 0.35, 0.36, 0.18, 0.245, 0.35, 0.225, 0.28, 0.215, 0.435, 0.515, 0.49, 0.475, 0.525, 0.45, 0.34, 0.305, 0.355, 0.295, 0.35, 0.38, 0.425, 0.35, 0.385, 0.38, 0.41, 0.39, 0.385, 0.395, 0.415, 0.375, 0.38, 0.275, 0.275, 0.37, 0.325, 0.405, 0.4, 0.44, 0.4, 0.405, 0.4, 0.44, 0.375, 0.19, 0.325, 0.29, 0.11, 0.23, 0.105, 0.205, 0.335, 0.315, 0.285, 0.385, 0.33, 0.295, 0.3, 0.325, 0.25, 0.26, 0.295, 0.225, 0.25, 0.3, 0.205, 0.265, 0.255, 0.2, 0.205, 0.19, 0.125, 0.1, 0.11, 0.455, 0.44, 0.41, 0.36, 0.36, 0.305, 0.375, 0.4, 0.4, 0.4, 0.42, 0.4, 0.38, 0.425, 0.39, 0.385, 0.405, 0.41, 0.345, 0.44, 0.265, 0.42, 0.405, 0.415, 0.42, 0.52, 0.385, 0.42, 0.515, 0.39, 0.355, 0.46, 0.455, 0.515, 0.505, 0.525, 0.495, 0.44, 0.43, 0.405, 0.44, 0.44, 0.51, 0.47, 0.45, 0.445, 0.27, 0.43, 0.425, 0.455, 0.375, 0.275, 0.34, 0.38, 0.41, 0.385, 0.38, 0.35, 0.36, 0.41, 0.385, 0.435, 0.28, 0.155, 0.415, 0.39, 0.385, 0.39, 0.465, 0.465, 0.375, 0.37, 0.45, 0.465, 0.405, 0.41, 0.335, 0.42, 0.345, 0.34, 0.335, 0.33, 0.275, 0.38, 0.305, 0.205, 0.4, 0.34, 0.41, 0.405, 0.365, 0.175, 0.185, 0.24, 0.25, 0.25, 0.27, 0.25, 0.3, 0.275, 0.275, 0.275, 0.29, 0.3, 0.29, 0.29, 0.31, 0.325, 0.32, 0.305, 0.325, 0.365, 0.335, 0.325, 0.35, 0.375, 0.365, 0.365, 0.355, 0.385, 0.41, 0.4, 0.44, 0.395, 0.405, 0.42, 0.44, 0.43, 0.45, 0.45, 0.435, 0.45, 0.455, 0.435, 0.465, 0.475, 0.46, 0.48, 0.48, 0.475, 0.465, 0.475, 0.475, 0.495, 0.475, 0.455, 0.5, 0.52, 0.51, 0.505, 0.505, 0.5, 0.49, 0.49, 0.505, 0.51, 0.5, 0.485, 0.51, 0.525, 0.52, 0.58, 0.53, 0.52, 0.585, 0.525, 0.525, 0.56, 0.54, 0.56, 0.595, 0.14, 0.175, 0.175, 0.19, 0.18, 0.195, 0.12, 0.23, 0.235, 0.23, 0.22, 0.235, 0.23, 0.24, 0.24, 0.265, 0.25, 0.25, 0.25, 0.25, 0.265, 0.29, 0.28, 0.28, 0.265, 0.31, 0.305, 0.31, 0.33, 0.32, 0.315, 0.34, 0.315, 0.325, 0.325, 0.325, 0.34, 0.345, 0.325, 0.335, 0.35, 0.36, 0.355, 0.345, 0.335, 0.355, 0.375, 0.36, 0.345, 0.365, 0.37, 0.345, 0.35, 0.365, 0.365, 0.37, 0.36, 0.375, 0.385, 0.36, 0.365, 0.37, 0.385, 0.395, 0.4, 0.39, 0.385, 0.385, 0.4, 0.39, 0.39, 0.41, 0.355, 0.39, 0.375, 0.405, 0.405, 0.41, 0.43, 0.39, 0.415, 0.4, 0.425, 0.425, 0.405, 0.4, 0.43, 0.435, 0.445, 0.43, 0.455, 0.4, 0.45, 0.45, 0.455, 0.445, 0.46, 0.475, 0.46, 0.46, 0.46, 0.455, 0.45, 0.49, 0.465, 0.47, 0.455, 0.47, 0.45, 0.475, 0.46, 0.455, 0.49, 0.475, 0.47, 0.47, 0.475, 0.48, 0.51, 0.48, 0.49, 0.475, 0.5, 0.485, 0.485, 0.495, 0.48, 0.49, 0.525, 0.505, 0.5, 0.5, 0.5, 0.52, 0.52, 0.505, 0.5, 0.5, 0.515, 0.495, 0.52, 0.525, 0.46, 0.51, 0.505, 0.535, 0.495, 0.475, 0.525, 0.57, 0.565, 0.535, 0.525, 0.505, 0.535, 0.535, 0.565, 0.565, 0.525, 0.6, 0.6, 0.13, 0.15, 0.135, 0.155, 0.165, 0.18, 0.18, 0.195, 0.195, 0.21, 0.22, 0.22, 0.235, 0.225, 0.265, 0.28, 0.28, 0.275, 0.29, 0.32, 0.3, 0.3, 0.325, 0.3, 0.32, 0.31, 0.325, 0.335, 0.33, 0.345, 0.33, 0.345, 0.34, 0.335, 0.365, 0.34, 0.33, 0.33, 0.33, 0.35, 0.36, 0.38, 0.35, 0.35, 0.38, 0.465, 0.375, 0.375, 0.38, 0.39, 0.39, 0.405, 0.4, 0.4, 0.38, 0.385, 0.4, 0.38, 0.38, 0.46, 0.4, 0.4, 0.405, 0.395, 0.4, 0.39, 0.42, 0.39, 0.41, 0.415, 0.415, 0.43, 0.425, 0.43, 0.445, 0.44, 0.415, 0.455, 0.435, 0.45, 0.46, 0.445, 0.44, 0.46, 0.45, 0.435, 0.47, 0.455, 0.435, 0.445, 0.445, 0.455, 0.455, 0.445, 0.45, 0.45, 0.45, 0.46, 0.465, 0.47, 0.475, 0.455, 0.465, 0.465, 0.47, 0.475, 0.48, 0.475, 0.485, 0.485, 0.47, 0.46, 0.465, 0.475, 0.47, 0.45, 0.48, 0.485, 0.48, 0.47, 0.5, 0.495, 0.515, 0.53, 0.48, 0.5, 0.5, 0.515, 0.51, 0.53, 0.525, 0.5, 0.505, 0.54, 0.52, 0.54, 0.53, 0.53, 0.56, 0.565, 0.575, 0.525, 0.55, 0.56, 0.55, 0.535, 0.58, 0.55, 0.565, 0.505, 0.575, 0.585, 0.565, 0.57, 0.625, 0.58, 0.63, 0.375, 0.205, 0.185, 0.19, 0.195, 0.215, 0.225, 0.23, 0.23, 0.225, 0.25, 0.205, 0.245, 0.25, 0.255, 0.255, 0.27, 0.255, 0.27, 0.27, 0.27, 0.265, 0.29, 0.28, 0.29, 0.29, 0.275, 0.275, 0.28, 0.27, 0.275, 0.27, 0.29, 0.28, 0.3, 0.28, 0.3, 0.305, 0.295, 0.27, 0.29, 0.285, 0.335, 0.305, 0.325, 0.32, 0.31, 0.34, 0.315, 0.315, 0.34, 0.33, 0.345, 0.365, 0.33, 0.36, 0.35, 0.365, 0.34, 0.365, 0.355, 0.355, 0.355, 0.38, 0.36, 0.37, 0.355, 0.365, 0.355, 0.38, 0.395, 0.38, 0.42, 0.375, 0.41, 0.375, 0.395, 0.405, 0.38, 0.395, 0.38, 0.42, 0.4, 0.4, 0.395, 0.4, 0.42, 0.415, 0.42, 0.415, 0.425, 0.4, 0.415, 0.41, 0.435, 0.42, 0.42, 0.435, 0.445, 0.43, 0.405, 0.43, 0.405, 0.43, 0.435, 0.425, 0.44, 0.43, 0.43, 0.425, 0.425, 0.425, 0.445, 0.455, 0.44, 0.45, 0.445, 0.39, 0.45, 0.45, 0.46, 0.435, 0.44, 0.435, 0.42, 0.48, 0.46, 0.46, 0.455, 0.445, 0.465, 0.49, 0.475, 0.46, 0.47, 0.475, 0.45, 0.445, 0.47, 0.455, 0.465, 0.465, 0.475, 0.48, 0.475, 0.465, 0.455, 0.46, 0.485, 0.49, 0.435, 0.475, 0.47, 0.45, 0.48, 0.475, 0.465, 0.48, 0.46, 0.475, 0.47, 0.5, 0.475, 0.475, 0.48, 0.475, 0.51, 0.495, 0.5, 0.475, 0.455, 0.505, 0.515, 0.48, 0.485, 0.505, 0.485, 0.475, 0.495, 0.49, 0.5, 0.495, 0.475, 0.51, 0.565, 0.525, 0.51, 0.5, 0.525, 0.505, 0.59, 0.525, 0.51, 0.51, 0.525, 0.535, 0.52, 0.49, 0.495, 0.515, 0.53, 0.53, 0.505, 0.545, 0.545, 0.565, 0.545, 0.565, 0.555, 0.57, 0.55, 0.575, 0.575, 0.6, 0.58, 0.565, 0.57, 0.61, 0.65, 0.105, 0.165, 0.265, 0.255, 0.27, 0.28, 0.3, 0.295, 0.29, 0.3, 0.31, 0.29, 0.3, 0.32, 0.315, 0.34, 0.34, 0.34, 0.32, 0.365, 0.335, 0.335, 0.355, 0.345, 0.35, 0.355, 0.37, 0.365, 0.365, 0.36, 0.38, 0.39, 0.37, 0.38, 0.385, 0.38, 0.395, 0.425, 0.4, 0.4, 0.4, 0.43, 0.4, 0.41, 0.43, 0.425, 0.43, 0.435, 0.445, 0.465, 0.46, 0.46, 0.435, 0.455, 0.44, 0.465, 0.46, 0.455, 0.455, 0.465, 0.485, 0.485, 0.515, 0.485, 0.475, 0.485, 0.435, 0.48, 0.52, 0.47, 0.47, 0.5, 0.455, 0.48, 0.49, 0.505, 0.51, 0.515, 0.515, 0.51, 0.505, 0.545, 0.515, 0.5, 0.485, 0.54, 0.51, 0.505, 0.515, 0.545, 0.51, 0.5, 0.5, 0.515, 0.525, 0.55, 0.555, 0.56, 0.565, 0.575, 0.57, 0.55, 0.17, 0.21, 0.215, 0.23, 0.225, 0.255, 0.26, 0.27, 0.26, 0.27, 0.275, 0.265, 0.27, 0.27, 0.28, 0.285, 0.29, 0.29, 0.28, 0.3, 0.3, 0.285, 0.29, 0.3, 0.3, 0.325, 0.325, 0.315, 0.335, 0.325, 0.34, 0.335, 0.36, 0.35, 0.355, 0.37, 0.345, 0.355, 0.36, 0.36, 0.36, 0.37, 0.37, 0.355, 0.375, 0.375, 0.4, 0.37, 0.4, 0.4, 0.39, 0.375, 0.395, 0.375, 0.36, 0.35, 0.395, 0.39, 0.41, 0.39, 0.415, 0.39, 0.38, 0.4, 0.4, 0.42, 0.43, 0.4, 0.42, 0.4, 0.43, 0.425, 0.43, 0.455, 0.42, 0.425, 0.425, 0.4, 0.375, 0.42, 0.435, 0.425, 0.42, 0.415, 0.425, 0.395, 0.435, 0.46, 0.445, 0.44, 0.425, 0.42, 0.44, 0.44, 0.43, 0.45, 0.45, 0.435, 0.43, 0.445, 0.445, 0.455, 0.425, 0.47, 0.45, 0.47, 0.465, 0.445, 0.45, 0.435, 0.445, 0.44, 0.435, 0.46, 0.43, 0.445, 0.445, 0.49, 0.45, 0.46, 0.435, 0.45, 0.45, 0.46, 0.46, 0.475, 0.48, 0.48, 0.48, 0.47, 0.47, 0.455, 0.475, 0.47, 0.48, 0.47, 0.505, 0.475, 0.465, 0.485, 0.47, 0.475, 0.465, 0.47, 0.485, 0.47, 0.475, 0.485, 0.515, 0.515, 0.54, 0.49, 0.48, 0.47, 0.45, 0.48, 0.48, 0.49, 0.475, 0.5, 0.47, 0.485, 0.485, 0.505, 0.5, 0.49, 0.485, 0.495, 0.5, 0.5, 0.49, 0.49, 0.505, 0.515, 0.525, 0.505, 0.5, 0.5, 0.51, 0.51, 0.51, 0.51, 0.5, 0.51, 0.485, 0.48, 0.495, 0.505, 0.525, 0.51, 0.55, 0.51, 0.505, 0.505, 0.5, 0.535, 0.53, 0.51, 0.525, 0.505, 0.505, 0.52, 0.5, 0.505, 0.52, 0.52, 0.55, 0.54, 0.525, 0.51, 0.52, 0.51, 0.52, 0.565, 0.55, 0.565, 0.535, 0.545, 0.575, 0.57, 0.54, 0.56, 0.57, 0.55, 0.525, 0.565, 0.56, 0.59, 0.565, 0.565, 0.595, 0.62, 0.63, 0.175, 0.245, 0.27, 0.28, 0.3, 0.32, 0.335, 0.325, 0.345, 0.325, 0.36, 0.365, 0.37, 0.345, 0.355, 0.37, 0.35, 0.395, 0.365, 0.38, 0.41, 0.425, 0.385, 0.42, 0.415, 0.385, 0.38, 0.42, 0.455, 0.44, 0.45, 0.43, 0.455, 0.45, 0.495, 0.465, 0.475, 0.475, 0.475, 0.455, 0.47, 0.495, 0.49, 0.495, 0.475, 0.475, 0.5, 0.525, 0.485, 0.52, 0.545, 0.515, 0.53, 0.535, 0.55, 0.53, 0.545, 0.55, 0.56, 0.575, 0.135, 0.18, 0.215, 0.26, 0.265, 0.27, 0.275, 0.27, 0.31, 0.3, 0.315, 0.335, 0.31, 0.31, 0.31, 0.325, 0.34, 0.335, 0.33, 0.33, 0.345, 0.33, 0.37, 0.375, 0.34, 0.385, 0.36, 0.37, 0.38, 0.38, 0.375, 0.38, 0.405, 0.4, 0.4, 0.415, 0.42, 0.385, 0.41, 0.415, 0.395, 0.38, 0.385, 0.415, 0.405, 0.4, 0.43, 0.43, 0.395, 0.405, 0.455, 0.425, 0.395, 0.39, 0.425, 0.43, 0.435, 0.45, 0.435, 0.41, 0.4, 0.45, 0.455, 0.445, 0.445, 0.415, 0.455, 0.435, 0.45, 0.46, 0.46, 0.455, 0.44, 0.415, 0.44, 0.45, 0.45, 0.435, 0.455, 0.445, 0.465, 0.45, 0.45, 0.43, 0.475, 0.45, 0.5, 0.44, 0.44, 0.44, 0.455, 0.47, 0.46, 0.475, 0.465, 0.49, 0.455, 0.47, 0.48, 0.46, 0.46, 0.47, 0.47, 0.47, 0.495, 0.495, 0.49, 0.49, 0.495, 0.495, 0.47, 0.485, 0.495, 0.515, 0.505, 0.445, 0.52, 0.47, 0.49, 0.485, 0.52, 0.505, 0.525, 0.5, 0.515, 0.53, 0.48, 0.515, 0.49, 0.49, 0.485, 0.51, 0.49, 0.52, 0.52, 0.51, 0.51, 0.515, 0.525, 0.52, 0.535, 0.51, 0.5, 0.515, 0.525, 0.53, 0.515, 0.51, 0.54, 0.54, 0.535, 0.55, 0.545, 0.575, 0.55, 0.55, 0.535, 0.575, 0.565, 0.57, 0.55, 0.605, 0.13, 0.11, 0.15, 0.21, 0.2, 0.215, 0.21, 0.21, 0.21, 0.24, 0.25, 0.25, 0.235, 0.25, 0.27, 0.27, 0.27, 0.28, 0.275, 0.29, 0.25, 0.325, 0.315, 0.32, 0.325, 0.33, 0.35, 0.365, 0.375, 0.365, 0.39, 0.395, 0.385, 0.455, 0.4, 0.41, 0.43, 0.405, 0.44, 0.47, 0.41, 0.445, 0.435, 0.46, 0.465, 0.45, 0.445, 0.49, 0.515, 0.515, 0.19, 0.195, 0.215, 0.215, 0.255, 0.24, 0.28, 0.295, 0.305, 0.31, 0.305, 0.315, 0.305, 0.32, 0.35, 0.355, 0.345, 0.345, 0.36, 0.355, 0.38, 0.35, 0.39, 0.37, 0.39, 0.38, 0.385, 0.385, 0.42, 0.42, 0.385, 0.42, 0.43, 0.41, 0.42, 0.44, 0.45, 0.435, 0.485, 0.465, 0.47, 0.43, 0.48, 0.49, 0.495, 0.5, 0.525, 0.55, 0.54, 0.57, 0.5, 0.585, 0.575, 0.555, 0.57, 0.39, 0.425, 0.385, 0.305, 0.3, 0.39, 0.33, 0.35, 0.31, 0.29, 0.38, 0.31, 0.29, 0.385, 0.48, 0.455, 0.55, 0.535, 0.49, 0.25, 0.355, 0.405, 0.29, 0.095, 0.13, 0.225, 0.29, 0.38, 0.37, 0.325, 0.36, 0.35, 0.21, 0.295, 0.375, 0.4, 0.31, 0.51, 0.47, 0.455, 0.24, 0.41, 0.35, 0.33, 0.425, 0.425, 0.455, 0.465, 0.53, 0.36, 0.24, 0.35, 0.37, 0.35, 0.325, 0.35, 0.375, 0.31, 0.195, 0.355, 0.585, 0.3, 0.2, 0.44, 0.46, 0.5, 0.495, 0.42, 0.51, 0.55, 0.565, 0.565, 0.47, 0.305, 0.45, 0.28, 0.275, 0.235, 0.115, 0.21, 0.13, 0.15, 0.465, 0.5, 0.45, 0.45, 0.45, 0.48, 0.47, 0.42, 0.42, 0.43, 0.4, 0.235, 0.34, 0.4, 0.385, 0.37, 0.37, 0.47, 0.495, 0.485, 0.17, 0.325, 0.215, 0.28, 0.305, 0.19, 0.55, 0.515, 0.49, 0.405, 0.48, 0.345, 0.22, 0.225, 0.34, 0.525, 0.465, 0.505, 0.47, 0.495, 0.51, 0.325, 0.35, 0.26, 0.415, 0.39, 0.375, 0.46, 0.465, 0.525, 0.455, 0.425, 0.475, 0.28, 0.2, 0.39, 0.28, 0.43, 0.4, 0.445, 0.475, 0.45, 0.48, 0.435, 0.465, 0.335, 0.36, 0.315, 0.32, 0.38, 0.36, 0.28, 0.375, 0.325, 0.365, 0.27, 0.455, 0.59, 0.485, 0.46, 0.5, 0.495, 0.395, 0.38, 0.415, 0.335, 0.465, 0.46, 0.43, 0.455, 0.51, 0.45, 0.575, 0.51, 0.48, 0.445, 0.45, 0.475, 0.41, 0.51, 0.52, 0.57, 0.525, 0.48, 0.475, 0.405, 0.405, 0.375, 0.415, 0.385, 0.345, 0.315, 0.33, 0.395, 0.305, 0.265, 0.475, 0.27, 0.375, 0.3, 0.26, 0.425, 0.415, 0.45, 0.36, 0.325, 0.385, 0.405, 0.425, 0.375, 0.455, 0.49, 0.415, 0.5, 0.375, 0.355, 0.375, 0.35, 0.265, 0.24, 0.47, 0.475, 0.435, 0.435, 0.42, 0.385, 0.395, 0.31, 0.395, 0.435, 0.325, 0.535, 0.305, 0.345, 0.395, 0.425, 0.39, 0.345, 0.46, 0.42, 0.55, 0.63, 0.49, 0.48, 0.455, 0.485, 0.52, 0.47, 0.24, 0.185, 0.125, 0.55, 0.565, 0.43, 0.4, 0.43, 0.36, 0.435, 0.475, 0.53, 0.56, 0.495, 0.44, 0.47, 0.455, 0.485, 0.525, 0.44, 0.45, 0.525, 0.475, 0.47, 0.505, 0.57, 0.545, 0.595, 0.44, 0.325, 0.125, 0.325, 0.405, 0.335, 0.275, 0.34, 0.41, 0.325, 0.265, 0.135, 0.115, 0.43, 0.39, 0.345, 0.345, 0.365, 0.35, 0.375, 0.34, 0.35, 0.29, 0.25, 0.22, 0.46, 0.475, 0.465, 0.505, 0.385, 0.43, 0.33, 0.415, 0.355, 0.225, 0.455, 0.515, 0.46, 0.43, 0.485, 0.5, 0.375, 0.395, 0.245, 0.38, 0.305, 0.315, 0.315, 0.235, 0.35, 0.36, 0.255, 0.415, 0.365, 0.315, 0.2, 0.45, 0.435, 0.19, 0.385, 0.255, 0.38, 0.5, 0.485, 0.515, 0.5, 0.38, 0.4, 0.24, 0.4, 0.255, 0.355, 0.415, 0.355, 0.335, 0.355, 0.38, 0.435, 0.205, 0.265, 0.285, 0.33, 0.26, 0.305, 0.2, 0.2, 0.17, 0.18, 0.185, 0.145, 0.47, 0.35, 0.385, 0.325, 0.405, 0.405, 0.39, 0.325, 0.415, 0.275, 0.415, 0.475, 0.44, 0.515, 0.47, 0.49, 0.455, 0.485, 0.42, 0.355, 0.44, 0.425, 0.285, 0.4, 0.415, 0.36, 0.26, 0.4, 0.51, 0.385, 0.39, 0.325, 0.395, 0.38, 0.31, 0.305, 0.36, 0.4, 0.4, 0.4, 0.41, 0.39, 0.26, 0.21, 0.23, 0.24, 0.255, 0.3, 0.325, 0.315, 0.315, 0.32, 0.31, 0.375, 0.35, 0.37, 0.375, 0.365, 0.37, 0.4, 0.39, 0.425, 0.42, 0.45, 0.44, 0.46, 0.455, 0.48, 0.49, 0.475, 0.5, 0.485, 0.475, 0.49, 0.5, 0.585, 0.5, 0.545, 0.525, 0.535, 0.555, 0.55, 0.55, 0.53, 0.525, 0.57, 0.15, 0.17, 0.18, 0.195, 0.21, 0.22, 0.22, 0.225, 0.235, 0.265, 0.29, 0.285, 0.295, 0.31, 0.325, 0.335, 0.345, 0.325, 0.355, 0.35, 0.35, 0.35, 0.35, 0.345, 0.345, 0.355, 0.34, 0.385, 0.355, 0.37, 0.375, 0.38, 0.385, 0.395, 0.415, 0.425, 0.42, 0.41, 0.405, 0.435, 0.425, 0.425, 0.445, 0.435, 0.45, 0.445, 0.45, 0.465, 0.47, 0.465, 0.465, 0.46, 0.46, 0.46, 0.48, 0.485, 0.5, 0.47, 0.51, 0.485, 0.475, 0.48, 0.49, 0.49, 0.495, 0.495, 0.48, 0.495, 0.495, 0.49, 0.5, 0.5, 0.52, 0.545, 0.54, 0.55, 0.525, 0.575, 0.56, 0.585, 0.6, 0.16, 0.205, 0.21, 0.24, 0.285, 0.29, 0.315, 0.33, 0.34, 0.32, 0.34, 0.335, 0.345, 0.37, 0.355, 0.365, 0.375, 0.375, 0.375, 0.38, 0.38, 0.39, 0.38, 0.4, 0.395, 0.385, 0.4, 0.395, 0.43, 0.42, 0.42, 0.4, 0.42, 0.44, 0.425, 0.43, 0.45, 0.45, 0.43, 0.48, 0.455, 0.45, 0.435, 0.47, 0.46, 0.46, 0.465, 0.47, 0.46, 0.49, 0.48, 0.475, 0.45, 0.47, 0.475, 0.49, 0.48, 0.495, 0.49, 0.48, 0.505, 0.51, 0.465, 0.515, 0.48, 0.52, 0.515, 0.52, 0.535, 0.51, 0.49, 0.515, 0.505, 0.5, 0.51, 0.55, 0.52, 0.53, 0.525, 0.55, 0.53, 0.55, 0.57, 0.575, 0.555, 0.14, 0.15, 0.175, 0.215, 0.25, 0.245, 0.255, 0.255, 0.26, 0.275, 0.29, 0.275, 0.3, 0.285, 0.32, 0.305, 0.305, 0.31, 0.305, 0.3, 0.315, 0.325, 0.335, 0.325, 0.315, 0.34, 0.36, 0.325, 0.335, 0.34, 0.35, 0.345, 0.355, 0.375, 0.38, 0.365, 0.365, 0.385, 0.38, 0.385, 0.395, 0.41, 0.39, 0.385, 0.415, 0.4, 0.375, 0.43, 0.44, 0.43, 0.425, 0.42, 0.425, 0.465, 0.435, 0.445, 0.44, 0.435, 0.43, 0.445, 0.435, 0.44, 0.465, 0.425, 0.46, 0.465, 0.42, 0.455, 0.47, 0.475, 0.475, 0.48, 0.495, 0.45, 0.51, 0.48, 0.45, 0.46, 0.465, 0.48, 0.5, 0.49, 0.505, 0.475, 0.47, 0.525, 0.505, 0.485, 0.495, 0.495, 0.515, 0.52, 0.51, 0.505, 0.525, 0.525, 0.54, 0.54, 0.565, 0.55, 0.57, 0.17, 0.195, 0.2, 0.235, 0.24, 0.225, 0.27, 0.265, 0.285, 0.29, 0.335, 0.35, 0.365, 0.375, 0.365, 0.375, 0.4, 0.395, 0.43, 0.405, 0.42, 0.415, 0.425, 0.42, 0.445, 0.445, 0.47, 0.455, 0.485, 0.435, 0.475, 0.45, 0.475, 0.48, 0.475, 0.5, 0.485, 0.49, 0.485, 0.51, 0.49, 0.49, 0.525, 0.515, 0.515, 0.515, 0.54, 0.565, 0.55, 0.565, 0.57, 0.595, 0.23, 0.235, 0.205, 0.25, 0.26, 0.28, 0.27, 0.28, 0.315, 0.305, 0.34, 0.335, 0.31, 0.36, 0.35, 0.385, 0.375, 0.375, 0.39, 0.37, 0.425, 0.4, 0.365, 0.4, 0.4, 0.4, 0.465, 0.38, 0.405, 0.445, 0.425, 0.415, 0.43, 0.43, 0.435, 0.425, 0.435, 0.43, 0.435, 0.425, 0.455, 0.45, 0.465, 0.46, 0.45, 0.45, 0.445, 0.44, 0.45, 0.5, 0.46, 0.475, 0.47, 0.46, 0.445, 0.48, 0.45, 0.45, 0.465, 0.495, 0.49, 0.48, 0.425, 0.47, 0.48, 0.49, 0.475, 0.515, 0.455, 0.495, 0.475, 0.475, 0.495, 0.515, 0.5, 0.49, 0.49, 0.48, 0.53, 0.485, 0.51, 0.485, 0.52, 0.485, 0.5, 0.515, 0.505, 0.575, 0.485, 0.52, 0.495, 0.52, 0.565, 0.5, 0.515, 0.525, 0.525, 0.51, 0.485, 0.525, 0.525, 0.525, 0.54, 0.515, 0.505, 0.505, 0.515, 0.55, 0.58, 0.59, 0.575, 0.215, 0.345, 0.33, 0.365, 0.355, 0.37, 0.38, 0.37, 0.41, 0.4, 0.4, 0.405, 0.405, 0.425, 0.425, 0.44, 0.485, 0.43, 0.43, 0.475, 0.485, 0.5, 0.49, 0.51, 0.525, 0.485, 0.495, 0.505, 0.505, 0.515, 0.54, 0.545, 0.585, 0.615, 0.185, 0.26, 0.285, 0.3, 0.28, 0.3, 0.32, 0.335, 0.325, 0.32, 0.33, 0.34, 0.355, 0.37, 0.375, 0.375, 0.33, 0.375, 0.38, 0.385, 0.41, 0.395, 0.4, 0.42, 0.41, 0.42, 0.405, 0.445, 0.45, 0.44, 0.45, 0.47, 0.47, 0.43, 0.445, 0.445, 0.435, 0.45, 0.435, 0.47, 0.405, 0.47, 0.48, 0.46, 0.45, 0.45, 0.495, 0.485, 0.49, 0.475, 0.515, 0.515, 0.495, 0.505, 0.49, 0.5, 0.485, 0.5, 0.505, 0.51, 0.54, 0.49, 0.455, 0.53, 0.525, 0.52, 0.52, 0.56, 0.51, 0.535, 0.555, 0.56, 0.55, 0.575, 0.17, 0.17, 0.185, 0.27, 0.31, 0.32, 0.35, 0.355, 0.38, 0.395, 0.43, 0.4, 0.415, 0.395, 0.435, 0.43, 0.48, 0.43, 0.455, 0.465, 0.5, 0.525, 0.215, 0.22, 0.275, 0.285, 0.29, 0.3, 0.325, 0.32, 0.325, 0.34, 0.34, 0.405, 0.36, 0.415, 0.4, 0.4, 0.425, 0.42, 0.45, 0.45, 0.46, 0.495, 0.485, 0.495, 0.49, 0.515, 0.505, 0.53, 0.39, 0.36, 0.35, 0.42, 0.36, 0.4, 0.26, 0.425, 0.135, 0.165, 0.15, 0.48, 0.42, 0.45, 0.5, 0.53, 0.54, 0.505, 0.5, 0.375, 0.335, 0.41, 0.395, 0.44, 0.35, 0.435, 0.255, 0.2, 0.22, 0.49, 0.44, 0.475, 0.41, 0.54, 0.49, 0.47, 0.45, 0.465, 0.405, 0.405, 0.265, 0.355, 0.405, 0.38, 0.41, 0.3, 0.195, 0.295, 0.385, 0.505, 0.44, 0.545, 0.415, 0.36, 0.385, 0.575, 0.405, 0.145, 0.515, 0.405, 0.435, 0.47, 0.405, 0.245, 0.235, 0.335, 0.38, 0.405, 0.3, 0.485, 0.505, 0.53, 0.265, 0.215, 0.38, 0.25, 0.34, 0.45, 0.48, 0.46, 0.42, 0.495, 0.485, 0.51, 0.34, 0.505, 0.525, 0.4, 0.305, 0.435, 0.415, 0.525, 0.35, 0.32, 0.35, 0.325, 0.505, 0.455, 0.325, 0.41, 0.48, 0.485, 0.535, 0.285, 0.51, 0.53, 0.54, 0.435, 0.525, 0.48, 0.51, 0.555, 0.55, 0.435, 0.495, 0.5, 0.24, 0.35, 0.375, 0.38, 0.35, 0.35, 0.23, 0.48, 0.385, 0.375, 0.505, 0.435, 0.52, 0.485, 0.45, 0.5, 0.38, 0.385, 0.335, 0.31, 0.465, 0.475, 0.425, 0.36, 0.375, 0.405, 0.355, 0.385, 0.39, 0.415, 0.53, 0.54, 0.45, 0.475, 0.475, 0.44, 0.57, 0.51, 0.46, 0.475, 0.42, 0.395, 0.405, 0.375, 0.455, 0.5, 0.45, 0.485, 0.5, 0.5, 0.485, 0.5, 0.525, 0.575, 0.45, 0.435, 0.445, 0.3, 0.325, 0.2, 0.355, 0.485, 0.38, 0.41, 0.31, 0.355, 0.26, 0.35, 0.2, 0.125, 0.555, 0.425, 0.385, 0.37, 0.3, 0.28, 0.265, 0.415, 0.48, 0.475, 0.435, 0.305, 0.34, 0.34, 0.36, 0.3, 0.325, 0.35, 0.525, 0.525, 0.475, 0.435, 0.39, 0.33, 0.365, 0.38, 0.38, 0.4, 0.32, 0.385, 0.375, 0.345, 0.38, 0.405, 0.365, 0.36, 0.34, 0.3, 0.285, 0.215, 0.445, 0.44, 0.315, 0.3, 0.405, 0.245, 0.31, 0.21, 0.465, 0.48, 0.46, 0.345, 0.235, 0.33, 0.405, 0.375, 0.33, 0.235, 0.19, 0.255, 0.21, 0.13, 0.435, 0.4, 0.375, 0.225, 0.35, 0.4, 0.41, 0.535, 0.465, 0.44, 0.42, 0.515, 0.435, 0.48, 0.45, 0.475, 0.375, 0.285, 0.35, 0.43, 0.395, 0.345, 0.265, 0.28, 0.25, 0.28, 0.265, 0.315, 0.31, 0.31, 0.32, 0.355, 0.395, 0.37, 0.465, 0.45, 0.46, 0.48, 0.47, 0.475, 0.475, 0.47, 0.475, 0.51, 0.545, 0.55, 0.605, 0.18, 0.21, 0.24, 0.265, 0.27, 0.27, 0.28, 0.285, 0.275, 0.3, 0.335, 0.35, 0.37, 0.355, 0.37, 0.37, 0.4, 0.4, 0.385, 0.39, 0.39, 0.395, 0.44, 0.44, 0.44, 0.42, 0.46, 0.475, 0.48, 0.495, 0.47, 0.505, 0.485, 0.495, 0.47, 0.485, 0.495, 0.48, 0.5, 0.525, 0.52, 0.585, 0.565, 0.58, 0.12, 0.15, 0.265, 0.315, 0.29, 0.3, 0.335, 0.33, 0.34, 0.345, 0.355, 0.355, 0.42, 0.37, 0.475, 0.405, 0.38, 0.42, 0.42, 0.44, 0.44, 0.44, 0.43, 0.415, 0.44, 0.45, 0.46, 0.47, 0.41, 0.475, 0.47, 0.49, 0.51, 0.495, 0.47, 0.5, 0.475, 0.52, 0.505, 0.52, 0.54, 0.5, 0.525, 0.525, 0.575, 0.56, 0.57, 0.545, 0.545, 0.15, 0.185, 0.205, 0.24, 0.23, 0.26, 0.26, 0.265, 0.265, 0.265, 0.275, 0.285, 0.31, 0.315, 0.265, 0.325, 0.325, 0.335, 0.34, 0.355, 0.35, 0.435, 0.34, 0.355, 0.36, 0.35, 0.355, 0.37, 0.365, 0.39, 0.4, 0.39, 0.405, 0.42, 0.415, 0.41, 0.41, 0.425, 0.45, 0.47, 0.42, 0.42, 0.455, 0.44, 0.475, 0.45, 0.46, 0.46, 0.47, 0.47, 0.465, 0.46, 0.465, 0.47, 0.47, 0.475, 0.475, 0.475, 0.485, 0.48, 0.48, 0.475, 0.5, 0.49, 0.485, 0.465, 0.495, 0.515, 0.515, 0.52, 0.475, 0.525, 0.53, 0.5, 0.515, 0.515, 0.53, 0.52, 0.555, 0.125, 0.285, 0.3, 0.325, 0.37, 0.375, 0.375, 0.39, 0.43, 0.405, 0.45, 0.465, 0.46, 0.49, 0.475, 0.475, 0.495, 0.46, 0.515, 0.5, 0.5, 0.455, 0.505, 0.53, 0.5, 0.525, 0.53, 0.525, 0.565, 0.205, 0.225, 0.22, 0.225, 0.22, 0.265, 0.275, 0.29, 0.325, 0.34, 0.32, 0.345, 0.37, 0.355, 0.345, 0.365, 0.335, 0.35, 0.365, 0.39, 0.405, 0.415, 0.405, 0.425, 0.425, 0.42, 0.41, 0.395, 0.405, 0.45, 0.41, 0.41, 0.415, 0.45, 0.4, 0.43, 0.45, 0.44, 0.42, 0.465, 0.46, 0.465, 0.47, 0.44, 0.46, 0.45, 0.47, 0.5, 0.49, 0.49, 0.45, 0.495, 0.47, 0.5, 0.525, 0.47, 0.48, 0.485, 0.485, 0.49, 0.505, 0.5, 0.51, 0.52, 0.495, 0.495, 0.52, 0.525, 0.51, 0.51, 0.525, 0.53, 0.51, 0.54, 0.51, 0.54, 0.54, 0.535, 0.51, 0.53, 0.55, 0.535, 0.55, 0.53, 0.555, 0.56, 0.6, 0.13, 0.25, 0.25, 0.28, 0.32, 0.31, 0.36, 0.355, 0.365, 0.375, 0.395, 0.4, 0.375, 0.38, 0.37, 0.415, 0.42, 0.455, 0.505, 0.475, 0.48, 0.47, 0.505, 0.525, 0.5, 0.525, 0.525, 0.555, 0.205, 0.205, 0.265, 0.29, 0.315, 0.33, 0.375, 0.335, 0.355, 0.36, 0.37, 0.395, 0.39, 0.41, 0.4, 0.425, 0.425, 0.42, 0.395, 0.41, 0.4, 0.45, 0.44, 0.46, 0.465, 0.43, 0.43, 0.45, 0.465, 0.46, 0.42, 0.45, 0.42, 0.47, 0.45, 0.48, 0.48, 0.455, 0.5, 0.48, 0.48, 0.495, 0.5, 0.49, 0.475, 0.51, 0.505, 0.495, 0.52, 0.525, 0.52, 0.54, 0.54, 0.58, 0.535, 0.56, 0.58, 0.155, 0.23, 0.23, 0.27, 0.305, 0.31, 0.365, 0.385, 0.375, 0.4, 0.445, 0.49, 0.26, 0.275, 0.34, 0.355, 0.385, 0.445, 0.45, 0.44, 0.46, 0.48, 0.455, 0.46, 0.47, 0.52, 0.54, 0.52, 0.555, 0.385, 0.42, 0.365, 0.41, 0.26, 0.35, 0.325, 0.105, 0.25, 0.425, 0.41, 0.42, 0.475, 0.45, 0.45, 0.35, 0.275, 0.37, 0.535, 0.3, 0.295, 0.44, 0.41, 0.465, 0.4, 0.335, 0.255, 0.515, 0.45, 0.44, 0.465, 0.475, 0.37, 0.5, 0.235, 0.395, 0.43, 0.39, 0.34, 0.385, 0.44, 0.36, 0.4, 0.25, 0.41, 0.225, 0.45, 0.5, 0.355, 0.49, 0.3, 0.455, 0.545, 0.425, 0.225, 0.33, 0.375, 0.44, 0.45, 0.5, 0.4, 0.46, 0.4, 0.355, 0.38, 0.5, 0.575, 0.5, 0.46, 0.105, 0.345, 0.43, 0.12, 0.48, 0.47, 0.27, 0.18, 0.39, 0.365, 0.375, 0.355, 0.27, 0.405, 0.4, 0.39, 0.445, 0.41, 0.46, 0.49, 0.43, 0.23, 0.28, 0.4, 0.28, 0.4, 0.35, 0.42, 0.38, 0.55, 0.515, 0.535, 0.44, 0.37, 0.18, 0.175, 0.41, 0.4, 0.425, 0.275, 0.42, 0.39, 0.44, 0.4, 0.45, 0.44, 0.175, 0.41, 0.365, 0.4, 0.415, 0.425, 0.39, 0.235, 0.355, 0.385, 0.385, 0.395, 0.44, 0.5, 0.55, 0.55, 0.55, 0.575, 0.205, 0.19, 0.22, 0.22, 0.23, 0.29, 0.3, 0.285, 0.295, 0.315, 0.33, 0.32, 0.33, 0.35, 0.35, 0.39, 0.375, 0.41, 0.455, 0.435, 0.45, 0.465, 0.48, 0.525, 0.545, 0.515, 0.52, 0.51, 0.51, 0.6, 0.6, 0.135, 0.175, 0.23, 0.27, 0.28, 0.31, 0.35, 0.35, 0.375, 0.39, 0.395, 0.43, 0.465, 0.46, 0.455, 0.49, 0.475, 0.53, 0.465, 0.505, 0.48, 0.48, 0.525, 0.505, 0.485, 0.515, 0.55, 0.58, 0.545, 0.2, 0.245, 0.26, 0.28, 0.27, 0.31, 0.335, 0.325, 0.325, 0.365, 0.385, 0.405, 0.41, 0.42, 0.415, 0.445, 0.44, 0.45, 0.45, 0.46, 0.46, 0.425, 0.45, 0.46, 0.485, 0.495, 0.495, 0.495, 0.5, 0.47, 0.485, 0.5, 0.5, 0.51, 0.535, 0.56, 0.39, 0.405, 0.465, 0.49, 0.515, 0.49, 0.275, 0.31, 0.3, 0.305, 0.335, 0.335, 0.375, 0.36, 0.395, 0.4, 0.45, 0.43, 0.435, 0.43, 0.385, 0.43, 0.45, 0.465, 0.445, 0.48, 0.51, 0.45, 0.475, 0.47, 0.365, 0.475, 0.5, 0.49, 0.485, 0.53, 0.485, 0.5, 0.5, 0.495, 0.525, 0.52, 0.51, 0.545, 0.545, 0.545, 0.565, 0.59, 0.305, 0.35, 0.365, 0.41, 0.4, 0.42, 0.42, 0.45, 0.465, 0.48, 0.505, 0.525, 0.215, 0.265, 0.35, 0.365, 0.375, 0.385, 0.415, 0.42, 0.445, 0.435, 0.425, 0.45, 0.425, 0.47, 0.45, 0.455, 0.5, 0.495, 0.505, 0.49, 0.495, 0.535, 0.505, 0.525, 0.5, 0.535, 0.525, 0.53, 0.55, 0.605, 0.215, 0.23, 0.25, 0.28, 0.315, 0.33, 0.35, 0.37, 0.36, 0.355, 0.44, 0.475, 0.455, 0.255, 0.31, 0.29, 0.3, 0.365, 0.38, 0.4, 0.385, 0.43, 0.43, 0.45, 0.44, 0.475, 0.485, 0.555], \"xaxis\": \"x\", \"yaxis\": \"y\"}, {\"box\": {\"visible\": true}, \"fillcolor\": \"lightseagreen\", \"line\": {\"color\": \"black\"}, \"meanline\": {\"visible\": true}, \"opacity\": 0.6, \"type\": \"violin\", \"x0\": \"Diameter measuremnet\", \"xaxis\": \"x2\", \"y\": [0.365, 0.265, 0.42, 0.365, 0.255, 0.3, 0.415, 0.425, 0.37, 0.44, 0.38, 0.35, 0.38, 0.405, 0.355, 0.4, 0.28, 0.34, 0.295, 0.32, 0.28, 0.275, 0.44, 0.415, 0.48, 0.44, 0.45, 0.445, 0.475, 0.425, 0.47, 0.56, 0.525, 0.55, 0.55, 0.355, 0.475, 0.355, 0.445, 0.29, 0.335, 0.425, 0.175, 0.15, 0.15, 0.295, 0.37, 0.375, 0.245, 0.425, 0.41, 0.32, 0.36, 0.36, 0.31, 0.4, 0.35, 0.385, 0.19, 0.4, 0.345, 0.405, 0.41, 0.325, 0.4, 0.355, 0.44, 0.495, 0.39, 0.235, 0.425, 0.32, 0.475, 0.48, 0.45, 0.475, 0.475, 0.47, 0.425, 0.475, 0.445, 0.51, 0.425, 0.475, 0.45, 0.465, 0.465, 0.44, 0.355, 0.45, 0.425, 0.44, 0.465, 0.495, 0.56, 0.535, 0.435, 0.375, 0.37, 0.375, 0.265, 0.435, 0.435, 0.415, 0.47, 0.41, 0.43, 0.4, 0.39, 0.395, 0.395, 0.36, 0.32, 0.35, 0.41, 0.415, 0.375, 0.34, 0.43, 0.305, 0.365, 0.295, 0.425, 0.265, 0.28, 0.195, 0.275, 0.29, 0.535, 0.54, 0.48, 0.35, 0.26, 0.26, 0.2, 0.33, 0.23, 0.255, 0.325, 0.285, 0.445, 0.45, 0.52, 0.455, 0.375, 0.38, 0.35, 0.205, 0.13, 0.13, 0.475, 0.5, 0.515, 0.485, 0.45, 0.405, 0.46, 0.485, 0.455, 0.46, 0.465, 0.485, 0.485, 0.56, 0.545, 0.57, 0.575, 0.57, 0.56, 0.515, 0.55, 0.395, 0.435, 0.405, 0.16, 0.26, 0.21, 0.245, 0.16, 0.475, 0.48, 0.51, 0.45, 0.475, 0.51, 0.49, 0.48, 0.5, 0.48, 0.46, 0.48, 0.485, 0.45, 0.275, 0.4, 0.405, 0.41, 0.5, 0.45, 0.46, 0.345, 0.4, 0.4, 0.435, 0.335, 0.34, 0.3, 0.34, 0.415, 0.28, 0.365, 0.25, 0.325, 0.405, 0.395, 0.405, 0.35, 0.3, 0.36, 0.305, 0.325, 0.35, 0.375, 0.355, 0.38, 0.37, 0.29, 0.27, 0.465, 0.415, 0.445, 0.44, 0.505, 0.215, 0.35, 0.225, 0.055, 0.1, 0.09, 0.12, 0.425, 0.2, 0.175, 0.23, 0.255, 0.26, 0.245, 0.275, 0.245, 0.27, 0.25, 0.47, 0.455, 0.46, 0.495, 0.45, 0.45, 0.46, 0.505, 0.475, 0.475, 0.44, 0.42, 0.195, 0.2, 0.38, 0.45, 0.275, 0.39, 0.36, 0.525, 0.5, 0.485, 0.505, 0.515, 0.54, 0.53, 0.5, 0.525, 0.425, 0.415, 0.285, 0.355, 0.395, 0.38, 0.415, 0.435, 0.4, 0.355, 0.435, 0.435, 0.505, 0.475, 0.455, 0.495, 0.215, 0.205, 0.21, 0.395, 0.28, 0.305, 0.435, 0.28, 0.27, 0.36, 0.145, 0.12, 0.515, 0.41, 0.435, 0.485, 0.44, 0.455, 0.47, 0.485, 0.355, 0.535, 0.35, 0.455, 0.255, 0.21, 0.145, 0.31, 0.205, 0.265, 0.275, 0.255, 0.4, 0.295, 0.28, 0.38, 0.325, 0.22, 0.175, 0.6, 0.465, 0.475, 0.45, 0.475, 0.45, 0.455, 0.51, 0.465, 0.375, 0.425, 0.39, 0.42, 0.26, 0.305, 0.48, 0.495, 0.45, 0.46, 0.455, 0.515, 0.58, 0.525, 0.525, 0.585, 0.545, 0.49, 0.465, 0.525, 0.48, 0.5, 0.515, 0.465, 0.455, 0.49, 0.56, 0.545, 0.565, 0.58, 0.575, 0.52, 0.545, 0.49, 0.45, 0.465, 0.495, 0.47, 0.42, 0.4, 0.375, 0.425, 0.37, 0.42, 0.38, 0.42, 0.375, 0.325, 0.375, 0.375, 0.295, 0.275, 0.31, 0.395, 0.38, 0.44, 0.455, 0.365, 0.455, 0.325, 0.415, 0.345, 0.44, 0.355, 0.485, 0.45, 0.44, 0.5, 0.475, 0.46, 0.44, 0.495, 0.47, 0.5, 0.515, 0.5, 0.41, 0.54, 0.38, 0.39, 0.225, 0.2, 0.45, 0.485, 0.5, 0.455, 0.45, 0.45, 0.47, 0.455, 0.42, 0.345, 0.41, 0.275, 0.305, 0.3, 0.415, 0.275, 0.26, 0.425, 0.295, 0.325, 0.455, 0.435, 0.455, 0.5, 0.455, 0.565, 0.535, 0.555, 0.49, 0.55, 0.47, 0.54, 0.28, 0.31, 0.41, 0.285, 0.465, 0.185, 0.165, 0.195, 0.125, 0.55, 0.53, 0.55, 0.555, 0.44, 0.405, 0.34, 0.405, 0.415, 0.415, 0.35, 0.54, 0.59, 0.545, 0.585, 0.4, 0.465, 0.46, 0.48, 0.465, 0.45, 0.515, 0.42, 0.455, 0.455, 0.46, 0.51, 0.53, 0.5, 0.5, 0.52, 0.485, 0.525, 0.45, 0.44, 0.52, 0.47, 0.505, 0.485, 0.47, 0.46, 0.455, 0.435, 0.445, 0.53, 0.35, 0.38, 0.22, 0.195, 0.195, 0.29, 0.2, 0.23, 0.25, 0.15, 0.27, 0.26, 0.14, 0.16, 0.125, 0.11, 0.445, 0.45, 0.3, 0.42, 0.355, 0.37, 0.335, 0.37, 0.38, 0.405, 0.23, 0.205, 0.29, 0.375, 0.355, 0.325, 0.35, 0.29, 0.245, 0.195, 0.155, 0.45, 0.425, 0.515, 0.49, 0.44, 0.37, 0.39, 0.385, 0.405, 0.5, 0.53, 0.4, 0.34, 0.4, 0.35, 0.415, 0.355, 0.255, 0.355, 0.33, 0.21, 0.32, 0.35, 0.345, 0.455, 0.44, 0.475, 0.475, 0.425, 0.435, 0.445, 0.48, 0.49, 0.425, 0.525, 0.355, 0.305, 0.39, 0.425, 0.41, 0.335, 0.31, 0.4, 0.29, 0.41, 0.52, 0.42, 0.455, 0.43, 0.47, 0.495, 0.445, 0.42, 0.315, 0.3, 0.345, 0.39, 0.345, 0.27, 0.37, 0.285, 0.265, 0.345, 0.145, 0.24, 0.37, 0.35, 0.345, 0.355, 0.24, 0.225, 0.17, 0.255, 0.38, 0.385, 0.385, 0.36, 0.405, 0.335, 0.305, 0.415, 0.265, 0.365, 0.34, 0.365, 0.36, 0.295, 0.265, 0.235, 0.26, 0.345, 0.4, 0.24, 0.485, 0.45, 0.255, 0.34, 0.33, 0.215, 0.375, 0.35, 0.36, 0.18, 0.245, 0.35, 0.225, 0.28, 0.215, 0.435, 0.515, 0.49, 0.475, 0.525, 0.45, 0.34, 0.305, 0.355, 0.295, 0.35, 0.38, 0.425, 0.35, 0.385, 0.38, 0.41, 0.39, 0.385, 0.395, 0.415, 0.375, 0.38, 0.275, 0.275, 0.37, 0.325, 0.405, 0.4, 0.44, 0.4, 0.405, 0.4, 0.44, 0.375, 0.19, 0.325, 0.29, 0.11, 0.23, 0.105, 0.205, 0.335, 0.315, 0.285, 0.385, 0.33, 0.295, 0.3, 0.325, 0.25, 0.26, 0.295, 0.225, 0.25, 0.3, 0.205, 0.265, 0.255, 0.2, 0.205, 0.19, 0.125, 0.1, 0.11, 0.455, 0.44, 0.41, 0.36, 0.36, 0.305, 0.375, 0.4, 0.4, 0.4, 0.42, 0.4, 0.38, 0.425, 0.39, 0.385, 0.405, 0.41, 0.345, 0.44, 0.265, 0.42, 0.405, 0.415, 0.42, 0.52, 0.385, 0.42, 0.515, 0.39, 0.355, 0.46, 0.455, 0.515, 0.505, 0.525, 0.495, 0.44, 0.43, 0.405, 0.44, 0.44, 0.51, 0.47, 0.45, 0.445, 0.27, 0.43, 0.425, 0.455, 0.375, 0.275, 0.34, 0.38, 0.41, 0.385, 0.38, 0.35, 0.36, 0.41, 0.385, 0.435, 0.28, 0.155, 0.415, 0.39, 0.385, 0.39, 0.465, 0.465, 0.375, 0.37, 0.45, 0.465, 0.405, 0.41, 0.335, 0.42, 0.345, 0.34, 0.335, 0.33, 0.275, 0.38, 0.305, 0.205, 0.4, 0.34, 0.41, 0.405, 0.365, 0.175, 0.185, 0.24, 0.25, 0.25, 0.27, 0.25, 0.3, 0.275, 0.275, 0.275, 0.29, 0.3, 0.29, 0.29, 0.31, 0.325, 0.32, 0.305, 0.325, 0.365, 0.335, 0.325, 0.35, 0.375, 0.365, 0.365, 0.355, 0.385, 0.41, 0.4, 0.44, 0.395, 0.405, 0.42, 0.44, 0.43, 0.45, 0.45, 0.435, 0.45, 0.455, 0.435, 0.465, 0.475, 0.46, 0.48, 0.48, 0.475, 0.465, 0.475, 0.475, 0.495, 0.475, 0.455, 0.5, 0.52, 0.51, 0.505, 0.505, 0.5, 0.49, 0.49, 0.505, 0.51, 0.5, 0.485, 0.51, 0.525, 0.52, 0.58, 0.53, 0.52, 0.585, 0.525, 0.525, 0.56, 0.54, 0.56, 0.595, 0.14, 0.175, 0.175, 0.19, 0.18, 0.195, 0.12, 0.23, 0.235, 0.23, 0.22, 0.235, 0.23, 0.24, 0.24, 0.265, 0.25, 0.25, 0.25, 0.25, 0.265, 0.29, 0.28, 0.28, 0.265, 0.31, 0.305, 0.31, 0.33, 0.32, 0.315, 0.34, 0.315, 0.325, 0.325, 0.325, 0.34, 0.345, 0.325, 0.335, 0.35, 0.36, 0.355, 0.345, 0.335, 0.355, 0.375, 0.36, 0.345, 0.365, 0.37, 0.345, 0.35, 0.365, 0.365, 0.37, 0.36, 0.375, 0.385, 0.36, 0.365, 0.37, 0.385, 0.395, 0.4, 0.39, 0.385, 0.385, 0.4, 0.39, 0.39, 0.41, 0.355, 0.39, 0.375, 0.405, 0.405, 0.41, 0.43, 0.39, 0.415, 0.4, 0.425, 0.425, 0.405, 0.4, 0.43, 0.435, 0.445, 0.43, 0.455, 0.4, 0.45, 0.45, 0.455, 0.445, 0.46, 0.475, 0.46, 0.46, 0.46, 0.455, 0.45, 0.49, 0.465, 0.47, 0.455, 0.47, 0.45, 0.475, 0.46, 0.455, 0.49, 0.475, 0.47, 0.47, 0.475, 0.48, 0.51, 0.48, 0.49, 0.475, 0.5, 0.485, 0.485, 0.495, 0.48, 0.49, 0.525, 0.505, 0.5, 0.5, 0.5, 0.52, 0.52, 0.505, 0.5, 0.5, 0.515, 0.495, 0.52, 0.525, 0.46, 0.51, 0.505, 0.535, 0.495, 0.475, 0.525, 0.57, 0.565, 0.535, 0.525, 0.505, 0.535, 0.535, 0.565, 0.565, 0.525, 0.6, 0.6, 0.13, 0.15, 0.135, 0.155, 0.165, 0.18, 0.18, 0.195, 0.195, 0.21, 0.22, 0.22, 0.235, 0.225, 0.265, 0.28, 0.28, 0.275, 0.29, 0.32, 0.3, 0.3, 0.325, 0.3, 0.32, 0.31, 0.325, 0.335, 0.33, 0.345, 0.33, 0.345, 0.34, 0.335, 0.365, 0.34, 0.33, 0.33, 0.33, 0.35, 0.36, 0.38, 0.35, 0.35, 0.38, 0.465, 0.375, 0.375, 0.38, 0.39, 0.39, 0.405, 0.4, 0.4, 0.38, 0.385, 0.4, 0.38, 0.38, 0.46, 0.4, 0.4, 0.405, 0.395, 0.4, 0.39, 0.42, 0.39, 0.41, 0.415, 0.415, 0.43, 0.425, 0.43, 0.445, 0.44, 0.415, 0.455, 0.435, 0.45, 0.46, 0.445, 0.44, 0.46, 0.45, 0.435, 0.47, 0.455, 0.435, 0.445, 0.445, 0.455, 0.455, 0.445, 0.45, 0.45, 0.45, 0.46, 0.465, 0.47, 0.475, 0.455, 0.465, 0.465, 0.47, 0.475, 0.48, 0.475, 0.485, 0.485, 0.47, 0.46, 0.465, 0.475, 0.47, 0.45, 0.48, 0.485, 0.48, 0.47, 0.5, 0.495, 0.515, 0.53, 0.48, 0.5, 0.5, 0.515, 0.51, 0.53, 0.525, 0.5, 0.505, 0.54, 0.52, 0.54, 0.53, 0.53, 0.56, 0.565, 0.575, 0.525, 0.55, 0.56, 0.55, 0.535, 0.58, 0.55, 0.565, 0.505, 0.575, 0.585, 0.565, 0.57, 0.625, 0.58, 0.63, 0.375, 0.205, 0.185, 0.19, 0.195, 0.215, 0.225, 0.23, 0.23, 0.225, 0.25, 0.205, 0.245, 0.25, 0.255, 0.255, 0.27, 0.255, 0.27, 0.27, 0.27, 0.265, 0.29, 0.28, 0.29, 0.29, 0.275, 0.275, 0.28, 0.27, 0.275, 0.27, 0.29, 0.28, 0.3, 0.28, 0.3, 0.305, 0.295, 0.27, 0.29, 0.285, 0.335, 0.305, 0.325, 0.32, 0.31, 0.34, 0.315, 0.315, 0.34, 0.33, 0.345, 0.365, 0.33, 0.36, 0.35, 0.365, 0.34, 0.365, 0.355, 0.355, 0.355, 0.38, 0.36, 0.37, 0.355, 0.365, 0.355, 0.38, 0.395, 0.38, 0.42, 0.375, 0.41, 0.375, 0.395, 0.405, 0.38, 0.395, 0.38, 0.42, 0.4, 0.4, 0.395, 0.4, 0.42, 0.415, 0.42, 0.415, 0.425, 0.4, 0.415, 0.41, 0.435, 0.42, 0.42, 0.435, 0.445, 0.43, 0.405, 0.43, 0.405, 0.43, 0.435, 0.425, 0.44, 0.43, 0.43, 0.425, 0.425, 0.425, 0.445, 0.455, 0.44, 0.45, 0.445, 0.39, 0.45, 0.45, 0.46, 0.435, 0.44, 0.435, 0.42, 0.48, 0.46, 0.46, 0.455, 0.445, 0.465, 0.49, 0.475, 0.46, 0.47, 0.475, 0.45, 0.445, 0.47, 0.455, 0.465, 0.465, 0.475, 0.48, 0.475, 0.465, 0.455, 0.46, 0.485, 0.49, 0.435, 0.475, 0.47, 0.45, 0.48, 0.475, 0.465, 0.48, 0.46, 0.475, 0.47, 0.5, 0.475, 0.475, 0.48, 0.475, 0.51, 0.495, 0.5, 0.475, 0.455, 0.505, 0.515, 0.48, 0.485, 0.505, 0.485, 0.475, 0.495, 0.49, 0.5, 0.495, 0.475, 0.51, 0.565, 0.525, 0.51, 0.5, 0.525, 0.505, 0.59, 0.525, 0.51, 0.51, 0.525, 0.535, 0.52, 0.49, 0.495, 0.515, 0.53, 0.53, 0.505, 0.545, 0.545, 0.565, 0.545, 0.565, 0.555, 0.57, 0.55, 0.575, 0.575, 0.6, 0.58, 0.565, 0.57, 0.61, 0.65, 0.105, 0.165, 0.265, 0.255, 0.27, 0.28, 0.3, 0.295, 0.29, 0.3, 0.31, 0.29, 0.3, 0.32, 0.315, 0.34, 0.34, 0.34, 0.32, 0.365, 0.335, 0.335, 0.355, 0.345, 0.35, 0.355, 0.37, 0.365, 0.365, 0.36, 0.38, 0.39, 0.37, 0.38, 0.385, 0.38, 0.395, 0.425, 0.4, 0.4, 0.4, 0.43, 0.4, 0.41, 0.43, 0.425, 0.43, 0.435, 0.445, 0.465, 0.46, 0.46, 0.435, 0.455, 0.44, 0.465, 0.46, 0.455, 0.455, 0.465, 0.485, 0.485, 0.515, 0.485, 0.475, 0.485, 0.435, 0.48, 0.52, 0.47, 0.47, 0.5, 0.455, 0.48, 0.49, 0.505, 0.51, 0.515, 0.515, 0.51, 0.505, 0.545, 0.515, 0.5, 0.485, 0.54, 0.51, 0.505, 0.515, 0.545, 0.51, 0.5, 0.5, 0.515, 0.525, 0.55, 0.555, 0.56, 0.565, 0.575, 0.57, 0.55, 0.17, 0.21, 0.215, 0.23, 0.225, 0.255, 0.26, 0.27, 0.26, 0.27, 0.275, 0.265, 0.27, 0.27, 0.28, 0.285, 0.29, 0.29, 0.28, 0.3, 0.3, 0.285, 0.29, 0.3, 0.3, 0.325, 0.325, 0.315, 0.335, 0.325, 0.34, 0.335, 0.36, 0.35, 0.355, 0.37, 0.345, 0.355, 0.36, 0.36, 0.36, 0.37, 0.37, 0.355, 0.375, 0.375, 0.4, 0.37, 0.4, 0.4, 0.39, 0.375, 0.395, 0.375, 0.36, 0.35, 0.395, 0.39, 0.41, 0.39, 0.415, 0.39, 0.38, 0.4, 0.4, 0.42, 0.43, 0.4, 0.42, 0.4, 0.43, 0.425, 0.43, 0.455, 0.42, 0.425, 0.425, 0.4, 0.375, 0.42, 0.435, 0.425, 0.42, 0.415, 0.425, 0.395, 0.435, 0.46, 0.445, 0.44, 0.425, 0.42, 0.44, 0.44, 0.43, 0.45, 0.45, 0.435, 0.43, 0.445, 0.445, 0.455, 0.425, 0.47, 0.45, 0.47, 0.465, 0.445, 0.45, 0.435, 0.445, 0.44, 0.435, 0.46, 0.43, 0.445, 0.445, 0.49, 0.45, 0.46, 0.435, 0.45, 0.45, 0.46, 0.46, 0.475, 0.48, 0.48, 0.48, 0.47, 0.47, 0.455, 0.475, 0.47, 0.48, 0.47, 0.505, 0.475, 0.465, 0.485, 0.47, 0.475, 0.465, 0.47, 0.485, 0.47, 0.475, 0.485, 0.515, 0.515, 0.54, 0.49, 0.48, 0.47, 0.45, 0.48, 0.48, 0.49, 0.475, 0.5, 0.47, 0.485, 0.485, 0.505, 0.5, 0.49, 0.485, 0.495, 0.5, 0.5, 0.49, 0.49, 0.505, 0.515, 0.525, 0.505, 0.5, 0.5, 0.51, 0.51, 0.51, 0.51, 0.5, 0.51, 0.485, 0.48, 0.495, 0.505, 0.525, 0.51, 0.55, 0.51, 0.505, 0.505, 0.5, 0.535, 0.53, 0.51, 0.525, 0.505, 0.505, 0.52, 0.5, 0.505, 0.52, 0.52, 0.55, 0.54, 0.525, 0.51, 0.52, 0.51, 0.52, 0.565, 0.55, 0.565, 0.535, 0.545, 0.575, 0.57, 0.54, 0.56, 0.57, 0.55, 0.525, 0.565, 0.56, 0.59, 0.565, 0.565, 0.595, 0.62, 0.63, 0.175, 0.245, 0.27, 0.28, 0.3, 0.32, 0.335, 0.325, 0.345, 0.325, 0.36, 0.365, 0.37, 0.345, 0.355, 0.37, 0.35, 0.395, 0.365, 0.38, 0.41, 0.425, 0.385, 0.42, 0.415, 0.385, 0.38, 0.42, 0.455, 0.44, 0.45, 0.43, 0.455, 0.45, 0.495, 0.465, 0.475, 0.475, 0.475, 0.455, 0.47, 0.495, 0.49, 0.495, 0.475, 0.475, 0.5, 0.525, 0.485, 0.52, 0.545, 0.515, 0.53, 0.535, 0.55, 0.53, 0.545, 0.55, 0.56, 0.575, 0.135, 0.18, 0.215, 0.26, 0.265, 0.27, 0.275, 0.27, 0.31, 0.3, 0.315, 0.335, 0.31, 0.31, 0.31, 0.325, 0.34, 0.335, 0.33, 0.33, 0.345, 0.33, 0.37, 0.375, 0.34, 0.385, 0.36, 0.37, 0.38, 0.38, 0.375, 0.38, 0.405, 0.4, 0.4, 0.415, 0.42, 0.385, 0.41, 0.415, 0.395, 0.38, 0.385, 0.415, 0.405, 0.4, 0.43, 0.43, 0.395, 0.405, 0.455, 0.425, 0.395, 0.39, 0.425, 0.43, 0.435, 0.45, 0.435, 0.41, 0.4, 0.45, 0.455, 0.445, 0.445, 0.415, 0.455, 0.435, 0.45, 0.46, 0.46, 0.455, 0.44, 0.415, 0.44, 0.45, 0.45, 0.435, 0.455, 0.445, 0.465, 0.45, 0.45, 0.43, 0.475, 0.45, 0.5, 0.44, 0.44, 0.44, 0.455, 0.47, 0.46, 0.475, 0.465, 0.49, 0.455, 0.47, 0.48, 0.46, 0.46, 0.47, 0.47, 0.47, 0.495, 0.495, 0.49, 0.49, 0.495, 0.495, 0.47, 0.485, 0.495, 0.515, 0.505, 0.445, 0.52, 0.47, 0.49, 0.485, 0.52, 0.505, 0.525, 0.5, 0.515, 0.53, 0.48, 0.515, 0.49, 0.49, 0.485, 0.51, 0.49, 0.52, 0.52, 0.51, 0.51, 0.515, 0.525, 0.52, 0.535, 0.51, 0.5, 0.515, 0.525, 0.53, 0.515, 0.51, 0.54, 0.54, 0.535, 0.55, 0.545, 0.575, 0.55, 0.55, 0.535, 0.575, 0.565, 0.57, 0.55, 0.605, 0.13, 0.11, 0.15, 0.21, 0.2, 0.215, 0.21, 0.21, 0.21, 0.24, 0.25, 0.25, 0.235, 0.25, 0.27, 0.27, 0.27, 0.28, 0.275, 0.29, 0.25, 0.325, 0.315, 0.32, 0.325, 0.33, 0.35, 0.365, 0.375, 0.365, 0.39, 0.395, 0.385, 0.455, 0.4, 0.41, 0.43, 0.405, 0.44, 0.47, 0.41, 0.445, 0.435, 0.46, 0.465, 0.45, 0.445, 0.49, 0.515, 0.515, 0.19, 0.195, 0.215, 0.215, 0.255, 0.24, 0.28, 0.295, 0.305, 0.31, 0.305, 0.315, 0.305, 0.32, 0.35, 0.355, 0.345, 0.345, 0.36, 0.355, 0.38, 0.35, 0.39, 0.37, 0.39, 0.38, 0.385, 0.385, 0.42, 0.42, 0.385, 0.42, 0.43, 0.41, 0.42, 0.44, 0.45, 0.435, 0.485, 0.465, 0.47, 0.43, 0.48, 0.49, 0.495, 0.5, 0.525, 0.55, 0.54, 0.57, 0.5, 0.585, 0.575, 0.555, 0.57, 0.39, 0.425, 0.385, 0.305, 0.3, 0.39, 0.33, 0.35, 0.31, 0.29, 0.38, 0.31, 0.29, 0.385, 0.48, 0.455, 0.55, 0.535, 0.49, 0.25, 0.355, 0.405, 0.29, 0.095, 0.13, 0.225, 0.29, 0.38, 0.37, 0.325, 0.36, 0.35, 0.21, 0.295, 0.375, 0.4, 0.31, 0.51, 0.47, 0.455, 0.24, 0.41, 0.35, 0.33, 0.425, 0.425, 0.455, 0.465, 0.53, 0.36, 0.24, 0.35, 0.37, 0.35, 0.325, 0.35, 0.375, 0.31, 0.195, 0.355, 0.585, 0.3, 0.2, 0.44, 0.46, 0.5, 0.495, 0.42, 0.51, 0.55, 0.565, 0.565, 0.47, 0.305, 0.45, 0.28, 0.275, 0.235, 0.115, 0.21, 0.13, 0.15, 0.465, 0.5, 0.45, 0.45, 0.45, 0.48, 0.47, 0.42, 0.42, 0.43, 0.4, 0.235, 0.34, 0.4, 0.385, 0.37, 0.37, 0.47, 0.495, 0.485, 0.17, 0.325, 0.215, 0.28, 0.305, 0.19, 0.55, 0.515, 0.49, 0.405, 0.48, 0.345, 0.22, 0.225, 0.34, 0.525, 0.465, 0.505, 0.47, 0.495, 0.51, 0.325, 0.35, 0.26, 0.415, 0.39, 0.375, 0.46, 0.465, 0.525, 0.455, 0.425, 0.475, 0.28, 0.2, 0.39, 0.28, 0.43, 0.4, 0.445, 0.475, 0.45, 0.48, 0.435, 0.465, 0.335, 0.36, 0.315, 0.32, 0.38, 0.36, 0.28, 0.375, 0.325, 0.365, 0.27, 0.455, 0.59, 0.485, 0.46, 0.5, 0.495, 0.395, 0.38, 0.415, 0.335, 0.465, 0.46, 0.43, 0.455, 0.51, 0.45, 0.575, 0.51, 0.48, 0.445, 0.45, 0.475, 0.41, 0.51, 0.52, 0.57, 0.525, 0.48, 0.475, 0.405, 0.405, 0.375, 0.415, 0.385, 0.345, 0.315, 0.33, 0.395, 0.305, 0.265, 0.475, 0.27, 0.375, 0.3, 0.26, 0.425, 0.415, 0.45, 0.36, 0.325, 0.385, 0.405, 0.425, 0.375, 0.455, 0.49, 0.415, 0.5, 0.375, 0.355, 0.375, 0.35, 0.265, 0.24, 0.47, 0.475, 0.435, 0.435, 0.42, 0.385, 0.395, 0.31, 0.395, 0.435, 0.325, 0.535, 0.305, 0.345, 0.395, 0.425, 0.39, 0.345, 0.46, 0.42, 0.55, 0.63, 0.49, 0.48, 0.455, 0.485, 0.52, 0.47, 0.24, 0.185, 0.125, 0.55, 0.565, 0.43, 0.4, 0.43, 0.36, 0.435, 0.475, 0.53, 0.56, 0.495, 0.44, 0.47, 0.455, 0.485, 0.525, 0.44, 0.45, 0.525, 0.475, 0.47, 0.505, 0.57, 0.545, 0.595, 0.44, 0.325, 0.125, 0.325, 0.405, 0.335, 0.275, 0.34, 0.41, 0.325, 0.265, 0.135, 0.115, 0.43, 0.39, 0.345, 0.345, 0.365, 0.35, 0.375, 0.34, 0.35, 0.29, 0.25, 0.22, 0.46, 0.475, 0.465, 0.505, 0.385, 0.43, 0.33, 0.415, 0.355, 0.225, 0.455, 0.515, 0.46, 0.43, 0.485, 0.5, 0.375, 0.395, 0.245, 0.38, 0.305, 0.315, 0.315, 0.235, 0.35, 0.36, 0.255, 0.415, 0.365, 0.315, 0.2, 0.45, 0.435, 0.19, 0.385, 0.255, 0.38, 0.5, 0.485, 0.515, 0.5, 0.38, 0.4, 0.24, 0.4, 0.255, 0.355, 0.415, 0.355, 0.335, 0.355, 0.38, 0.435, 0.205, 0.265, 0.285, 0.33, 0.26, 0.305, 0.2, 0.2, 0.17, 0.18, 0.185, 0.145, 0.47, 0.35, 0.385, 0.325, 0.405, 0.405, 0.39, 0.325, 0.415, 0.275, 0.415, 0.475, 0.44, 0.515, 0.47, 0.49, 0.455, 0.485, 0.42, 0.355, 0.44, 0.425, 0.285, 0.4, 0.415, 0.36, 0.26, 0.4, 0.51, 0.385, 0.39, 0.325, 0.395, 0.38, 0.31, 0.305, 0.36, 0.4, 0.4, 0.4, 0.41, 0.39, 0.26, 0.21, 0.23, 0.24, 0.255, 0.3, 0.325, 0.315, 0.315, 0.32, 0.31, 0.375, 0.35, 0.37, 0.375, 0.365, 0.37, 0.4, 0.39, 0.425, 0.42, 0.45, 0.44, 0.46, 0.455, 0.48, 0.49, 0.475, 0.5, 0.485, 0.475, 0.49, 0.5, 0.585, 0.5, 0.545, 0.525, 0.535, 0.555, 0.55, 0.55, 0.53, 0.525, 0.57, 0.15, 0.17, 0.18, 0.195, 0.21, 0.22, 0.22, 0.225, 0.235, 0.265, 0.29, 0.285, 0.295, 0.31, 0.325, 0.335, 0.345, 0.325, 0.355, 0.35, 0.35, 0.35, 0.35, 0.345, 0.345, 0.355, 0.34, 0.385, 0.355, 0.37, 0.375, 0.38, 0.385, 0.395, 0.415, 0.425, 0.42, 0.41, 0.405, 0.435, 0.425, 0.425, 0.445, 0.435, 0.45, 0.445, 0.45, 0.465, 0.47, 0.465, 0.465, 0.46, 0.46, 0.46, 0.48, 0.485, 0.5, 0.47, 0.51, 0.485, 0.475, 0.48, 0.49, 0.49, 0.495, 0.495, 0.48, 0.495, 0.495, 0.49, 0.5, 0.5, 0.52, 0.545, 0.54, 0.55, 0.525, 0.575, 0.56, 0.585, 0.6, 0.16, 0.205, 0.21, 0.24, 0.285, 0.29, 0.315, 0.33, 0.34, 0.32, 0.34, 0.335, 0.345, 0.37, 0.355, 0.365, 0.375, 0.375, 0.375, 0.38, 0.38, 0.39, 0.38, 0.4, 0.395, 0.385, 0.4, 0.395, 0.43, 0.42, 0.42, 0.4, 0.42, 0.44, 0.425, 0.43, 0.45, 0.45, 0.43, 0.48, 0.455, 0.45, 0.435, 0.47, 0.46, 0.46, 0.465, 0.47, 0.46, 0.49, 0.48, 0.475, 0.45, 0.47, 0.475, 0.49, 0.48, 0.495, 0.49, 0.48, 0.505, 0.51, 0.465, 0.515, 0.48, 0.52, 0.515, 0.52, 0.535, 0.51, 0.49, 0.515, 0.505, 0.5, 0.51, 0.55, 0.52, 0.53, 0.525, 0.55, 0.53, 0.55, 0.57, 0.575, 0.555, 0.14, 0.15, 0.175, 0.215, 0.25, 0.245, 0.255, 0.255, 0.26, 0.275, 0.29, 0.275, 0.3, 0.285, 0.32, 0.305, 0.305, 0.31, 0.305, 0.3, 0.315, 0.325, 0.335, 0.325, 0.315, 0.34, 0.36, 0.325, 0.335, 0.34, 0.35, 0.345, 0.355, 0.375, 0.38, 0.365, 0.365, 0.385, 0.38, 0.385, 0.395, 0.41, 0.39, 0.385, 0.415, 0.4, 0.375, 0.43, 0.44, 0.43, 0.425, 0.42, 0.425, 0.465, 0.435, 0.445, 0.44, 0.435, 0.43, 0.445, 0.435, 0.44, 0.465, 0.425, 0.46, 0.465, 0.42, 0.455, 0.47, 0.475, 0.475, 0.48, 0.495, 0.45, 0.51, 0.48, 0.45, 0.46, 0.465, 0.48, 0.5, 0.49, 0.505, 0.475, 0.47, 0.525, 0.505, 0.485, 0.495, 0.495, 0.515, 0.52, 0.51, 0.505, 0.525, 0.525, 0.54, 0.54, 0.565, 0.55, 0.57, 0.17, 0.195, 0.2, 0.235, 0.24, 0.225, 0.27, 0.265, 0.285, 0.29, 0.335, 0.35, 0.365, 0.375, 0.365, 0.375, 0.4, 0.395, 0.43, 0.405, 0.42, 0.415, 0.425, 0.42, 0.445, 0.445, 0.47, 0.455, 0.485, 0.435, 0.475, 0.45, 0.475, 0.48, 0.475, 0.5, 0.485, 0.49, 0.485, 0.51, 0.49, 0.49, 0.525, 0.515, 0.515, 0.515, 0.54, 0.565, 0.55, 0.565, 0.57, 0.595, 0.23, 0.235, 0.205, 0.25, 0.26, 0.28, 0.27, 0.28, 0.315, 0.305, 0.34, 0.335, 0.31, 0.36, 0.35, 0.385, 0.375, 0.375, 0.39, 0.37, 0.425, 0.4, 0.365, 0.4, 0.4, 0.4, 0.465, 0.38, 0.405, 0.445, 0.425, 0.415, 0.43, 0.43, 0.435, 0.425, 0.435, 0.43, 0.435, 0.425, 0.455, 0.45, 0.465, 0.46, 0.45, 0.45, 0.445, 0.44, 0.45, 0.5, 0.46, 0.475, 0.47, 0.46, 0.445, 0.48, 0.45, 0.45, 0.465, 0.495, 0.49, 0.48, 0.425, 0.47, 0.48, 0.49, 0.475, 0.515, 0.455, 0.495, 0.475, 0.475, 0.495, 0.515, 0.5, 0.49, 0.49, 0.48, 0.53, 0.485, 0.51, 0.485, 0.52, 0.485, 0.5, 0.515, 0.505, 0.575, 0.485, 0.52, 0.495, 0.52, 0.565, 0.5, 0.515, 0.525, 0.525, 0.51, 0.485, 0.525, 0.525, 0.525, 0.54, 0.515, 0.505, 0.505, 0.515, 0.55, 0.58, 0.59, 0.575, 0.215, 0.345, 0.33, 0.365, 0.355, 0.37, 0.38, 0.37, 0.41, 0.4, 0.4, 0.405, 0.405, 0.425, 0.425, 0.44, 0.485, 0.43, 0.43, 0.475, 0.485, 0.5, 0.49, 0.51, 0.525, 0.485, 0.495, 0.505, 0.505, 0.515, 0.54, 0.545, 0.585, 0.615, 0.185, 0.26, 0.285, 0.3, 0.28, 0.3, 0.32, 0.335, 0.325, 0.32, 0.33, 0.34, 0.355, 0.37, 0.375, 0.375, 0.33, 0.375, 0.38, 0.385, 0.41, 0.395, 0.4, 0.42, 0.41, 0.42, 0.405, 0.445, 0.45, 0.44, 0.45, 0.47, 0.47, 0.43, 0.445, 0.445, 0.435, 0.45, 0.435, 0.47, 0.405, 0.47, 0.48, 0.46, 0.45, 0.45, 0.495, 0.485, 0.49, 0.475, 0.515, 0.515, 0.495, 0.505, 0.49, 0.5, 0.485, 0.5, 0.505, 0.51, 0.54, 0.49, 0.455, 0.53, 0.525, 0.52, 0.52, 0.56, 0.51, 0.535, 0.555, 0.56, 0.55, 0.575, 0.17, 0.17, 0.185, 0.27, 0.31, 0.32, 0.35, 0.355, 0.38, 0.395, 0.43, 0.4, 0.415, 0.395, 0.435, 0.43, 0.48, 0.43, 0.455, 0.465, 0.5, 0.525, 0.215, 0.22, 0.275, 0.285, 0.29, 0.3, 0.325, 0.32, 0.325, 0.34, 0.34, 0.405, 0.36, 0.415, 0.4, 0.4, 0.425, 0.42, 0.45, 0.45, 0.46, 0.495, 0.485, 0.495, 0.49, 0.515, 0.505, 0.53, 0.39, 0.36, 0.35, 0.42, 0.36, 0.4, 0.26, 0.425, 0.135, 0.165, 0.15, 0.48, 0.42, 0.45, 0.5, 0.53, 0.54, 0.505, 0.5, 0.375, 0.335, 0.41, 0.395, 0.44, 0.35, 0.435, 0.255, 0.2, 0.22, 0.49, 0.44, 0.475, 0.41, 0.54, 0.49, 0.47, 0.45, 0.465, 0.405, 0.405, 0.265, 0.355, 0.405, 0.38, 0.41, 0.3, 0.195, 0.295, 0.385, 0.505, 0.44, 0.545, 0.415, 0.36, 0.385, 0.575, 0.405, 0.145, 0.515, 0.405, 0.435, 0.47, 0.405, 0.245, 0.235, 0.335, 0.38, 0.405, 0.3, 0.485, 0.505, 0.53, 0.265, 0.215, 0.38, 0.25, 0.34, 0.45, 0.48, 0.46, 0.42, 0.495, 0.485, 0.51, 0.34, 0.505, 0.525, 0.4, 0.305, 0.435, 0.415, 0.525, 0.35, 0.32, 0.35, 0.325, 0.505, 0.455, 0.325, 0.41, 0.48, 0.485, 0.535, 0.285, 0.51, 0.53, 0.54, 0.435, 0.525, 0.48, 0.51, 0.555, 0.55, 0.435, 0.495, 0.5, 0.24, 0.35, 0.375, 0.38, 0.35, 0.35, 0.23, 0.48, 0.385, 0.375, 0.505, 0.435, 0.52, 0.485, 0.45, 0.5, 0.38, 0.385, 0.335, 0.31, 0.465, 0.475, 0.425, 0.36, 0.375, 0.405, 0.355, 0.385, 0.39, 0.415, 0.53, 0.54, 0.45, 0.475, 0.475, 0.44, 0.57, 0.51, 0.46, 0.475, 0.42, 0.395, 0.405, 0.375, 0.455, 0.5, 0.45, 0.485, 0.5, 0.5, 0.485, 0.5, 0.525, 0.575, 0.45, 0.435, 0.445, 0.3, 0.325, 0.2, 0.355, 0.485, 0.38, 0.41, 0.31, 0.355, 0.26, 0.35, 0.2, 0.125, 0.555, 0.425, 0.385, 0.37, 0.3, 0.28, 0.265, 0.415, 0.48, 0.475, 0.435, 0.305, 0.34, 0.34, 0.36, 0.3, 0.325, 0.35, 0.525, 0.525, 0.475, 0.435, 0.39, 0.33, 0.365, 0.38, 0.38, 0.4, 0.32, 0.385, 0.375, 0.345, 0.38, 0.405, 0.365, 0.36, 0.34, 0.3, 0.285, 0.215, 0.445, 0.44, 0.315, 0.3, 0.405, 0.245, 0.31, 0.21, 0.465, 0.48, 0.46, 0.345, 0.235, 0.33, 0.405, 0.375, 0.33, 0.235, 0.19, 0.255, 0.21, 0.13, 0.435, 0.4, 0.375, 0.225, 0.35, 0.4, 0.41, 0.535, 0.465, 0.44, 0.42, 0.515, 0.435, 0.48, 0.45, 0.475, 0.375, 0.285, 0.35, 0.43, 0.395, 0.345, 0.265, 0.28, 0.25, 0.28, 0.265, 0.315, 0.31, 0.31, 0.32, 0.355, 0.395, 0.37, 0.465, 0.45, 0.46, 0.48, 0.47, 0.475, 0.475, 0.47, 0.475, 0.51, 0.545, 0.55, 0.605, 0.18, 0.21, 0.24, 0.265, 0.27, 0.27, 0.28, 0.285, 0.275, 0.3, 0.335, 0.35, 0.37, 0.355, 0.37, 0.37, 0.4, 0.4, 0.385, 0.39, 0.39, 0.395, 0.44, 0.44, 0.44, 0.42, 0.46, 0.475, 0.48, 0.495, 0.47, 0.505, 0.485, 0.495, 0.47, 0.485, 0.495, 0.48, 0.5, 0.525, 0.52, 0.585, 0.565, 0.58, 0.12, 0.15, 0.265, 0.315, 0.29, 0.3, 0.335, 0.33, 0.34, 0.345, 0.355, 0.355, 0.42, 0.37, 0.475, 0.405, 0.38, 0.42, 0.42, 0.44, 0.44, 0.44, 0.43, 0.415, 0.44, 0.45, 0.46, 0.47, 0.41, 0.475, 0.47, 0.49, 0.51, 0.495, 0.47, 0.5, 0.475, 0.52, 0.505, 0.52, 0.54, 0.5, 0.525, 0.525, 0.575, 0.56, 0.57, 0.545, 0.545, 0.15, 0.185, 0.205, 0.24, 0.23, 0.26, 0.26, 0.265, 0.265, 0.265, 0.275, 0.285, 0.31, 0.315, 0.265, 0.325, 0.325, 0.335, 0.34, 0.355, 0.35, 0.435, 0.34, 0.355, 0.36, 0.35, 0.355, 0.37, 0.365, 0.39, 0.4, 0.39, 0.405, 0.42, 0.415, 0.41, 0.41, 0.425, 0.45, 0.47, 0.42, 0.42, 0.455, 0.44, 0.475, 0.45, 0.46, 0.46, 0.47, 0.47, 0.465, 0.46, 0.465, 0.47, 0.47, 0.475, 0.475, 0.475, 0.485, 0.48, 0.48, 0.475, 0.5, 0.49, 0.485, 0.465, 0.495, 0.515, 0.515, 0.52, 0.475, 0.525, 0.53, 0.5, 0.515, 0.515, 0.53, 0.52, 0.555, 0.125, 0.285, 0.3, 0.325, 0.37, 0.375, 0.375, 0.39, 0.43, 0.405, 0.45, 0.465, 0.46, 0.49, 0.475, 0.475, 0.495, 0.46, 0.515, 0.5, 0.5, 0.455, 0.505, 0.53, 0.5, 0.525, 0.53, 0.525, 0.565, 0.205, 0.225, 0.22, 0.225, 0.22, 0.265, 0.275, 0.29, 0.325, 0.34, 0.32, 0.345, 0.37, 0.355, 0.345, 0.365, 0.335, 0.35, 0.365, 0.39, 0.405, 0.415, 0.405, 0.425, 0.425, 0.42, 0.41, 0.395, 0.405, 0.45, 0.41, 0.41, 0.415, 0.45, 0.4, 0.43, 0.45, 0.44, 0.42, 0.465, 0.46, 0.465, 0.47, 0.44, 0.46, 0.45, 0.47, 0.5, 0.49, 0.49, 0.45, 0.495, 0.47, 0.5, 0.525, 0.47, 0.48, 0.485, 0.485, 0.49, 0.505, 0.5, 0.51, 0.52, 0.495, 0.495, 0.52, 0.525, 0.51, 0.51, 0.525, 0.53, 0.51, 0.54, 0.51, 0.54, 0.54, 0.535, 0.51, 0.53, 0.55, 0.535, 0.55, 0.53, 0.555, 0.56, 0.6, 0.13, 0.25, 0.25, 0.28, 0.32, 0.31, 0.36, 0.355, 0.365, 0.375, 0.395, 0.4, 0.375, 0.38, 0.37, 0.415, 0.42, 0.455, 0.505, 0.475, 0.48, 0.47, 0.505, 0.525, 0.5, 0.525, 0.525, 0.555, 0.205, 0.205, 0.265, 0.29, 0.315, 0.33, 0.375, 0.335, 0.355, 0.36, 0.37, 0.395, 0.39, 0.41, 0.4, 0.425, 0.425, 0.42, 0.395, 0.41, 0.4, 0.45, 0.44, 0.46, 0.465, 0.43, 0.43, 0.45, 0.465, 0.46, 0.42, 0.45, 0.42, 0.47, 0.45, 0.48, 0.48, 0.455, 0.5, 0.48, 0.48, 0.495, 0.5, 0.49, 0.475, 0.51, 0.505, 0.495, 0.52, 0.525, 0.52, 0.54, 0.54, 0.58, 0.535, 0.56, 0.58, 0.155, 0.23, 0.23, 0.27, 0.305, 0.31, 0.365, 0.385, 0.375, 0.4, 0.445, 0.49, 0.26, 0.275, 0.34, 0.355, 0.385, 0.445, 0.45, 0.44, 0.46, 0.48, 0.455, 0.46, 0.47, 0.52, 0.54, 0.52, 0.555, 0.385, 0.42, 0.365, 0.41, 0.26, 0.35, 0.325, 0.105, 0.25, 0.425, 0.41, 0.42, 0.475, 0.45, 0.45, 0.35, 0.275, 0.37, 0.535, 0.3, 0.295, 0.44, 0.41, 0.465, 0.4, 0.335, 0.255, 0.515, 0.45, 0.44, 0.465, 0.475, 0.37, 0.5, 0.235, 0.395, 0.43, 0.39, 0.34, 0.385, 0.44, 0.36, 0.4, 0.25, 0.41, 0.225, 0.45, 0.5, 0.355, 0.49, 0.3, 0.455, 0.545, 0.425, 0.225, 0.33, 0.375, 0.44, 0.45, 0.5, 0.4, 0.46, 0.4, 0.355, 0.38, 0.5, 0.575, 0.5, 0.46, 0.105, 0.345, 0.43, 0.12, 0.48, 0.47, 0.27, 0.18, 0.39, 0.365, 0.375, 0.355, 0.27, 0.405, 0.4, 0.39, 0.445, 0.41, 0.46, 0.49, 0.43, 0.23, 0.28, 0.4, 0.28, 0.4, 0.35, 0.42, 0.38, 0.55, 0.515, 0.535, 0.44, 0.37, 0.18, 0.175, 0.41, 0.4, 0.425, 0.275, 0.42, 0.39, 0.44, 0.4, 0.45, 0.44, 0.175, 0.41, 0.365, 0.4, 0.415, 0.425, 0.39, 0.235, 0.355, 0.385, 0.385, 0.395, 0.44, 0.5, 0.55, 0.55, 0.55, 0.575, 0.205, 0.19, 0.22, 0.22, 0.23, 0.29, 0.3, 0.285, 0.295, 0.315, 0.33, 0.32, 0.33, 0.35, 0.35, 0.39, 0.375, 0.41, 0.455, 0.435, 0.45, 0.465, 0.48, 0.525, 0.545, 0.515, 0.52, 0.51, 0.51, 0.6, 0.6, 0.135, 0.175, 0.23, 0.27, 0.28, 0.31, 0.35, 0.35, 0.375, 0.39, 0.395, 0.43, 0.465, 0.46, 0.455, 0.49, 0.475, 0.53, 0.465, 0.505, 0.48, 0.48, 0.525, 0.505, 0.485, 0.515, 0.55, 0.58, 0.545, 0.2, 0.245, 0.26, 0.28, 0.27, 0.31, 0.335, 0.325, 0.325, 0.365, 0.385, 0.405, 0.41, 0.42, 0.415, 0.445, 0.44, 0.45, 0.45, 0.46, 0.46, 0.425, 0.45, 0.46, 0.485, 0.495, 0.495, 0.495, 0.5, 0.47, 0.485, 0.5, 0.5, 0.51, 0.535, 0.56, 0.39, 0.405, 0.465, 0.49, 0.515, 0.49, 0.275, 0.31, 0.3, 0.305, 0.335, 0.335, 0.375, 0.36, 0.395, 0.4, 0.45, 0.43, 0.435, 0.43, 0.385, 0.43, 0.45, 0.465, 0.445, 0.48, 0.51, 0.45, 0.475, 0.47, 0.365, 0.475, 0.5, 0.49, 0.485, 0.53, 0.485, 0.5, 0.5, 0.495, 0.525, 0.52, 0.51, 0.545, 0.545, 0.545, 0.565, 0.59, 0.305, 0.35, 0.365, 0.41, 0.4, 0.42, 0.42, 0.45, 0.465, 0.48, 0.505, 0.525, 0.215, 0.265, 0.35, 0.365, 0.375, 0.385, 0.415, 0.42, 0.445, 0.435, 0.425, 0.45, 0.425, 0.47, 0.45, 0.455, 0.5, 0.495, 0.505, 0.49, 0.495, 0.535, 0.505, 0.525, 0.5, 0.535, 0.525, 0.53, 0.55, 0.605, 0.215, 0.23, 0.25, 0.28, 0.315, 0.33, 0.35, 0.37, 0.36, 0.355, 0.44, 0.475, 0.455, 0.255, 0.31, 0.29, 0.3, 0.365, 0.38, 0.4, 0.385, 0.43, 0.43, 0.45, 0.44, 0.475, 0.485, 0.555], \"yaxis\": \"y2\"}],\n",
              "                        {\"annotations\": [{\"font\": {\"size\": 16}, \"showarrow\": false, \"text\": \"Distribution for diameter\", \"x\": 0.225, \"xanchor\": \"center\", \"xref\": \"paper\", \"y\": 1.0, \"yanchor\": \"bottom\", \"yref\": \"paper\"}, {\"font\": {\"size\": 16}, \"showarrow\": false, \"text\": \"Whiscker plot for  diameter\", \"x\": 0.775, \"xanchor\": \"center\", \"xref\": \"paper\", \"y\": 1.0, \"yanchor\": \"bottom\", \"yref\": \"paper\"}], \"template\": {\"data\": {\"bar\": [{\"error_x\": {\"color\": \"#2a3f5f\"}, \"error_y\": {\"color\": \"#2a3f5f\"}, \"marker\": {\"line\": {\"color\": \"#E5ECF6\", \"width\": 0.5}}, \"type\": \"bar\"}], \"barpolar\": [{\"marker\": {\"line\": {\"color\": \"#E5ECF6\", \"width\": 0.5}}, \"type\": \"barpolar\"}], \"carpet\": [{\"aaxis\": {\"endlinecolor\": \"#2a3f5f\", \"gridcolor\": \"white\", \"linecolor\": \"white\", \"minorgridcolor\": \"white\", \"startlinecolor\": \"#2a3f5f\"}, \"baxis\": {\"endlinecolor\": \"#2a3f5f\", \"gridcolor\": \"white\", \"linecolor\": \"white\", \"minorgridcolor\": \"white\", \"startlinecolor\": \"#2a3f5f\"}, \"type\": \"carpet\"}], \"choropleth\": [{\"colorbar\": {\"outlinewidth\": 0, \"ticks\": \"\"}, \"type\": \"choropleth\"}], \"contour\": [{\"colorbar\": {\"outlinewidth\": 0, \"ticks\": \"\"}, \"colorscale\": [[0.0, \"#0d0887\"], [0.1111111111111111, \"#46039f\"], [0.2222222222222222, \"#7201a8\"], [0.3333333333333333, \"#9c179e\"], [0.4444444444444444, \"#bd3786\"], [0.5555555555555556, \"#d8576b\"], [0.6666666666666666, \"#ed7953\"], [0.7777777777777778, \"#fb9f3a\"], [0.8888888888888888, \"#fdca26\"], [1.0, \"#f0f921\"]], \"type\": \"contour\"}], \"contourcarpet\": [{\"colorbar\": {\"outlinewidth\": 0, \"ticks\": \"\"}, \"type\": \"contourcarpet\"}], \"heatmap\": [{\"colorbar\": {\"outlinewidth\": 0, \"ticks\": \"\"}, \"colorscale\": [[0.0, \"#0d0887\"], [0.1111111111111111, \"#46039f\"], [0.2222222222222222, \"#7201a8\"], [0.3333333333333333, \"#9c179e\"], [0.4444444444444444, \"#bd3786\"], [0.5555555555555556, \"#d8576b\"], [0.6666666666666666, \"#ed7953\"], [0.7777777777777778, \"#fb9f3a\"], [0.8888888888888888, \"#fdca26\"], [1.0, \"#f0f921\"]], \"type\": \"heatmap\"}], \"heatmapgl\": [{\"colorbar\": {\"outlinewidth\": 0, \"ticks\": \"\"}, \"colorscale\": [[0.0, \"#0d0887\"], [0.1111111111111111, \"#46039f\"], [0.2222222222222222, \"#7201a8\"], [0.3333333333333333, \"#9c179e\"], [0.4444444444444444, \"#bd3786\"], [0.5555555555555556, \"#d8576b\"], [0.6666666666666666, \"#ed7953\"], [0.7777777777777778, \"#fb9f3a\"], [0.8888888888888888, \"#fdca26\"], [1.0, \"#f0f921\"]], \"type\": \"heatmapgl\"}], \"histogram\": [{\"marker\": {\"colorbar\": {\"outlinewidth\": 0, \"ticks\": \"\"}}, \"type\": \"histogram\"}], \"histogram2d\": [{\"colorbar\": {\"outlinewidth\": 0, \"ticks\": \"\"}, \"colorscale\": [[0.0, \"#0d0887\"], [0.1111111111111111, \"#46039f\"], [0.2222222222222222, \"#7201a8\"], [0.3333333333333333, \"#9c179e\"], [0.4444444444444444, \"#bd3786\"], [0.5555555555555556, \"#d8576b\"], [0.6666666666666666, \"#ed7953\"], [0.7777777777777778, \"#fb9f3a\"], [0.8888888888888888, \"#fdca26\"], [1.0, \"#f0f921\"]], \"type\": \"histogram2d\"}], \"histogram2dcontour\": [{\"colorbar\": {\"outlinewidth\": 0, \"ticks\": \"\"}, \"colorscale\": [[0.0, \"#0d0887\"], [0.1111111111111111, \"#46039f\"], [0.2222222222222222, \"#7201a8\"], [0.3333333333333333, \"#9c179e\"], [0.4444444444444444, \"#bd3786\"], [0.5555555555555556, \"#d8576b\"], [0.6666666666666666, \"#ed7953\"], [0.7777777777777778, \"#fb9f3a\"], [0.8888888888888888, \"#fdca26\"], [1.0, \"#f0f921\"]], \"type\": \"histogram2dcontour\"}], \"mesh3d\": [{\"colorbar\": {\"outlinewidth\": 0, \"ticks\": \"\"}, \"type\": \"mesh3d\"}], \"parcoords\": [{\"line\": {\"colorbar\": {\"outlinewidth\": 0, \"ticks\": \"\"}}, \"type\": \"parcoords\"}], \"pie\": [{\"automargin\": true, \"type\": \"pie\"}], \"scatter\": [{\"marker\": {\"colorbar\": {\"outlinewidth\": 0, \"ticks\": \"\"}}, \"type\": \"scatter\"}], \"scatter3d\": [{\"line\": {\"colorbar\": {\"outlinewidth\": 0, \"ticks\": \"\"}}, \"marker\": {\"colorbar\": {\"outlinewidth\": 0, \"ticks\": \"\"}}, \"type\": \"scatter3d\"}], \"scattercarpet\": [{\"marker\": {\"colorbar\": {\"outlinewidth\": 0, \"ticks\": \"\"}}, \"type\": \"scattercarpet\"}], \"scattergeo\": [{\"marker\": {\"colorbar\": {\"outlinewidth\": 0, \"ticks\": \"\"}}, \"type\": \"scattergeo\"}], \"scattergl\": [{\"marker\": {\"colorbar\": {\"outlinewidth\": 0, \"ticks\": \"\"}}, \"type\": \"scattergl\"}], \"scattermapbox\": [{\"marker\": {\"colorbar\": {\"outlinewidth\": 0, \"ticks\": \"\"}}, \"type\": \"scattermapbox\"}], \"scatterpolar\": [{\"marker\": {\"colorbar\": {\"outlinewidth\": 0, \"ticks\": \"\"}}, \"type\": \"scatterpolar\"}], \"scatterpolargl\": [{\"marker\": {\"colorbar\": {\"outlinewidth\": 0, \"ticks\": \"\"}}, \"type\": \"scatterpolargl\"}], \"scatterternary\": [{\"marker\": {\"colorbar\": {\"outlinewidth\": 0, \"ticks\": \"\"}}, \"type\": \"scatterternary\"}], \"surface\": [{\"colorbar\": {\"outlinewidth\": 0, \"ticks\": \"\"}, \"colorscale\": [[0.0, \"#0d0887\"], [0.1111111111111111, \"#46039f\"], [0.2222222222222222, \"#7201a8\"], [0.3333333333333333, \"#9c179e\"], [0.4444444444444444, \"#bd3786\"], [0.5555555555555556, \"#d8576b\"], [0.6666666666666666, \"#ed7953\"], [0.7777777777777778, \"#fb9f3a\"], [0.8888888888888888, \"#fdca26\"], [1.0, \"#f0f921\"]], \"type\": \"surface\"}], \"table\": [{\"cells\": {\"fill\": {\"color\": \"#EBF0F8\"}, \"line\": {\"color\": \"white\"}}, \"header\": {\"fill\": {\"color\": \"#C8D4E3\"}, \"line\": {\"color\": \"white\"}}, \"type\": \"table\"}]}, \"layout\": {\"annotationdefaults\": {\"arrowcolor\": \"#2a3f5f\", \"arrowhead\": 0, \"arrowwidth\": 1}, \"coloraxis\": {\"colorbar\": {\"outlinewidth\": 0, \"ticks\": \"\"}}, \"colorscale\": {\"diverging\": [[0, \"#8e0152\"], [0.1, \"#c51b7d\"], [0.2, \"#de77ae\"], [0.3, \"#f1b6da\"], [0.4, \"#fde0ef\"], [0.5, \"#f7f7f7\"], [0.6, \"#e6f5d0\"], [0.7, \"#b8e186\"], [0.8, \"#7fbc41\"], [0.9, \"#4d9221\"], [1, \"#276419\"]], \"sequential\": [[0.0, \"#0d0887\"], [0.1111111111111111, \"#46039f\"], [0.2222222222222222, \"#7201a8\"], [0.3333333333333333, \"#9c179e\"], [0.4444444444444444, \"#bd3786\"], [0.5555555555555556, \"#d8576b\"], [0.6666666666666666, \"#ed7953\"], [0.7777777777777778, \"#fb9f3a\"], [0.8888888888888888, \"#fdca26\"], [1.0, \"#f0f921\"]], \"sequentialminus\": [[0.0, \"#0d0887\"], [0.1111111111111111, \"#46039f\"], [0.2222222222222222, \"#7201a8\"], [0.3333333333333333, \"#9c179e\"], [0.4444444444444444, \"#bd3786\"], [0.5555555555555556, \"#d8576b\"], [0.6666666666666666, \"#ed7953\"], [0.7777777777777778, \"#fb9f3a\"], [0.8888888888888888, \"#fdca26\"], [1.0, \"#f0f921\"]]}, \"colorway\": [\"#636efa\", \"#EF553B\", \"#00cc96\", \"#ab63fa\", \"#FFA15A\", \"#19d3f3\", \"#FF6692\", \"#B6E880\", \"#FF97FF\", \"#FECB52\"], \"font\": {\"color\": \"#2a3f5f\"}, \"geo\": {\"bgcolor\": \"white\", \"lakecolor\": \"white\", \"landcolor\": \"#E5ECF6\", \"showlakes\": true, \"showland\": true, \"subunitcolor\": \"white\"}, \"hoverlabel\": {\"align\": \"left\"}, \"hovermode\": \"closest\", \"mapbox\": {\"style\": \"light\"}, \"paper_bgcolor\": \"white\", \"plot_bgcolor\": \"#E5ECF6\", \"polar\": {\"angularaxis\": {\"gridcolor\": \"white\", \"linecolor\": \"white\", \"ticks\": \"\"}, \"bgcolor\": \"#E5ECF6\", \"radialaxis\": {\"gridcolor\": \"white\", \"linecolor\": \"white\", \"ticks\": \"\"}}, \"scene\": {\"xaxis\": {\"backgroundcolor\": \"#E5ECF6\", \"gridcolor\": \"white\", \"gridwidth\": 2, \"linecolor\": \"white\", \"showbackground\": true, \"ticks\": \"\", \"zerolinecolor\": \"white\"}, \"yaxis\": {\"backgroundcolor\": \"#E5ECF6\", \"gridcolor\": \"white\", \"gridwidth\": 2, \"linecolor\": \"white\", \"showbackground\": true, \"ticks\": \"\", \"zerolinecolor\": \"white\"}, \"zaxis\": {\"backgroundcolor\": \"#E5ECF6\", \"gridcolor\": \"white\", \"gridwidth\": 2, \"linecolor\": \"white\", \"showbackground\": true, \"ticks\": \"\", \"zerolinecolor\": \"white\"}}, \"shapedefaults\": {\"line\": {\"color\": \"#2a3f5f\"}}, \"ternary\": {\"aaxis\": {\"gridcolor\": \"white\", \"linecolor\": \"white\", \"ticks\": \"\"}, \"baxis\": {\"gridcolor\": \"white\", \"linecolor\": \"white\", \"ticks\": \"\"}, \"bgcolor\": \"#E5ECF6\", \"caxis\": {\"gridcolor\": \"white\", \"linecolor\": \"white\", \"ticks\": \"\"}}, \"title\": {\"x\": 0.05}, \"xaxis\": {\"automargin\": true, \"gridcolor\": \"white\", \"linecolor\": \"white\", \"ticks\": \"\", \"title\": {\"standoff\": 15}, \"zerolinecolor\": \"white\", \"zerolinewidth\": 2}, \"yaxis\": {\"automargin\": true, \"gridcolor\": \"white\", \"linecolor\": \"white\", \"ticks\": \"\", \"title\": {\"standoff\": 15}, \"zerolinecolor\": \"white\", \"zerolinewidth\": 2}}}, \"xaxis\": {\"anchor\": \"y\", \"domain\": [0.0, 0.45]}, \"xaxis2\": {\"anchor\": \"y2\", \"domain\": [0.55, 1.0]}, \"yaxis\": {\"anchor\": \"x\", \"domain\": [0.0, 1.0]}, \"yaxis2\": {\"anchor\": \"x2\", \"domain\": [0.0, 1.0]}},\n",
              "                        {\"responsive\": true}\n",
              "                    ).then(function(){\n",
              "                            \n",
              "var gd = document.getElementById('0152ff51-7223-4a98-a511-e60252d5670c');\n",
              "var x = new MutationObserver(function (mutations, observer) {{\n",
              "        var display = window.getComputedStyle(gd).display;\n",
              "        if (!display || display === 'none') {{\n",
              "            console.log([gd, 'removed!']);\n",
              "            Plotly.purge(gd);\n",
              "            observer.disconnect();\n",
              "        }}\n",
              "}});\n",
              "\n",
              "// Listen for the removal of the full notebook cells\n",
              "var notebookContainer = gd.closest('#notebook-container');\n",
              "if (notebookContainer) {{\n",
              "    x.observe(notebookContainer, {childList: true});\n",
              "}}\n",
              "\n",
              "// Listen for the clearing of the current output cell\n",
              "var outputEl = gd.closest('.output');\n",
              "if (outputEl) {{\n",
              "    x.observe(outputEl, {childList: true});\n",
              "}}\n",
              "\n",
              "                        })\n",
              "                };\n",
              "                \n",
              "            </script>\n",
              "        </div>\n",
              "</body>\n",
              "</html>"
            ]
          },
          "metadata": {}
        }
      ]
    },
    {
      "cell_type": "markdown",
      "source": [
        "For the feature \"Diameter\", the data is nominally left skewed and by observing the whisker plot, we can confirm that it is having no outliers. Therefore might not have a negative impact on the statistical modelling built using the data"
      ],
      "metadata": {
        "id": "CVljsQ7xGxYu"
      }
    },
    {
      "cell_type": "code",
      "source": [
        "\n",
        "fig = make_subplots(rows=1, cols=2, subplot_titles=('Distribution for Age', \"Whiscker plot for  Age\"))\n",
        "fig.add_trace(go.Histogram(x=df['Age']), row=1, col=1)\n",
        "fig.add_trace(\n",
        "    go.Violin(y=df['Age'], box_visible=True, line_color='black',\n",
        "                               meanline_visible=True, fillcolor='lightseagreen', opacity=0.6,\n",
        "                               x0='Age')\n",
        "    \n",
        "    , row=1, col=2)\n",
        "\n",
        "fig.show()\n"
      ],
      "metadata": {
        "colab": {
          "base_uri": "https://localhost:8080/",
          "height": 542
        },
        "id": "UVsFjLHYFyGN",
        "outputId": "c4ff4441-1dba-4905-e693-832b092aa06f"
      },
      "execution_count": 18,
      "outputs": [
        {
          "output_type": "display_data",
          "data": {
            "text/html": [
              "<html>\n",
              "<head><meta charset=\"utf-8\" /></head>\n",
              "<body>\n",
              "    <div>\n",
              "            <script src=\"https://cdnjs.cloudflare.com/ajax/libs/mathjax/2.7.5/MathJax.js?config=TeX-AMS-MML_SVG\"></script><script type=\"text/javascript\">if (window.MathJax) {MathJax.Hub.Config({SVG: {font: \"STIX-Web\"}});}</script>\n",
              "                <script type=\"text/javascript\">window.PlotlyConfig = {MathJaxConfig: 'local'};</script>\n",
              "        <script src=\"https://cdn.plot.ly/plotly-latest.min.js\"></script>    \n",
              "            <div id=\"da807112-150c-47a6-a7a1-aaa89fb7ce9a\" class=\"plotly-graph-div\" style=\"height:525px; width:100%;\"></div>\n",
              "            <script type=\"text/javascript\">\n",
              "                \n",
              "                    window.PLOTLYENV=window.PLOTLYENV || {};\n",
              "                    \n",
              "                if (document.getElementById(\"da807112-150c-47a6-a7a1-aaa89fb7ce9a\")) {\n",
              "                    Plotly.newPlot(\n",
              "                        'da807112-150c-47a6-a7a1-aaa89fb7ce9a',\n",
              "                        [{\"type\": \"histogram\", \"x\": [16.5, 8.5, 10.5, 11.5, 8.5, 9.5, 21.5, 17.5, 10.5, 20.5, 15.5, 11.5, 12.5, 11.5, 11.5, 13.5, 8.5, 11.5, 8.5, 10.5, 12.5, 11.5, 13.5, 10.5, 11.5, 12.5, 12.5, 13.5, 16.5, 12.5, 11.5, 16.5, 19.5, 20.5, 14.5, 9.5, 17.5, 9.5, 12.5, 10.5, 10.5, 15.5, 6.5, 6.5, 5.5, 8.5, 10.5, 8.5, 7.5, 10.5, 9.5, 8.5, 11.5, 11.5, 8.5, 9.5, 9.5, 9.5, 5.5, 8.5, 8.5, 10.5, 11.5, 8.5, 9.5, 9.5, 13.5, 14.5, 11.5, 7.5, 14.5, 9.5, 21.5, 12.5, 14.5, 16.5, 10.5, 11.5, 12.5, 15.5, 10.5, 13.5, 17.5, 22.5, 15.5, 13.5, 14.5, 11.5, 10.5, 13.5, 16.5, 13.5, 14.5, 11.5, 16.5, 15.5, 10.5, 9.5, 8.5, 11.5, 8.5, 16.5, 16.5, 11.5, 13.5, 13.5, 12.5, 11.5, 10.5, 10.5, 10.5, 10.5, 10.5, 10.5, 12.5, 12.5, 12.5, 11.5, 10.5, 9.5, 10.5, 8.5, 15.5, 7.5, 7.5, 6.5, 7.5, 9.5, 20.5, 19.5, 18.5, 10.5, 8.5, 8.5, 8.5, 9.5, 8.5, 10.5, 10.5, 10.5, 11.5, 11.5, 17.5, 12.5, 11.5, 11.5, 11.5, 10.5, 6.5, 5.5, 16.5, 10.5, 11.5, 11.5, 13.5, 11.5, 14.5, 17.5, 14.5, 14.5, 14.5, 14.5, 13.5, 19.5, 17.5, 15.5, 21.5, 21.5, 15.5, 13.5, 15.5, 8.5, 9.5, 9.5, 6.5, 8.5, 6.5, 9.5, 5.5, 12.5, 15.5, 22.5, 11.5, 11.5, 13.5, 14.5, 13.5, 11.5, 12.5, 10.5, 14.5, 13.5, 15.5, 9.5, 11.5, 13.5, 12.5, 17.5, 16.5, 11.5, 10.5, 14.5, 13.5, 14.5, 9.5, 10.5, 10.5, 9.5, 14.5, 8.5, 11.5, 8.5, 13.5, 10.5, 15.5, 11.5, 9.5, 8.5, 11.5, 9.5, 10.5, 12.5, 10.5, 12.5, 11.5, 10.5, 8.5, 8.5, 12.5, 16.5, 14.5, 15.5, 23.5, 8.5, 13.5, 10.5, 2.5, 4.5, 4.5, 6.5, 18.5, 6.5, 6.5, 9.5, 9.5, 11.5, 14.5, 10.5, 8.5, 8.5, 8.5, 14.5, 13.5, 16.5, 16.5, 16.5, 20.5, 11.5, 16.5, 14.5, 12.5, 13.5, 12.5, 5.5, 7.5, 12.5, 15.5, 9.5, 10.5, 14.5, 23.5, 17.5, 15.5, 16.5, 14.5, 23.5, 13.5, 19.5, 21.5, 12.5, 16.5, 8.5, 10.5, 15.5, 15.5, 11.5, 11.5, 18.5, 10.5, 11.5, 18.5, 13.5, 16.5, 20.5, 27.5, 7.5, 7.5, 5.5, 12.5, 10.5, 10.5, 14.5, 9.5, 7.5, 11.5, 5.5, 4.5, 14.5, 15.5, 11.5, 22.5, 15.5, 20.5, 24.5, 24.5, 9.5, 15.5, 11.5, 19.5, 7.5, 6.5, 5.5, 12.5, 6.5, 8.5, 8.5, 8.5, 13.5, 9.5, 9.5, 13.5, 9.5, 6.5, 6.5, 17.5, 12.5, 15.5, 17.5, 14.5, 16.5, 15.5, 15.5, 13.5, 13.5, 9.5, 14.5, 10.5, 7.5, 9.5, 15.5, 9.5, 23.5, 13.5, 10.5, 17.5, 21.5, 14.5, 19.5, 18.5, 17.5, 19.5, 13.5, 21.5, 17.5, 13.5, 20.5, 12.5, 11.5, 13.5, 18.5, 17.5, 17.5, 20.5, 15.5, 14.5, 21.5, 12.5, 11.5, 16.5, 13.5, 16.5, 11.5, 11.5, 13.5, 11.5, 10.5, 13.5, 11.5, 15.5, 10.5, 11.5, 11.5, 11.5, 10.5, 7.5, 12.5, 11.5, 9.5, 13.5, 12.5, 10.5, 10.5, 8.5, 11.5, 8.5, 13.5, 9.5, 17.5, 12.5, 9.5, 16.5, 15.5, 12.5, 13.5, 15.5, 16.5, 21.5, 21.5, 17.5, 14.5, 15.5, 12.5, 14.5, 9.5, 7.5, 14.5, 19.5, 20.5, 22.5, 19.5, 19.5, 21.5, 19.5, 23.5, 14.5, 12.5, 8.5, 15.5, 10.5, 14.5, 11.5, 9.5, 20.5, 11.5, 11.5, 10.5, 14.5, 17.5, 13.5, 19.5, 17.5, 17.5, 18.5, 12.5, 15.5, 12.5, 16.5, 10.5, 11.5, 12.5, 12.5, 13.5, 7.5, 6.5, 7.5, 6.5, 13.5, 14.5, 18.5, 22.5, 10.5, 11.5, 10.5, 12.5, 11.5, 18.5, 10.5, 18.5, 22.5, 17.5, 30.5, 18.5, 16.5, 20.5, 13.5, 14.5, 12.5, 16.5, 12.5, 15.5, 15.5, 14.5, 12.5, 16.5, 18.5, 16.5, 13.5, 20.5, 12.5, 11.5, 13.5, 24.5, 16.5, 14.5, 18.5, 16.5, 13.5, 16.5, 12.5, 17.5, 11.5, 11.5, 11.5, 7.5, 6.5, 7.5, 10.5, 6.5, 5.5, 7.5, 4.5, 6.5, 10.5, 6.5, 5.5, 5.5, 4.5, 15.5, 13.5, 10.5, 21.5, 14.5, 13.5, 10.5, 11.5, 12.5, 12.5, 8.5, 6.5, 11.5, 16.5, 12.5, 16.5, 9.5, 11.5, 12.5, 9.5, 8.5, 13.5, 12.5, 18.5, 14.5, 13.5, 14.5, 10.5, 11.5, 15.5, 13.5, 14.5, 14.5, 9.5, 14.5, 12.5, 12.5, 15.5, 11.5, 13.5, 13.5, 8.5, 12.5, 17.5, 15.5, 21.5, 18.5, 11.5, 12.5, 11.5, 11.5, 12.5, 18.5, 12.5, 15.5, 20.5, 14.5, 12.5, 12.5, 11.5, 14.5, 15.5, 14.5, 14.5, 10.5, 19.5, 20.5, 13.5, 14.5, 10.5, 14.5, 13.5, 17.5, 18.5, 11.5, 14.5, 12.5, 13.5, 14.5, 10.5, 11.5, 11.5, 13.5, 13.5, 5.5, 10.5, 19.5, 16.5, 14.5, 13.5, 8.5, 10.5, 8.5, 11.5, 19.5, 13.5, 18.5, 16.5, 13.5, 11.5, 9.5, 22.5, 11.5, 10.5, 8.5, 11.5, 10.5, 10.5, 9.5, 8.5, 7.5, 15.5, 14.5, 8.5, 14.5, 20.5, 8.5, 10.5, 12.5, 7.5, 10.5, 12.5, 10.5, 6.5, 7.5, 12.5, 8.5, 11.5, 8.5, 18.5, 17.5, 19.5, 12.5, 19.5, 12.5, 11.5, 13.5, 20.5, 11.5, 12.5, 16.5, 14.5, 14.5, 15.5, 18.5, 20.5, 22.5, 24.5, 23.5, 13.5, 12.5, 24.5, 9.5, 8.5, 11.5, 8.5, 17.5, 11.5, 16.5, 14.5, 17.5, 12.5, 12.5, 11.5, 6.5, 12.5, 10.5, 5.5, 8.5, 5.5, 6.5, 14.5, 17.5, 13.5, 15.5, 10.5, 13.5, 10.5, 11.5, 12.5, 11.5, 11.5, 8.5, 8.5, 12.5, 8.5, 9.5, 10.5, 8.5, 9.5, 7.5, 5.5, 3.5, 4.5, 14.5, 16.5, 16.5, 12.5, 18.5, 11.5, 13.5, 14.5, 16.5, 12.5, 14.5, 16.5, 14.5, 19.5, 11.5, 13.5, 13.5, 15.5, 11.5, 15.5, 9.5, 15.5, 18.5, 21.5, 18.5, 18.5, 10.5, 15.5, 16.5, 14.5, 11.5, 14.5, 14.5, 21.5, 14.5, 21.5, 16.5, 14.5, 16.5, 16.5, 17.5, 18.5, 15.5, 15.5, 12.5, 14.5, 10.5, 12.5, 18.5, 12.5, 9.5, 9.5, 10.5, 11.5, 12.5, 16.5, 14.5, 16.5, 16.5, 14.5, 13.5, 11.5, 7.5, 6.5, 16.5, 10.5, 13.5, 10.5, 13.5, 11.5, 11.5, 10.5, 13.5, 13.5, 16.5, 12.5, 10.5, 12.5, 12.5, 11.5, 11.5, 10.5, 8.5, 11.5, 8.5, 7.5, 16.5, 11.5, 13.5, 13.5, 22.5, 7.5, 6.5, 8.5, 8.5, 7.5, 7.5, 7.5, 8.5, 8.5, 7.5, 8.5, 7.5, 8.5, 8.5, 7.5, 7.5, 7.5, 8.5, 7.5, 7.5, 10.5, 8.5, 8.5, 9.5, 9.5, 10.5, 9.5, 10.5, 9.5, 10.5, 10.5, 9.5, 9.5, 10.5, 12.5, 11.5, 9.5, 11.5, 11.5, 10.5, 11.5, 10.5, 11.5, 10.5, 10.5, 13.5, 11.5, 9.5, 7.5, 13.5, 12.5, 11.5, 12.5, 11.5, 10.5, 13.5, 11.5, 10.5, 13.5, 12.5, 10.5, 12.5, 12.5, 15.5, 10.5, 11.5, 10.5, 9.5, 12.5, 10.5, 18.5, 16.5, 11.5, 11.5, 13.5, 10.5, 12.5, 12.5, 12.5, 18.5, 7.5, 6.5, 4.5, 7.5, 5.5, 7.5, 5.5, 6.5, 5.5, 7.5, 6.5, 7.5, 9.5, 6.5, 7.5, 7.5, 8.5, 8.5, 6.5, 8.5, 8.5, 7.5, 8.5, 7.5, 7.5, 8.5, 8.5, 7.5, 7.5, 6.5, 7.5, 7.5, 7.5, 8.5, 8.5, 9.5, 7.5, 7.5, 8.5, 7.5, 8.5, 8.5, 9.5, 8.5, 8.5, 8.5, 7.5, 8.5, 8.5, 8.5, 8.5, 8.5, 7.5, 9.5, 9.5, 10.5, 7.5, 7.5, 7.5, 9.5, 8.5, 8.5, 9.5, 9.5, 8.5, 7.5, 9.5, 8.5, 8.5, 10.5, 9.5, 10.5, 9.5, 9.5, 8.5, 8.5, 9.5, 9.5, 9.5, 8.5, 9.5, 12.5, 9.5, 9.5, 8.5, 9.5, 9.5, 9.5, 10.5, 10.5, 10.5, 9.5, 11.5, 11.5, 9.5, 9.5, 8.5, 10.5, 10.5, 8.5, 9.5, 11.5, 9.5, 10.5, 12.5, 9.5, 9.5, 12.5, 12.5, 10.5, 10.5, 10.5, 10.5, 10.5, 12.5, 12.5, 11.5, 9.5, 12.5, 11.5, 11.5, 11.5, 10.5, 10.5, 9.5, 12.5, 9.5, 12.5, 11.5, 11.5, 12.5, 11.5, 11.5, 12.5, 9.5, 9.5, 12.5, 11.5, 11.5, 10.5, 12.5, 11.5, 10.5, 11.5, 12.5, 10.5, 11.5, 7.5, 12.5, 11.5, 13.5, 13.5, 9.5, 11.5, 11.5, 13.5, 12.5, 11.5, 12.5, 12.5, 13.5, 5.5, 4.5, 5.5, 5.5, 5.5, 5.5, 6.5, 8.5, 7.5, 6.5, 6.5, 7.5, 7.5, 7.5, 6.5, 7.5, 7.5, 7.5, 8.5, 7.5, 8.5, 8.5, 7.5, 8.5, 8.5, 7.5, 8.5, 8.5, 7.5, 8.5, 8.5, 8.5, 8.5, 9.5, 9.5, 7.5, 8.5, 7.5, 7.5, 8.5, 8.5, 7.5, 7.5, 8.5, 9.5, 8.5, 8.5, 10.5, 9.5, 7.5, 8.5, 9.5, 7.5, 10.5, 9.5, 9.5, 10.5, 9.5, 9.5, 8.5, 9.5, 10.5, 10.5, 9.5, 9.5, 10.5, 11.5, 8.5, 10.5, 10.5, 9.5, 9.5, 11.5, 10.5, 9.5, 9.5, 9.5, 10.5, 9.5, 10.5, 10.5, 9.5, 9.5, 8.5, 11.5, 10.5, 10.5, 10.5, 11.5, 10.5, 10.5, 9.5, 10.5, 10.5, 10.5, 9.5, 10.5, 10.5, 8.5, 9.5, 10.5, 9.5, 9.5, 11.5, 10.5, 10.5, 11.5, 10.5, 9.5, 10.5, 10.5, 11.5, 10.5, 10.5, 9.5, 9.5, 9.5, 10.5, 9.5, 9.5, 11.5, 10.5, 11.5, 11.5, 11.5, 10.5, 12.5, 12.5, 11.5, 12.5, 9.5, 10.5, 10.5, 15.5, 11.5, 10.5, 13.5, 10.5, 11.5, 10.5, 13.5, 10.5, 10.5, 12.5, 13.5, 11.5, 11.5, 11.5, 9.5, 13.5, 13.5, 12.5, 12.5, 12.5, 12.5, 11.5, 12.5, 7.5, 5.5, 6.5, 6.5, 7.5, 6.5, 6.5, 6.5, 6.5, 7.5, 8.5, 6.5, 8.5, 7.5, 7.5, 6.5, 7.5, 9.5, 5.5, 7.5, 8.5, 8.5, 8.5, 7.5, 6.5, 8.5, 7.5, 7.5, 9.5, 8.5, 7.5, 9.5, 10.5, 9.5, 8.5, 6.5, 8.5, 9.5, 9.5, 6.5, 6.5, 7.5, 8.5, 7.5, 8.5, 8.5, 8.5, 9.5, 9.5, 8.5, 10.5, 10.5, 9.5, 9.5, 9.5, 8.5, 10.5, 9.5, 12.5, 9.5, 9.5, 9.5, 9.5, 9.5, 9.5, 10.5, 9.5, 9.5, 9.5, 8.5, 9.5, 10.5, 10.5, 10.5, 10.5, 8.5, 10.5, 9.5, 8.5, 9.5, 8.5, 14.5, 10.5, 11.5, 10.5, 10.5, 10.5, 10.5, 11.5, 10.5, 10.5, 10.5, 9.5, 10.5, 10.5, 11.5, 10.5, 9.5, 10.5, 11.5, 9.5, 12.5, 10.5, 10.5, 11.5, 10.5, 10.5, 11.5, 10.5, 10.5, 10.5, 10.5, 11.5, 10.5, 12.5, 9.5, 9.5, 12.5, 11.5, 9.5, 10.5, 11.5, 11.5, 10.5, 11.5, 10.5, 11.5, 11.5, 11.5, 9.5, 10.5, 11.5, 11.5, 11.5, 11.5, 11.5, 9.5, 10.5, 10.5, 11.5, 11.5, 13.5, 11.5, 12.5, 11.5, 12.5, 11.5, 12.5, 12.5, 11.5, 12.5, 10.5, 13.5, 11.5, 13.5, 11.5, 10.5, 11.5, 11.5, 11.5, 11.5, 11.5, 13.5, 11.5, 10.5, 11.5, 11.5, 13.5, 11.5, 11.5, 10.5, 12.5, 10.5, 13.5, 10.5, 12.5, 13.5, 11.5, 13.5, 11.5, 10.5, 10.5, 11.5, 11.5, 16.5, 11.5, 12.5, 11.5, 12.5, 12.5, 12.5, 12.5, 10.5, 11.5, 11.5, 14.5, 11.5, 11.5, 11.5, 11.5, 11.5, 12.5, 11.5, 14.5, 10.5, 12.5, 13.5, 11.5, 12.5, 13.5, 12.5, 14.5, 13.5, 12.5, 12.5, 13.5, 10.5, 15.5, 15.5, 4.5, 5.5, 8.5, 6.5, 7.5, 8.5, 6.5, 6.5, 7.5, 8.5, 9.5, 8.5, 7.5, 6.5, 10.5, 7.5, 7.5, 6.5, 9.5, 10.5, 7.5, 8.5, 9.5, 10.5, 7.5, 7.5, 9.5, 8.5, 8.5, 8.5, 7.5, 9.5, 7.5, 8.5, 10.5, 10.5, 9.5, 9.5, 8.5, 9.5, 9.5, 10.5, 9.5, 10.5, 9.5, 10.5, 9.5, 10.5, 9.5, 10.5, 9.5, 10.5, 10.5, 9.5, 9.5, 10.5, 9.5, 10.5, 9.5, 10.5, 12.5, 10.5, 10.5, 12.5, 9.5, 11.5, 9.5, 10.5, 11.5, 12.5, 10.5, 11.5, 10.5, 12.5, 11.5, 11.5, 9.5, 10.5, 11.5, 12.5, 12.5, 11.5, 11.5, 10.5, 9.5, 12.5, 12.5, 11.5, 11.5, 12.5, 11.5, 11.5, 13.5, 12.5, 13.5, 12.5, 12.5, 11.5, 13.5, 14.5, 11.5, 12.5, 6.5, 6.5, 7.5, 7.5, 7.5, 6.5, 6.5, 7.5, 8.5, 9.5, 8.5, 8.5, 8.5, 7.5, 8.5, 8.5, 7.5, 9.5, 8.5, 9.5, 8.5, 8.5, 8.5, 9.5, 9.5, 8.5, 9.5, 8.5, 8.5, 7.5, 9.5, 8.5, 11.5, 8.5, 8.5, 10.5, 9.5, 9.5, 9.5, 8.5, 9.5, 10.5, 9.5, 9.5, 8.5, 9.5, 9.5, 9.5, 9.5, 9.5, 9.5, 10.5, 8.5, 7.5, 10.5, 11.5, 9.5, 9.5, 10.5, 8.5, 9.5, 10.5, 9.5, 8.5, 10.5, 8.5, 11.5, 10.5, 12.5, 8.5, 10.5, 10.5, 10.5, 11.5, 10.5, 11.5, 9.5, 10.5, 9.5, 9.5, 11.5, 10.5, 13.5, 9.5, 9.5, 10.5, 9.5, 12.5, 11.5, 9.5, 11.5, 10.5, 10.5, 10.5, 11.5, 9.5, 10.5, 10.5, 11.5, 10.5, 13.5, 9.5, 11.5, 11.5, 10.5, 11.5, 9.5, 10.5, 11.5, 9.5, 10.5, 14.5, 9.5, 11.5, 11.5, 10.5, 11.5, 11.5, 11.5, 12.5, 9.5, 11.5, 11.5, 9.5, 9.5, 10.5, 10.5, 9.5, 11.5, 10.5, 11.5, 10.5, 9.5, 10.5, 9.5, 10.5, 12.5, 11.5, 11.5, 13.5, 10.5, 11.5, 10.5, 10.5, 8.5, 11.5, 10.5, 13.5, 13.5, 14.5, 12.5, 12.5, 13.5, 10.5, 11.5, 13.5, 10.5, 12.5, 11.5, 10.5, 13.5, 11.5, 10.5, 10.5, 9.5, 12.5, 11.5, 12.5, 14.5, 13.5, 11.5, 10.5, 11.5, 11.5, 12.5, 11.5, 13.5, 15.5, 10.5, 11.5, 10.5, 10.5, 11.5, 11.5, 10.5, 13.5, 10.5, 12.5, 12.5, 10.5, 11.5, 10.5, 13.5, 12.5, 10.5, 13.5, 11.5, 15.5, 12.5, 12.5, 12.5, 13.5, 10.5, 13.5, 12.5, 14.5, 11.5, 12.5, 14.5, 11.5, 11.5, 12.5, 12.5, 12.5, 13.5, 11.5, 16.5, 12.5, 12.5, 13.5, 11.5, 12.5, 11.5, 14.5, 8.5, 15.5, 12.5, 12.5, 13.5, 12.5, 13.5, 13.5, 13.5, 6.5, 7.5, 8.5, 8.5, 9.5, 8.5, 7.5, 9.5, 9.5, 11.5, 8.5, 9.5, 10.5, 10.5, 9.5, 10.5, 10.5, 9.5, 11.5, 8.5, 9.5, 9.5, 9.5, 9.5, 11.5, 10.5, 11.5, 11.5, 10.5, 11.5, 11.5, 11.5, 11.5, 9.5, 12.5, 10.5, 10.5, 11.5, 12.5, 11.5, 11.5, 10.5, 12.5, 12.5, 11.5, 9.5, 10.5, 12.5, 11.5, 10.5, 11.5, 12.5, 11.5, 10.5, 11.5, 12.5, 14.5, 10.5, 12.5, 12.5, 6.5, 5.5, 8.5, 7.5, 8.5, 7.5, 8.5, 7.5, 9.5, 7.5, 8.5, 8.5, 7.5, 7.5, 9.5, 12.5, 9.5, 8.5, 8.5, 9.5, 8.5, 9.5, 8.5, 9.5, 10.5, 8.5, 9.5, 10.5, 9.5, 9.5, 9.5, 10.5, 12.5, 9.5, 11.5, 11.5, 11.5, 9.5, 9.5, 10.5, 10.5, 8.5, 11.5, 10.5, 9.5, 10.5, 9.5, 10.5, 10.5, 10.5, 10.5, 10.5, 10.5, 9.5, 11.5, 10.5, 11.5, 7.5, 9.5, 9.5, 8.5, 10.5, 10.5, 10.5, 12.5, 8.5, 12.5, 10.5, 10.5, 11.5, 12.5, 12.5, 10.5, 14.5, 10.5, 10.5, 10.5, 11.5, 12.5, 11.5, 10.5, 11.5, 12.5, 10.5, 10.5, 10.5, 11.5, 11.5, 11.5, 10.5, 11.5, 12.5, 12.5, 11.5, 12.5, 11.5, 10.5, 11.5, 9.5, 11.5, 9.5, 12.5, 12.5, 10.5, 13.5, 11.5, 12.5, 10.5, 12.5, 16.5, 10.5, 13.5, 12.5, 10.5, 11.5, 12.5, 12.5, 12.5, 10.5, 12.5, 12.5, 12.5, 13.5, 13.5, 11.5, 12.5, 11.5, 11.5, 11.5, 10.5, 12.5, 13.5, 12.5, 17.5, 11.5, 14.5, 11.5, 12.5, 11.5, 10.5, 11.5, 12.5, 11.5, 13.5, 13.5, 13.5, 12.5, 12.5, 13.5, 11.5, 11.5, 12.5, 14.5, 14.5, 13.5, 14.5, 11.5, 13.5, 12.5, 12.5, 12.5, 14.5, 5.5, 5.5, 6.5, 7.5, 8.5, 7.5, 6.5, 7.5, 7.5, 7.5, 8.5, 7.5, 8.5, 7.5, 10.5, 7.5, 8.5, 7.5, 8.5, 8.5, 8.5, 9.5, 8.5, 9.5, 8.5, 9.5, 8.5, 11.5, 11.5, 9.5, 10.5, 13.5, 11.5, 10.5, 10.5, 10.5, 10.5, 10.5, 12.5, 11.5, 10.5, 10.5, 11.5, 10.5, 11.5, 11.5, 13.5, 11.5, 15.5, 10.5, 6.5, 6.5, 6.5, 7.5, 9.5, 9.5, 9.5, 8.5, 8.5, 9.5, 8.5, 7.5, 10.5, 9.5, 9.5, 9.5, 9.5, 8.5, 8.5, 10.5, 8.5, 9.5, 9.5, 9.5, 10.5, 9.5, 8.5, 9.5, 9.5, 9.5, 11.5, 10.5, 10.5, 10.5, 12.5, 10.5, 9.5, 8.5, 12.5, 10.5, 11.5, 9.5, 9.5, 10.5, 10.5, 9.5, 11.5, 12.5, 13.5, 11.5, 11.5, 12.5, 13.5, 11.5, 18.5, 9.5, 11.5, 12.5, 8.5, 8.5, 12.5, 8.5, 9.5, 11.5, 11.5, 20.5, 10.5, 10.5, 12.5, 11.5, 15.5, 16.5, 28.5, 14.5, 6.5, 10.5, 9.5, 8.5, 5.5, 4.5, 7.5, 8.5, 9.5, 10.5, 8.5, 10.5, 12.5, 7.5, 8.5, 9.5, 11.5, 8.5, 13.5, 13.5, 10.5, 7.5, 11.5, 10.5, 9.5, 13.5, 10.5, 11.5, 17.5, 15.5, 11.5, 8.5, 10.5, 11.5, 10.5, 10.5, 12.5, 13.5, 9.5, 8.5, 11.5, 19.5, 9.5, 6.5, 11.5, 17.5, 13.5, 18.5, 15.5, 13.5, 20.5, 18.5, 12.5, 10.5, 6.5, 10.5, 7.5, 6.5, 7.5, 5.5, 8.5, 7.5, 6.5, 11.5, 14.5, 13.5, 21.5, 15.5, 16.5, 15.5, 22.5, 17.5, 14.5, 7.5, 7.5, 10.5, 10.5, 15.5, 13.5, 11.5, 12.5, 16.5, 15.5, 7.5, 14.5, 6.5, 12.5, 11.5, 7.5, 22.5, 14.5, 26.5, 20.5, 19.5, 8.5, 7.5, 6.5, 9.5, 17.5, 28.5, 19.5, 18.5, 14.5, 18.5, 9.5, 11.5, 8.5, 14.5, 15.5, 14.5, 9.5, 18.5, 14.5, 15.5, 10.5, 14.5, 8.5, 8.5, 13.5, 8.5, 14.5, 10.5, 10.5, 18.5, 15.5, 14.5, 16.5, 18.5, 9.5, 9.5, 13.5, 12.5, 8.5, 11.5, 12.5, 10.5, 11.5, 10.5, 7.5, 13.5, 12.5, 14.5, 15.5, 12.5, 15.5, 13.5, 9.5, 14.5, 9.5, 14.5, 11.5, 12.5, 18.5, 14.5, 15.5, 14.5, 15.5, 16.5, 14.5, 13.5, 19.5, 15.5, 16.5, 14.5, 16.5, 21.5, 15.5, 20.5, 10.5, 11.5, 10.5, 9.5, 11.5, 8.5, 10.5, 10.5, 10.5, 8.5, 7.5, 11.5, 7.5, 11.5, 10.5, 7.5, 13.5, 11.5, 14.5, 9.5, 8.5, 9.5, 11.5, 11.5, 10.5, 12.5, 12.5, 24.5, 13.5, 17.5, 12.5, 14.5, 14.5, 8.5, 9.5, 17.5, 15.5, 18.5, 14.5, 14.5, 13.5, 16.5, 11.5, 15.5, 13.5, 9.5, 18.5, 11.5, 12.5, 14.5, 16.5, 16.5, 10.5, 16.5, 10.5, 14.5, 24.5, 24.5, 19.5, 12.5, 18.5, 18.5, 12.5, 8.5, 7.5, 7.5, 22.5, 18.5, 14.5, 12.5, 17.5, 10.5, 13.5, 20.5, 19.5, 18.5, 12.5, 14.5, 14.5, 18.5, 21.5, 14.5, 12.5, 13.5, 19.5, 19.5, 16.5, 13.5, 20.5, 16.5, 17.5, 13.5, 9.5, 4.5, 13.5, 13.5, 13.5, 11.5, 9.5, 13.5, 13.5, 11.5, 6.5, 6.5, 12.5, 17.5, 12.5, 13.5, 15.5, 12.5, 11.5, 12.5, 17.5, 11.5, 11.5, 8.5, 15.5, 15.5, 15.5, 18.5, 15.5, 18.5, 14.5, 13.5, 17.5, 11.5, 16.5, 16.5, 11.5, 13.5, 16.5, 9.5, 11.5, 10.5, 8.5, 13.5, 10.5, 11.5, 19.5, 12.5, 19.5, 11.5, 14.5, 16.5, 13.5, 11.5, 7.5, 14.5, 15.5, 7.5, 11.5, 10.5, 12.5, 19.5, 12.5, 17.5, 17.5, 15.5, 24.5, 10.5, 17.5, 10.5, 14.5, 11.5, 10.5, 12.5, 10.5, 13.5, 15.5, 7.5, 8.5, 10.5, 11.5, 11.5, 10.5, 9.5, 6.5, 7.5, 6.5, 6.5, 5.5, 21.5, 15.5, 14.5, 9.5, 18.5, 12.5, 12.5, 10.5, 17.5, 9.5, 14.5, 12.5, 21.5, 15.5, 15.5, 15.5, 13.5, 19.5, 14.5, 9.5, 15.5, 14.5, 9.5, 13.5, 15.5, 15.5, 9.5, 14.5, 12.5, 15.5, 16.5, 8.5, 11.5, 12.5, 9.5, 10.5, 13.5, 16.5, 13.5, 16.5, 20.5, 13.5, 10.5, 6.5, 7.5, 7.5, 7.5, 8.5, 8.5, 7.5, 7.5, 9.5, 7.5, 9.5, 9.5, 9.5, 9.5, 11.5, 8.5, 9.5, 8.5, 10.5, 10.5, 12.5, 10.5, 12.5, 10.5, 10.5, 11.5, 10.5, 9.5, 10.5, 11.5, 11.5, 11.5, 13.5, 12.5, 13.5, 12.5, 16.5, 14.5, 14.5, 10.5, 15.5, 11.5, 11.5, 5.5, 5.5, 6.5, 5.5, 6.5, 6.5, 7.5, 7.5, 8.5, 8.5, 7.5, 7.5, 8.5, 7.5, 8.5, 8.5, 7.5, 7.5, 8.5, 7.5, 9.5, 8.5, 7.5, 8.5, 7.5, 8.5, 10.5, 8.5, 9.5, 9.5, 8.5, 8.5, 8.5, 10.5, 8.5, 9.5, 7.5, 7.5, 9.5, 10.5, 9.5, 8.5, 10.5, 9.5, 8.5, 9.5, 9.5, 8.5, 10.5, 10.5, 12.5, 9.5, 9.5, 10.5, 9.5, 11.5, 11.5, 9.5, 10.5, 11.5, 10.5, 11.5, 10.5, 9.5, 12.5, 10.5, 9.5, 12.5, 12.5, 10.5, 13.5, 10.5, 10.5, 14.5, 9.5, 11.5, 13.5, 14.5, 11.5, 13.5, 11.5, 5.5, 6.5, 6.5, 7.5, 7.5, 7.5, 9.5, 7.5, 8.5, 8.5, 8.5, 8.5, 8.5, 7.5, 8.5, 8.5, 8.5, 9.5, 9.5, 9.5, 8.5, 9.5, 10.5, 8.5, 9.5, 9.5, 10.5, 10.5, 10.5, 8.5, 8.5, 10.5, 9.5, 9.5, 9.5, 10.5, 10.5, 10.5, 10.5, 9.5, 9.5, 8.5, 9.5, 9.5, 10.5, 9.5, 9.5, 10.5, 10.5, 11.5, 11.5, 10.5, 8.5, 10.5, 11.5, 10.5, 11.5, 12.5, 10.5, 11.5, 12.5, 11.5, 9.5, 10.5, 10.5, 10.5, 10.5, 10.5, 11.5, 10.5, 10.5, 11.5, 10.5, 12.5, 14.5, 14.5, 12.5, 12.5, 11.5, 14.5, 12.5, 10.5, 12.5, 13.5, 12.5, 4.5, 5.5, 5.5, 6.5, 7.5, 7.5, 7.5, 8.5, 6.5, 8.5, 9.5, 8.5, 8.5, 9.5, 9.5, 8.5, 8.5, 9.5, 8.5, 7.5, 9.5, 9.5, 8.5, 9.5, 9.5, 8.5, 10.5, 9.5, 8.5, 9.5, 9.5, 9.5, 8.5, 12.5, 9.5, 9.5, 11.5, 10.5, 10.5, 9.5, 10.5, 8.5, 9.5, 9.5, 11.5, 9.5, 10.5, 11.5, 9.5, 11.5, 11.5, 10.5, 11.5, 10.5, 12.5, 9.5, 11.5, 12.5, 12.5, 11.5, 10.5, 11.5, 12.5, 10.5, 11.5, 11.5, 10.5, 9.5, 10.5, 11.5, 11.5, 9.5, 12.5, 10.5, 10.5, 11.5, 12.5, 11.5, 10.5, 11.5, 11.5, 11.5, 13.5, 11.5, 13.5, 11.5, 12.5, 11.5, 11.5, 12.5, 11.5, 10.5, 13.5, 10.5, 12.5, 10.5, 14.5, 10.5, 12.5, 11.5, 10.5, 6.5, 5.5, 5.5, 8.5, 7.5, 8.5, 9.5, 6.5, 7.5, 8.5, 8.5, 8.5, 8.5, 9.5, 10.5, 9.5, 10.5, 8.5, 10.5, 8.5, 10.5, 10.5, 9.5, 9.5, 10.5, 9.5, 10.5, 11.5, 10.5, 10.5, 10.5, 11.5, 11.5, 11.5, 11.5, 9.5, 10.5, 11.5, 11.5, 13.5, 10.5, 9.5, 12.5, 12.5, 12.5, 12.5, 12.5, 12.5, 11.5, 13.5, 11.5, 12.5, 7.5, 5.5, 6.5, 7.5, 8.5, 6.5, 8.5, 8.5, 9.5, 7.5, 9.5, 8.5, 8.5, 10.5, 9.5, 9.5, 9.5, 9.5, 10.5, 9.5, 10.5, 9.5, 9.5, 10.5, 9.5, 9.5, 9.5, 9.5, 11.5, 9.5, 12.5, 11.5, 9.5, 11.5, 9.5, 9.5, 10.5, 9.5, 10.5, 9.5, 10.5, 9.5, 9.5, 11.5, 10.5, 10.5, 12.5, 12.5, 10.5, 10.5, 10.5, 11.5, 11.5, 11.5, 10.5, 11.5, 11.5, 10.5, 12.5, 14.5, 10.5, 11.5, 12.5, 13.5, 12.5, 12.5, 12.5, 10.5, 11.5, 11.5, 10.5, 11.5, 12.5, 11.5, 12.5, 11.5, 11.5, 11.5, 10.5, 11.5, 8.5, 12.5, 12.5, 11.5, 9.5, 12.5, 12.5, 12.5, 13.5, 12.5, 13.5, 16.5, 13.5, 12.5, 13.5, 14.5, 11.5, 11.5, 10.5, 13.5, 10.5, 10.5, 11.5, 12.5, 13.5, 11.5, 14.5, 12.5, 14.5, 13.5, 13.5, 7.5, 9.5, 7.5, 9.5, 9.5, 8.5, 9.5, 10.5, 9.5, 11.5, 9.5, 14.5, 11.5, 10.5, 10.5, 10.5, 9.5, 9.5, 12.5, 10.5, 10.5, 11.5, 10.5, 10.5, 12.5, 10.5, 12.5, 11.5, 11.5, 12.5, 14.5, 12.5, 15.5, 13.5, 5.5, 7.5, 9.5, 8.5, 9.5, 7.5, 7.5, 8.5, 9.5, 10.5, 9.5, 9.5, 10.5, 9.5, 9.5, 10.5, 8.5, 9.5, 9.5, 8.5, 12.5, 12.5, 9.5, 10.5, 9.5, 11.5, 11.5, 12.5, 10.5, 10.5, 11.5, 11.5, 10.5, 9.5, 11.5, 10.5, 11.5, 12.5, 10.5, 9.5, 10.5, 13.5, 10.5, 10.5, 12.5, 13.5, 12.5, 12.5, 14.5, 12.5, 12.5, 12.5, 11.5, 12.5, 10.5, 10.5, 12.5, 10.5, 12.5, 13.5, 12.5, 10.5, 12.5, 11.5, 11.5, 12.5, 12.5, 12.5, 11.5, 12.5, 12.5, 14.5, 15.5, 12.5, 5.5, 6.5, 7.5, 8.5, 8.5, 9.5, 9.5, 11.5, 11.5, 12.5, 12.5, 10.5, 10.5, 10.5, 12.5, 9.5, 10.5, 11.5, 12.5, 9.5, 12.5, 11.5, 6.5, 6.5, 6.5, 8.5, 8.5, 9.5, 9.5, 8.5, 8.5, 8.5, 7.5, 11.5, 9.5, 9.5, 11.5, 10.5, 8.5, 9.5, 10.5, 11.5, 11.5, 12.5, 10.5, 11.5, 11.5, 12.5, 12.5, 11.5, 10.5, 9.5, 10.5, 12.5, 11.5, 11.5, 12.5, 21.5, 6.5, 6.5, 5.5, 10.5, 14.5, 15.5, 14.5, 13.5, 25.5, 11.5, 22.5, 12.5, 10.5, 8.5, 10.5, 11.5, 10.5, 10.5, 7.5, 8.5, 7.5, 16.5, 10.5, 14.5, 10.5, 19.5, 16.5, 16.5, 11.5, 15.5, 14.5, 12.5, 7.5, 10.5, 12.5, 13.5, 16.5, 9.5, 9.5, 8.5, 12.5, 11.5, 12.5, 14.5, 12.5, 7.5, 9.5, 17.5, 8.5, 6.5, 14.5, 15.5, 21.5, 13.5, 19.5, 6.5, 8.5, 12.5, 10.5, 11.5, 7.5, 18.5, 18.5, 16.5, 10.5, 9.5, 16.5, 10.5, 15.5, 13.5, 11.5, 15.5, 14.5, 15.5, 12.5, 17.5, 11.5, 15.5, 17.5, 12.5, 10.5, 19.5, 9.5, 17.5, 10.5, 11.5, 14.5, 10.5, 13.5, 12.5, 13.5, 14.5, 13.5, 14.5, 15.5, 9.5, 19.5, 15.5, 16.5, 16.5, 15.5, 16.5, 15.5, 20.5, 14.5, 14.5, 16.5, 12.5, 7.5, 10.5, 9.5, 13.5, 7.5, 8.5, 6.5, 13.5, 10.5, 8.5, 19.5, 14.5, 13.5, 15.5, 18.5, 13.5, 15.5, 12.5, 11.5, 12.5, 13.5, 14.5, 18.5, 12.5, 14.5, 19.5, 13.5, 13.5, 16.5, 13.5, 19.5, 25.5, 12.5, 14.5, 12.5, 12.5, 14.5, 15.5, 13.5, 16.5, 16.5, 13.5, 10.5, 12.5, 14.5, 15.5, 15.5, 15.5, 18.5, 14.5, 17.5, 17.5, 12.5, 16.5, 13.5, 17.5, 17.5, 11.5, 10.5, 6.5, 10.5, 14.5, 13.5, 18.5, 12.5, 12.5, 10.5, 17.5, 8.5, 5.5, 20.5, 17.5, 12.5, 16.5, 13.5, 13.5, 11.5, 13.5, 17.5, 14.5, 11.5, 11.5, 12.5, 14.5, 13.5, 9.5, 13.5, 12.5, 16.5, 17.5, 13.5, 18.5, 13.5, 15.5, 14.5, 14.5, 13.5, 15.5, 12.5, 14.5, 11.5, 12.5, 14.5, 16.5, 9.5, 11.5, 11.5, 7.5, 9.5, 6.5, 21.5, 20.5, 10.5, 10.5, 11.5, 12.5, 12.5, 6.5, 18.5, 14.5, 18.5, 13.5, 11.5, 17.5, 20.5, 11.5, 11.5, 7.5, 6.5, 9.5, 9.5, 6.5, 20.5, 16.5, 15.5, 8.5, 14.5, 14.5, 19.5, 14.5, 17.5, 11.5, 14.5, 20.5, 11.5, 14.5, 14.5, 19.5, 13.5, 10.5, 9.5, 11.5, 19.5, 14.5, 10.5, 9.5, 8.5, 9.5, 7.5, 8.5, 8.5, 7.5, 8.5, 9.5, 10.5, 8.5, 10.5, 8.5, 10.5, 9.5, 9.5, 11.5, 12.5, 10.5, 12.5, 11.5, 11.5, 14.5, 14.5, 5.5, 7.5, 7.5, 6.5, 7.5, 7.5, 7.5, 8.5, 7.5, 9.5, 7.5, 9.5, 8.5, 8.5, 9.5, 8.5, 10.5, 9.5, 9.5, 9.5, 8.5, 8.5, 8.5, 9.5, 9.5, 9.5, 9.5, 10.5, 13.5, 11.5, 9.5, 9.5, 10.5, 12.5, 11.5, 12.5, 11.5, 10.5, 10.5, 11.5, 12.5, 11.5, 12.5, 10.5, 4.5, 5.5, 7.5, 7.5, 8.5, 7.5, 8.5, 8.5, 9.5, 7.5, 8.5, 8.5, 9.5, 8.5, 9.5, 9.5, 9.5, 9.5, 11.5, 9.5, 9.5, 9.5, 10.5, 9.5, 9.5, 10.5, 11.5, 10.5, 9.5, 13.5, 11.5, 12.5, 11.5, 11.5, 10.5, 12.5, 10.5, 11.5, 10.5, 12.5, 12.5, 10.5, 11.5, 13.5, 12.5, 12.5, 12.5, 11.5, 12.5, 4.5, 5.5, 5.5, 7.5, 7.5, 7.5, 8.5, 7.5, 7.5, 8.5, 8.5, 8.5, 7.5, 7.5, 10.5, 9.5, 7.5, 8.5, 9.5, 9.5, 9.5, 9.5, 9.5, 10.5, 9.5, 8.5, 10.5, 8.5, 10.5, 9.5, 10.5, 9.5, 10.5, 9.5, 9.5, 10.5, 9.5, 11.5, 11.5, 11.5, 10.5, 9.5, 9.5, 10.5, 10.5, 10.5, 11.5, 11.5, 12.5, 10.5, 10.5, 10.5, 11.5, 10.5, 9.5, 12.5, 12.5, 11.5, 10.5, 11.5, 10.5, 11.5, 10.5, 12.5, 10.5, 12.5, 11.5, 13.5, 12.5, 12.5, 10.5, 12.5, 9.5, 13.5, 12.5, 11.5, 12.5, 13.5, 13.5, 5.5, 9.5, 6.5, 8.5, 9.5, 9.5, 8.5, 9.5, 8.5, 10.5, 10.5, 11.5, 11.5, 12.5, 12.5, 10.5, 15.5, 10.5, 12.5, 13.5, 10.5, 9.5, 11.5, 11.5, 10.5, 11.5, 11.5, 11.5, 14.5, 7.5, 8.5, 6.5, 6.5, 6.5, 7.5, 7.5, 9.5, 7.5, 9.5, 9.5, 8.5, 10.5, 9.5, 9.5, 8.5, 10.5, 10.5, 9.5, 10.5, 10.5, 9.5, 11.5, 11.5, 10.5, 10.5, 10.5, 12.5, 8.5, 11.5, 10.5, 11.5, 11.5, 9.5, 10.5, 10.5, 10.5, 9.5, 12.5, 11.5, 10.5, 9.5, 11.5, 11.5, 11.5, 13.5, 11.5, 11.5, 12.5, 11.5, 11.5, 10.5, 12.5, 12.5, 11.5, 12.5, 11.5, 15.5, 12.5, 12.5, 10.5, 14.5, 13.5, 12.5, 12.5, 11.5, 11.5, 14.5, 13.5, 11.5, 12.5, 11.5, 11.5, 12.5, 12.5, 12.5, 10.5, 12.5, 12.5, 10.5, 11.5, 12.5, 12.5, 11.5, 12.5, 12.5, 12.5, 6.5, 8.5, 8.5, 8.5, 8.5, 10.5, 10.5, 10.5, 8.5, 10.5, 9.5, 8.5, 11.5, 10.5, 10.5, 10.5, 11.5, 11.5, 11.5, 10.5, 11.5, 10.5, 10.5, 10.5, 12.5, 13.5, 14.5, 13.5, 6.5, 6.5, 8.5, 7.5, 7.5, 8.5, 9.5, 8.5, 9.5, 9.5, 9.5, 9.5, 10.5, 11.5, 10.5, 10.5, 10.5, 11.5, 9.5, 12.5, 11.5, 10.5, 11.5, 11.5, 10.5, 10.5, 10.5, 11.5, 10.5, 10.5, 10.5, 9.5, 14.5, 10.5, 10.5, 11.5, 11.5, 11.5, 12.5, 13.5, 12.5, 10.5, 11.5, 13.5, 9.5, 11.5, 11.5, 12.5, 14.5, 15.5, 11.5, 13.5, 12.5, 14.5, 11.5, 12.5, 13.5, 4.5, 7.5, 8.5, 8.5, 10.5, 9.5, 9.5, 11.5, 9.5, 9.5, 10.5, 13.5, 9.5, 7.5, 9.5, 9.5, 9.5, 10.5, 9.5, 11.5, 11.5, 10.5, 10.5, 8.5, 12.5, 11.5, 12.5, 12.5, 13.5, 15.5, 11.5, 15.5, 12.5, 7.5, 8.5, 10.5, 5.5, 9.5, 9.5, 10.5, 12.5, 10.5, 17.5, 15.5, 12.5, 7.5, 10.5, 15.5, 7.5, 8.5, 11.5, 13.5, 10.5, 12.5, 9.5, 10.5, 17.5, 13.5, 10.5, 15.5, 15.5, 11.5, 19.5, 6.5, 20.5, 11.5, 16.5, 9.5, 10.5, 16.5, 13.5, 10.5, 6.5, 13.5, 10.5, 17.5, 16.5, 11.5, 16.5, 8.5, 11.5, 16.5, 11.5, 10.5, 8.5, 8.5, 10.5, 13.5, 13.5, 17.5, 13.5, 14.5, 10.5, 13.5, 14.5, 15.5, 18.5, 11.5, 5.5, 16.5, 13.5, 5.5, 17.5, 17.5, 7.5, 5.5, 14.5, 10.5, 11.5, 14.5, 11.5, 16.5, 12.5, 20.5, 12.5, 11.5, 14.5, 19.5, 12.5, 9.5, 11.5, 11.5, 13.5, 21.5, 9.5, 15.5, 13.5, 11.5, 17.5, 22.5, 18.5, 12.5, 7.5, 6.5, 12.5, 14.5, 14.5, 11.5, 15.5, 12.5, 16.5, 12.5, 15.5, 21.5, 7.5, 14.5, 17.5, 13.5, 14.5, 14.5, 14.5, 6.5, 9.5, 8.5, 10.5, 13.5, 11.5, 10.5, 12.5, 12.5, 11.5, 11.5, 5.5, 6.5, 7.5, 7.5, 7.5, 7.5, 7.5, 7.5, 7.5, 9.5, 8.5, 9.5, 7.5, 8.5, 8.5, 9.5, 7.5, 8.5, 9.5, 7.5, 7.5, 11.5, 12.5, 11.5, 12.5, 9.5, 12.5, 11.5, 10.5, 11.5, 13.5, 5.5, 6.5, 7.5, 7.5, 7.5, 7.5, 8.5, 7.5, 9.5, 9.5, 11.5, 10.5, 10.5, 12.5, 13.5, 9.5, 10.5, 10.5, 9.5, 9.5, 11.5, 11.5, 10.5, 12.5, 9.5, 11.5, 12.5, 11.5, 12.5, 7.5, 7.5, 8.5, 8.5, 7.5, 9.5, 8.5, 8.5, 9.5, 9.5, 11.5, 8.5, 12.5, 9.5, 11.5, 12.5, 12.5, 13.5, 11.5, 11.5, 9.5, 11.5, 10.5, 12.5, 12.5, 14.5, 10.5, 10.5, 11.5, 14.5, 11.5, 11.5, 10.5, 12.5, 12.5, 11.5, 9.5, 9.5, 11.5, 10.5, 12.5, 10.5, 7.5, 8.5, 7.5, 8.5, 9.5, 8.5, 9.5, 9.5, 10.5, 9.5, 9.5, 9.5, 10.5, 11.5, 9.5, 9.5, 12.5, 10.5, 11.5, 11.5, 12.5, 9.5, 11.5, 10.5, 10.5, 12.5, 13.5, 12.5, 12.5, 14.5, 12.5, 13.5, 10.5, 10.5, 10.5, 10.5, 12.5, 12.5, 11.5, 12.5, 10.5, 12.5, 8.5, 8.5, 9.5, 10.5, 9.5, 10.5, 9.5, 10.5, 11.5, 10.5, 10.5, 10.5, 5.5, 8.5, 10.5, 9.5, 9.5, 9.5, 10.5, 12.5, 11.5, 9.5, 11.5, 11.5, 12.5, 11.5, 12.5, 10.5, 12.5, 10.5, 12.5, 12.5, 11.5, 11.5, 12.5, 14.5, 14.5, 12.5, 12.5, 11.5, 12.5, 12.5, 7.5, 8.5, 7.5, 8.5, 9.5, 7.5, 7.5, 9.5, 9.5, 9.5, 10.5, 12.5, 12.5, 9.5, 8.5, 8.5, 8.5, 11.5, 10.5, 9.5, 11.5, 11.5, 9.5, 12.5, 11.5, 10.5, 11.5, 13.5], \"xaxis\": \"x\", \"yaxis\": \"y\"}, {\"box\": {\"visible\": true}, \"fillcolor\": \"lightseagreen\", \"line\": {\"color\": \"black\"}, \"meanline\": {\"visible\": true}, \"opacity\": 0.6, \"type\": \"violin\", \"x0\": \"Age\", \"xaxis\": \"x2\", \"y\": [16.5, 8.5, 10.5, 11.5, 8.5, 9.5, 21.5, 17.5, 10.5, 20.5, 15.5, 11.5, 12.5, 11.5, 11.5, 13.5, 8.5, 11.5, 8.5, 10.5, 12.5, 11.5, 13.5, 10.5, 11.5, 12.5, 12.5, 13.5, 16.5, 12.5, 11.5, 16.5, 19.5, 20.5, 14.5, 9.5, 17.5, 9.5, 12.5, 10.5, 10.5, 15.5, 6.5, 6.5, 5.5, 8.5, 10.5, 8.5, 7.5, 10.5, 9.5, 8.5, 11.5, 11.5, 8.5, 9.5, 9.5, 9.5, 5.5, 8.5, 8.5, 10.5, 11.5, 8.5, 9.5, 9.5, 13.5, 14.5, 11.5, 7.5, 14.5, 9.5, 21.5, 12.5, 14.5, 16.5, 10.5, 11.5, 12.5, 15.5, 10.5, 13.5, 17.5, 22.5, 15.5, 13.5, 14.5, 11.5, 10.5, 13.5, 16.5, 13.5, 14.5, 11.5, 16.5, 15.5, 10.5, 9.5, 8.5, 11.5, 8.5, 16.5, 16.5, 11.5, 13.5, 13.5, 12.5, 11.5, 10.5, 10.5, 10.5, 10.5, 10.5, 10.5, 12.5, 12.5, 12.5, 11.5, 10.5, 9.5, 10.5, 8.5, 15.5, 7.5, 7.5, 6.5, 7.5, 9.5, 20.5, 19.5, 18.5, 10.5, 8.5, 8.5, 8.5, 9.5, 8.5, 10.5, 10.5, 10.5, 11.5, 11.5, 17.5, 12.5, 11.5, 11.5, 11.5, 10.5, 6.5, 5.5, 16.5, 10.5, 11.5, 11.5, 13.5, 11.5, 14.5, 17.5, 14.5, 14.5, 14.5, 14.5, 13.5, 19.5, 17.5, 15.5, 21.5, 21.5, 15.5, 13.5, 15.5, 8.5, 9.5, 9.5, 6.5, 8.5, 6.5, 9.5, 5.5, 12.5, 15.5, 22.5, 11.5, 11.5, 13.5, 14.5, 13.5, 11.5, 12.5, 10.5, 14.5, 13.5, 15.5, 9.5, 11.5, 13.5, 12.5, 17.5, 16.5, 11.5, 10.5, 14.5, 13.5, 14.5, 9.5, 10.5, 10.5, 9.5, 14.5, 8.5, 11.5, 8.5, 13.5, 10.5, 15.5, 11.5, 9.5, 8.5, 11.5, 9.5, 10.5, 12.5, 10.5, 12.5, 11.5, 10.5, 8.5, 8.5, 12.5, 16.5, 14.5, 15.5, 23.5, 8.5, 13.5, 10.5, 2.5, 4.5, 4.5, 6.5, 18.5, 6.5, 6.5, 9.5, 9.5, 11.5, 14.5, 10.5, 8.5, 8.5, 8.5, 14.5, 13.5, 16.5, 16.5, 16.5, 20.5, 11.5, 16.5, 14.5, 12.5, 13.5, 12.5, 5.5, 7.5, 12.5, 15.5, 9.5, 10.5, 14.5, 23.5, 17.5, 15.5, 16.5, 14.5, 23.5, 13.5, 19.5, 21.5, 12.5, 16.5, 8.5, 10.5, 15.5, 15.5, 11.5, 11.5, 18.5, 10.5, 11.5, 18.5, 13.5, 16.5, 20.5, 27.5, 7.5, 7.5, 5.5, 12.5, 10.5, 10.5, 14.5, 9.5, 7.5, 11.5, 5.5, 4.5, 14.5, 15.5, 11.5, 22.5, 15.5, 20.5, 24.5, 24.5, 9.5, 15.5, 11.5, 19.5, 7.5, 6.5, 5.5, 12.5, 6.5, 8.5, 8.5, 8.5, 13.5, 9.5, 9.5, 13.5, 9.5, 6.5, 6.5, 17.5, 12.5, 15.5, 17.5, 14.5, 16.5, 15.5, 15.5, 13.5, 13.5, 9.5, 14.5, 10.5, 7.5, 9.5, 15.5, 9.5, 23.5, 13.5, 10.5, 17.5, 21.5, 14.5, 19.5, 18.5, 17.5, 19.5, 13.5, 21.5, 17.5, 13.5, 20.5, 12.5, 11.5, 13.5, 18.5, 17.5, 17.5, 20.5, 15.5, 14.5, 21.5, 12.5, 11.5, 16.5, 13.5, 16.5, 11.5, 11.5, 13.5, 11.5, 10.5, 13.5, 11.5, 15.5, 10.5, 11.5, 11.5, 11.5, 10.5, 7.5, 12.5, 11.5, 9.5, 13.5, 12.5, 10.5, 10.5, 8.5, 11.5, 8.5, 13.5, 9.5, 17.5, 12.5, 9.5, 16.5, 15.5, 12.5, 13.5, 15.5, 16.5, 21.5, 21.5, 17.5, 14.5, 15.5, 12.5, 14.5, 9.5, 7.5, 14.5, 19.5, 20.5, 22.5, 19.5, 19.5, 21.5, 19.5, 23.5, 14.5, 12.5, 8.5, 15.5, 10.5, 14.5, 11.5, 9.5, 20.5, 11.5, 11.5, 10.5, 14.5, 17.5, 13.5, 19.5, 17.5, 17.5, 18.5, 12.5, 15.5, 12.5, 16.5, 10.5, 11.5, 12.5, 12.5, 13.5, 7.5, 6.5, 7.5, 6.5, 13.5, 14.5, 18.5, 22.5, 10.5, 11.5, 10.5, 12.5, 11.5, 18.5, 10.5, 18.5, 22.5, 17.5, 30.5, 18.5, 16.5, 20.5, 13.5, 14.5, 12.5, 16.5, 12.5, 15.5, 15.5, 14.5, 12.5, 16.5, 18.5, 16.5, 13.5, 20.5, 12.5, 11.5, 13.5, 24.5, 16.5, 14.5, 18.5, 16.5, 13.5, 16.5, 12.5, 17.5, 11.5, 11.5, 11.5, 7.5, 6.5, 7.5, 10.5, 6.5, 5.5, 7.5, 4.5, 6.5, 10.5, 6.5, 5.5, 5.5, 4.5, 15.5, 13.5, 10.5, 21.5, 14.5, 13.5, 10.5, 11.5, 12.5, 12.5, 8.5, 6.5, 11.5, 16.5, 12.5, 16.5, 9.5, 11.5, 12.5, 9.5, 8.5, 13.5, 12.5, 18.5, 14.5, 13.5, 14.5, 10.5, 11.5, 15.5, 13.5, 14.5, 14.5, 9.5, 14.5, 12.5, 12.5, 15.5, 11.5, 13.5, 13.5, 8.5, 12.5, 17.5, 15.5, 21.5, 18.5, 11.5, 12.5, 11.5, 11.5, 12.5, 18.5, 12.5, 15.5, 20.5, 14.5, 12.5, 12.5, 11.5, 14.5, 15.5, 14.5, 14.5, 10.5, 19.5, 20.5, 13.5, 14.5, 10.5, 14.5, 13.5, 17.5, 18.5, 11.5, 14.5, 12.5, 13.5, 14.5, 10.5, 11.5, 11.5, 13.5, 13.5, 5.5, 10.5, 19.5, 16.5, 14.5, 13.5, 8.5, 10.5, 8.5, 11.5, 19.5, 13.5, 18.5, 16.5, 13.5, 11.5, 9.5, 22.5, 11.5, 10.5, 8.5, 11.5, 10.5, 10.5, 9.5, 8.5, 7.5, 15.5, 14.5, 8.5, 14.5, 20.5, 8.5, 10.5, 12.5, 7.5, 10.5, 12.5, 10.5, 6.5, 7.5, 12.5, 8.5, 11.5, 8.5, 18.5, 17.5, 19.5, 12.5, 19.5, 12.5, 11.5, 13.5, 20.5, 11.5, 12.5, 16.5, 14.5, 14.5, 15.5, 18.5, 20.5, 22.5, 24.5, 23.5, 13.5, 12.5, 24.5, 9.5, 8.5, 11.5, 8.5, 17.5, 11.5, 16.5, 14.5, 17.5, 12.5, 12.5, 11.5, 6.5, 12.5, 10.5, 5.5, 8.5, 5.5, 6.5, 14.5, 17.5, 13.5, 15.5, 10.5, 13.5, 10.5, 11.5, 12.5, 11.5, 11.5, 8.5, 8.5, 12.5, 8.5, 9.5, 10.5, 8.5, 9.5, 7.5, 5.5, 3.5, 4.5, 14.5, 16.5, 16.5, 12.5, 18.5, 11.5, 13.5, 14.5, 16.5, 12.5, 14.5, 16.5, 14.5, 19.5, 11.5, 13.5, 13.5, 15.5, 11.5, 15.5, 9.5, 15.5, 18.5, 21.5, 18.5, 18.5, 10.5, 15.5, 16.5, 14.5, 11.5, 14.5, 14.5, 21.5, 14.5, 21.5, 16.5, 14.5, 16.5, 16.5, 17.5, 18.5, 15.5, 15.5, 12.5, 14.5, 10.5, 12.5, 18.5, 12.5, 9.5, 9.5, 10.5, 11.5, 12.5, 16.5, 14.5, 16.5, 16.5, 14.5, 13.5, 11.5, 7.5, 6.5, 16.5, 10.5, 13.5, 10.5, 13.5, 11.5, 11.5, 10.5, 13.5, 13.5, 16.5, 12.5, 10.5, 12.5, 12.5, 11.5, 11.5, 10.5, 8.5, 11.5, 8.5, 7.5, 16.5, 11.5, 13.5, 13.5, 22.5, 7.5, 6.5, 8.5, 8.5, 7.5, 7.5, 7.5, 8.5, 8.5, 7.5, 8.5, 7.5, 8.5, 8.5, 7.5, 7.5, 7.5, 8.5, 7.5, 7.5, 10.5, 8.5, 8.5, 9.5, 9.5, 10.5, 9.5, 10.5, 9.5, 10.5, 10.5, 9.5, 9.5, 10.5, 12.5, 11.5, 9.5, 11.5, 11.5, 10.5, 11.5, 10.5, 11.5, 10.5, 10.5, 13.5, 11.5, 9.5, 7.5, 13.5, 12.5, 11.5, 12.5, 11.5, 10.5, 13.5, 11.5, 10.5, 13.5, 12.5, 10.5, 12.5, 12.5, 15.5, 10.5, 11.5, 10.5, 9.5, 12.5, 10.5, 18.5, 16.5, 11.5, 11.5, 13.5, 10.5, 12.5, 12.5, 12.5, 18.5, 7.5, 6.5, 4.5, 7.5, 5.5, 7.5, 5.5, 6.5, 5.5, 7.5, 6.5, 7.5, 9.5, 6.5, 7.5, 7.5, 8.5, 8.5, 6.5, 8.5, 8.5, 7.5, 8.5, 7.5, 7.5, 8.5, 8.5, 7.5, 7.5, 6.5, 7.5, 7.5, 7.5, 8.5, 8.5, 9.5, 7.5, 7.5, 8.5, 7.5, 8.5, 8.5, 9.5, 8.5, 8.5, 8.5, 7.5, 8.5, 8.5, 8.5, 8.5, 8.5, 7.5, 9.5, 9.5, 10.5, 7.5, 7.5, 7.5, 9.5, 8.5, 8.5, 9.5, 9.5, 8.5, 7.5, 9.5, 8.5, 8.5, 10.5, 9.5, 10.5, 9.5, 9.5, 8.5, 8.5, 9.5, 9.5, 9.5, 8.5, 9.5, 12.5, 9.5, 9.5, 8.5, 9.5, 9.5, 9.5, 10.5, 10.5, 10.5, 9.5, 11.5, 11.5, 9.5, 9.5, 8.5, 10.5, 10.5, 8.5, 9.5, 11.5, 9.5, 10.5, 12.5, 9.5, 9.5, 12.5, 12.5, 10.5, 10.5, 10.5, 10.5, 10.5, 12.5, 12.5, 11.5, 9.5, 12.5, 11.5, 11.5, 11.5, 10.5, 10.5, 9.5, 12.5, 9.5, 12.5, 11.5, 11.5, 12.5, 11.5, 11.5, 12.5, 9.5, 9.5, 12.5, 11.5, 11.5, 10.5, 12.5, 11.5, 10.5, 11.5, 12.5, 10.5, 11.5, 7.5, 12.5, 11.5, 13.5, 13.5, 9.5, 11.5, 11.5, 13.5, 12.5, 11.5, 12.5, 12.5, 13.5, 5.5, 4.5, 5.5, 5.5, 5.5, 5.5, 6.5, 8.5, 7.5, 6.5, 6.5, 7.5, 7.5, 7.5, 6.5, 7.5, 7.5, 7.5, 8.5, 7.5, 8.5, 8.5, 7.5, 8.5, 8.5, 7.5, 8.5, 8.5, 7.5, 8.5, 8.5, 8.5, 8.5, 9.5, 9.5, 7.5, 8.5, 7.5, 7.5, 8.5, 8.5, 7.5, 7.5, 8.5, 9.5, 8.5, 8.5, 10.5, 9.5, 7.5, 8.5, 9.5, 7.5, 10.5, 9.5, 9.5, 10.5, 9.5, 9.5, 8.5, 9.5, 10.5, 10.5, 9.5, 9.5, 10.5, 11.5, 8.5, 10.5, 10.5, 9.5, 9.5, 11.5, 10.5, 9.5, 9.5, 9.5, 10.5, 9.5, 10.5, 10.5, 9.5, 9.5, 8.5, 11.5, 10.5, 10.5, 10.5, 11.5, 10.5, 10.5, 9.5, 10.5, 10.5, 10.5, 9.5, 10.5, 10.5, 8.5, 9.5, 10.5, 9.5, 9.5, 11.5, 10.5, 10.5, 11.5, 10.5, 9.5, 10.5, 10.5, 11.5, 10.5, 10.5, 9.5, 9.5, 9.5, 10.5, 9.5, 9.5, 11.5, 10.5, 11.5, 11.5, 11.5, 10.5, 12.5, 12.5, 11.5, 12.5, 9.5, 10.5, 10.5, 15.5, 11.5, 10.5, 13.5, 10.5, 11.5, 10.5, 13.5, 10.5, 10.5, 12.5, 13.5, 11.5, 11.5, 11.5, 9.5, 13.5, 13.5, 12.5, 12.5, 12.5, 12.5, 11.5, 12.5, 7.5, 5.5, 6.5, 6.5, 7.5, 6.5, 6.5, 6.5, 6.5, 7.5, 8.5, 6.5, 8.5, 7.5, 7.5, 6.5, 7.5, 9.5, 5.5, 7.5, 8.5, 8.5, 8.5, 7.5, 6.5, 8.5, 7.5, 7.5, 9.5, 8.5, 7.5, 9.5, 10.5, 9.5, 8.5, 6.5, 8.5, 9.5, 9.5, 6.5, 6.5, 7.5, 8.5, 7.5, 8.5, 8.5, 8.5, 9.5, 9.5, 8.5, 10.5, 10.5, 9.5, 9.5, 9.5, 8.5, 10.5, 9.5, 12.5, 9.5, 9.5, 9.5, 9.5, 9.5, 9.5, 10.5, 9.5, 9.5, 9.5, 8.5, 9.5, 10.5, 10.5, 10.5, 10.5, 8.5, 10.5, 9.5, 8.5, 9.5, 8.5, 14.5, 10.5, 11.5, 10.5, 10.5, 10.5, 10.5, 11.5, 10.5, 10.5, 10.5, 9.5, 10.5, 10.5, 11.5, 10.5, 9.5, 10.5, 11.5, 9.5, 12.5, 10.5, 10.5, 11.5, 10.5, 10.5, 11.5, 10.5, 10.5, 10.5, 10.5, 11.5, 10.5, 12.5, 9.5, 9.5, 12.5, 11.5, 9.5, 10.5, 11.5, 11.5, 10.5, 11.5, 10.5, 11.5, 11.5, 11.5, 9.5, 10.5, 11.5, 11.5, 11.5, 11.5, 11.5, 9.5, 10.5, 10.5, 11.5, 11.5, 13.5, 11.5, 12.5, 11.5, 12.5, 11.5, 12.5, 12.5, 11.5, 12.5, 10.5, 13.5, 11.5, 13.5, 11.5, 10.5, 11.5, 11.5, 11.5, 11.5, 11.5, 13.5, 11.5, 10.5, 11.5, 11.5, 13.5, 11.5, 11.5, 10.5, 12.5, 10.5, 13.5, 10.5, 12.5, 13.5, 11.5, 13.5, 11.5, 10.5, 10.5, 11.5, 11.5, 16.5, 11.5, 12.5, 11.5, 12.5, 12.5, 12.5, 12.5, 10.5, 11.5, 11.5, 14.5, 11.5, 11.5, 11.5, 11.5, 11.5, 12.5, 11.5, 14.5, 10.5, 12.5, 13.5, 11.5, 12.5, 13.5, 12.5, 14.5, 13.5, 12.5, 12.5, 13.5, 10.5, 15.5, 15.5, 4.5, 5.5, 8.5, 6.5, 7.5, 8.5, 6.5, 6.5, 7.5, 8.5, 9.5, 8.5, 7.5, 6.5, 10.5, 7.5, 7.5, 6.5, 9.5, 10.5, 7.5, 8.5, 9.5, 10.5, 7.5, 7.5, 9.5, 8.5, 8.5, 8.5, 7.5, 9.5, 7.5, 8.5, 10.5, 10.5, 9.5, 9.5, 8.5, 9.5, 9.5, 10.5, 9.5, 10.5, 9.5, 10.5, 9.5, 10.5, 9.5, 10.5, 9.5, 10.5, 10.5, 9.5, 9.5, 10.5, 9.5, 10.5, 9.5, 10.5, 12.5, 10.5, 10.5, 12.5, 9.5, 11.5, 9.5, 10.5, 11.5, 12.5, 10.5, 11.5, 10.5, 12.5, 11.5, 11.5, 9.5, 10.5, 11.5, 12.5, 12.5, 11.5, 11.5, 10.5, 9.5, 12.5, 12.5, 11.5, 11.5, 12.5, 11.5, 11.5, 13.5, 12.5, 13.5, 12.5, 12.5, 11.5, 13.5, 14.5, 11.5, 12.5, 6.5, 6.5, 7.5, 7.5, 7.5, 6.5, 6.5, 7.5, 8.5, 9.5, 8.5, 8.5, 8.5, 7.5, 8.5, 8.5, 7.5, 9.5, 8.5, 9.5, 8.5, 8.5, 8.5, 9.5, 9.5, 8.5, 9.5, 8.5, 8.5, 7.5, 9.5, 8.5, 11.5, 8.5, 8.5, 10.5, 9.5, 9.5, 9.5, 8.5, 9.5, 10.5, 9.5, 9.5, 8.5, 9.5, 9.5, 9.5, 9.5, 9.5, 9.5, 10.5, 8.5, 7.5, 10.5, 11.5, 9.5, 9.5, 10.5, 8.5, 9.5, 10.5, 9.5, 8.5, 10.5, 8.5, 11.5, 10.5, 12.5, 8.5, 10.5, 10.5, 10.5, 11.5, 10.5, 11.5, 9.5, 10.5, 9.5, 9.5, 11.5, 10.5, 13.5, 9.5, 9.5, 10.5, 9.5, 12.5, 11.5, 9.5, 11.5, 10.5, 10.5, 10.5, 11.5, 9.5, 10.5, 10.5, 11.5, 10.5, 13.5, 9.5, 11.5, 11.5, 10.5, 11.5, 9.5, 10.5, 11.5, 9.5, 10.5, 14.5, 9.5, 11.5, 11.5, 10.5, 11.5, 11.5, 11.5, 12.5, 9.5, 11.5, 11.5, 9.5, 9.5, 10.5, 10.5, 9.5, 11.5, 10.5, 11.5, 10.5, 9.5, 10.5, 9.5, 10.5, 12.5, 11.5, 11.5, 13.5, 10.5, 11.5, 10.5, 10.5, 8.5, 11.5, 10.5, 13.5, 13.5, 14.5, 12.5, 12.5, 13.5, 10.5, 11.5, 13.5, 10.5, 12.5, 11.5, 10.5, 13.5, 11.5, 10.5, 10.5, 9.5, 12.5, 11.5, 12.5, 14.5, 13.5, 11.5, 10.5, 11.5, 11.5, 12.5, 11.5, 13.5, 15.5, 10.5, 11.5, 10.5, 10.5, 11.5, 11.5, 10.5, 13.5, 10.5, 12.5, 12.5, 10.5, 11.5, 10.5, 13.5, 12.5, 10.5, 13.5, 11.5, 15.5, 12.5, 12.5, 12.5, 13.5, 10.5, 13.5, 12.5, 14.5, 11.5, 12.5, 14.5, 11.5, 11.5, 12.5, 12.5, 12.5, 13.5, 11.5, 16.5, 12.5, 12.5, 13.5, 11.5, 12.5, 11.5, 14.5, 8.5, 15.5, 12.5, 12.5, 13.5, 12.5, 13.5, 13.5, 13.5, 6.5, 7.5, 8.5, 8.5, 9.5, 8.5, 7.5, 9.5, 9.5, 11.5, 8.5, 9.5, 10.5, 10.5, 9.5, 10.5, 10.5, 9.5, 11.5, 8.5, 9.5, 9.5, 9.5, 9.5, 11.5, 10.5, 11.5, 11.5, 10.5, 11.5, 11.5, 11.5, 11.5, 9.5, 12.5, 10.5, 10.5, 11.5, 12.5, 11.5, 11.5, 10.5, 12.5, 12.5, 11.5, 9.5, 10.5, 12.5, 11.5, 10.5, 11.5, 12.5, 11.5, 10.5, 11.5, 12.5, 14.5, 10.5, 12.5, 12.5, 6.5, 5.5, 8.5, 7.5, 8.5, 7.5, 8.5, 7.5, 9.5, 7.5, 8.5, 8.5, 7.5, 7.5, 9.5, 12.5, 9.5, 8.5, 8.5, 9.5, 8.5, 9.5, 8.5, 9.5, 10.5, 8.5, 9.5, 10.5, 9.5, 9.5, 9.5, 10.5, 12.5, 9.5, 11.5, 11.5, 11.5, 9.5, 9.5, 10.5, 10.5, 8.5, 11.5, 10.5, 9.5, 10.5, 9.5, 10.5, 10.5, 10.5, 10.5, 10.5, 10.5, 9.5, 11.5, 10.5, 11.5, 7.5, 9.5, 9.5, 8.5, 10.5, 10.5, 10.5, 12.5, 8.5, 12.5, 10.5, 10.5, 11.5, 12.5, 12.5, 10.5, 14.5, 10.5, 10.5, 10.5, 11.5, 12.5, 11.5, 10.5, 11.5, 12.5, 10.5, 10.5, 10.5, 11.5, 11.5, 11.5, 10.5, 11.5, 12.5, 12.5, 11.5, 12.5, 11.5, 10.5, 11.5, 9.5, 11.5, 9.5, 12.5, 12.5, 10.5, 13.5, 11.5, 12.5, 10.5, 12.5, 16.5, 10.5, 13.5, 12.5, 10.5, 11.5, 12.5, 12.5, 12.5, 10.5, 12.5, 12.5, 12.5, 13.5, 13.5, 11.5, 12.5, 11.5, 11.5, 11.5, 10.5, 12.5, 13.5, 12.5, 17.5, 11.5, 14.5, 11.5, 12.5, 11.5, 10.5, 11.5, 12.5, 11.5, 13.5, 13.5, 13.5, 12.5, 12.5, 13.5, 11.5, 11.5, 12.5, 14.5, 14.5, 13.5, 14.5, 11.5, 13.5, 12.5, 12.5, 12.5, 14.5, 5.5, 5.5, 6.5, 7.5, 8.5, 7.5, 6.5, 7.5, 7.5, 7.5, 8.5, 7.5, 8.5, 7.5, 10.5, 7.5, 8.5, 7.5, 8.5, 8.5, 8.5, 9.5, 8.5, 9.5, 8.5, 9.5, 8.5, 11.5, 11.5, 9.5, 10.5, 13.5, 11.5, 10.5, 10.5, 10.5, 10.5, 10.5, 12.5, 11.5, 10.5, 10.5, 11.5, 10.5, 11.5, 11.5, 13.5, 11.5, 15.5, 10.5, 6.5, 6.5, 6.5, 7.5, 9.5, 9.5, 9.5, 8.5, 8.5, 9.5, 8.5, 7.5, 10.5, 9.5, 9.5, 9.5, 9.5, 8.5, 8.5, 10.5, 8.5, 9.5, 9.5, 9.5, 10.5, 9.5, 8.5, 9.5, 9.5, 9.5, 11.5, 10.5, 10.5, 10.5, 12.5, 10.5, 9.5, 8.5, 12.5, 10.5, 11.5, 9.5, 9.5, 10.5, 10.5, 9.5, 11.5, 12.5, 13.5, 11.5, 11.5, 12.5, 13.5, 11.5, 18.5, 9.5, 11.5, 12.5, 8.5, 8.5, 12.5, 8.5, 9.5, 11.5, 11.5, 20.5, 10.5, 10.5, 12.5, 11.5, 15.5, 16.5, 28.5, 14.5, 6.5, 10.5, 9.5, 8.5, 5.5, 4.5, 7.5, 8.5, 9.5, 10.5, 8.5, 10.5, 12.5, 7.5, 8.5, 9.5, 11.5, 8.5, 13.5, 13.5, 10.5, 7.5, 11.5, 10.5, 9.5, 13.5, 10.5, 11.5, 17.5, 15.5, 11.5, 8.5, 10.5, 11.5, 10.5, 10.5, 12.5, 13.5, 9.5, 8.5, 11.5, 19.5, 9.5, 6.5, 11.5, 17.5, 13.5, 18.5, 15.5, 13.5, 20.5, 18.5, 12.5, 10.5, 6.5, 10.5, 7.5, 6.5, 7.5, 5.5, 8.5, 7.5, 6.5, 11.5, 14.5, 13.5, 21.5, 15.5, 16.5, 15.5, 22.5, 17.5, 14.5, 7.5, 7.5, 10.5, 10.5, 15.5, 13.5, 11.5, 12.5, 16.5, 15.5, 7.5, 14.5, 6.5, 12.5, 11.5, 7.5, 22.5, 14.5, 26.5, 20.5, 19.5, 8.5, 7.5, 6.5, 9.5, 17.5, 28.5, 19.5, 18.5, 14.5, 18.5, 9.5, 11.5, 8.5, 14.5, 15.5, 14.5, 9.5, 18.5, 14.5, 15.5, 10.5, 14.5, 8.5, 8.5, 13.5, 8.5, 14.5, 10.5, 10.5, 18.5, 15.5, 14.5, 16.5, 18.5, 9.5, 9.5, 13.5, 12.5, 8.5, 11.5, 12.5, 10.5, 11.5, 10.5, 7.5, 13.5, 12.5, 14.5, 15.5, 12.5, 15.5, 13.5, 9.5, 14.5, 9.5, 14.5, 11.5, 12.5, 18.5, 14.5, 15.5, 14.5, 15.5, 16.5, 14.5, 13.5, 19.5, 15.5, 16.5, 14.5, 16.5, 21.5, 15.5, 20.5, 10.5, 11.5, 10.5, 9.5, 11.5, 8.5, 10.5, 10.5, 10.5, 8.5, 7.5, 11.5, 7.5, 11.5, 10.5, 7.5, 13.5, 11.5, 14.5, 9.5, 8.5, 9.5, 11.5, 11.5, 10.5, 12.5, 12.5, 24.5, 13.5, 17.5, 12.5, 14.5, 14.5, 8.5, 9.5, 17.5, 15.5, 18.5, 14.5, 14.5, 13.5, 16.5, 11.5, 15.5, 13.5, 9.5, 18.5, 11.5, 12.5, 14.5, 16.5, 16.5, 10.5, 16.5, 10.5, 14.5, 24.5, 24.5, 19.5, 12.5, 18.5, 18.5, 12.5, 8.5, 7.5, 7.5, 22.5, 18.5, 14.5, 12.5, 17.5, 10.5, 13.5, 20.5, 19.5, 18.5, 12.5, 14.5, 14.5, 18.5, 21.5, 14.5, 12.5, 13.5, 19.5, 19.5, 16.5, 13.5, 20.5, 16.5, 17.5, 13.5, 9.5, 4.5, 13.5, 13.5, 13.5, 11.5, 9.5, 13.5, 13.5, 11.5, 6.5, 6.5, 12.5, 17.5, 12.5, 13.5, 15.5, 12.5, 11.5, 12.5, 17.5, 11.5, 11.5, 8.5, 15.5, 15.5, 15.5, 18.5, 15.5, 18.5, 14.5, 13.5, 17.5, 11.5, 16.5, 16.5, 11.5, 13.5, 16.5, 9.5, 11.5, 10.5, 8.5, 13.5, 10.5, 11.5, 19.5, 12.5, 19.5, 11.5, 14.5, 16.5, 13.5, 11.5, 7.5, 14.5, 15.5, 7.5, 11.5, 10.5, 12.5, 19.5, 12.5, 17.5, 17.5, 15.5, 24.5, 10.5, 17.5, 10.5, 14.5, 11.5, 10.5, 12.5, 10.5, 13.5, 15.5, 7.5, 8.5, 10.5, 11.5, 11.5, 10.5, 9.5, 6.5, 7.5, 6.5, 6.5, 5.5, 21.5, 15.5, 14.5, 9.5, 18.5, 12.5, 12.5, 10.5, 17.5, 9.5, 14.5, 12.5, 21.5, 15.5, 15.5, 15.5, 13.5, 19.5, 14.5, 9.5, 15.5, 14.5, 9.5, 13.5, 15.5, 15.5, 9.5, 14.5, 12.5, 15.5, 16.5, 8.5, 11.5, 12.5, 9.5, 10.5, 13.5, 16.5, 13.5, 16.5, 20.5, 13.5, 10.5, 6.5, 7.5, 7.5, 7.5, 8.5, 8.5, 7.5, 7.5, 9.5, 7.5, 9.5, 9.5, 9.5, 9.5, 11.5, 8.5, 9.5, 8.5, 10.5, 10.5, 12.5, 10.5, 12.5, 10.5, 10.5, 11.5, 10.5, 9.5, 10.5, 11.5, 11.5, 11.5, 13.5, 12.5, 13.5, 12.5, 16.5, 14.5, 14.5, 10.5, 15.5, 11.5, 11.5, 5.5, 5.5, 6.5, 5.5, 6.5, 6.5, 7.5, 7.5, 8.5, 8.5, 7.5, 7.5, 8.5, 7.5, 8.5, 8.5, 7.5, 7.5, 8.5, 7.5, 9.5, 8.5, 7.5, 8.5, 7.5, 8.5, 10.5, 8.5, 9.5, 9.5, 8.5, 8.5, 8.5, 10.5, 8.5, 9.5, 7.5, 7.5, 9.5, 10.5, 9.5, 8.5, 10.5, 9.5, 8.5, 9.5, 9.5, 8.5, 10.5, 10.5, 12.5, 9.5, 9.5, 10.5, 9.5, 11.5, 11.5, 9.5, 10.5, 11.5, 10.5, 11.5, 10.5, 9.5, 12.5, 10.5, 9.5, 12.5, 12.5, 10.5, 13.5, 10.5, 10.5, 14.5, 9.5, 11.5, 13.5, 14.5, 11.5, 13.5, 11.5, 5.5, 6.5, 6.5, 7.5, 7.5, 7.5, 9.5, 7.5, 8.5, 8.5, 8.5, 8.5, 8.5, 7.5, 8.5, 8.5, 8.5, 9.5, 9.5, 9.5, 8.5, 9.5, 10.5, 8.5, 9.5, 9.5, 10.5, 10.5, 10.5, 8.5, 8.5, 10.5, 9.5, 9.5, 9.5, 10.5, 10.5, 10.5, 10.5, 9.5, 9.5, 8.5, 9.5, 9.5, 10.5, 9.5, 9.5, 10.5, 10.5, 11.5, 11.5, 10.5, 8.5, 10.5, 11.5, 10.5, 11.5, 12.5, 10.5, 11.5, 12.5, 11.5, 9.5, 10.5, 10.5, 10.5, 10.5, 10.5, 11.5, 10.5, 10.5, 11.5, 10.5, 12.5, 14.5, 14.5, 12.5, 12.5, 11.5, 14.5, 12.5, 10.5, 12.5, 13.5, 12.5, 4.5, 5.5, 5.5, 6.5, 7.5, 7.5, 7.5, 8.5, 6.5, 8.5, 9.5, 8.5, 8.5, 9.5, 9.5, 8.5, 8.5, 9.5, 8.5, 7.5, 9.5, 9.5, 8.5, 9.5, 9.5, 8.5, 10.5, 9.5, 8.5, 9.5, 9.5, 9.5, 8.5, 12.5, 9.5, 9.5, 11.5, 10.5, 10.5, 9.5, 10.5, 8.5, 9.5, 9.5, 11.5, 9.5, 10.5, 11.5, 9.5, 11.5, 11.5, 10.5, 11.5, 10.5, 12.5, 9.5, 11.5, 12.5, 12.5, 11.5, 10.5, 11.5, 12.5, 10.5, 11.5, 11.5, 10.5, 9.5, 10.5, 11.5, 11.5, 9.5, 12.5, 10.5, 10.5, 11.5, 12.5, 11.5, 10.5, 11.5, 11.5, 11.5, 13.5, 11.5, 13.5, 11.5, 12.5, 11.5, 11.5, 12.5, 11.5, 10.5, 13.5, 10.5, 12.5, 10.5, 14.5, 10.5, 12.5, 11.5, 10.5, 6.5, 5.5, 5.5, 8.5, 7.5, 8.5, 9.5, 6.5, 7.5, 8.5, 8.5, 8.5, 8.5, 9.5, 10.5, 9.5, 10.5, 8.5, 10.5, 8.5, 10.5, 10.5, 9.5, 9.5, 10.5, 9.5, 10.5, 11.5, 10.5, 10.5, 10.5, 11.5, 11.5, 11.5, 11.5, 9.5, 10.5, 11.5, 11.5, 13.5, 10.5, 9.5, 12.5, 12.5, 12.5, 12.5, 12.5, 12.5, 11.5, 13.5, 11.5, 12.5, 7.5, 5.5, 6.5, 7.5, 8.5, 6.5, 8.5, 8.5, 9.5, 7.5, 9.5, 8.5, 8.5, 10.5, 9.5, 9.5, 9.5, 9.5, 10.5, 9.5, 10.5, 9.5, 9.5, 10.5, 9.5, 9.5, 9.5, 9.5, 11.5, 9.5, 12.5, 11.5, 9.5, 11.5, 9.5, 9.5, 10.5, 9.5, 10.5, 9.5, 10.5, 9.5, 9.5, 11.5, 10.5, 10.5, 12.5, 12.5, 10.5, 10.5, 10.5, 11.5, 11.5, 11.5, 10.5, 11.5, 11.5, 10.5, 12.5, 14.5, 10.5, 11.5, 12.5, 13.5, 12.5, 12.5, 12.5, 10.5, 11.5, 11.5, 10.5, 11.5, 12.5, 11.5, 12.5, 11.5, 11.5, 11.5, 10.5, 11.5, 8.5, 12.5, 12.5, 11.5, 9.5, 12.5, 12.5, 12.5, 13.5, 12.5, 13.5, 16.5, 13.5, 12.5, 13.5, 14.5, 11.5, 11.5, 10.5, 13.5, 10.5, 10.5, 11.5, 12.5, 13.5, 11.5, 14.5, 12.5, 14.5, 13.5, 13.5, 7.5, 9.5, 7.5, 9.5, 9.5, 8.5, 9.5, 10.5, 9.5, 11.5, 9.5, 14.5, 11.5, 10.5, 10.5, 10.5, 9.5, 9.5, 12.5, 10.5, 10.5, 11.5, 10.5, 10.5, 12.5, 10.5, 12.5, 11.5, 11.5, 12.5, 14.5, 12.5, 15.5, 13.5, 5.5, 7.5, 9.5, 8.5, 9.5, 7.5, 7.5, 8.5, 9.5, 10.5, 9.5, 9.5, 10.5, 9.5, 9.5, 10.5, 8.5, 9.5, 9.5, 8.5, 12.5, 12.5, 9.5, 10.5, 9.5, 11.5, 11.5, 12.5, 10.5, 10.5, 11.5, 11.5, 10.5, 9.5, 11.5, 10.5, 11.5, 12.5, 10.5, 9.5, 10.5, 13.5, 10.5, 10.5, 12.5, 13.5, 12.5, 12.5, 14.5, 12.5, 12.5, 12.5, 11.5, 12.5, 10.5, 10.5, 12.5, 10.5, 12.5, 13.5, 12.5, 10.5, 12.5, 11.5, 11.5, 12.5, 12.5, 12.5, 11.5, 12.5, 12.5, 14.5, 15.5, 12.5, 5.5, 6.5, 7.5, 8.5, 8.5, 9.5, 9.5, 11.5, 11.5, 12.5, 12.5, 10.5, 10.5, 10.5, 12.5, 9.5, 10.5, 11.5, 12.5, 9.5, 12.5, 11.5, 6.5, 6.5, 6.5, 8.5, 8.5, 9.5, 9.5, 8.5, 8.5, 8.5, 7.5, 11.5, 9.5, 9.5, 11.5, 10.5, 8.5, 9.5, 10.5, 11.5, 11.5, 12.5, 10.5, 11.5, 11.5, 12.5, 12.5, 11.5, 10.5, 9.5, 10.5, 12.5, 11.5, 11.5, 12.5, 21.5, 6.5, 6.5, 5.5, 10.5, 14.5, 15.5, 14.5, 13.5, 25.5, 11.5, 22.5, 12.5, 10.5, 8.5, 10.5, 11.5, 10.5, 10.5, 7.5, 8.5, 7.5, 16.5, 10.5, 14.5, 10.5, 19.5, 16.5, 16.5, 11.5, 15.5, 14.5, 12.5, 7.5, 10.5, 12.5, 13.5, 16.5, 9.5, 9.5, 8.5, 12.5, 11.5, 12.5, 14.5, 12.5, 7.5, 9.5, 17.5, 8.5, 6.5, 14.5, 15.5, 21.5, 13.5, 19.5, 6.5, 8.5, 12.5, 10.5, 11.5, 7.5, 18.5, 18.5, 16.5, 10.5, 9.5, 16.5, 10.5, 15.5, 13.5, 11.5, 15.5, 14.5, 15.5, 12.5, 17.5, 11.5, 15.5, 17.5, 12.5, 10.5, 19.5, 9.5, 17.5, 10.5, 11.5, 14.5, 10.5, 13.5, 12.5, 13.5, 14.5, 13.5, 14.5, 15.5, 9.5, 19.5, 15.5, 16.5, 16.5, 15.5, 16.5, 15.5, 20.5, 14.5, 14.5, 16.5, 12.5, 7.5, 10.5, 9.5, 13.5, 7.5, 8.5, 6.5, 13.5, 10.5, 8.5, 19.5, 14.5, 13.5, 15.5, 18.5, 13.5, 15.5, 12.5, 11.5, 12.5, 13.5, 14.5, 18.5, 12.5, 14.5, 19.5, 13.5, 13.5, 16.5, 13.5, 19.5, 25.5, 12.5, 14.5, 12.5, 12.5, 14.5, 15.5, 13.5, 16.5, 16.5, 13.5, 10.5, 12.5, 14.5, 15.5, 15.5, 15.5, 18.5, 14.5, 17.5, 17.5, 12.5, 16.5, 13.5, 17.5, 17.5, 11.5, 10.5, 6.5, 10.5, 14.5, 13.5, 18.5, 12.5, 12.5, 10.5, 17.5, 8.5, 5.5, 20.5, 17.5, 12.5, 16.5, 13.5, 13.5, 11.5, 13.5, 17.5, 14.5, 11.5, 11.5, 12.5, 14.5, 13.5, 9.5, 13.5, 12.5, 16.5, 17.5, 13.5, 18.5, 13.5, 15.5, 14.5, 14.5, 13.5, 15.5, 12.5, 14.5, 11.5, 12.5, 14.5, 16.5, 9.5, 11.5, 11.5, 7.5, 9.5, 6.5, 21.5, 20.5, 10.5, 10.5, 11.5, 12.5, 12.5, 6.5, 18.5, 14.5, 18.5, 13.5, 11.5, 17.5, 20.5, 11.5, 11.5, 7.5, 6.5, 9.5, 9.5, 6.5, 20.5, 16.5, 15.5, 8.5, 14.5, 14.5, 19.5, 14.5, 17.5, 11.5, 14.5, 20.5, 11.5, 14.5, 14.5, 19.5, 13.5, 10.5, 9.5, 11.5, 19.5, 14.5, 10.5, 9.5, 8.5, 9.5, 7.5, 8.5, 8.5, 7.5, 8.5, 9.5, 10.5, 8.5, 10.5, 8.5, 10.5, 9.5, 9.5, 11.5, 12.5, 10.5, 12.5, 11.5, 11.5, 14.5, 14.5, 5.5, 7.5, 7.5, 6.5, 7.5, 7.5, 7.5, 8.5, 7.5, 9.5, 7.5, 9.5, 8.5, 8.5, 9.5, 8.5, 10.5, 9.5, 9.5, 9.5, 8.5, 8.5, 8.5, 9.5, 9.5, 9.5, 9.5, 10.5, 13.5, 11.5, 9.5, 9.5, 10.5, 12.5, 11.5, 12.5, 11.5, 10.5, 10.5, 11.5, 12.5, 11.5, 12.5, 10.5, 4.5, 5.5, 7.5, 7.5, 8.5, 7.5, 8.5, 8.5, 9.5, 7.5, 8.5, 8.5, 9.5, 8.5, 9.5, 9.5, 9.5, 9.5, 11.5, 9.5, 9.5, 9.5, 10.5, 9.5, 9.5, 10.5, 11.5, 10.5, 9.5, 13.5, 11.5, 12.5, 11.5, 11.5, 10.5, 12.5, 10.5, 11.5, 10.5, 12.5, 12.5, 10.5, 11.5, 13.5, 12.5, 12.5, 12.5, 11.5, 12.5, 4.5, 5.5, 5.5, 7.5, 7.5, 7.5, 8.5, 7.5, 7.5, 8.5, 8.5, 8.5, 7.5, 7.5, 10.5, 9.5, 7.5, 8.5, 9.5, 9.5, 9.5, 9.5, 9.5, 10.5, 9.5, 8.5, 10.5, 8.5, 10.5, 9.5, 10.5, 9.5, 10.5, 9.5, 9.5, 10.5, 9.5, 11.5, 11.5, 11.5, 10.5, 9.5, 9.5, 10.5, 10.5, 10.5, 11.5, 11.5, 12.5, 10.5, 10.5, 10.5, 11.5, 10.5, 9.5, 12.5, 12.5, 11.5, 10.5, 11.5, 10.5, 11.5, 10.5, 12.5, 10.5, 12.5, 11.5, 13.5, 12.5, 12.5, 10.5, 12.5, 9.5, 13.5, 12.5, 11.5, 12.5, 13.5, 13.5, 5.5, 9.5, 6.5, 8.5, 9.5, 9.5, 8.5, 9.5, 8.5, 10.5, 10.5, 11.5, 11.5, 12.5, 12.5, 10.5, 15.5, 10.5, 12.5, 13.5, 10.5, 9.5, 11.5, 11.5, 10.5, 11.5, 11.5, 11.5, 14.5, 7.5, 8.5, 6.5, 6.5, 6.5, 7.5, 7.5, 9.5, 7.5, 9.5, 9.5, 8.5, 10.5, 9.5, 9.5, 8.5, 10.5, 10.5, 9.5, 10.5, 10.5, 9.5, 11.5, 11.5, 10.5, 10.5, 10.5, 12.5, 8.5, 11.5, 10.5, 11.5, 11.5, 9.5, 10.5, 10.5, 10.5, 9.5, 12.5, 11.5, 10.5, 9.5, 11.5, 11.5, 11.5, 13.5, 11.5, 11.5, 12.5, 11.5, 11.5, 10.5, 12.5, 12.5, 11.5, 12.5, 11.5, 15.5, 12.5, 12.5, 10.5, 14.5, 13.5, 12.5, 12.5, 11.5, 11.5, 14.5, 13.5, 11.5, 12.5, 11.5, 11.5, 12.5, 12.5, 12.5, 10.5, 12.5, 12.5, 10.5, 11.5, 12.5, 12.5, 11.5, 12.5, 12.5, 12.5, 6.5, 8.5, 8.5, 8.5, 8.5, 10.5, 10.5, 10.5, 8.5, 10.5, 9.5, 8.5, 11.5, 10.5, 10.5, 10.5, 11.5, 11.5, 11.5, 10.5, 11.5, 10.5, 10.5, 10.5, 12.5, 13.5, 14.5, 13.5, 6.5, 6.5, 8.5, 7.5, 7.5, 8.5, 9.5, 8.5, 9.5, 9.5, 9.5, 9.5, 10.5, 11.5, 10.5, 10.5, 10.5, 11.5, 9.5, 12.5, 11.5, 10.5, 11.5, 11.5, 10.5, 10.5, 10.5, 11.5, 10.5, 10.5, 10.5, 9.5, 14.5, 10.5, 10.5, 11.5, 11.5, 11.5, 12.5, 13.5, 12.5, 10.5, 11.5, 13.5, 9.5, 11.5, 11.5, 12.5, 14.5, 15.5, 11.5, 13.5, 12.5, 14.5, 11.5, 12.5, 13.5, 4.5, 7.5, 8.5, 8.5, 10.5, 9.5, 9.5, 11.5, 9.5, 9.5, 10.5, 13.5, 9.5, 7.5, 9.5, 9.5, 9.5, 10.5, 9.5, 11.5, 11.5, 10.5, 10.5, 8.5, 12.5, 11.5, 12.5, 12.5, 13.5, 15.5, 11.5, 15.5, 12.5, 7.5, 8.5, 10.5, 5.5, 9.5, 9.5, 10.5, 12.5, 10.5, 17.5, 15.5, 12.5, 7.5, 10.5, 15.5, 7.5, 8.5, 11.5, 13.5, 10.5, 12.5, 9.5, 10.5, 17.5, 13.5, 10.5, 15.5, 15.5, 11.5, 19.5, 6.5, 20.5, 11.5, 16.5, 9.5, 10.5, 16.5, 13.5, 10.5, 6.5, 13.5, 10.5, 17.5, 16.5, 11.5, 16.5, 8.5, 11.5, 16.5, 11.5, 10.5, 8.5, 8.5, 10.5, 13.5, 13.5, 17.5, 13.5, 14.5, 10.5, 13.5, 14.5, 15.5, 18.5, 11.5, 5.5, 16.5, 13.5, 5.5, 17.5, 17.5, 7.5, 5.5, 14.5, 10.5, 11.5, 14.5, 11.5, 16.5, 12.5, 20.5, 12.5, 11.5, 14.5, 19.5, 12.5, 9.5, 11.5, 11.5, 13.5, 21.5, 9.5, 15.5, 13.5, 11.5, 17.5, 22.5, 18.5, 12.5, 7.5, 6.5, 12.5, 14.5, 14.5, 11.5, 15.5, 12.5, 16.5, 12.5, 15.5, 21.5, 7.5, 14.5, 17.5, 13.5, 14.5, 14.5, 14.5, 6.5, 9.5, 8.5, 10.5, 13.5, 11.5, 10.5, 12.5, 12.5, 11.5, 11.5, 5.5, 6.5, 7.5, 7.5, 7.5, 7.5, 7.5, 7.5, 7.5, 9.5, 8.5, 9.5, 7.5, 8.5, 8.5, 9.5, 7.5, 8.5, 9.5, 7.5, 7.5, 11.5, 12.5, 11.5, 12.5, 9.5, 12.5, 11.5, 10.5, 11.5, 13.5, 5.5, 6.5, 7.5, 7.5, 7.5, 7.5, 8.5, 7.5, 9.5, 9.5, 11.5, 10.5, 10.5, 12.5, 13.5, 9.5, 10.5, 10.5, 9.5, 9.5, 11.5, 11.5, 10.5, 12.5, 9.5, 11.5, 12.5, 11.5, 12.5, 7.5, 7.5, 8.5, 8.5, 7.5, 9.5, 8.5, 8.5, 9.5, 9.5, 11.5, 8.5, 12.5, 9.5, 11.5, 12.5, 12.5, 13.5, 11.5, 11.5, 9.5, 11.5, 10.5, 12.5, 12.5, 14.5, 10.5, 10.5, 11.5, 14.5, 11.5, 11.5, 10.5, 12.5, 12.5, 11.5, 9.5, 9.5, 11.5, 10.5, 12.5, 10.5, 7.5, 8.5, 7.5, 8.5, 9.5, 8.5, 9.5, 9.5, 10.5, 9.5, 9.5, 9.5, 10.5, 11.5, 9.5, 9.5, 12.5, 10.5, 11.5, 11.5, 12.5, 9.5, 11.5, 10.5, 10.5, 12.5, 13.5, 12.5, 12.5, 14.5, 12.5, 13.5, 10.5, 10.5, 10.5, 10.5, 12.5, 12.5, 11.5, 12.5, 10.5, 12.5, 8.5, 8.5, 9.5, 10.5, 9.5, 10.5, 9.5, 10.5, 11.5, 10.5, 10.5, 10.5, 5.5, 8.5, 10.5, 9.5, 9.5, 9.5, 10.5, 12.5, 11.5, 9.5, 11.5, 11.5, 12.5, 11.5, 12.5, 10.5, 12.5, 10.5, 12.5, 12.5, 11.5, 11.5, 12.5, 14.5, 14.5, 12.5, 12.5, 11.5, 12.5, 12.5, 7.5, 8.5, 7.5, 8.5, 9.5, 7.5, 7.5, 9.5, 9.5, 9.5, 10.5, 12.5, 12.5, 9.5, 8.5, 8.5, 8.5, 11.5, 10.5, 9.5, 11.5, 11.5, 9.5, 12.5, 11.5, 10.5, 11.5, 13.5], \"yaxis\": \"y2\"}],\n",
              "                        {\"annotations\": [{\"font\": {\"size\": 16}, \"showarrow\": false, \"text\": \"Distribution for Age\", \"x\": 0.225, \"xanchor\": \"center\", \"xref\": \"paper\", \"y\": 1.0, \"yanchor\": \"bottom\", \"yref\": \"paper\"}, {\"font\": {\"size\": 16}, \"showarrow\": false, \"text\": \"Whiscker plot for  Age\", \"x\": 0.775, \"xanchor\": \"center\", \"xref\": \"paper\", \"y\": 1.0, \"yanchor\": \"bottom\", \"yref\": \"paper\"}], \"template\": {\"data\": {\"bar\": [{\"error_x\": {\"color\": \"#2a3f5f\"}, \"error_y\": {\"color\": \"#2a3f5f\"}, \"marker\": {\"line\": {\"color\": \"#E5ECF6\", \"width\": 0.5}}, \"type\": \"bar\"}], \"barpolar\": [{\"marker\": {\"line\": {\"color\": \"#E5ECF6\", \"width\": 0.5}}, \"type\": \"barpolar\"}], \"carpet\": [{\"aaxis\": {\"endlinecolor\": \"#2a3f5f\", \"gridcolor\": \"white\", \"linecolor\": \"white\", \"minorgridcolor\": \"white\", \"startlinecolor\": \"#2a3f5f\"}, \"baxis\": {\"endlinecolor\": \"#2a3f5f\", \"gridcolor\": \"white\", \"linecolor\": \"white\", \"minorgridcolor\": \"white\", \"startlinecolor\": \"#2a3f5f\"}, \"type\": \"carpet\"}], \"choropleth\": [{\"colorbar\": {\"outlinewidth\": 0, \"ticks\": \"\"}, \"type\": \"choropleth\"}], \"contour\": [{\"colorbar\": {\"outlinewidth\": 0, \"ticks\": \"\"}, \"colorscale\": [[0.0, \"#0d0887\"], [0.1111111111111111, \"#46039f\"], [0.2222222222222222, \"#7201a8\"], [0.3333333333333333, \"#9c179e\"], [0.4444444444444444, \"#bd3786\"], [0.5555555555555556, \"#d8576b\"], [0.6666666666666666, \"#ed7953\"], [0.7777777777777778, \"#fb9f3a\"], [0.8888888888888888, \"#fdca26\"], [1.0, \"#f0f921\"]], \"type\": \"contour\"}], \"contourcarpet\": [{\"colorbar\": {\"outlinewidth\": 0, \"ticks\": \"\"}, \"type\": \"contourcarpet\"}], \"heatmap\": [{\"colorbar\": {\"outlinewidth\": 0, \"ticks\": \"\"}, \"colorscale\": [[0.0, \"#0d0887\"], [0.1111111111111111, \"#46039f\"], [0.2222222222222222, \"#7201a8\"], [0.3333333333333333, \"#9c179e\"], [0.4444444444444444, \"#bd3786\"], [0.5555555555555556, \"#d8576b\"], [0.6666666666666666, \"#ed7953\"], [0.7777777777777778, \"#fb9f3a\"], [0.8888888888888888, \"#fdca26\"], [1.0, \"#f0f921\"]], \"type\": \"heatmap\"}], \"heatmapgl\": [{\"colorbar\": {\"outlinewidth\": 0, \"ticks\": \"\"}, \"colorscale\": [[0.0, \"#0d0887\"], [0.1111111111111111, \"#46039f\"], [0.2222222222222222, \"#7201a8\"], [0.3333333333333333, \"#9c179e\"], [0.4444444444444444, \"#bd3786\"], [0.5555555555555556, \"#d8576b\"], [0.6666666666666666, \"#ed7953\"], [0.7777777777777778, \"#fb9f3a\"], [0.8888888888888888, \"#fdca26\"], [1.0, \"#f0f921\"]], \"type\": \"heatmapgl\"}], \"histogram\": [{\"marker\": {\"colorbar\": {\"outlinewidth\": 0, \"ticks\": \"\"}}, \"type\": \"histogram\"}], \"histogram2d\": [{\"colorbar\": {\"outlinewidth\": 0, \"ticks\": \"\"}, \"colorscale\": [[0.0, \"#0d0887\"], [0.1111111111111111, \"#46039f\"], [0.2222222222222222, \"#7201a8\"], [0.3333333333333333, \"#9c179e\"], [0.4444444444444444, \"#bd3786\"], [0.5555555555555556, \"#d8576b\"], [0.6666666666666666, \"#ed7953\"], [0.7777777777777778, \"#fb9f3a\"], [0.8888888888888888, \"#fdca26\"], [1.0, \"#f0f921\"]], \"type\": \"histogram2d\"}], \"histogram2dcontour\": [{\"colorbar\": {\"outlinewidth\": 0, \"ticks\": \"\"}, \"colorscale\": [[0.0, \"#0d0887\"], [0.1111111111111111, \"#46039f\"], [0.2222222222222222, \"#7201a8\"], [0.3333333333333333, \"#9c179e\"], [0.4444444444444444, \"#bd3786\"], [0.5555555555555556, \"#d8576b\"], [0.6666666666666666, \"#ed7953\"], [0.7777777777777778, \"#fb9f3a\"], [0.8888888888888888, \"#fdca26\"], [1.0, \"#f0f921\"]], \"type\": \"histogram2dcontour\"}], \"mesh3d\": [{\"colorbar\": {\"outlinewidth\": 0, \"ticks\": \"\"}, \"type\": \"mesh3d\"}], \"parcoords\": [{\"line\": {\"colorbar\": {\"outlinewidth\": 0, \"ticks\": \"\"}}, \"type\": \"parcoords\"}], \"pie\": [{\"automargin\": true, \"type\": \"pie\"}], \"scatter\": [{\"marker\": {\"colorbar\": {\"outlinewidth\": 0, \"ticks\": \"\"}}, \"type\": \"scatter\"}], \"scatter3d\": [{\"line\": {\"colorbar\": {\"outlinewidth\": 0, \"ticks\": \"\"}}, \"marker\": {\"colorbar\": {\"outlinewidth\": 0, \"ticks\": \"\"}}, \"type\": \"scatter3d\"}], \"scattercarpet\": [{\"marker\": {\"colorbar\": {\"outlinewidth\": 0, \"ticks\": \"\"}}, \"type\": \"scattercarpet\"}], \"scattergeo\": [{\"marker\": {\"colorbar\": {\"outlinewidth\": 0, \"ticks\": \"\"}}, \"type\": \"scattergeo\"}], \"scattergl\": [{\"marker\": {\"colorbar\": {\"outlinewidth\": 0, \"ticks\": \"\"}}, \"type\": \"scattergl\"}], \"scattermapbox\": [{\"marker\": {\"colorbar\": {\"outlinewidth\": 0, \"ticks\": \"\"}}, \"type\": \"scattermapbox\"}], \"scatterpolar\": [{\"marker\": {\"colorbar\": {\"outlinewidth\": 0, \"ticks\": \"\"}}, \"type\": \"scatterpolar\"}], \"scatterpolargl\": [{\"marker\": {\"colorbar\": {\"outlinewidth\": 0, \"ticks\": \"\"}}, \"type\": \"scatterpolargl\"}], \"scatterternary\": [{\"marker\": {\"colorbar\": {\"outlinewidth\": 0, \"ticks\": \"\"}}, \"type\": \"scatterternary\"}], \"surface\": [{\"colorbar\": {\"outlinewidth\": 0, \"ticks\": \"\"}, \"colorscale\": [[0.0, \"#0d0887\"], [0.1111111111111111, \"#46039f\"], [0.2222222222222222, \"#7201a8\"], [0.3333333333333333, \"#9c179e\"], [0.4444444444444444, \"#bd3786\"], [0.5555555555555556, \"#d8576b\"], [0.6666666666666666, \"#ed7953\"], [0.7777777777777778, \"#fb9f3a\"], [0.8888888888888888, \"#fdca26\"], [1.0, \"#f0f921\"]], \"type\": \"surface\"}], \"table\": [{\"cells\": {\"fill\": {\"color\": \"#EBF0F8\"}, \"line\": {\"color\": \"white\"}}, \"header\": {\"fill\": {\"color\": \"#C8D4E3\"}, \"line\": {\"color\": \"white\"}}, \"type\": \"table\"}]}, \"layout\": {\"annotationdefaults\": {\"arrowcolor\": \"#2a3f5f\", \"arrowhead\": 0, \"arrowwidth\": 1}, \"coloraxis\": {\"colorbar\": {\"outlinewidth\": 0, \"ticks\": \"\"}}, \"colorscale\": {\"diverging\": [[0, \"#8e0152\"], [0.1, \"#c51b7d\"], [0.2, \"#de77ae\"], [0.3, \"#f1b6da\"], [0.4, \"#fde0ef\"], [0.5, \"#f7f7f7\"], [0.6, \"#e6f5d0\"], [0.7, \"#b8e186\"], [0.8, \"#7fbc41\"], [0.9, \"#4d9221\"], [1, \"#276419\"]], \"sequential\": [[0.0, \"#0d0887\"], [0.1111111111111111, \"#46039f\"], [0.2222222222222222, \"#7201a8\"], [0.3333333333333333, \"#9c179e\"], [0.4444444444444444, \"#bd3786\"], [0.5555555555555556, \"#d8576b\"], [0.6666666666666666, \"#ed7953\"], [0.7777777777777778, \"#fb9f3a\"], [0.8888888888888888, \"#fdca26\"], [1.0, \"#f0f921\"]], \"sequentialminus\": [[0.0, \"#0d0887\"], [0.1111111111111111, \"#46039f\"], [0.2222222222222222, \"#7201a8\"], [0.3333333333333333, \"#9c179e\"], [0.4444444444444444, \"#bd3786\"], [0.5555555555555556, \"#d8576b\"], [0.6666666666666666, \"#ed7953\"], [0.7777777777777778, \"#fb9f3a\"], [0.8888888888888888, \"#fdca26\"], [1.0, \"#f0f921\"]]}, \"colorway\": [\"#636efa\", \"#EF553B\", \"#00cc96\", \"#ab63fa\", \"#FFA15A\", \"#19d3f3\", \"#FF6692\", \"#B6E880\", \"#FF97FF\", \"#FECB52\"], \"font\": {\"color\": \"#2a3f5f\"}, \"geo\": {\"bgcolor\": \"white\", \"lakecolor\": \"white\", \"landcolor\": \"#E5ECF6\", \"showlakes\": true, \"showland\": true, \"subunitcolor\": \"white\"}, \"hoverlabel\": {\"align\": \"left\"}, \"hovermode\": \"closest\", \"mapbox\": {\"style\": \"light\"}, \"paper_bgcolor\": \"white\", \"plot_bgcolor\": \"#E5ECF6\", \"polar\": {\"angularaxis\": {\"gridcolor\": \"white\", \"linecolor\": \"white\", \"ticks\": \"\"}, \"bgcolor\": \"#E5ECF6\", \"radialaxis\": {\"gridcolor\": \"white\", \"linecolor\": \"white\", \"ticks\": \"\"}}, \"scene\": {\"xaxis\": {\"backgroundcolor\": \"#E5ECF6\", \"gridcolor\": \"white\", \"gridwidth\": 2, \"linecolor\": \"white\", \"showbackground\": true, \"ticks\": \"\", \"zerolinecolor\": \"white\"}, \"yaxis\": {\"backgroundcolor\": \"#E5ECF6\", \"gridcolor\": \"white\", \"gridwidth\": 2, \"linecolor\": \"white\", \"showbackground\": true, \"ticks\": \"\", \"zerolinecolor\": \"white\"}, \"zaxis\": {\"backgroundcolor\": \"#E5ECF6\", \"gridcolor\": \"white\", \"gridwidth\": 2, \"linecolor\": \"white\", \"showbackground\": true, \"ticks\": \"\", \"zerolinecolor\": \"white\"}}, \"shapedefaults\": {\"line\": {\"color\": \"#2a3f5f\"}}, \"ternary\": {\"aaxis\": {\"gridcolor\": \"white\", \"linecolor\": \"white\", \"ticks\": \"\"}, \"baxis\": {\"gridcolor\": \"white\", \"linecolor\": \"white\", \"ticks\": \"\"}, \"bgcolor\": \"#E5ECF6\", \"caxis\": {\"gridcolor\": \"white\", \"linecolor\": \"white\", \"ticks\": \"\"}}, \"title\": {\"x\": 0.05}, \"xaxis\": {\"automargin\": true, \"gridcolor\": \"white\", \"linecolor\": \"white\", \"ticks\": \"\", \"title\": {\"standoff\": 15}, \"zerolinecolor\": \"white\", \"zerolinewidth\": 2}, \"yaxis\": {\"automargin\": true, \"gridcolor\": \"white\", \"linecolor\": \"white\", \"ticks\": \"\", \"title\": {\"standoff\": 15}, \"zerolinecolor\": \"white\", \"zerolinewidth\": 2}}}, \"xaxis\": {\"anchor\": \"y\", \"domain\": [0.0, 0.45]}, \"xaxis2\": {\"anchor\": \"y2\", \"domain\": [0.55, 1.0]}, \"yaxis\": {\"anchor\": \"x\", \"domain\": [0.0, 1.0]}, \"yaxis2\": {\"anchor\": \"x2\", \"domain\": [0.0, 1.0]}},\n",
              "                        {\"responsive\": true}\n",
              "                    ).then(function(){\n",
              "                            \n",
              "var gd = document.getElementById('da807112-150c-47a6-a7a1-aaa89fb7ce9a');\n",
              "var x = new MutationObserver(function (mutations, observer) {{\n",
              "        var display = window.getComputedStyle(gd).display;\n",
              "        if (!display || display === 'none') {{\n",
              "            console.log([gd, 'removed!']);\n",
              "            Plotly.purge(gd);\n",
              "            observer.disconnect();\n",
              "        }}\n",
              "}});\n",
              "\n",
              "// Listen for the removal of the full notebook cells\n",
              "var notebookContainer = gd.closest('#notebook-container');\n",
              "if (notebookContainer) {{\n",
              "    x.observe(notebookContainer, {childList: true});\n",
              "}}\n",
              "\n",
              "// Listen for the clearing of the current output cell\n",
              "var outputEl = gd.closest('.output');\n",
              "if (outputEl) {{\n",
              "    x.observe(outputEl, {childList: true});\n",
              "}}\n",
              "\n",
              "                        })\n",
              "                };\n",
              "                \n",
              "            </script>\n",
              "        </div>\n",
              "</body>\n",
              "</html>"
            ]
          },
          "metadata": {}
        }
      ]
    },
    {
      "cell_type": "markdown",
      "source": [
        "The Response variable \"Age\", almost closelt normal distributed has skewness towards right side but not significance though. We shall investigate this more in the further process"
      ],
      "metadata": {
        "id": "rxZDAbPqHfGD"
      }
    },
    {
      "cell_type": "code",
      "source": [
        "from sklearn.preprocessing import LabelEncoder\n",
        "# from sklearn.preprocessing import LabelEncoder\n",
        "\n",
        "labelencoder = LabelEncoder()\n",
        "\n",
        "\n",
        "\n",
        "df['sex'] = labelencoder.fit_transform(df['sex'])\n",
        "df\n"
      ],
      "metadata": {
        "id": "ZYtZwoy8UMAU",
        "outputId": "985d9ea8-c071-4fc8-bc1b-74cd998440b9",
        "colab": {
          "base_uri": "https://localhost:8080/",
          "height": 424
        }
      },
      "execution_count": 28,
      "outputs": [
        {
          "output_type": "execute_result",
          "data": {
            "text/html": [
              "\n",
              "  <div id=\"df-4a6931ec-35df-4bfd-b54d-445cd6e5955e\">\n",
              "    <div class=\"colab-df-container\">\n",
              "      <div>\n",
              "<style scoped>\n",
              "    .dataframe tbody tr th:only-of-type {\n",
              "        vertical-align: middle;\n",
              "    }\n",
              "\n",
              "    .dataframe tbody tr th {\n",
              "        vertical-align: top;\n",
              "    }\n",
              "\n",
              "    .dataframe thead th {\n",
              "        text-align: right;\n",
              "    }\n",
              "</style>\n",
              "<table border=\"1\" class=\"dataframe\">\n",
              "  <thead>\n",
              "    <tr style=\"text-align: right;\">\n",
              "      <th></th>\n",
              "      <th>sex</th>\n",
              "      <th>length</th>\n",
              "      <th>diameter</th>\n",
              "      <th>height</th>\n",
              "      <th>whole_weight</th>\n",
              "      <th>shucked_weight</th>\n",
              "      <th>viscera_weight</th>\n",
              "      <th>shell_weight</th>\n",
              "      <th>Age</th>\n",
              "    </tr>\n",
              "  </thead>\n",
              "  <tbody>\n",
              "    <tr>\n",
              "      <th>0</th>\n",
              "      <td>2</td>\n",
              "      <td>0.455</td>\n",
              "      <td>0.365</td>\n",
              "      <td>0.095</td>\n",
              "      <td>0.5140</td>\n",
              "      <td>0.2245</td>\n",
              "      <td>0.1010</td>\n",
              "      <td>0.1500</td>\n",
              "      <td>16.5</td>\n",
              "    </tr>\n",
              "    <tr>\n",
              "      <th>1</th>\n",
              "      <td>2</td>\n",
              "      <td>0.350</td>\n",
              "      <td>0.265</td>\n",
              "      <td>0.090</td>\n",
              "      <td>0.2255</td>\n",
              "      <td>0.0995</td>\n",
              "      <td>0.0485</td>\n",
              "      <td>0.0700</td>\n",
              "      <td>8.5</td>\n",
              "    </tr>\n",
              "    <tr>\n",
              "      <th>2</th>\n",
              "      <td>0</td>\n",
              "      <td>0.530</td>\n",
              "      <td>0.420</td>\n",
              "      <td>0.135</td>\n",
              "      <td>0.6770</td>\n",
              "      <td>0.2565</td>\n",
              "      <td>0.1415</td>\n",
              "      <td>0.2100</td>\n",
              "      <td>10.5</td>\n",
              "    </tr>\n",
              "    <tr>\n",
              "      <th>3</th>\n",
              "      <td>2</td>\n",
              "      <td>0.440</td>\n",
              "      <td>0.365</td>\n",
              "      <td>0.125</td>\n",
              "      <td>0.5160</td>\n",
              "      <td>0.2155</td>\n",
              "      <td>0.1140</td>\n",
              "      <td>0.1550</td>\n",
              "      <td>11.5</td>\n",
              "    </tr>\n",
              "    <tr>\n",
              "      <th>4</th>\n",
              "      <td>1</td>\n",
              "      <td>0.330</td>\n",
              "      <td>0.255</td>\n",
              "      <td>0.080</td>\n",
              "      <td>0.2050</td>\n",
              "      <td>0.0895</td>\n",
              "      <td>0.0395</td>\n",
              "      <td>0.0550</td>\n",
              "      <td>8.5</td>\n",
              "    </tr>\n",
              "    <tr>\n",
              "      <th>...</th>\n",
              "      <td>...</td>\n",
              "      <td>...</td>\n",
              "      <td>...</td>\n",
              "      <td>...</td>\n",
              "      <td>...</td>\n",
              "      <td>...</td>\n",
              "      <td>...</td>\n",
              "      <td>...</td>\n",
              "      <td>...</td>\n",
              "    </tr>\n",
              "    <tr>\n",
              "      <th>4172</th>\n",
              "      <td>0</td>\n",
              "      <td>0.565</td>\n",
              "      <td>0.450</td>\n",
              "      <td>0.165</td>\n",
              "      <td>0.8870</td>\n",
              "      <td>0.3700</td>\n",
              "      <td>0.2390</td>\n",
              "      <td>0.2490</td>\n",
              "      <td>12.5</td>\n",
              "    </tr>\n",
              "    <tr>\n",
              "      <th>4173</th>\n",
              "      <td>2</td>\n",
              "      <td>0.590</td>\n",
              "      <td>0.440</td>\n",
              "      <td>0.135</td>\n",
              "      <td>0.9660</td>\n",
              "      <td>0.4390</td>\n",
              "      <td>0.2145</td>\n",
              "      <td>0.2605</td>\n",
              "      <td>11.5</td>\n",
              "    </tr>\n",
              "    <tr>\n",
              "      <th>4174</th>\n",
              "      <td>2</td>\n",
              "      <td>0.600</td>\n",
              "      <td>0.475</td>\n",
              "      <td>0.205</td>\n",
              "      <td>1.1760</td>\n",
              "      <td>0.5255</td>\n",
              "      <td>0.2875</td>\n",
              "      <td>0.3080</td>\n",
              "      <td>10.5</td>\n",
              "    </tr>\n",
              "    <tr>\n",
              "      <th>4175</th>\n",
              "      <td>0</td>\n",
              "      <td>0.625</td>\n",
              "      <td>0.485</td>\n",
              "      <td>0.150</td>\n",
              "      <td>1.0945</td>\n",
              "      <td>0.5310</td>\n",
              "      <td>0.2610</td>\n",
              "      <td>0.2960</td>\n",
              "      <td>11.5</td>\n",
              "    </tr>\n",
              "    <tr>\n",
              "      <th>4176</th>\n",
              "      <td>2</td>\n",
              "      <td>0.710</td>\n",
              "      <td>0.555</td>\n",
              "      <td>0.195</td>\n",
              "      <td>1.9485</td>\n",
              "      <td>0.9455</td>\n",
              "      <td>0.3765</td>\n",
              "      <td>0.4950</td>\n",
              "      <td>13.5</td>\n",
              "    </tr>\n",
              "  </tbody>\n",
              "</table>\n",
              "<p>4177 rows × 9 columns</p>\n",
              "</div>\n",
              "      <button class=\"colab-df-convert\" onclick=\"convertToInteractive('df-4a6931ec-35df-4bfd-b54d-445cd6e5955e')\"\n",
              "              title=\"Convert this dataframe to an interactive table.\"\n",
              "              style=\"display:none;\">\n",
              "        \n",
              "  <svg xmlns=\"http://www.w3.org/2000/svg\" height=\"24px\"viewBox=\"0 0 24 24\"\n",
              "       width=\"24px\">\n",
              "    <path d=\"M0 0h24v24H0V0z\" fill=\"none\"/>\n",
              "    <path d=\"M18.56 5.44l.94 2.06.94-2.06 2.06-.94-2.06-.94-.94-2.06-.94 2.06-2.06.94zm-11 1L8.5 8.5l.94-2.06 2.06-.94-2.06-.94L8.5 2.5l-.94 2.06-2.06.94zm10 10l.94 2.06.94-2.06 2.06-.94-2.06-.94-.94-2.06-.94 2.06-2.06.94z\"/><path d=\"M17.41 7.96l-1.37-1.37c-.4-.4-.92-.59-1.43-.59-.52 0-1.04.2-1.43.59L10.3 9.45l-7.72 7.72c-.78.78-.78 2.05 0 2.83L4 21.41c.39.39.9.59 1.41.59.51 0 1.02-.2 1.41-.59l7.78-7.78 2.81-2.81c.8-.78.8-2.07 0-2.86zM5.41 20L4 18.59l7.72-7.72 1.47 1.35L5.41 20z\"/>\n",
              "  </svg>\n",
              "      </button>\n",
              "      \n",
              "  <style>\n",
              "    .colab-df-container {\n",
              "      display:flex;\n",
              "      flex-wrap:wrap;\n",
              "      gap: 12px;\n",
              "    }\n",
              "\n",
              "    .colab-df-convert {\n",
              "      background-color: #E8F0FE;\n",
              "      border: none;\n",
              "      border-radius: 50%;\n",
              "      cursor: pointer;\n",
              "      display: none;\n",
              "      fill: #1967D2;\n",
              "      height: 32px;\n",
              "      padding: 0 0 0 0;\n",
              "      width: 32px;\n",
              "    }\n",
              "\n",
              "    .colab-df-convert:hover {\n",
              "      background-color: #E2EBFA;\n",
              "      box-shadow: 0px 1px 2px rgba(60, 64, 67, 0.3), 0px 1px 3px 1px rgba(60, 64, 67, 0.15);\n",
              "      fill: #174EA6;\n",
              "    }\n",
              "\n",
              "    [theme=dark] .colab-df-convert {\n",
              "      background-color: #3B4455;\n",
              "      fill: #D2E3FC;\n",
              "    }\n",
              "\n",
              "    [theme=dark] .colab-df-convert:hover {\n",
              "      background-color: #434B5C;\n",
              "      box-shadow: 0px 1px 3px 1px rgba(0, 0, 0, 0.15);\n",
              "      filter: drop-shadow(0px 1px 2px rgba(0, 0, 0, 0.3));\n",
              "      fill: #FFFFFF;\n",
              "    }\n",
              "  </style>\n",
              "\n",
              "      <script>\n",
              "        const buttonEl =\n",
              "          document.querySelector('#df-4a6931ec-35df-4bfd-b54d-445cd6e5955e button.colab-df-convert');\n",
              "        buttonEl.style.display =\n",
              "          google.colab.kernel.accessAllowed ? 'block' : 'none';\n",
              "\n",
              "        async function convertToInteractive(key) {\n",
              "          const element = document.querySelector('#df-4a6931ec-35df-4bfd-b54d-445cd6e5955e');\n",
              "          const dataTable =\n",
              "            await google.colab.kernel.invokeFunction('convertToInteractive',\n",
              "                                                     [key], {});\n",
              "          if (!dataTable) return;\n",
              "\n",
              "          const docLinkHtml = 'Like what you see? Visit the ' +\n",
              "            '<a target=\"_blank\" href=https://colab.research.google.com/notebooks/data_table.ipynb>data table notebook</a>'\n",
              "            + ' to learn more about interactive tables.';\n",
              "          element.innerHTML = '';\n",
              "          dataTable['output_type'] = 'display_data';\n",
              "          await google.colab.output.renderOutput(dataTable, element);\n",
              "          const docLink = document.createElement('div');\n",
              "          docLink.innerHTML = docLinkHtml;\n",
              "          element.appendChild(docLink);\n",
              "        }\n",
              "      </script>\n",
              "    </div>\n",
              "  </div>\n",
              "  "
            ],
            "text/plain": [
              "      sex  length  diameter  ...  viscera_weight  shell_weight   Age\n",
              "0       2   0.455     0.365  ...          0.1010        0.1500  16.5\n",
              "1       2   0.350     0.265  ...          0.0485        0.0700   8.5\n",
              "2       0   0.530     0.420  ...          0.1415        0.2100  10.5\n",
              "3       2   0.440     0.365  ...          0.1140        0.1550  11.5\n",
              "4       1   0.330     0.255  ...          0.0395        0.0550   8.5\n",
              "...   ...     ...       ...  ...             ...           ...   ...\n",
              "4172    0   0.565     0.450  ...          0.2390        0.2490  12.5\n",
              "4173    2   0.590     0.440  ...          0.2145        0.2605  11.5\n",
              "4174    2   0.600     0.475  ...          0.2875        0.3080  10.5\n",
              "4175    0   0.625     0.485  ...          0.2610        0.2960  11.5\n",
              "4176    2   0.710     0.555  ...          0.3765        0.4950  13.5\n",
              "\n",
              "[4177 rows x 9 columns]"
            ]
          },
          "metadata": {},
          "execution_count": 28
        }
      ]
    },
    {
      "cell_type": "code",
      "source": [
        "\n",
        "#ploting the heatmap for correlation\n",
        "ax = sns.heatmap(df.corr(), annot=True)\n",
        "plt.figure(figsize=(20,7))\n",
        "sns.heatmap(data[numerical_features].corr(), annot=True)"
      ],
      "metadata": {
        "id": "Kem8SSoDUTpu",
        "outputId": "edf5db6a-b05b-465b-a3c2-c070be22ab16",
        "colab": {
          "base_uri": "https://localhost:8080/",
          "height": 339
        }
      },
      "execution_count": 42,
      "outputs": [
        {
          "output_type": "display_data",
          "data": {
            "image/png": "[encoded data removed]",
            "text/plain": [
              "<Figure size 432x288 with 2 Axes>"
            ]
          },
          "metadata": {
            "needs_background": "light"
          }
        }
      ]
    },
    {
      "cell_type": "code",
      "source": [
        "import statsmodels.api as sm\n",
        "from statsmodels.stats.outliers_influence import variance_inflation_factor\n",
        "\n",
        "X = df[list(df.columns[:-2])]\n",
        "vif_info = pd.DataFrame()\n",
        "vif_info['VIF'] = [variance_inflation_factor(X.values, i) for i in range(X.shape[1])]\n",
        "\n",
        "\n",
        "\n",
        "vif_info['Column'] = X.columns\n",
        "vif_info.sort_values('VIF', ascending=False)"
      ],
      "metadata": {
        "id": "wsBDEPhWXC9U",
        "outputId": "f17224c0-412a-4586-8cca-5e392518e76c",
        "colab": {
          "base_uri": "https://localhost:8080/",
          "height": 269
        }
      },
      "execution_count": 30,
      "outputs": [
        {
          "output_type": "execute_result",
          "data": {
            "text/html": [
              "\n",
              "  <div id=\"df-9a23285f-70e7-499d-9dc7-a719ed89f25b\">\n",
              "    <div class=\"colab-df-container\">\n",
              "      <div>\n",
              "<style scoped>\n",
              "    .dataframe tbody tr th:only-of-type {\n",
              "        vertical-align: middle;\n",
              "    }\n",
              "\n",
              "    .dataframe tbody tr th {\n",
              "        vertical-align: top;\n",
              "    }\n",
              "\n",
              "    .dataframe thead th {\n",
              "        text-align: right;\n",
              "    }\n",
              "</style>\n",
              "<table border=\"1\" class=\"dataframe\">\n",
              "  <thead>\n",
              "    <tr style=\"text-align: right;\">\n",
              "      <th></th>\n",
              "      <th>VIF</th>\n",
              "      <th>Column</th>\n",
              "    </tr>\n",
              "  </thead>\n",
              "  <tbody>\n",
              "    <tr>\n",
              "      <th>2</th>\n",
              "      <td>739.869009</td>\n",
              "      <td>diameter</td>\n",
              "    </tr>\n",
              "    <tr>\n",
              "      <th>1</th>\n",
              "      <td>693.993499</td>\n",
              "      <td>length</td>\n",
              "    </tr>\n",
              "    <tr>\n",
              "      <th>4</th>\n",
              "      <td>142.755007</td>\n",
              "      <td>whole_weight</td>\n",
              "    </tr>\n",
              "    <tr>\n",
              "      <th>5</th>\n",
              "      <td>62.867903</td>\n",
              "      <td>shucked_weight</td>\n",
              "    </tr>\n",
              "    <tr>\n",
              "      <th>6</th>\n",
              "      <td>57.102315</td>\n",
              "      <td>viscera_weight</td>\n",
              "    </tr>\n",
              "    <tr>\n",
              "      <th>3</th>\n",
              "      <td>42.117620</td>\n",
              "      <td>height</td>\n",
              "    </tr>\n",
              "    <tr>\n",
              "      <th>0</th>\n",
              "      <td>2.552200</td>\n",
              "      <td>sex</td>\n",
              "    </tr>\n",
              "  </tbody>\n",
              "</table>\n",
              "</div>\n",
              "      <button class=\"colab-df-convert\" onclick=\"convertToInteractive('df-9a23285f-70e7-499d-9dc7-a719ed89f25b')\"\n",
              "              title=\"Convert this dataframe to an interactive table.\"\n",
              "              style=\"display:none;\">\n",
              "        \n",
              "  <svg xmlns=\"http://www.w3.org/2000/svg\" height=\"24px\"viewBox=\"0 0 24 24\"\n",
              "       width=\"24px\">\n",
              "    <path d=\"M0 0h24v24H0V0z\" fill=\"none\"/>\n",
              "    <path d=\"M18.56 5.44l.94 2.06.94-2.06 2.06-.94-2.06-.94-.94-2.06-.94 2.06-2.06.94zm-11 1L8.5 8.5l.94-2.06 2.06-.94-2.06-.94L8.5 2.5l-.94 2.06-2.06.94zm10 10l.94 2.06.94-2.06 2.06-.94-2.06-.94-.94-2.06-.94 2.06-2.06.94z\"/><path d=\"M17.41 7.96l-1.37-1.37c-.4-.4-.92-.59-1.43-.59-.52 0-1.04.2-1.43.59L10.3 9.45l-7.72 7.72c-.78.78-.78 2.05 0 2.83L4 21.41c.39.39.9.59 1.41.59.51 0 1.02-.2 1.41-.59l7.78-7.78 2.81-2.81c.8-.78.8-2.07 0-2.86zM5.41 20L4 18.59l7.72-7.72 1.47 1.35L5.41 20z\"/>\n",
              "  </svg>\n",
              "      </button>\n",
              "      \n",
              "  <style>\n",
              "    .colab-df-container {\n",
              "      display:flex;\n",
              "      flex-wrap:wrap;\n",
              "      gap: 12px;\n",
              "    }\n",
              "\n",
              "    .colab-df-convert {\n",
              "      background-color: #E8F0FE;\n",
              "      border: none;\n",
              "      border-radius: 50%;\n",
              "      cursor: pointer;\n",
              "      display: none;\n",
              "      fill: #1967D2;\n",
              "      height: 32px;\n",
              "      padding: 0 0 0 0;\n",
              "      width: 32px;\n",
              "    }\n",
              "\n",
              "    .colab-df-convert:hover {\n",
              "      background-color: #E2EBFA;\n",
              "      box-shadow: 0px 1px 2px rgba(60, 64, 67, 0.3), 0px 1px 3px 1px rgba(60, 64, 67, 0.15);\n",
              "      fill: #174EA6;\n",
              "    }\n",
              "\n",
              "    [theme=dark] .colab-df-convert {\n",
              "      background-color: #3B4455;\n",
              "      fill: #D2E3FC;\n",
              "    }\n",
              "\n",
              "    [theme=dark] .colab-df-convert:hover {\n",
              "      background-color: #434B5C;\n",
              "      box-shadow: 0px 1px 3px 1px rgba(0, 0, 0, 0.15);\n",
              "      filter: drop-shadow(0px 1px 2px rgba(0, 0, 0, 0.3));\n",
              "      fill: #FFFFFF;\n",
              "    }\n",
              "  </style>\n",
              "\n",
              "      <script>\n",
              "        const buttonEl =\n",
              "          document.querySelector('#df-9a23285f-70e7-499d-9dc7-a719ed89f25b button.colab-df-convert');\n",
              "        buttonEl.style.display =\n",
              "          google.colab.kernel.accessAllowed ? 'block' : 'none';\n",
              "\n",
              "        async function convertToInteractive(key) {\n",
              "          const element = document.querySelector('#df-9a23285f-70e7-499d-9dc7-a719ed89f25b');\n",
              "          const dataTable =\n",
              "            await google.colab.kernel.invokeFunction('convertToInteractive',\n",
              "                                                     [key], {});\n",
              "          if (!dataTable) return;\n",
              "\n",
              "          const docLinkHtml = 'Like what you see? Visit the ' +\n",
              "            '<a target=\"_blank\" href=https://colab.research.google.com/notebooks/data_table.ipynb>data table notebook</a>'\n",
              "            + ' to learn more about interactive tables.';\n",
              "          element.innerHTML = '';\n",
              "          dataTable['output_type'] = 'display_data';\n",
              "          await google.colab.output.renderOutput(dataTable, element);\n",
              "          const docLink = document.createElement('div');\n",
              "          docLink.innerHTML = docLinkHtml;\n",
              "          element.appendChild(docLink);\n",
              "        }\n",
              "      </script>\n",
              "    </div>\n",
              "  </div>\n",
              "  "
            ],
            "text/plain": [
              "          VIF          Column\n",
              "2  739.869009        diameter\n",
              "1  693.993499          length\n",
              "4  142.755007    whole_weight\n",
              "5   62.867903  shucked_weight\n",
              "6   57.102315  viscera_weight\n",
              "3   42.117620          height\n",
              "0    2.552200             sex"
            ]
          },
          "metadata": {},
          "execution_count": 30
        }
      ]
    },
    {
      "cell_type": "markdown",
      "source": [
        "Since we have to perform a regression, we have to investigate for multi colinearity in the data. The test for VIF would help us understand the colinearity between the features.\n",
        "\n",
        "\n",
        "\n",
        "Generally, a VIF of less than 5 is safe number to assume less multi colinearity among the features.\n",
        "\n",
        "\n",
        "\n",
        "almost all the features except \"sex\" show high colinearity among the features. Now either the features to be removed or the features to be transformed to avoid this multicolinearity. But the removal of features would some time lead to loss of information. We shall transform the features and again test for VIF"
      ],
      "metadata": {
        "id": "yqjRmdRkWwER"
      }
    },
    {
      "cell_type": "code",
      "source": [
        "df.columns"
      ],
      "metadata": {
        "id": "E-yK-qK2oK8-",
        "outputId": "c8480f6c-3d80-4c0d-bc00-2227ebacb422",
        "colab": {
          "base_uri": "https://localhost:8080/"
        }
      },
      "execution_count": 43,
      "outputs": [
        {
          "output_type": "execute_result",
          "data": {
            "text/plain": [
              "Index(['sex', 'length', 'diameter', 'height', 'whole_weight', 'shucked_weight',\n",
              "       'viscera_weight', 'shell_weight', 'Age', 'Volume'],\n",
              "      dtype='object')"
            ]
          },
          "metadata": {},
          "execution_count": 43
        }
      ]
    },
    {
      "cell_type": "code",
      "source": [
        "df['volume'] = 2/3*3.14*df['diameter']*df['diameter']*df['height']"
      ],
      "metadata": {
        "id": "57mftsl2poOh"
      },
      "execution_count": 64,
      "outputs": []
    },
    {
      "cell_type": "code",
      "source": [
        "z = df[['height','sex', ,'shucked_weight']]"
      ],
      "metadata": {
        "id": "4plW7WLrHK7c",
        "outputId": "459fc7b6-9e6c-459c-de69-648eebb02d2e",
        "colab": {
          "base_uri": "https://localhost:8080/",
          "height": 141
        }
      },
      "execution_count": 85,
      "outputs": [
        {
          "output_type": "error",
          "ename": "SyntaxError",
          "evalue": "ignored",
          "traceback": [
            "\u001b[0;36m  File \u001b[0;32m\"<ipython-input-85-bdb4ccabe852>\"\u001b[0;36m, line \u001b[0;32m1\u001b[0m\n\u001b[0;31m    z = df[['height','sex', ,'shucked_weight']]\u001b[0m\n\u001b[0m                            ^\u001b[0m\n\u001b[0;31mSyntaxError\u001b[0m\u001b[0;31m:\u001b[0m invalid syntax\n"
          ]
        }
      ]
    },
    {
      "cell_type": "code",
      "source": [
        "df.columns"
      ],
      "metadata": {
        "id": "NzwsTPwyZJpr",
        "outputId": "2c3c3e1d-5f74-4523-a76c-b6b7ab5d1d70",
        "colab": {
          "base_uri": "https://localhost:8080/"
        }
      },
      "execution_count": 86,
      "outputs": [
        {
          "output_type": "execute_result",
          "data": {
            "text/plain": [
              "Index(['sex', 'length', 'diameter', 'height', 'whole_weight', 'shucked_weight',\n",
              "       'viscera_weight', 'shell_weight', 'Age', 'Volume', 'volume'],\n",
              "      dtype='object')"
            ]
          },
          "metadata": {},
          "execution_count": 86
        }
      ]
    },
    {
      "cell_type": "code",
      "source": [
        "vif_info = pd.DataFrame()\n",
        "vif_info['VIF'] = [variance_inflation_factor(z.values, i) for i in range(z.shape[1])]\n",
        "vif_info['Column'] = z.columns\n",
        "vif_info.sort_values('VIF', ascending=False)"
      ],
      "metadata": {
        "id": "zheKKswGZK7L",
        "outputId": "52616873-7e73-4a9d-f407-dd1a2958876f",
        "colab": {
          "base_uri": "https://localhost:8080/",
          "height": 175
        }
      },
      "execution_count": 87,
      "outputs": [
        {
          "output_type": "execute_result",
          "data": {
            "text/html": [
              "\n",
              "  <div id=\"df-997adefc-7f0c-43ab-8d97-58d9e950689a\">\n",
              "    <div class=\"colab-df-container\">\n",
              "      <div>\n",
              "<style scoped>\n",
              "    .dataframe tbody tr th:only-of-type {\n",
              "        vertical-align: middle;\n",
              "    }\n",
              "\n",
              "    .dataframe tbody tr th {\n",
              "        vertical-align: top;\n",
              "    }\n",
              "\n",
              "    .dataframe thead th {\n",
              "        text-align: right;\n",
              "    }\n",
              "</style>\n",
              "<table border=\"1\" class=\"dataframe\">\n",
              "  <thead>\n",
              "    <tr style=\"text-align: right;\">\n",
              "      <th></th>\n",
              "      <th>VIF</th>\n",
              "      <th>Column</th>\n",
              "    </tr>\n",
              "  </thead>\n",
              "  <tbody>\n",
              "    <tr>\n",
              "      <th>2</th>\n",
              "      <td>47.201710</td>\n",
              "      <td>diameter</td>\n",
              "    </tr>\n",
              "    <tr>\n",
              "      <th>0</th>\n",
              "      <td>40.491567</td>\n",
              "      <td>height</td>\n",
              "    </tr>\n",
              "    <tr>\n",
              "      <th>3</th>\n",
              "      <td>8.680462</td>\n",
              "      <td>shucked_weight</td>\n",
              "    </tr>\n",
              "    <tr>\n",
              "      <th>1</th>\n",
              "      <td>2.456763</td>\n",
              "      <td>sex</td>\n",
              "    </tr>\n",
              "  </tbody>\n",
              "</table>\n",
              "</div>\n",
              "      <button class=\"colab-df-convert\" onclick=\"convertToInteractive('df-997adefc-7f0c-43ab-8d97-58d9e950689a')\"\n",
              "              title=\"Convert this dataframe to an interactive table.\"\n",
              "              style=\"display:none;\">\n",
              "        \n",
              "  <svg xmlns=\"http://www.w3.org/2000/svg\" height=\"24px\"viewBox=\"0 0 24 24\"\n",
              "       width=\"24px\">\n",
              "    <path d=\"M0 0h24v24H0V0z\" fill=\"none\"/>\n",
              "    <path d=\"M18.56 5.44l.94 2.06.94-2.06 2.06-.94-2.06-.94-.94-2.06-.94 2.06-2.06.94zm-11 1L8.5 8.5l.94-2.06 2.06-.94-2.06-.94L8.5 2.5l-.94 2.06-2.06.94zm10 10l.94 2.06.94-2.06 2.06-.94-2.06-.94-.94-2.06-.94 2.06-2.06.94z\"/><path d=\"M17.41 7.96l-1.37-1.37c-.4-.4-.92-.59-1.43-.59-.52 0-1.04.2-1.43.59L10.3 9.45l-7.72 7.72c-.78.78-.78 2.05 0 2.83L4 21.41c.39.39.9.59 1.41.59.51 0 1.02-.2 1.41-.59l7.78-7.78 2.81-2.81c.8-.78.8-2.07 0-2.86zM5.41 20L4 18.59l7.72-7.72 1.47 1.35L5.41 20z\"/>\n",
              "  </svg>\n",
              "      </button>\n",
              "      \n",
              "  <style>\n",
              "    .colab-df-container {\n",
              "      display:flex;\n",
              "      flex-wrap:wrap;\n",
              "      gap: 12px;\n",
              "    }\n",
              "\n",
              "    .colab-df-convert {\n",
              "      background-color: #E8F0FE;\n",
              "      border: none;\n",
              "      border-radius: 50%;\n",
              "      cursor: pointer;\n",
              "      display: none;\n",
              "      fill: #1967D2;\n",
              "      height: 32px;\n",
              "      padding: 0 0 0 0;\n",
              "      width: 32px;\n",
              "    }\n",
              "\n",
              "    .colab-df-convert:hover {\n",
              "      background-color: #E2EBFA;\n",
              "      box-shadow: 0px 1px 2px rgba(60, 64, 67, 0.3), 0px 1px 3px 1px rgba(60, 64, 67, 0.15);\n",
              "      fill: #174EA6;\n",
              "    }\n",
              "\n",
              "    [theme=dark] .colab-df-convert {\n",
              "      background-color: #3B4455;\n",
              "      fill: #D2E3FC;\n",
              "    }\n",
              "\n",
              "    [theme=dark] .colab-df-convert:hover {\n",
              "      background-color: #434B5C;\n",
              "      box-shadow: 0px 1px 3px 1px rgba(0, 0, 0, 0.15);\n",
              "      filter: drop-shadow(0px 1px 2px rgba(0, 0, 0, 0.3));\n",
              "      fill: #FFFFFF;\n",
              "    }\n",
              "  </style>\n",
              "\n",
              "      <script>\n",
              "        const buttonEl =\n",
              "          document.querySelector('#df-997adefc-7f0c-43ab-8d97-58d9e950689a button.colab-df-convert');\n",
              "        buttonEl.style.display =\n",
              "          google.colab.kernel.accessAllowed ? 'block' : 'none';\n",
              "\n",
              "        async function convertToInteractive(key) {\n",
              "          const element = document.querySelector('#df-997adefc-7f0c-43ab-8d97-58d9e950689a');\n",
              "          const dataTable =\n",
              "            await google.colab.kernel.invokeFunction('convertToInteractive',\n",
              "                                                     [key], {});\n",
              "          if (!dataTable) return;\n",
              "\n",
              "          const docLinkHtml = 'Like what you see? Visit the ' +\n",
              "            '<a target=\"_blank\" href=https://colab.research.google.com/notebooks/data_table.ipynb>data table notebook</a>'\n",
              "            + ' to learn more about interactive tables.';\n",
              "          element.innerHTML = '';\n",
              "          dataTable['output_type'] = 'display_data';\n",
              "          await google.colab.output.renderOutput(dataTable, element);\n",
              "          const docLink = document.createElement('div');\n",
              "          docLink.innerHTML = docLinkHtml;\n",
              "          element.appendChild(docLink);\n",
              "        }\n",
              "      </script>\n",
              "    </div>\n",
              "  </div>\n",
              "  "
            ],
            "text/plain": [
              "         VIF          Column\n",
              "2  47.201710        diameter\n",
              "0  40.491567          height\n",
              "3   8.680462  shucked_weight\n",
              "1   2.456763             sex"
            ]
          },
          "metadata": {},
          "execution_count": 87
        }
      ]
    },
    {
      "cell_type": "markdown",
      "source": [
        "After observing the features, there are 4 different types of weights \"whole_weight\", \"shucked_weight\", \"viscera_weight\" and \"shel_weight\" and these columns are very highly correlated to each other this can be understood by looking at the VIF table and correlation matrix. \n",
        "\n",
        "The lesser correlated columns are \"height\" and \"sex\". So the final chosen columns for the modelling excercise is \"height\", \"sex\" and \"shucked_weight\"\n",
        "\n",
        "\n"
      ],
      "metadata": {
        "id": "m2XiXnO9pb14"
      }
    },
    {
      "cell_type": "markdown",
      "source": [
        "For better modelling performance, the age data is observed and a serate classed would be created based on the age count, minimum and maximum age values in the feature \"age\""
      ],
      "metadata": {
        "id": "X1cMcnextFtu"
      }
    },
    {
      "cell_type": "code",
      "source": [
        "df.Age.value_counts().sort_index()"
      ],
      "metadata": {
        "id": "nKPGN-8sZZjP",
        "outputId": "f37c62ca-5562-4fe7-968b-f508c932c96a",
        "colab": {
          "base_uri": "https://localhost:8080/"
        }
      },
      "execution_count": 91,
      "outputs": [
        {
          "output_type": "execute_result",
          "data": {
            "text/plain": [
              "2.5       1\n",
              "3.5       1\n",
              "4.5      15\n",
              "5.5      57\n",
              "6.5     115\n",
              "7.5     259\n",
              "8.5     391\n",
              "9.5     568\n",
              "10.5    689\n",
              "11.5    634\n",
              "12.5    487\n",
              "13.5    267\n",
              "14.5    203\n",
              "15.5    126\n",
              "16.5    103\n",
              "17.5     67\n",
              "18.5     58\n",
              "19.5     42\n",
              "20.5     32\n",
              "21.5     26\n",
              "22.5     14\n",
              "23.5      6\n",
              "24.5      9\n",
              "25.5      2\n",
              "26.5      1\n",
              "27.5      1\n",
              "28.5      2\n",
              "30.5      1\n",
              "Name: Age, dtype: int64"
            ]
          },
          "metadata": {},
          "execution_count": 91
        }
      ]
    },
    {
      "cell_type": "markdown",
      "source": [
        "After observing the value counts results for the \"age\" feature, three classes shall be created based on the age values.\n",
        "\n",
        "class -> 0 when age is less than 10\n",
        "class -> 1 when age is greater than 10 and less than 14\n",
        "class -> 2 when age is greater than 14\n"
      ],
      "metadata": {
        "id": "lyBIF5nVuMT4"
      }
    },
    {
      "cell_type": "code",
      "source": [
        "df['class'] = df['age'].apply(lambda x : 2 if x>15 else ( 1 if >10 and  ))"
      ],
      "metadata": {
        "id": "gZ613zYetYUA"
      },
      "execution_count": null,
      "outputs": []
    }
  ]
}